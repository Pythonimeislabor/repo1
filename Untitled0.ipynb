{
  "cells": [
    {
      "cell_type": "markdown",
      "metadata": {
        "id": "view-in-github",
        "colab_type": "text"
      },
      "source": [
        "<a href=\"https://colab.research.google.com/github/Pythonimeislabor/repo1/blob/main/Untitled0.ipynb\" target=\"_parent\"><img src=\"https://colab.research.google.com/assets/colab-badge.svg\" alt=\"Open In Colab\"/></a>"
      ]
    },
    {
      "cell_type": "markdown",
      "metadata": {
        "id": "x0nBWsvTT9wH"
      },
      "source": [
        "# Datensatz von kaggle herunterladen"
      ]
    },
    {
      "cell_type": "code",
      "execution_count": null,
      "metadata": {
        "colab": {
          "base_uri": "https://localhost:8080/"
        },
        "id": "LXsRTyAXThfZ",
        "outputId": "492dcff8-0bfd-4858-9828-f67d8937f388"
      },
      "outputs": [
        {
          "output_type": "stream",
          "name": "stdout",
          "text": [
            "Writing kaggle.json\n"
          ]
        }
      ],
      "source": [
        "%%writefile kaggle.json\n",
        "{\"username\":\"lutze3\",\"key\":\"c1b954a36f5402b976973271cb154a2f\"}"
      ]
    },
    {
      "cell_type": "code",
      "execution_count": null,
      "metadata": {
        "id": "a-dfnFyCT8Qh"
      },
      "outputs": [],
      "source": [
        "!mkdir ~/.kaggle\n",
        "!mv kaggle.json ~/.kaggle\n",
        "!kaggle datasets download -d jcprogjava/handwritten-digits-dataset-not-in-mnist\n",
        "!unzip handwritten-digits-dataset-not-in-mnist.zip\n",
        "\n",
        "from IPython.display import clear_output\n",
        "clear_output()"
      ]
    },
    {
      "cell_type": "markdown",
      "metadata": {
        "id": "DGNR29egXEnh"
      },
      "source": [
        "# imports"
      ]
    },
    {
      "cell_type": "code",
      "execution_count": null,
      "metadata": {
        "id": "NyHIeBq2T8bS"
      },
      "outputs": [],
      "source": [
        "import cv2 # Bildbearbeitung\n",
        "import matplotlib.pyplot as plt # Bilder anzeigen\n",
        "import os # Um Bilder in den Ordnern zu finden\n",
        "import numpy as np # Für Arrays mit denen Tensorflow umgehen kann\n",
        "import tensorflow as tf # für deep-learning / neuronale Netze"
      ]
    },
    {
      "cell_type": "markdown",
      "metadata": {
        "id": "GKEV1go0fEkC"
      },
      "source": [
        "# Trainingsdatensatz generieren\n",
        "Ein neuronales Netz braucht viele Trainingsdaten um Zusammenhänge zu erkennen.<br>\n",
        "Dazu werden 2 Listen erstellt. Liste X enthält alle Bilder, Liste Y die zugehörigen Zahlen"
      ]
    },
    {
      "cell_type": "code",
      "execution_count": null,
      "metadata": {
        "colab": {
          "base_uri": "https://localhost:8080/"
        },
        "id": "pY_JI8lRoGCG",
        "outputId": "57cf80bc-9eeb-4224-f1a0-04ac65a34311"
      },
      "outputs": [
        {
          "output_type": "execute_result",
          "data": {
            "text/plain": [
              "['8', '9', '7', '1', '0', '2', '4', '3', '5', '6']"
            ]
          },
          "metadata": {},
          "execution_count": 4
        }
      ],
      "source": [
        "os.listdir(\"dataset\") # os.listdir gibt eine liste mit allen Ordnern und Dateien im angegebenen Verzeichnis zurück"
      ]
    },
    {
      "cell_type": "code",
      "execution_count": null,
      "metadata": {
        "id": "dttonN4KdDIC"
      },
      "outputs": [],
      "source": [
        "#X = [bild1, bild2, bild3]\n",
        "#Y = [Beschriftung1, Beschriftung2, Beschriftung3]\n",
        "\n",
        "X = []\n",
        "Y = []\n",
        "\n",
        "def linie_zeichnen(bild): # Zeichnet eine verunstaltende Linie auf ein Bild\n",
        "  p1_x = np.random.randint(0,29)\n",
        "  p1_y = np.random.randint(0,29)\n",
        "  p2_x = np.random.randint(0,29)\n",
        "  p2_y = np.random.randint(0,29)\n",
        "  bild_mit_linie = cv2.line(bild.copy(), (p1_x, p1_y), (p2_x, p2_y), (1))\n",
        "  return bild_mit_linie\n",
        "\n",
        "def lade_bild(pfad): # Bild laden und vorverarbeiten\n",
        "  bild = cv2.imread(pfad, cv2.IMREAD_UNCHANGED) # bild lesen vom rgba-format\n",
        "  bild_in_grau = bild[:,:,3] # Alpha-Wert herausfiltern\n",
        "  bild_0_1 = bild_in_grau / 255 # bild zwischen 0 und 1 skalieren\n",
        "  rauschen = np.random.normal(size=(28,28)) / 10 # Zufallszahlen mit Normalverteilung generieren in der Form 28x28\n",
        "  bild_mit_rauschen = bild_0_1 + rauschen # Elementweise Addition vom Bild und dem Rauschen durchführen\n",
        "\n",
        "  l1 = linie_zeichnen(bild_mit_rauschen)\n",
        "  l2 = linie_zeichnen(l1)\n",
        "  l3 = linie_zeichnen(l2)\n",
        "\n",
        "  return l3 # Bild an den Aufruf zurückgeben\n",
        "\n",
        "for _ in range(5):\n",
        "  for zahl in range(10): # Wir haben ordner von 0 bis 9\n",
        "    pfad = \"dataset/\"+str(zahl)+\"/\"+str(zahl) + \"/\" # Pfad zusammenbauen\n",
        "    #print(\"zahl ist\", zahl, \"- Der Pfad ist\", pfad)\n",
        "    alle_bilder_namen = os.listdir(pfad) # alle bilder im pfad auflisten\n",
        "    for name in alle_bilder_namen: # alle bilder in dem Ordner durchgehen\n",
        "      pfad_zum_bild = pfad + name \n",
        "      bild = lade_bild(pfad_zum_bild)\n",
        "\n",
        "      X.append(bild) # Das Bild an X anhängen\n",
        "      Y.append(zahl) # Die zugehörige Zahl an Y anhängen"
      ]
    },
    {
      "cell_type": "code",
      "execution_count": null,
      "metadata": {
        "colab": {
          "base_uri": "https://localhost:8080/"
        },
        "id": "dbfx3ak8o2M4",
        "outputId": "1ac63258-ce39-4eb0-9f09-47eca948104b"
      },
      "outputs": [
        {
          "output_type": "stream",
          "name": "stdout",
          "text": [
            "Es gibt 538650 Trainingsbilder\n"
          ]
        }
      ],
      "source": [
        "print(\"Es gibt\", len(Y),\"Trainingsbilder\")"
      ]
    },
    {
      "cell_type": "code",
      "execution_count": null,
      "metadata": {
        "colab": {
          "base_uri": "https://localhost:8080/",
          "height": 300
        },
        "id": "6kMzl5UQg0KP",
        "outputId": "8eebd733-f78e-4f18-cb7f-bb550b53a1c3"
      },
      "outputs": [
        {
          "output_type": "stream",
          "name": "stdout",
          "text": [
            "Es wird das Bild mit dem index 100000 angezeigt\n",
            "Y ist  9\n"
          ]
        },
        {
          "output_type": "display_data",
          "data": {
            "text/plain": [
              "<Figure size 432x288 with 1 Axes>"
            ],
            "image/png": "[encoded data removed]"
          },
          "metadata": {
            "needs_background": "light"
          }
        }
      ],
      "source": [
        "index = 100000\n",
        "\n",
        "print(\"Es wird das Bild mit dem index\", index, \"angezeigt\")\n",
        "plt.imshow(X[index], cmap = \"gray\"), \n",
        "print(\"Y ist \", Y[index])"
      ]
    },
    {
      "cell_type": "code",
      "execution_count": null,
      "metadata": {
        "id": "0xNT0n6i01X8"
      },
      "outputs": [],
      "source": [
        "# listen in numpy arrays umwandeln\n",
        "Y = np.array(Y) # numpy arrays sind für viele Elemente eine bessere Speichermethode\n",
        "X = np.array(X) # tensorflow benötigt numpy arrays und kann nicht mit listen arbeiten"
      ]
    },
    {
      "cell_type": "markdown",
      "metadata": {
        "id": "aXOjWn5HpX-p"
      },
      "source": [
        "für das Training werden die Trainingsdaten in Trainingsdaten und Validierungsdaten aufgeteilt. Das neuronale Netz wird auf 80% der Daten trainiert und auf die anderen 20% getestet. Wenn es auf den anderen 20% gut ist, hat das neuronale Netz das Konzept von den Bildern verstanden. wenn es nur auf den Trainingsdaten gut ist und die Testdaten nicht klassifizieren kann, hat es nicht gut gelernt. <br>Tensorflow nimmt immer die letzten x% im Datensatz als Validierungsdaten. In diesem Fall sind die letzten 20% alle Bilder der 8 und der 9. Es würde also von 0 - 7 alles lernen und auf 8 und 9 getestet werden. Das kann so nicht funktionieren, denn wenn das Netzwerk nie eine 8 oder 9 in den Trainingsdaten gesehen hat wird es lernen dass es solche Zahlen nicht gibt. Also müssen die Trainingsdaten gemischt werden um zufällige Zahlen als Validierungsdaten zu erhalten"
      ]
    },
    {
      "cell_type": "code",
      "execution_count": null,
      "metadata": {
        "id": "ZQANFYQ5pUyK"
      },
      "outputs": [],
      "source": [
        "# X und Y gleichmäßig mischen\n",
        "# X und Y werden so gemischt, dass Y[index] die Zahl enthält die in X[index] gespeichert ist\n",
        "p = np.random.permutation(Y.shape[0]) \n",
        "X = X[p]\n",
        "Y = Y[p] "
      ]
    },
    {
      "cell_type": "markdown",
      "metadata": {
        "id": "cJ7q7wf5wu2g"
      },
      "source": [
        "# Zufallsveränderungen auf jedes Bild vor dem Training anwenden um allgemeine Lösungen zu finden"
      ]
    },
    {
      "cell_type": "code",
      "execution_count": null,
      "metadata": {
        "colab": {
          "base_uri": "https://localhost:8080/",
          "height": 282
        },
        "id": "BMx7YBADwtxe",
        "outputId": "11842e3b-5116-45fa-dcb1-b94cdcd430d0"
      },
      "outputs": [
        {
          "output_type": "execute_result",
          "data": {
            "text/plain": [
              "<matplotlib.image.AxesImage at 0x7f7a2181a650>"
            ]
          },
          "metadata": {},
          "execution_count": 10
        },
        {
          "output_type": "display_data",
          "data": {
            "text/plain": [
              "<Figure size 432x288 with 1 Axes>"
            ],
            "image/png": "[encoded data removed]"
          },
          "metadata": {
            "needs_background": "light"
          }
        }
      ],
      "source": [
        "random_gedreht = tf.keras.layers.RandomRotation((-0.05, 0.05))(X[0].reshape(1,28,28,1), training=True)\n",
        "random_verschieben = tf.keras.layers.RandomTranslation((-0.2,0.2), (-0.2,0.2)) (random_gedreht, training=True)\n",
        "random_Zoom = tf.keras.layers.RandomZoom((-0.2,0.2), (-0.2,0.2)) (random_verschieben, training=True)\n",
        "droppout = tf.keras.layers.Dropout(0.1)(random_Zoom, True)\n",
        "\n",
        "plt.imshow(droppout.numpy()[0].reshape(28,28))"
      ]
    },
    {
      "cell_type": "markdown",
      "metadata": {
        "id": "tspW2wbat0GX"
      },
      "source": [
        "# Neuronales Netzwerk bauen und trainieren"
      ]
    },
    {
      "cell_type": "code",
      "execution_count": null,
      "metadata": {
        "colab": {
          "base_uri": "https://localhost:8080/"
        },
        "id": "yfSDw5Gat2rk",
        "outputId": "882276d5-b5e1-4567-a904-d2cd053656d9"
      },
      "outputs": [
        {
          "output_type": "stream",
          "name": "stdout",
          "text": [
            "\n",
            "Model: \"model\"\n",
            "_________________________________________________________________\n",
            " Layer (type)                Output Shape              Param #   \n",
            "=================================================================\n",
            " input_1 (InputLayer)        [(None, 28, 28)]          0         \n",
            "                                                                 \n",
            " reshape (Reshape)           (None, 28, 28, 1)         0         \n",
            "                                                                 \n",
            " random_rotation_1 (RandomRo  (None, 28, 28, 1)        0         \n",
            " tation)                                                         \n",
            "                                                                 \n",
            " random_translation_1 (Rando  (None, 28, 28, 1)        0         \n",
            " mTranslation)                                                   \n",
            "                                                                 \n",
            " random_zoom_1 (RandomZoom)  (None, 28, 28, 1)         0         \n",
            "                                                                 \n",
            " dropout_1 (Dropout)         (None, 28, 28, 1)         0         \n",
            "                                                                 \n",
            " conv2d (Conv2D)             (None, 26, 26, 16)        160       \n",
            "                                                                 \n",
            " dropout_2 (Dropout)         (None, 26, 26, 16)        0         \n",
            "                                                                 \n",
            " max_pooling2d (MaxPooling2D  (None, 13, 13, 16)       0         \n",
            " )                                                               \n",
            "                                                                 \n",
            " conv2d_1 (Conv2D)           (None, 11, 11, 64)        9280      \n",
            "                                                                 \n",
            " dropout_3 (Dropout)         (None, 11, 11, 64)        0         \n",
            "                                                                 \n",
            " max_pooling2d_1 (MaxPooling  (None, 5, 5, 64)         0         \n",
            " 2D)                                                             \n",
            "                                                                 \n",
            " flatten (Flatten)           (None, 1600)              0         \n",
            "                                                                 \n",
            " dense (Dense)               (None, 32)                51232     \n",
            "                                                                 \n",
            " dropout_4 (Dropout)         (None, 32)                0         \n",
            "                                                                 \n",
            " dense_1 (Dense)             (None, 16)                528       \n",
            "                                                                 \n",
            " dropout_5 (Dropout)         (None, 16)                0         \n",
            "                                                                 \n",
            " dense_2 (Dense)             (None, 10)                170       \n",
            "                                                                 \n",
            "=================================================================\n",
            "Total params: 61,370\n",
            "Trainable params: 61,370\n",
            "Non-trainable params: 0\n",
            "_________________________________________________________________\n"
          ]
        }
      ],
      "source": [
        "inputlayer = tf.keras.layers.Input(shape=(28,28)) # unser Bild hat die Form [Höhe, Breite]\n",
        "\n",
        "bild_3_d = tf.keras.layers.Reshape((28,28,1)) (inputlayer)\n",
        "\n",
        "random_gedreht = tf.keras.layers.RandomRotation((-0.12, 0.12))(bild_3_d)\n",
        "random_verschieben = tf.keras.layers.RandomTranslation((-0.3,0.3), (-0.3,0.3)) (random_gedreht)\n",
        "random_Zoom = tf.keras.layers.RandomZoom((-0.3,0.4), (-0.3,0.4)) (random_verschieben)\n",
        "\n",
        "drop0 =  tf.keras.layers.Dropout(0.2)(random_Zoom)\n",
        "\n",
        "filter_1 = tf.keras.layers.Conv2D(16,3, activation=\"relu\") (drop0)\n",
        "drop1 = tf.keras.layers.Dropout(0.1)(filter_1)\n",
        "maxpoollayer1 = tf.keras.layers.MaxPooling2D() (drop1)\n",
        "\n",
        "\n",
        "filter_2 = tf.keras.layers.Conv2D(64,3, activation=\"relu\") (maxpoollayer1)\n",
        "drop2 = tf.keras.layers.Dropout(0.1)(filter_2)\n",
        "maxpoollayer2 = tf.keras.layers.MaxPooling2D() (drop2)\n",
        "\n",
        "\n",
        "platt = tf.keras.layers.Flatten()(maxpoollayer2)\n",
        "\n",
        "x = tf.keras.layers.Dense(32,activation=\"relu\")(platt)\n",
        "x = tf.keras.layers.Dropout(0.1)(x)\n",
        "x = tf.keras.layers.Dense(16,activation=\"relu\")(x)\n",
        "x = tf.keras.layers.Dropout(0.1)(x)\n",
        "output = tf.keras.layers.Dense(10,activation=\"softmax\")(x)\n",
        "\n",
        "model = tf.keras.Model(inputlayer, output)\n",
        "print(\"\")\n",
        "model.summary()"
      ]
    },
    {
      "cell_type": "code",
      "execution_count": null,
      "metadata": {
        "id": "V44YHlbXvwZP"
      },
      "outputs": [],
      "source": [
        "fehlerfunktion = tf.keras.losses.SparseCategoricalCrossentropy()\n",
        "optimierer = tf.keras.optimizers.SGD(0.005, momentum = 0.9)\n",
        "model.compile(optimierer, fehlerfunktion, metrics=\"accuracy\")"
      ]
    },
    {
      "cell_type": "code",
      "execution_count": null,
      "metadata": {
        "colab": {
          "base_uri": "https://localhost:8080/"
        },
        "id": "6S2tL87avxb-",
        "outputId": "5e98fadf-8a07-41dd-ee73-17dacae84758"
      },
      "outputs": [
        {
          "output_type": "stream",
          "name": "stdout",
          "text": [
            "Epoch 1/30\n",
            "6734/6734 [==============================] - 49s 6ms/step - loss: 1.7013 - accuracy: 0.3889 - val_loss: 1.3641 - val_accuracy: 0.5776\n",
            "Epoch 2/30\n",
            "6734/6734 [==============================] - 37s 6ms/step - loss: 1.0167 - accuracy: 0.6530 - val_loss: 1.2915 - val_accuracy: 0.6047\n",
            "Epoch 3/30\n",
            "6734/6734 [==============================] - 38s 6ms/step - loss: 0.8496 - accuracy: 0.7158 - val_loss: 1.0945 - val_accuracy: 0.6521\n",
            "Epoch 4/30\n",
            "6734/6734 [==============================] - 37s 6ms/step - loss: 0.7813 - accuracy: 0.7405 - val_loss: 1.0887 - val_accuracy: 0.6602\n",
            "Epoch 5/30\n",
            "6734/6734 [==============================] - 37s 6ms/step - loss: 0.7423 - accuracy: 0.7553 - val_loss: 1.1633 - val_accuracy: 0.6627\n",
            "Epoch 6/30\n",
            "6734/6734 [==============================] - 39s 6ms/step - loss: 0.7136 - accuracy: 0.7659 - val_loss: 1.0825 - val_accuracy: 0.6725\n",
            "Epoch 7/30\n",
            "6734/6734 [==============================] - 39s 6ms/step - loss: 0.6990 - accuracy: 0.7712 - val_loss: 1.0975 - val_accuracy: 0.6711\n",
            "Epoch 8/30\n",
            "6734/6734 [==============================] - 39s 6ms/step - loss: 0.6873 - accuracy: 0.7746 - val_loss: 1.1510 - val_accuracy: 0.6703\n",
            "Epoch 9/30\n",
            "6734/6734 [==============================] - 38s 6ms/step - loss: 0.6728 - accuracy: 0.7804 - val_loss: 0.9541 - val_accuracy: 0.7146\n",
            "Epoch 10/30\n",
            "6734/6734 [==============================] - 39s 6ms/step - loss: 0.6623 - accuracy: 0.7841 - val_loss: 1.0675 - val_accuracy: 0.6800\n",
            "Epoch 11/30\n",
            "6734/6734 [==============================] - 37s 5ms/step - loss: 0.6555 - accuracy: 0.7863 - val_loss: 1.2357 - val_accuracy: 0.6555\n",
            "Epoch 12/30\n",
            "6734/6734 [==============================] - 38s 6ms/step - loss: 0.6497 - accuracy: 0.7884 - val_loss: 1.1333 - val_accuracy: 0.6748\n",
            "Epoch 13/30\n",
            "6734/6734 [==============================] - 39s 6ms/step - loss: 0.6431 - accuracy: 0.7910 - val_loss: 1.1454 - val_accuracy: 0.6711\n",
            "Epoch 14/30\n",
            "6734/6734 [==============================] - 39s 6ms/step - loss: 0.6410 - accuracy: 0.7923 - val_loss: 1.0703 - val_accuracy: 0.6917\n",
            "Epoch 15/30\n",
            "6734/6734 [==============================] - 37s 6ms/step - loss: 0.6343 - accuracy: 0.7937 - val_loss: 1.0062 - val_accuracy: 0.6981\n",
            "Epoch 16/30\n",
            "6734/6734 [==============================] - 37s 5ms/step - loss: 0.6303 - accuracy: 0.7946 - val_loss: 1.0205 - val_accuracy: 0.7018\n",
            "Epoch 17/30\n",
            "6734/6734 [==============================] - 39s 6ms/step - loss: 0.6262 - accuracy: 0.7967 - val_loss: 1.0814 - val_accuracy: 0.6831\n",
            "Epoch 18/30\n",
            "6734/6734 [==============================] - 39s 6ms/step - loss: 0.6227 - accuracy: 0.7977 - val_loss: 1.1780 - val_accuracy: 0.6594\n",
            "Epoch 19/30\n",
            "6734/6734 [==============================] - 39s 6ms/step - loss: 0.6202 - accuracy: 0.7989 - val_loss: 1.0476 - val_accuracy: 0.6976\n",
            "Epoch 20/30\n",
            "6734/6734 [==============================] - 37s 5ms/step - loss: 0.6149 - accuracy: 0.8006 - val_loss: 1.0457 - val_accuracy: 0.6901\n",
            "Epoch 21/30\n",
            "6734/6734 [==============================] - 37s 5ms/step - loss: 0.6113 - accuracy: 0.8016 - val_loss: 1.0354 - val_accuracy: 0.6984\n",
            "Epoch 22/30\n",
            "6734/6734 [==============================] - 36s 5ms/step - loss: 0.6101 - accuracy: 0.8023 - val_loss: 1.1604 - val_accuracy: 0.6662\n",
            "Epoch 23/30\n",
            "6734/6734 [==============================] - 38s 6ms/step - loss: 0.6066 - accuracy: 0.8036 - val_loss: 1.1384 - val_accuracy: 0.6742\n",
            "Epoch 24/30\n",
            "6734/6734 [==============================] - 36s 5ms/step - loss: 0.6066 - accuracy: 0.8036 - val_loss: 1.1383 - val_accuracy: 0.6722\n",
            "Epoch 25/30\n",
            "6734/6734 [==============================] - 36s 5ms/step - loss: 0.6020 - accuracy: 0.8049 - val_loss: 1.0384 - val_accuracy: 0.6930\n",
            "Epoch 26/30\n",
            "6734/6734 [==============================] - 38s 6ms/step - loss: 0.5999 - accuracy: 0.8053 - val_loss: 1.0576 - val_accuracy: 0.6903\n",
            "Epoch 27/30\n",
            "6734/6734 [==============================] - 36s 5ms/step - loss: 0.6002 - accuracy: 0.8059 - val_loss: 1.1541 - val_accuracy: 0.6723\n",
            "Epoch 28/30\n",
            "6734/6734 [==============================] - 38s 6ms/step - loss: 0.5966 - accuracy: 0.8069 - val_loss: 1.2414 - val_accuracy: 0.6592\n",
            "Epoch 29/30\n",
            "6734/6734 [==============================] - 40s 6ms/step - loss: 0.5973 - accuracy: 0.8068 - val_loss: 1.0792 - val_accuracy: 0.6832\n",
            "Epoch 30/30\n",
            "6734/6734 [==============================] - 42s 6ms/step - loss: 0.5941 - accuracy: 0.8072 - val_loss: 1.0987 - val_accuracy: 0.6767\n"
          ]
        },
        {
          "output_type": "execute_result",
          "data": {
            "text/plain": [
              "<keras.callbacks.History at 0x7f7a21708b90>"
            ]
          },
          "metadata": {},
          "execution_count": 13
        }
      ],
      "source": [
        "model.fit(X, Y, batch_size = 64, epochs = 30, validation_split = 0.2) # Parameter optimieren"
      ]
    },
    {
      "cell_type": "markdown",
      "metadata": {
        "id": "IV5Ckw9ld6JM"
      },
      "source": [
        "# Test mit selbstgemaltem Bild\n",
        "Male eine Zahl mit Paint und lade das Bild in das Colab notebook."
      ]
    },
    {
      "cell_type": "code",
      "execution_count": 21,
      "metadata": {
        "colab": {
          "base_uri": "https://localhost:8080/",
          "height": 283
        },
        "id": "ifjD08Wod-Eh",
        "outputId": "6097af22-8f8b-489e-83d2-499dc627c76f"
      },
      "outputs": [
        {
          "output_type": "execute_result",
          "data": {
            "text/plain": [
              "(28, 28)"
            ]
          },
          "metadata": {},
          "execution_count": 21
        },
        {
          "output_type": "display_data",
          "data": {
            "text/plain": [
              "<Figure size 432x288 with 1 Axes>"
            ],
            "image/png": "[encoded data removed]"
          },
          "metadata": {
            "needs_background": "light"
          }
        }
      ],
      "source": [
        "bild = cv2.imread(\"2.png\", cv2.IMREAD_GRAYSCALE) # bild mit dem Namen untitled.png lesen im graustufen-format\n",
        "bild = cv2.resize(bild, (28,28))\n",
        "bild_0_1 = 1 - bild / 255 # bild zwischen 0 und 1 skalieren\n",
        "plt.imshow(bild_0_1, cmap = \"gray\")\n",
        "bild_0_1.shape"
      ]
    },
    {
      "cell_type": "code",
      "execution_count": 22,
      "metadata": {
        "id": "hKZb7f-FegmO",
        "colab": {
          "base_uri": "https://localhost:8080/"
        },
        "outputId": "cb315f1b-4507-45b6-de1c-3cd1c0e9bfc6"
      },
      "outputs": [
        {
          "output_type": "stream",
          "name": "stdout",
          "text": [
            "Die Entscheidungen sind: tf.Tensor(\n",
            "[3.5584363e-01 1.5073581e-06 6.4321309e-01 7.1382121e-04 1.4607076e-07\n",
            " 6.1278929e-06 1.6128897e-06 8.4089770e-05 9.6387135e-05 3.9539216e-05], shape=(10,), dtype=float32)\n",
            "Das ist die Zahl: 2 mit einer Wahrscheinlichkeit von 64.32130932807922 %\n"
          ]
        }
      ],
      "source": [
        "bild_batch = np.reshape(bild_0_1,(1,28,28)) # tensorflow braucht ein array von Inputs\n",
        "\n",
        "entscheidungen = model(bild_batch)[0]\n",
        "index = np.argmax(entscheidungen)\n",
        "print(\"Die Entscheidungen sind:\", entscheidungen)\n",
        "print(\"Das ist die Zahl:\", index, \"mit einer Wahrscheinlichkeit von\", entscheidungen.numpy()[index]*100, \"%\")"
      ]
    },
    {
      "cell_type": "code",
      "execution_count": null,
      "metadata": {
        "id": "U9RCAaCTKeCv"
      },
      "outputs": [],
      "source": [
        "model.save(\"model.h5\") # Netzwerk und Parameter speichern"
      ]
    },
    {
      "cell_type": "code",
      "execution_count": null,
      "metadata": {
        "id": "X6dDGDQMcrIk"
      },
      "outputs": [],
      "source": [
        ""
      ]
    },
    {
      "cell_type": "code",
      "execution_count": null,
      "metadata": {
        "id": "wpm4z1jytD-M"
      },
      "outputs": [],
      "source": [
        ""
      ]
    },
    {
      "cell_type": "code",
      "execution_count": null,
      "metadata": {
        "id": "7C1j3wZstThE"
      },
      "outputs": [],
      "source": [
        ""
      ]
    }
  ],
  "metadata": {
    "accelerator": "GPU",
    "colab": {
      "collapsed_sections": [],
      "name": "Untitled0.ipynb",
      "provenance": [],
      "authorship_tag": "ABX9TyNduFEsKFifdsSK+ciZa3Sl",
      "include_colab_link": true
    },
    "kernelspec": {
      "display_name": "Python 3",
      "name": "python3"
    },
    "language_info": {
      "name": "python"
    }
  },
  "nbformat": 4,
  "nbformat_minor": 0
}