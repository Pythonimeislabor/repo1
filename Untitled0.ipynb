{
  "cells": [
    {
      "cell_type": "markdown",
      "metadata": {
        "id": "view-in-github",
        "colab_type": "text"
      },
      "source": [
        "<a href=\"https://colab.research.google.com/github/Pythonimeislabor/repo1/blob/main/Untitled0.ipynb\" target=\"_parent\"><img src=\"https://colab.research.google.com/assets/colab-badge.svg\" alt=\"Open In Colab\"/></a>"
      ]
    },
    {
      "cell_type": "markdown",
      "metadata": {
        "id": "x0nBWsvTT9wH"
      },
      "source": [
        "# Datensatz von kaggle herunterladen"
      ]
    },
    {
      "cell_type": "code",
      "execution_count": 1,
      "metadata": {
        "colab": {
          "base_uri": "https://localhost:8080/"
        },
        "id": "LXsRTyAXThfZ",
        "outputId": "3e3466d9-fba4-420c-eafb-52df8445ca3c"
      },
      "outputs": [
        {
          "output_type": "stream",
          "name": "stdout",
          "text": [
            "Writing kaggle.json\n"
          ]
        }
      ],
      "source": [
        "%%writefile kaggle.json\n",
        "{\"username\":\"lutze3\",\"key\":\"c1b954a36f5402b976973271cb154a2f\"}"
      ]
    },
    {
      "cell_type": "code",
      "execution_count": 2,
      "metadata": {
        "id": "a-dfnFyCT8Qh"
      },
      "outputs": [],
      "source": [
        "!mkdir ~/.kaggle\n",
        "!mv kaggle.json ~/.kaggle\n",
        "!kaggle datasets download -d jcprogjava/handwritten-digits-dataset-not-in-mnist\n",
        "!unzip handwritten-digits-dataset-not-in-mnist.zip\n",
        "\n",
        "from IPython.display import clear_output\n",
        "clear_output()"
      ]
    },
    {
      "cell_type": "markdown",
      "metadata": {
        "id": "DGNR29egXEnh"
      },
      "source": [
        "# imports"
      ]
    },
    {
      "cell_type": "code",
      "execution_count": 3,
      "metadata": {
        "id": "NyHIeBq2T8bS"
      },
      "outputs": [],
      "source": [
        "import cv2 # Bildbearbeitung\n",
        "import matplotlib.pyplot as plt # Bilder anzeigen\n",
        "import os # Um Bilder in den Ordnern zu finden\n",
        "import numpy as np # Für Arrays mit denen Tensorflow umgehen kann\n",
        "import tensorflow as tf # für deep-learning / neuronale Netze"
      ]
    },
    {
      "cell_type": "markdown",
      "metadata": {
        "id": "GKEV1go0fEkC"
      },
      "source": [
        "# Trainingsdatensatz generieren\n",
        "Ein neuronales Netz braucht viele Trainingsdaten um Zusammenhänge zu erkennen.<br>\n",
        "Dazu werden 2 Listen erstellt. Liste X enthält alle Bilder, Liste Y die zugehörigen Zahlen"
      ]
    },
    {
      "cell_type": "code",
      "execution_count": 4,
      "metadata": {
        "colab": {
          "base_uri": "https://localhost:8080/"
        },
        "id": "pY_JI8lRoGCG",
        "outputId": "1f156715-52c6-41c4-bf38-efa0a2b7c5d8"
      },
      "outputs": [
        {
          "output_type": "execute_result",
          "data": {
            "text/plain": [
              "['7', '5', '0', '9', '1', '3', '2', '4', '6', '8']"
            ]
          },
          "metadata": {},
          "execution_count": 4
        }
      ],
      "source": [
        "os.listdir(\"dataset\") # os.listdir gibt eine liste mit allen Ordnern und Dateien im angegebenen Verzeichnis zurück"
      ]
    },
    {
      "cell_type": "code",
      "execution_count": 5,
      "metadata": {
        "id": "dttonN4KdDIC"
      },
      "outputs": [],
      "source": [
        "#X = [bild1, bild2, bild3]\n",
        "#Y = [Beschriftung1, Beschriftung2, Beschriftung3]\n",
        "\n",
        "X = []\n",
        "Y = []\n",
        "\n",
        "def linie_zeichnen(bild): # Zeichnet eine verunstaltende Linie auf ein Bild\n",
        "  p1_x = np.random.randint(0,29)\n",
        "  p1_y = np.random.randint(0,29)\n",
        "  p2_x = np.random.randint(0,29)\n",
        "  p2_y = np.random.randint(0,29)\n",
        "  bild_mit_linie = cv2.line(bild.copy(), (p1_x, p1_y), (p2_x, p2_y), (1))\n",
        "  return bild_mit_linie\n",
        "\n",
        "def lade_bild(pfad): # Bild laden und vorverarbeiten\n",
        "  bild = cv2.imread(pfad, cv2.IMREAD_UNCHANGED) # bild lesen vom rgba-format\n",
        "  bild_in_grau = bild[:,:,3] # Alpha-Wert herausfiltern\n",
        "  bild_0_1 = bild_in_grau / 255 # bild zwischen 0 und 1 skalieren\n",
        "  rauschen = np.random.normal(size=(28,28)) / 10 # Zufallszahlen mit Normalverteilung generieren in der Form 28x28\n",
        "  bild_mit_rauschen = bild_0_1 + rauschen # Elementweise Addition vom Bild und dem Rauschen durchführen\n",
        "\n",
        "  l1 = linie_zeichnen(bild_mit_rauschen)\n",
        "  l2 = linie_zeichnen(l1)\n",
        "  l3 = linie_zeichnen(l2)\n",
        "\n",
        "  return l3 # Bild an den Aufruf zurückgeben\n",
        "\n",
        "for _ in range(5):\n",
        "  for zahl in range(10): # Wir haben ordner von 0 bis 9\n",
        "    pfad = \"dataset/\"+str(zahl)+\"/\"+str(zahl) + \"/\" # Pfad zusammenbauen\n",
        "    #print(\"zahl ist\", zahl, \"- Der Pfad ist\", pfad)\n",
        "    alle_bilder_namen = os.listdir(pfad) # alle bilder im pfad auflisten\n",
        "    for name in alle_bilder_namen: # alle bilder in dem Ordner durchgehen\n",
        "      pfad_zum_bild = pfad + name \n",
        "      bild = lade_bild(pfad_zum_bild)\n",
        "\n",
        "      X.append(bild) # Das Bild an X anhängen\n",
        "      Y.append(zahl) # Die zugehörige Zahl an Y anhängen"
      ]
    },
    {
      "cell_type": "code",
      "execution_count": 6,
      "metadata": {
        "colab": {
          "base_uri": "https://localhost:8080/"
        },
        "id": "dbfx3ak8o2M4",
        "outputId": "566746e0-2352-42b7-87fb-b6538962e89a"
      },
      "outputs": [
        {
          "output_type": "stream",
          "name": "stdout",
          "text": [
            "Es gibt 538650 Trainingsbilder\n"
          ]
        }
      ],
      "source": [
        "print(\"Es gibt\", len(Y),\"Trainingsbilder\")"
      ]
    },
    {
      "cell_type": "code",
      "execution_count": null,
      "metadata": {
        "colab": {
          "base_uri": "https://localhost:8080/",
          "height": 300
        },
        "id": "6kMzl5UQg0KP",
        "outputId": "b50f8534-f96d-4e3d-929d-3a6bd65ddd2b"
      },
      "outputs": [
        {
          "name": "stdout",
          "output_type": "stream",
          "text": [
            "Es wird das Bild mit dem index 100000 angezeigt\n",
            "Y ist  9\n"
          ]
        },
        {
          "data": {
            "image/png": "[encoded data removed]",
            "text/plain": [
              "<Figure size 432x288 with 1 Axes>"
            ]
          },
          "metadata": {},
          "output_type": "display_data"
        }
      ],
      "source": [
        "index = 100000\n",
        "\n",
        "print(\"Es wird das Bild mit dem index\", index, \"angezeigt\")\n",
        "plt.imshow(X[index], cmap = \"gray\"), \n",
        "print(\"Y ist \", Y[index])"
      ]
    },
    {
      "cell_type": "code",
      "execution_count": 17,
      "metadata": {
        "id": "0xNT0n6i01X8"
      },
      "outputs": [],
      "source": [
        "# listen in numpy arrays umwandeln\n",
        "Y = np.array(Y) # numpy arrays sind für viele Elemente eine bessere Speichermethode\n",
        "X = np.array(X) # tensorflow benötigt numpy arrays und kann nicht mit listen arbeiten"
      ]
    },
    {
      "cell_type": "markdown",
      "metadata": {
        "id": "aXOjWn5HpX-p"
      },
      "source": [
        "für das Training werden die Trainingsdaten in Trainingsdaten und Validierungsdaten aufgeteilt. Das neuronale Netz wird auf 80% der Daten trainiert und auf die anderen 20% getestet. Wenn es auf den anderen 20% gut ist, hat das neuronale Netz das Konzept von den Bildern verstanden. wenn es nur auf den Trainingsdaten gut ist und die Testdaten nicht klassifizieren kann, hat es nicht gut gelernt. <br>Tensorflow nimmt immer die letzten x% im Datensatz als Validierungsdaten. In diesem Fall sind die letzten 20% alle Bilder der 8 und der 9. Es würde also von 0 - 7 alles lernen und auf 8 und 9 getestet werden. Das kann so nicht funktionieren, denn wenn das Netzwerk nie eine 8 oder 9 in den Trainingsdaten gesehen hat wird es lernen dass es solche Zahlen nicht gibt. Also müssen die Trainingsdaten gemischt werden um zufällige Zahlen als Validierungsdaten zu erhalten"
      ]
    },
    {
      "cell_type": "code",
      "execution_count": 18,
      "metadata": {
        "id": "ZQANFYQ5pUyK"
      },
      "outputs": [],
      "source": [
        "# X und Y gleichmäßig mischen\n",
        "# X und Y werden so gemischt, dass Y[index] die Zahl enthält die in X[index] gespeichert ist\n",
        "p = np.random.permutation(Y.shape[0]) \n",
        "X = X[p]\n",
        "Y = Y[p] "
      ]
    },
    {
      "cell_type": "markdown",
      "metadata": {
        "id": "cJ7q7wf5wu2g"
      },
      "source": [
        "# Zufallsveränderungen auf jedes Bild vor dem Training anwenden um allgemeine Lösungen zu finden"
      ]
    },
    {
      "cell_type": "code",
      "execution_count": 29,
      "metadata": {
        "colab": {
          "base_uri": "https://localhost:8080/",
          "height": 282
        },
        "id": "BMx7YBADwtxe",
        "outputId": "c2731d6a-2543-4a56-af7c-b591e812c4e7"
      },
      "outputs": [
        {
          "output_type": "execute_result",
          "data": {
            "text/plain": [
              "<matplotlib.image.AxesImage at 0x7f46e2fd1bd0>"
            ]
          },
          "metadata": {},
          "execution_count": 29
        },
        {
          "output_type": "display_data",
          "data": {
            "text/plain": [
              "<Figure size 432x288 with 1 Axes>"
            ],
            "image/png": "[encoded data removed]"
          },
          "metadata": {
            "needs_background": "light"
          }
        }
      ],
      "source": [
        "random_gedreht = tf.keras.layers.RandomRotation((-0.05, 0.05))(X[0].reshape(1,28,28,1), training=True)\n",
        "random_verschieben = tf.keras.layers.RandomTranslation((-0.2,0.2), (-0.2,0.2)) (random_gedreht, training=True)\n",
        "random_Zoom = tf.keras.layers.RandomZoom((-0.2,0.2), (-0.2,0.2)) (random_verschieben, training=True)\n",
        "droppout = tf.keras.layers.Dropout(0.1)(random_Zoom, True)\n",
        "\n",
        "plt.imshow(droppout.numpy()[0].reshape(28,28))"
      ]
    },
    {
      "cell_type": "markdown",
      "metadata": {
        "id": "tspW2wbat0GX"
      },
      "source": [
        "# Neuronales Netzwerk bauen und trainieren"
      ]
    },
    {
      "cell_type": "code",
      "execution_count": 30,
      "metadata": {
        "colab": {
          "base_uri": "https://localhost:8080/"
        },
        "id": "yfSDw5Gat2rk",
        "outputId": "67e8498f-b219-4748-934e-14a4c1a93d79"
      },
      "outputs": [
        {
          "output_type": "stream",
          "name": "stdout",
          "text": [
            "\n",
            "Model: \"model\"\n",
            "_________________________________________________________________\n",
            " Layer (type)                Output Shape              Param #   \n",
            "=================================================================\n",
            " input_1 (InputLayer)        [(None, 28, 28)]          0         \n",
            "                                                                 \n",
            " reshape (Reshape)           (None, 28, 28, 1)         0         \n",
            "                                                                 \n",
            " random_rotation_11 (RandomR  (None, 28, 28, 1)        0         \n",
            " otation)                                                        \n",
            "                                                                 \n",
            " random_translation_11 (Rand  (None, 28, 28, 1)        0         \n",
            " omTranslation)                                                  \n",
            "                                                                 \n",
            " random_zoom_11 (RandomZoom)  (None, 28, 28, 1)        0         \n",
            "                                                                 \n",
            " dropout_21 (Dropout)        (None, 28, 28, 1)         0         \n",
            "                                                                 \n",
            " conv2d (Conv2D)             (None, 26, 26, 16)        160       \n",
            "                                                                 \n",
            " dropout_22 (Dropout)        (None, 26, 26, 16)        0         \n",
            "                                                                 \n",
            " max_pooling2d (MaxPooling2D  (None, 13, 13, 16)       0         \n",
            " )                                                               \n",
            "                                                                 \n",
            " conv2d_1 (Conv2D)           (None, 11, 11, 64)        9280      \n",
            "                                                                 \n",
            " dropout_23 (Dropout)        (None, 11, 11, 64)        0         \n",
            "                                                                 \n",
            " max_pooling2d_1 (MaxPooling  (None, 5, 5, 64)         0         \n",
            " 2D)                                                             \n",
            "                                                                 \n",
            " flatten (Flatten)           (None, 1600)              0         \n",
            "                                                                 \n",
            " dense (Dense)               (None, 32)                51232     \n",
            "                                                                 \n",
            " dropout_24 (Dropout)        (None, 32)                0         \n",
            "                                                                 \n",
            " dense_1 (Dense)             (None, 16)                528       \n",
            "                                                                 \n",
            " dropout_25 (Dropout)        (None, 16)                0         \n",
            "                                                                 \n",
            " dense_2 (Dense)             (None, 10)                170       \n",
            "                                                                 \n",
            "=================================================================\n",
            "Total params: 61,370\n",
            "Trainable params: 61,370\n",
            "Non-trainable params: 0\n",
            "_________________________________________________________________\n"
          ]
        }
      ],
      "source": [
        "inputlayer = tf.keras.layers.Input(shape=(28,28)) # unser Bild hat die Form [Höhe, Breite]\n",
        "\n",
        "bild_3_d = tf.keras.layers.Reshape((28,28,1)) (inputlayer)\n",
        "\n",
        "random_gedreht = tf.keras.layers.RandomRotation((-0.12, 0.12))(bild_3_d)\n",
        "random_verschieben = tf.keras.layers.RandomTranslation((-0.3,0.3), (-0.3,0.3)) (random_gedreht)\n",
        "random_Zoom = tf.keras.layers.RandomZoom((-0.3,0.4), (-0.3,0.4)) (random_verschieben)\n",
        "\n",
        "drop0 =  tf.keras.layers.Dropout(0.2)(random_Zoom)\n",
        "\n",
        "filter_1 = tf.keras.layers.Conv2D(16,3, activation=\"relu\") (drop0)\n",
        "drop1 = tf.keras.layers.Dropout(0.1)(filter_1)\n",
        "maxpoollayer1 = tf.keras.layers.MaxPooling2D() (drop1)\n",
        "\n",
        "\n",
        "filter_2 = tf.keras.layers.Conv2D(64,3, activation=\"relu\") (maxpoollayer1)\n",
        "drop2 = tf.keras.layers.Dropout(0.1)(filter_2)\n",
        "maxpoollayer2 = tf.keras.layers.MaxPooling2D() (drop2)\n",
        "\n",
        "\n",
        "platt = tf.keras.layers.Flatten()(maxpoollayer2)\n",
        "\n",
        "x = tf.keras.layers.Dense(32,activation=\"relu\")(platt)\n",
        "x = tf.keras.layers.Dropout(0.1)(x)\n",
        "x = tf.keras.layers.Dense(16,activation=\"relu\")(x)\n",
        "x = tf.keras.layers.Dropout(0.1)(x)\n",
        "output = tf.keras.layers.Dense(10,activation=\"softmax\")(x)\n",
        "\n",
        "model = tf.keras.Model(inputlayer, output)\n",
        "print(\"\")\n",
        "model.summary()"
      ]
    },
    {
      "cell_type": "code",
      "execution_count": 31,
      "metadata": {
        "id": "V44YHlbXvwZP"
      },
      "outputs": [],
      "source": [
        "fehlerfunktion = tf.keras.losses.SparseCategoricalCrossentropy()\n",
        "optimierer = tf.keras.optimizers.SGD(0.005, momentum = 0.9)\n",
        "model.compile(optimierer, fehlerfunktion, metrics=\"accuracy\")"
      ]
    },
    {
      "cell_type": "code",
      "execution_count": null,
      "metadata": {
        "colab": {
          "background_save": true,
          "base_uri": "https://localhost:8080/"
        },
        "id": "6S2tL87avxb-",
        "outputId": "de894a37-9281-4504-a93d-1cdfd7bee642"
      },
      "outputs": [
        {
          "output_type": "stream",
          "name": "stdout",
          "text": [
            "Epoch 1/30\n",
            " 566/6734 [=>............................] - ETA: 5:27 - loss: 2.2976 - accuracy: 0.1152"
          ]
        }
      ],
      "source": [
        "model.fit(X, Y, batch_size = 64, epochs = 30, validation_split = 0.2) # Parameter optimieren"
      ]
    },
    {
      "cell_type": "markdown",
      "metadata": {
        "id": "IV5Ckw9ld6JM"
      },
      "source": [
        "# Test mit selbstgemaltem Bild\n",
        "Male eine Zahl mit Paint und lade das Bild in das Colab notebook."
      ]
    },
    {
      "cell_type": "code",
      "execution_count": null,
      "metadata": {
        "colab": {
          "base_uri": "https://localhost:8080/",
          "height": 283
        },
        "id": "ifjD08Wod-Eh",
        "outputId": "3fa128c9-6dbf-4cd9-934b-299da4750462"
      },
      "outputs": [
        {
          "data": {
            "text/plain": [
              "(28, 28)"
            ]
          },
          "execution_count": 31,
          "metadata": {},
          "output_type": "execute_result"
        },
        {
          "data": {
            "image/png": "[encoded data removed]",
            "text/plain": [
              "<Figure size 432x288 with 1 Axes>"
            ]
          },
          "metadata": {},
          "output_type": "display_data"
        }
      ],
      "source": [
        "bild = cv2.imread(\"Untitled7.png\", cv2.IMREAD_GRAYSCALE) # bild mit dem Namen untitled.png lesen im graustufen-format\n",
        "bild = cv2.resize(bild, (28,28))\n",
        "bild_0_1 = 1 - bild / 255 # bild zwischen 0 und 1 skalieren\n",
        "plt.imshow(bild_0_1, cmap = \"gray\")\n",
        "bild_0_1.shape"
      ]
    },
    {
      "cell_type": "code",
      "execution_count": null,
      "metadata": {
        "colab": {
          "base_uri": "https://localhost:8080/"
        },
        "id": "hKZb7f-FegmO",
        "outputId": "be9081dc-46b1-441d-b039-9a5dafe33dab"
      },
      "outputs": [
        {
          "name": "stdout",
          "output_type": "stream",
          "text": [
            "Die Entscheidungen sind: tf.Tensor(\n",
            "[0.0246234  0.10530213 0.20965575 0.12230042 0.04872589 0.04945073\n",
            " 0.00489628 0.4034338  0.00768248 0.02392916], shape=(10,), dtype=float32)\n",
            "Das ist die Zahl: 7 mit einer Wahrscheinlichkeit von 40.343379974365234 %\n"
          ]
        }
      ],
      "source": [
        "bild_batch = np.reshape(bild_0_1,(1,28,28)) # tensorflow braucht ein array von Inputs\n",
        "\n",
        "entscheidungen = model(bild_batch)[0]\n",
        "index = np.argmax(entscheidungen)\n",
        "print(\"Die Entscheidungen sind:\", entscheidungen)\n",
        "print(\"Das ist die Zahl:\", index, \"mit einer Wahrscheinlichkeit von\", entscheidungen.numpy()[index]*100, \"%\")"
      ]
    },
    {
      "cell_type": "code",
      "execution_count": null,
      "metadata": {
        "id": "U9RCAaCTKeCv"
      },
      "outputs": [],
      "source": [
        "model.save(\"model.h5\") # Netzwerk und Parameter speichern"
      ]
    },
    {
      "cell_type": "code",
      "execution_count": null,
      "metadata": {
        "id": "X6dDGDQMcrIk"
      },
      "outputs": [],
      "source": [
        ""
      ]
    },
    {
      "cell_type": "code",
      "execution_count": null,
      "metadata": {
        "id": "wpm4z1jytD-M"
      },
      "outputs": [],
      "source": [
        ""
      ]
    },
    {
      "cell_type": "code",
      "execution_count": null,
      "metadata": {
        "id": "7C1j3wZstThE"
      },
      "outputs": [],
      "source": [
        ""
      ]
    }
  ],
  "metadata": {
    "accelerator": "GPU",
    "colab": {
      "collapsed_sections": [],
      "name": "Untitled0.ipynb",
      "provenance": [],
      "authorship_tag": "ABX9TyOVXEdmwsZjaMqd/7POWYW/",
      "include_colab_link": true
    },
    "kernelspec": {
      "display_name": "Python 3",
      "name": "python3"
    },
    "language_info": {
      "name": "python"
    }
  },
  "nbformat": 4,
  "nbformat_minor": 0
}