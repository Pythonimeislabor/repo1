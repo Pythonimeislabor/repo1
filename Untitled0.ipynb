{
  "nbformat": 4,
  "nbformat_minor": 0,
  "metadata": {
    "colab": {
      "name": "Untitled0.ipynb",
      "provenance": [],
      "collapsed_sections": [],
      "authorship_tag": "ABX9TyPa3Yjjo74hsZneFgOpHU5F",
      "include_colab_link": true
    },
    "kernelspec": {
      "name": "python3",
      "display_name": "Python 3"
    },
    "language_info": {
      "name": "python"
    },
    "accelerator": "GPU"
  },
  "cells": [
    {
      "cell_type": "markdown",
      "metadata": {
        "id": "view-in-github",
        "colab_type": "text"
      },
      "source": [
        "<a href=\"https://colab.research.google.com/github/Pythonimeislabor/repo1/blob/main/Untitled0.ipynb\" target=\"_parent\"><img src=\"https://colab.research.google.com/assets/colab-badge.svg\" alt=\"Open In Colab\"/></a>"
      ]
    },
    {
      "cell_type": "markdown",
      "metadata": {
        "id": "x0nBWsvTT9wH"
      },
      "source": [
        "# Datensatz von kaggle herunterladen"
      ]
    },
    {
      "cell_type": "code",
      "execution_count": 1,
      "metadata": {
        "colab": {
          "base_uri": "https://localhost:8080/"
        },
        "id": "LXsRTyAXThfZ",
        "outputId": "f6bef2a6-42a8-4a1d-cbd1-f50c782f966b"
      },
      "outputs": [
        {
          "output_type": "stream",
          "name": "stdout",
          "text": [
            "Writing kaggle.json\n"
          ]
        }
      ],
      "source": [
        "%%writefile kaggle.json\n",
        "{\"username\":\"lutze3\",\"key\":\"c1b954a36f5402b976973271cb154a2f\"}"
      ]
    },
    {
      "cell_type": "code",
      "execution_count": 2,
      "metadata": {
        "id": "a-dfnFyCT8Qh"
      },
      "outputs": [],
      "source": [
        "!mkdir ~/.kaggle\n",
        "!mv kaggle.json ~/.kaggle\n",
        "!kaggle datasets download -d jcprogjava/handwritten-digits-dataset-not-in-mnist\n",
        "!unzip handwritten-digits-dataset-not-in-mnist.zip\n",
        "\n",
        "from IPython.display import clear_output\n",
        "clear_output()"
      ]
    },
    {
      "cell_type": "markdown",
      "metadata": {
        "id": "DGNR29egXEnh"
      },
      "source": [
        "# imports"
      ]
    },
    {
      "cell_type": "code",
      "execution_count": 3,
      "metadata": {
        "id": "NyHIeBq2T8bS"
      },
      "outputs": [],
      "source": [
        "import cv2 # Bildbearbeitung\n",
        "import matplotlib.pyplot as plt # Bilder anzeigen\n",
        "import os # Um Bilder in den Ordnern zu finden\n",
        "import numpy as np # Für Arrays mit denen Tensorflow umgehen kann\n",
        "import tensorflow as tf # für deep-learning / neuronale Netze"
      ]
    },
    {
      "cell_type": "markdown",
      "metadata": {
        "id": "GKEV1go0fEkC"
      },
      "source": [
        "# Trainingsdatensatz generieren\n",
        "Ein neuronales Netz braucht viele Trainingsdaten um Zusammenhänge zu erkennen.<br>\n",
        "Dazu werden 2 Listen erstellt. Liste X enthält alle Bilder, Liste Y die zugehörigen Zahlen"
      ]
    },
    {
      "cell_type": "code",
      "source": [
        "os.listdir(\"dataset\") # os.listdir gibt eine liste mit allen Ordnern und Dateien im angegebenen Verzeichnis zurück"
      ],
      "metadata": {
        "id": "pY_JI8lRoGCG",
        "colab": {
          "base_uri": "https://localhost:8080/"
        },
        "outputId": "48355d97-7686-4327-bd86-6aa80b169902"
      },
      "execution_count": 4,
      "outputs": [
        {
          "output_type": "execute_result",
          "data": {
            "text/plain": [
              "['6', '4', '0', '2', '8', '7', '5', '3', '1', '9']"
            ]
          },
          "metadata": {},
          "execution_count": 4
        }
      ]
    },
    {
      "cell_type": "code",
      "execution_count": 5,
      "metadata": {
        "id": "dttonN4KdDIC",
        "colab": {
          "base_uri": "https://localhost:8080/"
        },
        "outputId": "6773922d-2767-4392-a9f0-15cc8bbc2949"
      },
      "outputs": [
        {
          "output_type": "stream",
          "name": "stdout",
          "text": [
            "zahl ist 0 - Der Pfad ist dataset/0/0/\n",
            "zahl ist 1 - Der Pfad ist dataset/1/1/\n",
            "zahl ist 2 - Der Pfad ist dataset/2/2/\n",
            "zahl ist 3 - Der Pfad ist dataset/3/3/\n",
            "zahl ist 4 - Der Pfad ist dataset/4/4/\n",
            "zahl ist 5 - Der Pfad ist dataset/5/5/\n",
            "zahl ist 6 - Der Pfad ist dataset/6/6/\n",
            "zahl ist 7 - Der Pfad ist dataset/7/7/\n",
            "zahl ist 8 - Der Pfad ist dataset/8/8/\n",
            "zahl ist 9 - Der Pfad ist dataset/9/9/\n"
          ]
        }
      ],
      "source": [
        "#X = [bild1, bild2, bild3]\n",
        "#Y = [Beschriftung1, Beschriftung2, Beschriftung3]\n",
        "\n",
        "X = []\n",
        "Y = []\n",
        "\n",
        "def linie_zeichnen(bild): # Zeichnet eine verunstaltende Linie auf ein Bild\n",
        "  p1_x = np.random.randint(0,29)\n",
        "  p1_y = np.random.randint(0,29)\n",
        "  p2_x = np.random.randint(0,29)\n",
        "  p2_y = np.random.randint(0,29)\n",
        "  bild_mit_linie = cv2.line(bild.copy(), (p1_x, p1_y), (p2_x, p2_y), (1))\n",
        "  return bild_mit_linie\n",
        "\n",
        "def lade_bild(pfad): # Bild laden und vorverarbeiten\n",
        "  bild = cv2.imread(pfad, cv2.IMREAD_UNCHANGED) # bild lesen vom rgba-format\n",
        "  bild_in_grau = bild[:,:,3] # Alpha-Wert herausfiltern\n",
        "  bild_0_1 = bild_in_grau / 255 # bild zwischen 0 und 1 skalieren\n",
        "  rauschen = np.random.normal(size=(28,28)) / 20 # Zufallszahlen mit Normalverteilung generieren in der Form 28x28\n",
        "  bild_mit_rauschen = bild_0_1 + rauschen # Elementweise Addition vom Bild und dem Rauschen durchführen\n",
        "\n",
        "  l1 = linie_zeichnen(bild_mit_rauschen)\n",
        "  l2 = linie_zeichnen(l1)\n",
        "  l3 = linie_zeichnen(l2)\n",
        "\n",
        "  return l3 # Bild an den Aufruf zurückgeben\n",
        "\n",
        "\n",
        "for zahl in range(10): # Wir haben ordner von 0 bis 9\n",
        "  pfad = \"dataset/\"+str(zahl)+\"/\"+str(zahl) + \"/\" # Pfad zusammenbauen\n",
        "  print(\"zahl ist\", zahl, \"- Der Pfad ist\", pfad)\n",
        "  alle_bilder_namen = os.listdir(pfad) # alle bilder im pfad auflisten\n",
        "  for name in alle_bilder_namen: # alle bilder in dem Ordner durchgehen\n",
        "    pfad_zum_bild = pfad + name \n",
        "    bild = lade_bild(pfad_zum_bild)\n",
        "\n",
        "    X.append(bild) # Das Bild an X anhängen\n",
        "    Y.append(zahl) # Die zugehörige Zahl an Y anhängen"
      ]
    },
    {
      "cell_type": "code",
      "source": [
        "print(\"Es gibt\", len(Y),\"Trainingsbilder\")"
      ],
      "metadata": {
        "id": "dbfx3ak8o2M4",
        "colab": {
          "base_uri": "https://localhost:8080/"
        },
        "outputId": "e668740c-8a63-4120-ce1b-2217f931a631"
      },
      "execution_count": 6,
      "outputs": [
        {
          "output_type": "stream",
          "name": "stdout",
          "text": [
            "Es gibt 107730 Trainingsbilder\n"
          ]
        }
      ]
    },
    {
      "cell_type": "code",
      "execution_count": 7,
      "metadata": {
        "id": "6kMzl5UQg0KP",
        "colab": {
          "base_uri": "https://localhost:8080/",
          "height": 300
        },
        "outputId": "93704938-f03b-4c4f-cf9f-9683a0e500f3"
      },
      "outputs": [
        {
          "output_type": "stream",
          "name": "stdout",
          "text": [
            "Es wird das Bild mit dem index 100000 angezeigt\n",
            "Y ist  9\n"
          ]
        },
        {
          "output_type": "display_data",
          "data": {
            "text/plain": [
              "<Figure size 432x288 with 1 Axes>"
            ],
            "image/png": "[encoded data removed]"
          },
          "metadata": {
            "needs_background": "light"
          }
        }
      ],
      "source": [
        "index = 100000\n",
        "\n",
        "print(\"Es wird das Bild mit dem index\", index, \"angezeigt\")\n",
        "plt.imshow(X[index], cmap = \"gray\"), \n",
        "print(\"Y ist \", Y[index])"
      ]
    },
    {
      "cell_type": "code",
      "execution_count": 8,
      "metadata": {
        "id": "0xNT0n6i01X8"
      },
      "outputs": [],
      "source": [
        "# listen in numpy arrays umwandeln\n",
        "Y = np.array(Y) # numpy arrays sind für viele Elemente eine bessere Speichermethode\n",
        "X = np.array(X) # tensorflow benötigt numpy arrays und kann nicht mit listen arbeiten"
      ]
    },
    {
      "cell_type": "markdown",
      "source": [
        "für das Training werden die Trainingsdaten in Trainingsdaten und Validierungsdaten aufgeteilt. Das neuronale Netz wird auf 80% der Daten trainiert und auf die anderen 20% getestet. Wenn es auf den anderen 20% gut ist, hat das neuronale Netz das Konzept von den Bildern verstanden. wenn es nur auf den Trainingsdaten gut ist und die Testdaten nicht klassifizieren kann, hat es nicht gut gelernt. <br>Tensorflow nimmt immer die letzten x% im Datensatz als Validierungsdaten. In diesem Fall sind die letzten 20% alle Bilder der 8 und der 9. Es würde also von 0 - 7 alles lernen und auf 8 und 9 getestet werden. Das kann so nicht funktionieren, denn wenn das Netzwerk nie eine 8 oder 9 in den Trainingsdaten gesehen hat wird es lernen dass es solche Zahlen nicht gibt. Also müssen die Trainingsdaten gemischt werden um zufällige Zahlen als Validierungsdaten zu erhalten"
      ],
      "metadata": {
        "id": "aXOjWn5HpX-p"
      }
    },
    {
      "cell_type": "code",
      "source": [
        "# X und Y gleichmäßig mischen\n",
        "# X und Y werden so gemischt, dass Y[index] die Zahl enthält die in X[index] gespeichert ist\n",
        "p = np.random.permutation(Y.shape[0]) \n",
        "X = X[p]\n",
        "Y = Y[p] "
      ],
      "metadata": {
        "id": "ZQANFYQ5pUyK"
      },
      "execution_count": 9,
      "outputs": []
    },
    {
      "cell_type": "markdown",
      "source": [
        "# Zufallsveränderungen auf jedes Bild vor dem Training anwenden um allgemeine Lösungen zu finden"
      ],
      "metadata": {
        "id": "cJ7q7wf5wu2g"
      }
    },
    {
      "cell_type": "code",
      "source": [
        "random_gedreht = tf.keras.layers.RandomRotation((-0.05, 0.05))(X[0].reshape(1,28,28,1), training=True)\n",
        "random_verschieben = tf.keras.layers.RandomTranslation((-0.2,0.2), (-0.2,0.2)) (random_gedreht, training=True)\n",
        "random_Zoom = tf.keras.layers.RandomZoom((-0.2,0.2), (-0.2,0.2)) (random_verschieben, training=True)\n",
        "\n",
        "plt.imshow(random_Zoom.numpy()[0].reshape(28,28))"
      ],
      "metadata": {
        "colab": {
          "base_uri": "https://localhost:8080/",
          "height": 283
        },
        "id": "BMx7YBADwtxe",
        "outputId": "aa58c4b9-f651-43bf-c8b8-ffe81916ecb0"
      },
      "execution_count": 10,
      "outputs": [
        {
          "output_type": "execute_result",
          "data": {
            "text/plain": [
              "<matplotlib.image.AxesImage at 0x7f99caa823d0>"
            ]
          },
          "metadata": {},
          "execution_count": 10
        },
        {
          "output_type": "display_data",
          "data": {
            "text/plain": [
              "<Figure size 432x288 with 1 Axes>"
            ],
            "image/png": "[encoded data removed]"
          },
          "metadata": {
            "needs_background": "light"
          }
        }
      ]
    },
    {
      "cell_type": "markdown",
      "metadata": {
        "id": "tspW2wbat0GX"
      },
      "source": [
        "# Neuronales Netzwerk bauen und trainieren"
      ]
    },
    {
      "cell_type": "code",
      "execution_count": 11,
      "metadata": {
        "id": "yfSDw5Gat2rk",
        "colab": {
          "base_uri": "https://localhost:8080/"
        },
        "outputId": "c1227901-853c-4d30-fc2f-0877deca0771"
      },
      "outputs": [
        {
          "output_type": "stream",
          "name": "stdout",
          "text": [
            "\n",
            "Model: \"model\"\n",
            "_________________________________________________________________\n",
            " Layer (type)                Output Shape              Param #   \n",
            "=================================================================\n",
            " input_1 (InputLayer)        [(None, 28, 28)]          0         \n",
            "                                                                 \n",
            " reshape (Reshape)           (None, 28, 28, 1)         0         \n",
            "                                                                 \n",
            " random_rotation_1 (RandomRo  (None, 28, 28, 1)        0         \n",
            " tation)                                                         \n",
            "                                                                 \n",
            " random_translation_1 (Rando  (None, 28, 28, 1)        0         \n",
            " mTranslation)                                                   \n",
            "                                                                 \n",
            " random_zoom_1 (RandomZoom)  (None, 28, 28, 1)         0         \n",
            "                                                                 \n",
            " conv2d (Conv2D)             (None, 26, 26, 16)        160       \n",
            "                                                                 \n",
            " dropout (Dropout)           (None, 26, 26, 16)        0         \n",
            "                                                                 \n",
            " max_pooling2d (MaxPooling2D  (None, 13, 13, 16)       0         \n",
            " )                                                               \n",
            "                                                                 \n",
            " conv2d_1 (Conv2D)           (None, 11, 11, 16)        2320      \n",
            "                                                                 \n",
            " dropout_1 (Dropout)         (None, 11, 11, 16)        0         \n",
            "                                                                 \n",
            " max_pooling2d_1 (MaxPooling  (None, 5, 5, 16)         0         \n",
            " 2D)                                                             \n",
            "                                                                 \n",
            " flatten (Flatten)           (None, 400)               0         \n",
            "                                                                 \n",
            " dense (Dense)               (None, 64)                25664     \n",
            "                                                                 \n",
            " dropout_2 (Dropout)         (None, 64)                0         \n",
            "                                                                 \n",
            " dense_1 (Dense)             (None, 16)                1040      \n",
            "                                                                 \n",
            " dropout_3 (Dropout)         (None, 16)                0         \n",
            "                                                                 \n",
            " dense_2 (Dense)             (None, 10)                170       \n",
            "                                                                 \n",
            "=================================================================\n",
            "Total params: 29,354\n",
            "Trainable params: 29,354\n",
            "Non-trainable params: 0\n",
            "_________________________________________________________________\n"
          ]
        }
      ],
      "source": [
        "inputlayer = tf.keras.layers.Input(shape=(28,28)) # unser Bild hat die Form [Höhe, Breite]\n",
        "\n",
        "bild_3_d = tf.keras.layers.Reshape((28,28,1)) (inputlayer)\n",
        "\n",
        "random_gedreht = tf.keras.layers.RandomRotation((-0.1, 0.1))(bild_3_d)\n",
        "random_verschieben = tf.keras.layers.RandomTranslation((-0.3,0.3), (-0.3,0.3)) (random_gedreht)\n",
        "random_Zoom = tf.keras.layers.RandomZoom((-0.2,0.3), (-0.2,0.3)) (random_verschieben)\n",
        "\n",
        "filter_1 = tf.keras.layers.Conv2D(16,3, activation=\"relu\") (random_Zoom)\n",
        "drop1 = tf.keras.layers.Dropout(0.3)(filter_1)\n",
        "maxpoollayer1 = tf.keras.layers.MaxPooling2D() (drop1)\n",
        "\n",
        "\n",
        "filter_2 = tf.keras.layers.Conv2D(16,3, activation=\"relu\") (maxpoollayer1)\n",
        "drop2 = tf.keras.layers.Dropout(0.3)(filter_2)\n",
        "maxpoollayer2 = tf.keras.layers.MaxPooling2D() (drop2)\n",
        "\n",
        "\n",
        "platt = tf.keras.layers.Flatten()(maxpoollayer2)\n",
        "\n",
        "x = tf.keras.layers.Dense(64,activation=\"relu\")(platt)\n",
        "x = tf.keras.layers.Dropout(0.3)(x)\n",
        "x = tf.keras.layers.Dense(16,activation=\"relu\")(x)\n",
        "x = tf.keras.layers.Dropout(0.3)(x)\n",
        "output = tf.keras.layers.Dense(10,activation=\"softmax\")(x)\n",
        "\n",
        "model = tf.keras.Model(inputlayer, output)\n",
        "print(\"\")\n",
        "model.summary()"
      ]
    },
    {
      "cell_type": "code",
      "execution_count": 12,
      "metadata": {
        "id": "V44YHlbXvwZP"
      },
      "outputs": [],
      "source": [
        "fehlerfunktion = tf.keras.losses.SparseCategoricalCrossentropy()\n",
        "optimierer = tf.keras.optimizers.SGD(0.001, momentum = 0.95)\n",
        "model.compile(optimierer, fehlerfunktion, metrics=\"accuracy\")"
      ]
    },
    {
      "cell_type": "code",
      "execution_count": 15,
      "metadata": {
        "id": "6S2tL87avxb-",
        "colab": {
          "base_uri": "https://localhost:8080/"
        },
        "outputId": "83e0039a-a6b9-4be8-eece-dfc824aeec3a"
      },
      "outputs": [
        {
          "output_type": "stream",
          "name": "stdout",
          "text": [
            "Epoch 1/50\n",
            "1347/1347 [==============================] - 8s 6ms/step - loss: 1.2925 - accuracy: 0.5480 - val_loss: 0.6793 - val_accuracy: 0.8175\n",
            "Epoch 2/50\n",
            "1347/1347 [==============================] - 8s 6ms/step - loss: 1.2318 - accuracy: 0.5722 - val_loss: 0.5959 - val_accuracy: 0.8369\n",
            "Epoch 3/50\n",
            "1347/1347 [==============================] - 8s 6ms/step - loss: 1.1823 - accuracy: 0.5912 - val_loss: 0.5254 - val_accuracy: 0.8530\n",
            "Epoch 4/50\n",
            "1347/1347 [==============================] - 7s 5ms/step - loss: 1.1484 - accuracy: 0.6055 - val_loss: 0.4753 - val_accuracy: 0.8717\n",
            "Epoch 5/50\n",
            "1347/1347 [==============================] - 8s 6ms/step - loss: 1.0993 - accuracy: 0.6253 - val_loss: 0.4678 - val_accuracy: 0.8674\n",
            "Epoch 6/50\n",
            "1347/1347 [==============================] - 8s 6ms/step - loss: 1.0735 - accuracy: 0.6342 - val_loss: 0.4566 - val_accuracy: 0.8677\n",
            "Epoch 7/50\n",
            "1347/1347 [==============================] - 8s 6ms/step - loss: 1.0540 - accuracy: 0.6442 - val_loss: 0.3870 - val_accuracy: 0.9012\n",
            "Epoch 8/50\n",
            "1347/1347 [==============================] - 7s 5ms/step - loss: 1.0314 - accuracy: 0.6524 - val_loss: 0.4254 - val_accuracy: 0.8709\n",
            "Epoch 9/50\n",
            "1347/1347 [==============================] - 8s 6ms/step - loss: 0.9994 - accuracy: 0.6653 - val_loss: 0.3270 - val_accuracy: 0.9148\n",
            "Epoch 10/50\n",
            "1347/1347 [==============================] - 7s 5ms/step - loss: 0.9868 - accuracy: 0.6688 - val_loss: 0.3166 - val_accuracy: 0.9170\n",
            "Epoch 11/50\n",
            "1347/1347 [==============================] - 7s 5ms/step - loss: 0.9661 - accuracy: 0.6789 - val_loss: 0.2837 - val_accuracy: 0.9270\n",
            "Epoch 12/50\n",
            "1347/1347 [==============================] - 7s 5ms/step - loss: 0.9597 - accuracy: 0.6820 - val_loss: 0.3185 - val_accuracy: 0.9153\n",
            "Epoch 13/50\n",
            "1347/1347 [==============================] - 7s 5ms/step - loss: 0.9448 - accuracy: 0.6884 - val_loss: 0.2729 - val_accuracy: 0.9311\n",
            "Epoch 14/50\n",
            "1347/1347 [==============================] - 7s 5ms/step - loss: 0.9398 - accuracy: 0.6899 - val_loss: 0.2998 - val_accuracy: 0.9175\n",
            "Epoch 15/50\n",
            "1347/1347 [==============================] - 8s 6ms/step - loss: 0.9214 - accuracy: 0.6967 - val_loss: 0.2895 - val_accuracy: 0.9216\n",
            "Epoch 16/50\n",
            "1347/1347 [==============================] - 8s 6ms/step - loss: 0.9079 - accuracy: 0.7020 - val_loss: 0.3203 - val_accuracy: 0.9044\n",
            "Epoch 17/50\n",
            "1347/1347 [==============================] - 7s 5ms/step - loss: 0.9034 - accuracy: 0.7026 - val_loss: 0.2896 - val_accuracy: 0.9231\n",
            "Epoch 18/50\n",
            "1347/1347 [==============================] - 7s 5ms/step - loss: 0.8928 - accuracy: 0.7064 - val_loss: 0.2888 - val_accuracy: 0.9198\n",
            "Epoch 19/50\n",
            "1347/1347 [==============================] - 7s 5ms/step - loss: 0.8876 - accuracy: 0.7088 - val_loss: 0.2680 - val_accuracy: 0.9240\n",
            "Epoch 20/50\n",
            "1347/1347 [==============================] - 8s 6ms/step - loss: 0.8847 - accuracy: 0.7107 - val_loss: 0.2927 - val_accuracy: 0.9132\n",
            "Epoch 21/50\n",
            "1347/1347 [==============================] - 8s 6ms/step - loss: 0.8700 - accuracy: 0.7152 - val_loss: 0.2693 - val_accuracy: 0.9230\n",
            "Epoch 22/50\n",
            "1347/1347 [==============================] - 7s 5ms/step - loss: 0.8642 - accuracy: 0.7176 - val_loss: 0.2830 - val_accuracy: 0.9216\n",
            "Epoch 23/50\n",
            "1347/1347 [==============================] - 8s 6ms/step - loss: 0.8634 - accuracy: 0.7194 - val_loss: 0.2926 - val_accuracy: 0.9142\n",
            "Epoch 24/50\n",
            "1347/1347 [==============================] - 7s 5ms/step - loss: 0.8515 - accuracy: 0.7220 - val_loss: 0.2497 - val_accuracy: 0.9318\n",
            "Epoch 25/50\n",
            "1347/1347 [==============================] - 7s 5ms/step - loss: 0.8508 - accuracy: 0.7246 - val_loss: 0.2314 - val_accuracy: 0.9390\n",
            "Epoch 26/50\n",
            "1347/1347 [==============================] - 8s 6ms/step - loss: 0.8454 - accuracy: 0.7246 - val_loss: 0.2705 - val_accuracy: 0.9209\n",
            "Epoch 27/50\n",
            "1347/1347 [==============================] - 7s 5ms/step - loss: 0.8457 - accuracy: 0.7245 - val_loss: 0.2697 - val_accuracy: 0.9224\n",
            "Epoch 28/50\n",
            "1347/1347 [==============================] - 7s 5ms/step - loss: 0.8340 - accuracy: 0.7289 - val_loss: 0.2640 - val_accuracy: 0.9304\n",
            "Epoch 29/50\n",
            "1347/1347 [==============================] - 8s 6ms/step - loss: 0.8283 - accuracy: 0.7301 - val_loss: 0.2292 - val_accuracy: 0.9391\n",
            "Epoch 30/50\n",
            "1347/1347 [==============================] - 8s 6ms/step - loss: 0.8300 - accuracy: 0.7296 - val_loss: 0.2190 - val_accuracy: 0.9450\n",
            "Epoch 31/50\n",
            "1347/1347 [==============================] - 7s 5ms/step - loss: 0.8332 - accuracy: 0.7302 - val_loss: 0.2412 - val_accuracy: 0.9334\n",
            "Epoch 32/50\n",
            "1347/1347 [==============================] - 8s 6ms/step - loss: 0.8286 - accuracy: 0.7310 - val_loss: 0.2793 - val_accuracy: 0.9224\n",
            "Epoch 33/50\n",
            "1347/1347 [==============================] - 7s 5ms/step - loss: 0.8217 - accuracy: 0.7347 - val_loss: 0.2716 - val_accuracy: 0.9247\n",
            "Epoch 34/50\n",
            "1347/1347 [==============================] - 7s 5ms/step - loss: 0.8195 - accuracy: 0.7354 - val_loss: 0.2996 - val_accuracy: 0.9133\n",
            "Epoch 35/50\n",
            "1347/1347 [==============================] - 8s 6ms/step - loss: 0.8180 - accuracy: 0.7352 - val_loss: 0.2303 - val_accuracy: 0.9347\n",
            "Epoch 36/50\n",
            "1347/1347 [==============================] - 7s 5ms/step - loss: 0.8077 - accuracy: 0.7391 - val_loss: 0.2457 - val_accuracy: 0.9325\n",
            "Epoch 37/50\n",
            "1347/1347 [==============================] - 8s 6ms/step - loss: 0.8040 - accuracy: 0.7384 - val_loss: 0.2339 - val_accuracy: 0.9397\n",
            "Epoch 38/50\n",
            "1347/1347 [==============================] - 7s 5ms/step - loss: 0.7971 - accuracy: 0.7429 - val_loss: 0.2287 - val_accuracy: 0.9377\n",
            "Epoch 39/50\n",
            "1347/1347 [==============================] - 8s 6ms/step - loss: 0.7970 - accuracy: 0.7425 - val_loss: 0.2833 - val_accuracy: 0.9185\n",
            "Epoch 40/50\n",
            "1347/1347 [==============================] - 7s 5ms/step - loss: 0.8047 - accuracy: 0.7388 - val_loss: 0.2515 - val_accuracy: 0.9294\n",
            "Epoch 41/50\n",
            "1347/1347 [==============================] - 7s 5ms/step - loss: 0.8094 - accuracy: 0.7375 - val_loss: 0.2797 - val_accuracy: 0.9205\n",
            "Epoch 42/50\n",
            "1347/1347 [==============================] - 7s 5ms/step - loss: 0.7930 - accuracy: 0.7405 - val_loss: 0.2394 - val_accuracy: 0.9314\n",
            "Epoch 43/50\n",
            "1347/1347 [==============================] - 7s 5ms/step - loss: 0.7923 - accuracy: 0.7427 - val_loss: 0.2644 - val_accuracy: 0.9222\n",
            "Epoch 44/50\n",
            "1347/1347 [==============================] - 8s 6ms/step - loss: 0.7860 - accuracy: 0.7446 - val_loss: 0.2054 - val_accuracy: 0.9438\n",
            "Epoch 45/50\n",
            "1347/1347 [==============================] - 8s 6ms/step - loss: 0.7882 - accuracy: 0.7471 - val_loss: 0.2984 - val_accuracy: 0.9123\n",
            "Epoch 46/50\n",
            "1347/1347 [==============================] - 7s 5ms/step - loss: 0.7843 - accuracy: 0.7475 - val_loss: 0.2553 - val_accuracy: 0.9260\n",
            "Epoch 47/50\n",
            "1347/1347 [==============================] - 7s 5ms/step - loss: 0.7821 - accuracy: 0.7474 - val_loss: 0.2300 - val_accuracy: 0.9346\n",
            "Epoch 48/50\n",
            "1347/1347 [==============================] - 8s 6ms/step - loss: 0.7819 - accuracy: 0.7480 - val_loss: 0.2455 - val_accuracy: 0.9310\n",
            "Epoch 49/50\n",
            "1347/1347 [==============================] - 7s 5ms/step - loss: 0.7828 - accuracy: 0.7494 - val_loss: 0.2162 - val_accuracy: 0.9404\n",
            "Epoch 50/50\n",
            "1347/1347 [==============================] - 7s 5ms/step - loss: 0.7723 - accuracy: 0.7505 - val_loss: 0.2457 - val_accuracy: 0.9311\n"
          ]
        },
        {
          "output_type": "execute_result",
          "data": {
            "text/plain": [
              "<keras.callbacks.History at 0x7f99caa51410>"
            ]
          },
          "metadata": {},
          "execution_count": 15
        }
      ],
      "source": [
        "model.fit(X, Y, batch_size = 64, epochs = 50, validation_split = 0.2) # Parameter optimieren"
      ]
    },
    {
      "cell_type": "markdown",
      "metadata": {
        "id": "IV5Ckw9ld6JM"
      },
      "source": [
        "# Test mit selbstgemaltem Bild\n",
        "Male eine Zahl mit Paint und lade das Bild in das Colab notebook."
      ]
    },
    {
      "cell_type": "code",
      "execution_count": 20,
      "metadata": {
        "id": "ifjD08Wod-Eh",
        "colab": {
          "base_uri": "https://localhost:8080/",
          "height": 283
        },
        "outputId": "9bfc9aee-a412-43a6-c608-f9d0dd3df37d"
      },
      "outputs": [
        {
          "output_type": "execute_result",
          "data": {
            "text/plain": [
              "(28, 28)"
            ]
          },
          "metadata": {},
          "execution_count": 20
        },
        {
          "output_type": "display_data",
          "data": {
            "text/plain": [
              "<Figure size 432x288 with 1 Axes>"
            ],
            "image/png": "[encoded data removed]"
          },
          "metadata": {
            "needs_background": "light"
          }
        }
      ],
      "source": [
        "bild = cv2.imread(\"Untitled.png\", cv2.IMREAD_GRAYSCALE) # bild mit dem Namen untitled.png lesen im graustufen-format\n",
        "bild = cv2.resize(bild, (28,28))\n",
        "bild_0_1 = 1 - bild / 255 # bild zwischen 0 und 1 skalieren\n",
        "plt.imshow(bild_0_1, cmap = \"gray\")\n",
        "bild_0_1.shape"
      ]
    },
    {
      "cell_type": "code",
      "execution_count": 24,
      "metadata": {
        "id": "hKZb7f-FegmO",
        "colab": {
          "base_uri": "https://localhost:8080/"
        },
        "outputId": "4d52bed2-1d87-44d2-a89c-43f544af8d7e"
      },
      "outputs": [
        {
          "output_type": "stream",
          "name": "stdout",
          "text": [
            "Die Entscheidungen sind: tf.Tensor(\n",
            "[8.1200508e-04 1.8397986e-03 9.1780609e-01 7.2406880e-03 4.8931662e-02\n",
            " 6.7243380e-03 6.0521870e-05 1.5893526e-02 9.4558658e-05 5.9682288e-04], shape=(10,), dtype=float32)\n",
            "Das ist die Zahl: 2 mit einer Wahrscheinlichkeit von 0.9178061 %\n"
          ]
        }
      ],
      "source": [
        "bild_batch = np.reshape(bild_0_1,(1,28,28)) # tensorflow braucht ein array von Inputs\n",
        "\n",
        "entscheidungen = model(bild_batch)[0]\n",
        "print(\"Die Entscheidungen sind:\", entscheidungen)\n",
        "print(\"Das ist die Zahl:\", np.argmax(entscheidungen), \"mit einer Wahrscheinlichkeit von\", entscheidungen.numpy()[np.argmax(entscheidungen)], \"%\")"
      ]
    },
    {
      "cell_type": "code",
      "source": [
        "model.save(\"model.h5\") # Netzwerk und Parameter speichern"
      ],
      "metadata": {
        "id": "U9RCAaCTKeCv"
      },
      "execution_count": null,
      "outputs": []
    },
    {
      "cell_type": "code",
      "source": [
        ""
      ],
      "metadata": {
        "id": "X6dDGDQMcrIk"
      },
      "execution_count": null,
      "outputs": []
    },
    {
      "cell_type": "code",
      "source": [
        ""
      ],
      "metadata": {
        "id": "wpm4z1jytD-M"
      },
      "execution_count": null,
      "outputs": []
    },
    {
      "cell_type": "code",
      "source": [
        ""
      ],
      "metadata": {
        "id": "7C1j3wZstThE"
      },
      "execution_count": null,
      "outputs": []
    }
  ]
}