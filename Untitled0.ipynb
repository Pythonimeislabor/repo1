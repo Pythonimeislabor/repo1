{
  "nbformat": 4,
  "nbformat_minor": 0,
  "metadata": {
    "colab": {
      "name": "Untitled0.ipynb",
      "provenance": [],
      "collapsed_sections": [],
      "authorship_tag": "ABX9TyNIWgMaut9AdtXOdl6XPG8h",
      "include_colab_link": true
    },
    "kernelspec": {
      "name": "python3",
      "display_name": "Python 3"
    },
    "language_info": {
      "name": "python"
    }
  },
  "cells": [
    {
      "cell_type": "markdown",
      "metadata": {
        "id": "view-in-github",
        "colab_type": "text"
      },
      "source": [
        "<a href=\"https://colab.research.google.com/github/Pythonimeislabor/repo1/blob/main/Untitled0.ipynb\" target=\"_parent\"><img src=\"https://colab.research.google.com/assets/colab-badge.svg\" alt=\"Open In Colab\"/></a>"
      ]
    },
    {
      "cell_type": "markdown",
      "metadata": {
        "id": "x0nBWsvTT9wH"
      },
      "source": [
        "# Datensatz von kaggle herunterladen"
      ]
    },
    {
      "cell_type": "code",
      "execution_count": 1,
      "metadata": {
        "colab": {
          "base_uri": "https://localhost:8080/"
        },
        "id": "LXsRTyAXThfZ",
        "outputId": "6491446f-766c-4e76-d4f4-f8eff4f43043"
      },
      "outputs": [
        {
          "output_type": "stream",
          "name": "stdout",
          "text": [
            "Writing kaggle.json\n"
          ]
        }
      ],
      "source": [
        "%%writefile kaggle.json\n",
        "{\"username\":\"lutze3\",\"key\":\"c1b954a36f5402b976973271cb154a2f\"}"
      ]
    },
    {
      "cell_type": "code",
      "execution_count": 2,
      "metadata": {
        "id": "a-dfnFyCT8Qh"
      },
      "outputs": [],
      "source": [
        "!mkdir ~/.kaggle\n",
        "!mv kaggle.json ~/.kaggle\n",
        "!kaggle datasets download -d jcprogjava/handwritten-digits-dataset-not-in-mnist\n",
        "!unzip handwritten-digits-dataset-not-in-mnist.zip\n",
        "\n",
        "from IPython.display import clear_output\n",
        "clear_output()"
      ]
    },
    {
      "cell_type": "markdown",
      "metadata": {
        "id": "DGNR29egXEnh"
      },
      "source": [
        "# imports"
      ]
    },
    {
      "cell_type": "code",
      "execution_count": 3,
      "metadata": {
        "id": "NyHIeBq2T8bS"
      },
      "outputs": [],
      "source": [
        "import cv2 # Bildbearbeitung\n",
        "import matplotlib.pyplot as plt # Bilder anzeigen\n",
        "import os # Um Bilder in den Ordnern zu finden\n",
        "import numpy as np # Für Arrays mit denen Tensorflow umgehen kann\n",
        "import tensorflow as tf # für deep-learning / neuronale Netze"
      ]
    },
    {
      "cell_type": "markdown",
      "metadata": {
        "id": "GKEV1go0fEkC"
      },
      "source": [
        "# Trainingsdatensatz generieren\n",
        "Ein neuronales Netz braucht viele Trainingsdaten um Zusammenhänge zu erkennen.<br>\n",
        "Dazu werden 2 Listen erstellt. Liste X enthält alle Bilder, Liste Y die zugehörigen Zahlen"
      ]
    },
    {
      "cell_type": "code",
      "source": [
        "os.listdir(\"dataset\") # os.listdir gibt eine liste mit allen Ordnern und Dateien im angegebenen Verzeichnis zurück"
      ],
      "metadata": {
        "id": "pY_JI8lRoGCG",
        "colab": {
          "base_uri": "https://localhost:8080/"
        },
        "outputId": "2705b877-4ed7-4b17-9702-11bd1d9f0fdd"
      },
      "execution_count": 4,
      "outputs": [
        {
          "output_type": "execute_result",
          "data": {
            "text/plain": [
              "['8', '7', '9', '5', '1', '2', '0', '4', '3', '6']"
            ]
          },
          "metadata": {},
          "execution_count": 4
        }
      ]
    },
    {
      "cell_type": "code",
      "execution_count": 57,
      "metadata": {
        "id": "dttonN4KdDIC",
        "colab": {
          "base_uri": "https://localhost:8080/"
        },
        "outputId": "0290f479-eefd-44b6-ac39-9f1bec6cc181"
      },
      "outputs": [
        {
          "output_type": "stream",
          "name": "stdout",
          "text": [
            "zahl ist 0 - Der Pfad ist dataset/0/0/\n",
            "zahl ist 1 - Der Pfad ist dataset/1/1/\n",
            "zahl ist 2 - Der Pfad ist dataset/2/2/\n",
            "zahl ist 3 - Der Pfad ist dataset/3/3/\n",
            "zahl ist 4 - Der Pfad ist dataset/4/4/\n",
            "zahl ist 5 - Der Pfad ist dataset/5/5/\n",
            "zahl ist 6 - Der Pfad ist dataset/6/6/\n",
            "zahl ist 7 - Der Pfad ist dataset/7/7/\n",
            "zahl ist 8 - Der Pfad ist dataset/8/8/\n",
            "zahl ist 9 - Der Pfad ist dataset/9/9/\n"
          ]
        }
      ],
      "source": [
        "#X = [bild1, bild2, bild3]\n",
        "#Y = [Beschriftung1, Beschriftung2, Beschriftung3]\n",
        "\n",
        "X = []\n",
        "Y = []\n",
        "\n",
        "def lade_bild(pfad): # Bild laden und vorverarbeiten\n",
        "  bild = cv2.imread(pfad, cv2.IMREAD_UNCHANGED) # bild lesen vom rgba-format\n",
        "  bild_in_grau = bild[:,:,3] # Alpha-Wert herausfiltern\n",
        "  bild_0_1 = bild_in_grau / 255 # bild zwischen 0 und 1 skalieren\n",
        "  rauschen = np.random.normal(size=(28,28)) / 20 # Zufallszahlen mit Normalverteilung generieren in der Form 28x28\n",
        "  bild_mit_rauschen = bild_0_1 + rauschen # Elementweise Addition vom Bild und dem Rauschen durchführen\n",
        "  return bild_mit_rauschen # Bild an den Aufruf zurückgeben\n",
        "\n",
        "\n",
        "for zahl in range(10): # Wir haben ordner von 0 bis 9\n",
        "  pfad = \"dataset/\"+str(zahl)+\"/\"+str(zahl) + \"/\" # Pfad zusammenbauen\n",
        "  print(\"zahl ist\", zahl, \"- Der Pfad ist\", pfad)\n",
        "  alle_bilder_namen = os.listdir(pfad) # alle bilder im pfad auflisten\n",
        "  for name in alle_bilder_namen: # alle bilder in dem Ordner durchgehen\n",
        "    pfad_zum_bild = pfad + name \n",
        "    bild = lade_bild(pfad_zum_bild)\n",
        "\n",
        "    X.append(bild) # Das Bild an X anhängen\n",
        "    Y.append(zahl) # Die zugehörige Zahl an Y anhängen"
      ]
    },
    {
      "cell_type": "code",
      "source": [
        "print(\"Es gibt\", len(Y),\"Trainingsbilder\")"
      ],
      "metadata": {
        "id": "dbfx3ak8o2M4",
        "colab": {
          "base_uri": "https://localhost:8080/"
        },
        "outputId": "437e47cd-a82f-4b7d-8083-38f0ad9afed4"
      },
      "execution_count": 6,
      "outputs": [
        {
          "output_type": "stream",
          "name": "stdout",
          "text": [
            "Es gibt 107730 Trainingsbilder\n"
          ]
        }
      ]
    },
    {
      "cell_type": "code",
      "execution_count": 33,
      "metadata": {
        "id": "6kMzl5UQg0KP",
        "colab": {
          "base_uri": "https://localhost:8080/",
          "height": 300
        },
        "outputId": "b86e15e5-b51f-4b6c-9380-439c48e4e4c1"
      },
      "outputs": [
        {
          "output_type": "stream",
          "name": "stdout",
          "text": [
            "Es wird das Bild mit dem index 100000 angezeigt\n",
            "Y ist  6\n"
          ]
        },
        {
          "output_type": "display_data",
          "data": {
            "text/plain": [
              "<Figure size 432x288 with 1 Axes>"
            ],
            "image/png": "[encoded data removed]"
          },
          "metadata": {
            "needs_background": "light"
          }
        }
      ],
      "source": [
        "index = 100000\n",
        "\n",
        "print(\"Es wird das Bild mit dem index\", index, \"angezeigt\")\n",
        "plt.imshow(X[index], cmap = \"gray\"), \n",
        "print(\"Y ist \", Y[index])"
      ]
    },
    {
      "cell_type": "code",
      "source": [
        "def linie_zeichnen(bild):\n",
        "  p1_x = np.random.randint(0,29)\n",
        "  p1_y = np.random.randint(0,29)\n",
        "  p2_x = np.random.randint(0,29)\n",
        "  p2_y = np.random.randint(0,29)\n",
        "  bild_mit_linie = cv2.line(bild.copy(), (p1_x, p1_y), (p2_x, p2_y), (1))\n",
        "  return bild_mit_linie"
      ],
      "metadata": {
        "id": "qg6gT7Qmi2_n"
      },
      "execution_count": 83,
      "outputs": []
    },
    {
      "cell_type": "code",
      "source": [
        "b1 = linie_zeichnen(testbild)\n",
        "b2 = linie_zeichnen(b1)\n",
        "plt.imshow(b2)"
      ],
      "metadata": {
        "colab": {
          "base_uri": "https://localhost:8080/",
          "height": 283
        },
        "id": "biQ_eg9SkZin",
        "outputId": "0c5ffe2e-6991-4141-a823-0f561ac0b218"
      },
      "execution_count": 85,
      "outputs": [
        {
          "output_type": "execute_result",
          "data": {
            "text/plain": [
              "<matplotlib.image.AxesImage at 0x7fc1a03fcfd0>"
            ]
          },
          "metadata": {},
          "execution_count": 85
        },
        {
          "output_type": "display_data",
          "data": {
            "text/plain": [
              "<Figure size 432x288 with 1 Axes>"
            ],
            "image/png": "[encoded data removed]"
          },
          "metadata": {
            "needs_background": "light"
          }
        }
      ]
    },
    {
      "cell_type": "code",
      "source": [
        ""
      ],
      "metadata": {
        "colab": {
          "base_uri": "https://localhost:8080/",
          "height": 283
        },
        "id": "WQffbF2Zj0TV",
        "outputId": "681acb65-9e3f-4103-9218-414ee69d6227"
      },
      "execution_count": 73,
      "outputs": [
        {
          "output_type": "execute_result",
          "data": {
            "text/plain": [
              "<matplotlib.image.AxesImage at 0x7fc1a07d1a90>"
            ]
          },
          "metadata": {},
          "execution_count": 73
        },
        {
          "output_type": "display_data",
          "data": {
            "text/plain": [
              "<Figure size 432x288 with 1 Axes>"
            ],
            "image/png": "[encoded data removed]"
          },
          "metadata": {
            "needs_background": "light"
          }
        }
      ]
    },
    {
      "cell_type": "code",
      "execution_count": 8,
      "metadata": {
        "id": "0xNT0n6i01X8"
      },
      "outputs": [],
      "source": [
        "# listen in numpy arrays umwandeln\n",
        "Y = np.array(Y) # numpy arrays sind für viele Elemente eine bessere Speichermethode\n",
        "X = np.array(X) # tensorflow benötigt numpy arrays und kann nicht mit listen arbeiten"
      ]
    },
    {
      "cell_type": "markdown",
      "source": [
        "für das Training werden die Trainingsdaten in Trainingsdaten und Validierungsdaten aufgeteilt. Das neuronale Netz wird auf 80% der Daten trainiert und auf die anderen 20% getestet. Wenn es auf den anderen 20% gut ist, hat das neuronale Netz das Konzept von den Bildern verstanden. wenn es nur auf den Trainingsdaten gut ist und die Testdaten nicht klassifizieren kann, hat es nicht gut gelernt. <br>Tensorflow nimmt immer die letzten x% im Datensatz als Validierungsdaten. In diesem Fall sind die letzten 20% alle Bilder der 8 und der 9. Es würde also von 0 - 7 alles lernen und auf 8 und 9 getestet werden. Das kann so nicht funktionieren, denn wenn das Netzwerk nie eine 8 oder 9 in den Trainingsdaten gesehen hat wird es lernen dass es solche Zahlen nicht gibt. Also müssen die Trainingsdaten gemischt werden um zufällige Zahlen als Validierungsdaten zu erhalten"
      ],
      "metadata": {
        "id": "aXOjWn5HpX-p"
      }
    },
    {
      "cell_type": "code",
      "source": [
        "# X und Y gleichmäßig mischen\n",
        "# X und Y werden so gemischt, dass Y[index] die Zahl enthält die in X[index] gespeichert ist\n",
        "p = np.random.permutation(Y.shape[0]) \n",
        "X = X[p]\n",
        "Y = Y[p] "
      ],
      "metadata": {
        "id": "ZQANFYQ5pUyK"
      },
      "execution_count": 9,
      "outputs": []
    },
    {
      "cell_type": "markdown",
      "source": [
        "# Zufallsveränderungen auf jedes Bild vor dem Training anwenden um allgemeine Lösungen zu finden"
      ],
      "metadata": {
        "id": "cJ7q7wf5wu2g"
      }
    },
    {
      "cell_type": "code",
      "source": [
        "random_gedreht = tf.keras.layers.RandomRotation((-0.1, 0.1))(X[0].reshape(1,28,28,1), training=True)\n",
        "random_verschieben = tf.keras.layers.RandomTranslation((-0.2,0.2), (-0.2,0.2)) (random_gedreht, training=True)\n",
        "random_Zoom = tf.keras.layers.RandomZoom((-0.2,0.3), (-0.2,0.3)) (random_verschieben, training=True)\n",
        "\n",
        "plt.imshow(random_Zoom.numpy()[0].reshape(28,28))"
      ],
      "metadata": {
        "colab": {
          "base_uri": "https://localhost:8080/",
          "height": 283
        },
        "id": "BMx7YBADwtxe",
        "outputId": "73405094-9d93-4de5-e016-288d0c147c13"
      },
      "execution_count": 40,
      "outputs": [
        {
          "output_type": "execute_result",
          "data": {
            "text/plain": [
              "<matplotlib.image.AxesImage at 0x7fc1a3334650>"
            ]
          },
          "metadata": {},
          "execution_count": 40
        },
        {
          "output_type": "display_data",
          "data": {
            "text/plain": [
              "<Figure size 432x288 with 1 Axes>"
            ],
            "image/png": "[encoded data removed]"
          },
          "metadata": {
            "needs_background": "light"
          }
        }
      ]
    },
    {
      "cell_type": "markdown",
      "metadata": {
        "id": "tspW2wbat0GX"
      },
      "source": [
        "# Neuronales Netzwerk bauen und trainieren"
      ]
    },
    {
      "cell_type": "code",
      "execution_count": null,
      "metadata": {
        "id": "yfSDw5Gat2rk",
        "colab": {
          "base_uri": "https://localhost:8080/"
        },
        "outputId": "54fb9b1b-5f40-4625-822c-e8e878d7a940"
      },
      "outputs": [
        {
          "output_type": "stream",
          "name": "stdout",
          "text": [
            "\n",
            "Model: \"model_6\"\n",
            "_________________________________________________________________\n",
            " Layer (type)                Output Shape              Param #   \n",
            "=================================================================\n",
            " input_7 (InputLayer)        [(None, 28, 28)]          0         \n",
            "                                                                 \n",
            " reshape_5 (Reshape)         (None, 28, 28, 1)         0         \n",
            "                                                                 \n",
            " random_rotation_45 (RandomR  (None, 28, 28, 1)        0         \n",
            " otation)                                                        \n",
            "                                                                 \n",
            " random_translation_19 (Rand  (None, 28, 28, 1)        0         \n",
            " omTranslation)                                                  \n",
            "                                                                 \n",
            " random_zoom_14 (RandomZoom)  (None, 28, 28, 1)        0         \n",
            "                                                                 \n",
            " conv2d_7 (Conv2D)           (None, 26, 26, 16)        160       \n",
            "                                                                 \n",
            " max_pooling2d_5 (MaxPooling  (None, 13, 13, 16)       0         \n",
            " 2D)                                                             \n",
            "                                                                 \n",
            " conv2d_8 (Conv2D)           (None, 11, 11, 16)        2320      \n",
            "                                                                 \n",
            " max_pooling2d_6 (MaxPooling  (None, 5, 5, 16)         0         \n",
            " 2D)                                                             \n",
            "                                                                 \n",
            " flatten_6 (Flatten)         (None, 400)               0         \n",
            "                                                                 \n",
            " dense_18 (Dense)            (None, 64)                25664     \n",
            "                                                                 \n",
            " dropout_12 (Dropout)        (None, 64)                0         \n",
            "                                                                 \n",
            " dense_19 (Dense)            (None, 16)                1040      \n",
            "                                                                 \n",
            " dropout_13 (Dropout)        (None, 16)                0         \n",
            "                                                                 \n",
            " dense_20 (Dense)            (None, 10)                170       \n",
            "                                                                 \n",
            "=================================================================\n",
            "Total params: 29,354\n",
            "Trainable params: 29,354\n",
            "Non-trainable params: 0\n",
            "_________________________________________________________________\n"
          ]
        }
      ],
      "source": [
        "inputlayer = tf.keras.layers.Input(shape=(28,28)) # unser Bild hat die Form [Höhe, Breite]\n",
        "\n",
        "bild_3_d = tf.keras.layers.Reshape((28,28,1)) (inputlayer)\n",
        "\n",
        "random_gedreht = tf.keras.layers.RandomRotation((-0.1, 0.1))(bild_3_d)\n",
        "random_verschieben = tf.keras.layers.RandomTranslation((-0.3,0.3), (-0.3,0.3)) (random_gedreht)\n",
        "random_Zoom = tf.keras.layers.RandomZoom((-0.2,0.3), (-0.2,0.3)) (random_verschieben)\n",
        "\n",
        "filter_1 = tf.keras.layers.Conv2D(16,3, activation=\"relu\") (random_Zoom)\n",
        "drop1 = tf.keras.layers.Dropout(0.3)(filter_1)\n",
        "maxpoollayer1 = tf.keras.layers.MaxPooling2D() (drop1)\n",
        "\n",
        "\n",
        "filter_2 = tf.keras.layers.Conv2D(16,3, activation=\"relu\") (maxpoollayer1)\n",
        "drop2 = tf.keras.layers.Dropout(0.3)(filter_2)\n",
        "maxpoollayer2 = tf.keras.layers.MaxPooling2D() (drop2)\n",
        "\n",
        "\n",
        "platt = tf.keras.layers.Flatten()(maxpoollayer2)\n",
        "\n",
        "x = tf.keras.layers.Dense(64,activation=\"relu\")(platt)\n",
        "x = tf.keras.layers.Dropout(0.3)(x)\n",
        "x = tf.keras.layers.Dense(16,activation=\"relu\")(x)\n",
        "x = tf.keras.layers.Dropout(0.3)(x)\n",
        "output = tf.keras.layers.Dense(10,activation=\"softmax\")(x)\n",
        "\n",
        "model = tf.keras.Model(inputlayer, output)\n",
        "print(\"\")\n",
        "model.summary()"
      ]
    },
    {
      "cell_type": "code",
      "execution_count": null,
      "metadata": {
        "id": "V44YHlbXvwZP"
      },
      "outputs": [],
      "source": [
        "fehlerfunktion = tf.keras.losses.SparseCategoricalCrossentropy()\n",
        "optimierer = tf.keras.optimizers.SGD(0.001, momentum = 0.95)\n",
        "model.compile(optimierer, fehlerfunktion, metrics=\"accuracy\")"
      ]
    },
    {
      "cell_type": "code",
      "execution_count": null,
      "metadata": {
        "id": "6S2tL87avxb-",
        "colab": {
          "base_uri": "https://localhost:8080/"
        },
        "outputId": "7a5a9d9e-767b-4e3f-adb8-7f65ffc90b79"
      },
      "outputs": [
        {
          "output_type": "stream",
          "name": "stdout",
          "text": [
            "Epoch 1/10\n",
            "1347/1347 [==============================] - 48s 34ms/step - loss: 2.2664 - accuracy: 0.1486 - val_loss: 2.0506 - val_accuracy: 0.2367\n",
            "Epoch 2/10\n",
            "1347/1347 [==============================] - 46s 34ms/step - loss: 1.8922 - accuracy: 0.3090 - val_loss: 1.0052 - val_accuracy: 0.6264\n",
            "Epoch 3/10\n",
            "1347/1347 [==============================] - 46s 34ms/step - loss: 1.3412 - accuracy: 0.5059 - val_loss: 0.3412 - val_accuracy: 0.8818\n",
            "Epoch 4/10\n",
            "1347/1347 [==============================] - 46s 34ms/step - loss: 1.0210 - accuracy: 0.6279 - val_loss: 0.2230 - val_accuracy: 0.9069\n",
            "Epoch 5/10\n",
            "1347/1347 [==============================] - 46s 34ms/step - loss: 0.8321 - accuracy: 0.7020 - val_loss: 0.2250 - val_accuracy: 0.9102\n",
            "Epoch 6/10\n",
            "1347/1347 [==============================] - 45s 34ms/step - loss: 0.7102 - accuracy: 0.7534 - val_loss: 0.0532 - val_accuracy: 0.9867\n",
            "Epoch 7/10\n",
            "1347/1347 [==============================] - 45s 34ms/step - loss: 0.6061 - accuracy: 0.7919 - val_loss: 0.0363 - val_accuracy: 0.9916\n",
            "Epoch 8/10\n",
            "1347/1347 [==============================] - 45s 34ms/step - loss: 0.5523 - accuracy: 0.8118 - val_loss: 0.0196 - val_accuracy: 0.9971\n",
            "Epoch 9/10\n",
            "1347/1347 [==============================] - 46s 34ms/step - loss: 0.4940 - accuracy: 0.8347 - val_loss: 0.0144 - val_accuracy: 0.9978\n",
            "Epoch 10/10\n",
            "1347/1347 [==============================] - 45s 34ms/step - loss: 0.4541 - accuracy: 0.8483 - val_loss: 0.0104 - val_accuracy: 0.9981\n"
          ]
        },
        {
          "output_type": "execute_result",
          "data": {
            "text/plain": [
              "<keras.callbacks.History at 0x7f4eb1dd1190>"
            ]
          },
          "metadata": {},
          "execution_count": 84
        }
      ],
      "source": [
        "model.fit(X, Y, batch_size = 64, epochs = 10, validation_split = 0.2) # Parameter optimieren"
      ]
    },
    {
      "cell_type": "markdown",
      "metadata": {
        "id": "IV5Ckw9ld6JM"
      },
      "source": [
        "# Test mit selbstgemaltem Bild\n",
        "Male eine Zahl mit Paint und lade das Bild in das Colab notebook."
      ]
    },
    {
      "cell_type": "code",
      "execution_count": null,
      "metadata": {
        "id": "ifjD08Wod-Eh",
        "colab": {
          "base_uri": "https://localhost:8080/",
          "height": 283
        },
        "outputId": "0eeb3059-1fa3-48e0-963a-cd6ba392b09e"
      },
      "outputs": [
        {
          "output_type": "execute_result",
          "data": {
            "text/plain": [
              "(28, 28)"
            ]
          },
          "metadata": {},
          "execution_count": 85
        },
        {
          "output_type": "display_data",
          "data": {
            "text/plain": [
              "<Figure size 432x288 with 1 Axes>"
            ],
            "image/png": "[encoded data removed]"
          },
          "metadata": {
            "needs_background": "light"
          }
        }
      ],
      "source": [
        "bild = cv2.imread(\"Untitled.png\", cv2.IMREAD_GRAYSCALE) # bild mit dem Namen untitled.png lesen im graustufen-format\n",
        "bild = cv2.resize(bild, (28,28))\n",
        "bild_0_1 = 1 - bild / 255 # bild zwischen 0 und 1 skalieren\n",
        "plt.imshow(bild_0_1, cmap = \"gray\")\n",
        "bild_0_1.shape"
      ]
    },
    {
      "cell_type": "code",
      "execution_count": null,
      "metadata": {
        "id": "hKZb7f-FegmO",
        "colab": {
          "base_uri": "https://localhost:8080/"
        },
        "outputId": "860a6591-abbb-4279-e876-224c1daa30a0"
      },
      "outputs": [
        {
          "output_type": "stream",
          "name": "stdout",
          "text": [
            "Die Entscheidungen sind: tf.Tensor(\n",
            "[[1.3818390e-06 1.6409464e-03 6.9319196e-02 1.8468123e-02 4.1947034e-03\n",
            "  1.7648928e-06 1.1841603e-07 9.0197378e-01 1.2475853e-06 4.3986030e-03]], shape=(1, 10), dtype=float32)\n",
            "Das ist die Zahl: 7\n"
          ]
        }
      ],
      "source": [
        "bild_batch = np.reshape(bild_0_1,(1,28,28)) # tensorflow braucht ein array von Inputs\n",
        "\n",
        "entscheidungen = model(bild_batch)\n",
        "print(\"Die Entscheidungen sind:\", entscheidungen)\n",
        "print(\"Das ist die Zahl:\", np.argmax(entscheidungen))"
      ]
    },
    {
      "cell_type": "code",
      "source": [
        "model.save(\"model.h5\") # Netzwerk und Parameter speichern"
      ],
      "metadata": {
        "id": "U9RCAaCTKeCv"
      },
      "execution_count": null,
      "outputs": []
    },
    {
      "cell_type": "code",
      "source": [
        ""
      ],
      "metadata": {
        "id": "X6dDGDQMcrIk"
      },
      "execution_count": null,
      "outputs": []
    },
    {
      "cell_type": "code",
      "source": [
        ""
      ],
      "metadata": {
        "id": "wpm4z1jytD-M"
      },
      "execution_count": null,
      "outputs": []
    },
    {
      "cell_type": "code",
      "source": [
        ""
      ],
      "metadata": {
        "id": "7C1j3wZstThE"
      },
      "execution_count": null,
      "outputs": []
    }
  ]
}