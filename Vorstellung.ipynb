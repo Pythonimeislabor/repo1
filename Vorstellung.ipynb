{
  "nbformat": 4,
  "nbformat_minor": 0,
  "metadata": {
    "colab": {
      "name": "Vorstellung.ipynb",
      "provenance": [],
      "collapsed_sections": [
        "cmhFNtIFrUG_",
        "F31nfz20qlAw",
        "WEaksLnK4eIv",
        "aGi-AZsu-bKK"
      ],
      "authorship_tag": "ABX9TyNQ9ciI3E2el+4b5unWtkht",
      "include_colab_link": true
    },
    "kernelspec": {
      "name": "python3",
      "display_name": "Python 3"
    },
    "language_info": {
      "name": "python"
    }
  },
  "cells": [
    {
      "cell_type": "markdown",
      "metadata": {
        "id": "view-in-github",
        "colab_type": "text"
      },
      "source": [
        "<a href=\"https://colab.research.google.com/github/Pythonimeislabor/repo1/blob/main/Vorstellung.ipynb\" target=\"_parent\"><img src=\"https://colab.research.google.com/assets/colab-badge.svg\" alt=\"Open In Colab\"/></a>"
      ]
    },
    {
      "cell_type": "markdown",
      "source": [
        "# Python-Projekt 2022\n",
        "\n"
      ],
      "metadata": {
        "id": "cmhFNtIFrUG_"
      }
    },
    {
      "cell_type": "markdown",
      "source": [
        "\n",
        "*  Python lernen\n",
        "*  Raspberry Pi kennenlernen\n",
        "*  Grundlagen von künstlicher Intelligenz entdecken"
      ],
      "metadata": {
        "id": "IrX_ktjY17kY"
      }
    },
    {
      "cell_type": "markdown",
      "source": [
        "# Was ist Python?\n",
        "\n",
        "\n"
      ],
      "metadata": {
        "id": "g6xwexO1vVbO"
      }
    },
    {
      "cell_type": "markdown",
      "source": [
        "\"Python is a programming language that lets you work quickly\n",
        "and integrate systems more effectively.\"<br> ([Python.org](https://python.org))"
      ],
      "metadata": {
        "id": "Y7VzEkIW1-0-"
      }
    },
    {
      "cell_type": "markdown",
      "source": [
        "<h4>Vorteile von Python:</h4>\n",
        "\n",
        "*  einfache Syntax\n",
        "*  angenehmes Schreiben\n",
        "*  übersichtlicher Code\n",
        "*  Python Package Index (PyPI) - große Sammlung von Erweiterungen \n",
        "*  vielseitig einsetzbar\n",
        "*  hält immer Überraschungen bereit\n",
        "*  viele vorgefertigte Funktionen in der Standard-Bibliothek oder von PyPI"
      ],
      "metadata": {
        "id": "G7h5_CHu0LLO"
      }
    },
    {
      "cell_type": "code",
      "source": [
        "#include <iostream>\n",
        "for (int i=0;i<10;i++){\n",
        "    std::cout<<i<<std::endl;\n",
        "}\n",
        "\n",
        "for i in range(10):\n",
        "  print(i)"
      ],
      "metadata": {
        "id": "aujZ9Pa8qpNq"
      },
      "execution_count": null,
      "outputs": []
    },
    {
      "cell_type": "code",
      "source": [
        "import this"
      ],
      "metadata": {
        "id": "xMX7rMBm0Flo"
      },
      "execution_count": null,
      "outputs": []
    },
    {
      "cell_type": "markdown",
      "source": [
        "# Was ist Colab?\n"
      ],
      "metadata": {
        "id": "F31nfz20qlAw"
      }
    },
    {
      "cell_type": "markdown",
      "source": [
        "\n",
        "Mit Colab oder „Colaboratory“ können Sie Python-Code in Ihrem Browser schreiben und ausführen. Sie können Folgendes tun: \n",
        "- Keine Konfiguration erforderlich\n",
        "- Kostenlosen Zugriff auf GPUs\n",
        "- Einfache Freigabe\n",
        "\n",
        "Egal, ob Sie <strong>Student</strong>, <strong>Data Scientist</strong> oder <strong>AI-Forscher</strong> sind – Colab erleichtert Ihnen die Arbeit. Im Video <a href=\"https://www.youtube.com/watch?v=inN8seMm7UI\">Einführung in Colab</a> erhalten Sie weitere Informationen, Sie können aber auch gleich hier loslegen.<br><br>\n",
        "(https://colab.research.google.com/notebooks/intro.ipynb)"
      ],
      "metadata": {
        "id": "ml-QYHY13vaG"
      }
    },
    {
      "cell_type": "code",
      "execution_count": null,
      "metadata": {
        "colab": {
          "base_uri": "https://localhost:8080/"
        },
        "id": "f4Go7AeEpNCF",
        "outputId": "891248b9-7b27-48fd-bec6-109aaa1ed4a5"
      },
      "outputs": [
        {
          "output_type": "stream",
          "name": "stdout",
          "text": [
            "Dieser Code läuft auf colab!\n"
          ]
        }
      ],
      "source": [
        "print(\"Dieser Code läuft auf colab!\")"
      ]
    },
    {
      "cell_type": "markdown",
      "source": [
        "# Der Raspberry Pi"
      ],
      "metadata": {
        "id": "WEaksLnK4eIv"
      }
    },
    {
      "cell_type": "markdown",
      "source": [
        "*  Wortspiel \"raspberry pie\" = \"Himbeertörtchen\"<br>\n",
        "*  Pi: Python interpreter\n",
        "*  Vollständiger Computer mit eigenem Betriebssystem\n",
        "\n",
        "<img src=\"https://www.ibaivalencia.com/wp-content/uploads/2014/07/raspberry_pi_Pi_iso_ORIG_01.jpg\" height=400px></img>"
      ],
      "metadata": {
        "id": "5loCqS_J44nA"
      }
    },
    {
      "cell_type": "markdown",
      "source": [
        "# Herangehensweise"
      ],
      "metadata": {
        "id": "aGi-AZsu-bKK"
      }
    },
    {
      "cell_type": "markdown",
      "source": [
        "**Meine Ideen:**\n",
        "\n",
        "1.   Programmieren geht nur aus eigener Motivation -> Schüler müssen Freude am Programmieren entwickeln\n",
        "\n",
        "  **Motivation erzeugen und erhalten:**\n",
        "\n",
        "  *   Wettbewerbe nutzen\n",
        "  *   Arbeit in 2er Gruppen\n",
        "  *   Inspiration durch Youtube ([Empfehlungen](https://colab.research.google.com/github/Pythonimeislabor/repo1/blob/main/unser_erstes_notebook.ipynb#scrollTo=F8DPa2TEn02P))\n",
        "  *   keine komplizierten (ma­the­ma­tischen) Erklärungen\n",
        "\n",
        "2.  Nicht auswendig lernen\n",
        "\n",
        "  *   Befehle und Syntax gibt es ausreichend im Internet\n",
        "  *   Algorithmisches Denken muss erzeugt werden\n",
        "\n",
        "3. Durch Übung und Anwendung merkt man sich häufig genutzte Programmstrukturen und lernt wie man Probleme löst\n",
        "\n",
        "\n",
        "4. Schüler sollen nicht abschreiben während ich erkläre\n",
        "  *   Ich schreibe / erkläre - Schüler richten Aufmerksamkeit auf mich\n",
        "  *   Ich halte die erarbeiteten Notebooks auf github aktuell\n",
        "  *   Nach meiner Erklärung kopieren sich die Schüler die erarbeiteten Code-Ausschnitte und testen sie in ihren Notebooks aus, versuchen sie zu verstehen und für sich anzupassen\n",
        "\n",
        "5. Grafische Erklärungen und Veranschaulichungen nutzen\n",
        "  *   Bsp: [Mathe-Übungen](https://github.com/Pythonimeislabor/repo1/blob/main/Mathe_%C3%BCbungen.ipynb)\n",
        "\n",
        "\n"
      ],
      "metadata": {
        "id": "DRfex3YTAXqB"
      }
    },
    {
      "cell_type": "markdown",
      "source": [
        "# Zeiteinteilung"
      ],
      "metadata": {
        "id": "EJEHNreq8_WX"
      }
    },
    {
      "cell_type": "markdown",
      "source": [
        "**Woche 1**\n",
        "\n",
        "*   Colab kennenlernen\n",
        "*   Grundlagen von Python lernen\n",
        "*   Übungen machen\n",
        "\n",
        "**Woche 2**\n",
        "\n",
        "*   Informatik auf youtube vorgestellt\n",
        "*   Einfache Simulation der Entwicklung von Lebewesen in einem virtuellen Lebensraum erstellt\n",
        "*   weitere Übungen\n",
        "\n",
        "**Woche 3**\n",
        "\n",
        "*   Raspberry pi eingerichtet\n",
        "*   servo / kamera mit Python steuern\n",
        "*   Grundlagen von neuronalen Netzen gelernt\n",
        "*   unsere erste einfache künstliche Intelligenz gebaut\n",
        "\n",
        "**Woche 4**\n",
        "\n",
        "*   Programmierübungen zur Wiederholung\n",
        "*   Kamera auf remote-desktop live anzeigen\n",
        "*   unsere erste künstliche Intelligenz verbessert\n",
        "\n",
        "**Woche 5**\n",
        "\n",
        "*   Programmierübungen zur Wiederholung\n",
        "*   \"magische Box\" bauen \n",
        "*   das Wissen der letzten Wochen anwenden\n",
        "\n",
        "\n",
        "\n"
      ],
      "metadata": {
        "id": "24vRAblo9HLv"
      }
    },
    {
      "cell_type": "markdown",
      "source": [
        "#  Bewertung\n"
      ],
      "metadata": {
        "id": "H4T1gng5w1CS"
      }
    },
    {
      "cell_type": "markdown",
      "source": [
        "\n",
        "*  \"ganz interessant aber nicht für jeden verständlich\"\n",
        "*  \"gute Erklärungen bei Nachfragen\"\n",
        "*  Python Grundlagen = schwieriger Start, hat aber Spaß gemacht\n",
        "*  Hardwaresteuerung interessanter\n",
        "*  \"gute Arbeitsvorbereitung\" (zb. Erklärvideos vorhanden)"
      ],
      "metadata": {
        "id": "mw0lfh3XlO2o"
      }
    },
    {
      "cell_type": "code",
      "source": [
        ""
      ],
      "metadata": {
        "id": "mnPbym__6b_p"
      },
      "execution_count": null,
      "outputs": []
    }
  ]
}