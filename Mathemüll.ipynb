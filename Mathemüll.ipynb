{
  "nbformat": 4,
  "nbformat_minor": 0,
  "metadata": {
    "colab": {
      "name": "Mathemüll.ipynb",
      "provenance": [],
      "authorship_tag": "ABX9TyNeo1J9P9bQso5eoFMPBVdp",
      "include_colab_link": true
    },
    "kernelspec": {
      "name": "python3",
      "display_name": "Python 3"
    },
    "language_info": {
      "name": "python"
    }
  },
  "cells": [
    {
      "cell_type": "markdown",
      "metadata": {
        "id": "view-in-github",
        "colab_type": "text"
      },
      "source": [
        "<a href=\"https://colab.research.google.com/github/Pythonimeislabor/repo1/blob/main/Mathem%C3%BCll.ipynb\" target=\"_parent\"><img src=\"https://colab.research.google.com/assets/colab-badge.svg\" alt=\"Open In Colab\"/></a>"
      ]
    },
    {
      "cell_type": "markdown",
      "source": [
        "# Anstieg einer Funktion an Stelle x finden"
      ],
      "metadata": {
        "id": "WHE4-FHnYk0V"
      }
    },
    {
      "cell_type": "markdown",
      "source": [
        "1. Funktion definieren"
      ],
      "metadata": {
        "id": "kIzGbGjIY2BE"
      }
    },
    {
      "cell_type": "code",
      "execution_count": 2,
      "metadata": {
        "id": "LJuSkgXPVFZ3"
      },
      "outputs": [],
      "source": [
        "def f(x): # Funktion definieren\n",
        "  return x**2 # y = x^2"
      ]
    },
    {
      "cell_type": "code",
      "source": [
        "y = f(0.5)\n",
        "print(\"f(0.5) ist\", y)"
      ],
      "metadata": {
        "colab": {
          "base_uri": "https://localhost:8080/"
        },
        "id": "JBGFjAZDY6mj",
        "outputId": "a16aa043-ee44-4640-aafe-b0c11eef4e03"
      },
      "execution_count": 6,
      "outputs": [
        {
          "output_type": "stream",
          "name": "stdout",
          "text": [
            "f(0.5) ist 0.25\n"
          ]
        }
      ]
    },
    {
      "cell_type": "markdown",
      "source": [
        "2. Differenzenquotient bestimmen"
      ],
      "metadata": {
        "id": "UwkghUwdaMxW"
      }
    },
    {
      "cell_type": "code",
      "source": [
        "x = 0.5\n",
        "x1 = x+0.1\n",
        "x0 = x-0.1\n",
        "\n",
        "y1 = f(x1)\n",
        "y0 = f(x0)\n",
        "\n",
        "print(\"x ist\", x0, \"und\", x1)\n",
        "print(\"y ist\", y0, \"und\", y1)\n",
        "\n",
        "dy = y1 - y0\n",
        "dx = x1 - x0\n",
        "anstieg = dy/dx\n",
        "print(\"Anstieg ist\", anstieg)"
      ],
      "metadata": {
        "colab": {
          "base_uri": "https://localhost:8080/"
        },
        "id": "AC3jimUoaWy3",
        "outputId": "c6ff2b0b-6e5f-4bd9-b4b7-a2c4eab3192b"
      },
      "execution_count": 12,
      "outputs": [
        {
          "output_type": "stream",
          "name": "stdout",
          "text": [
            "x ist 0.4 und 0.6\n",
            "y ist 0.16000000000000003 und 0.36\n",
            "Anstieg ist 1.0\n"
          ]
        }
      ]
    }
  ]
}