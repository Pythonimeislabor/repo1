{
  "nbformat": 4,
  "nbformat_minor": 0,
  "metadata": {
    "colab": {
      "name": "unser erstes notebook",
      "provenance": []
    },
    "kernelspec": {
      "name": "python3",
      "display_name": "Python 3"
    },
    "language_info": {
      "name": "python"
    }
  },
  "cells": [
    {
      "cell_type": "markdown",
      "source": [
        "# Die print-funktion\n",
        "print ( objekt )"
      ],
      "metadata": {
        "id": "Ms290k0GKL3c"
      }
    },
    {
      "cell_type": "code",
      "execution_count": 1,
      "metadata": {
        "colab": {
          "base_uri": "https://localhost:8080/"
        },
        "id": "_Yjz27KKKFP-",
        "outputId": "58e9bd63-a401-48fa-f22b-883241de5ad5"
      },
      "outputs": [
        {
          "output_type": "stream",
          "name": "stdout",
          "text": [
            "123\n",
            "123\n",
            "1 2 3\n",
            "<built-in function print>\n"
          ]
        }
      ],
      "source": [
        "print(\"123\") # Das Objekt ist \"123\"\n",
        "print(123) # Das Objekt ist 123\n",
        "print(1,2,3) \n",
        "print(print) # Das Objekt ist die print-funktion"
      ]
    },
    {
      "cell_type": "markdown",
      "source": [
        "# Datentypen und type()"
      ],
      "metadata": {
        "id": "myffnak9KPVE"
      }
    },
    {
      "cell_type": "code",
      "source": [
        "print(type(123)) # wird ausgegeben wegen print\n",
        "type(\"123\") # wird nicht ausgegeben weil kein print und nicht letzter Befehl in der Codezeile\n",
        "type(1.5)  # wird ausgegeben weil letzter Befehl"
      ],
      "metadata": {
        "colab": {
          "base_uri": "https://localhost:8080/"
        },
        "id": "SI3efJkbKNyO",
        "outputId": "9dc08db0-d195-4b04-de97-d81201ec9ba4"
      },
      "execution_count": 2,
      "outputs": [
        {
          "output_type": "stream",
          "name": "stdout",
          "text": [
            "<class 'int'>\n"
          ]
        },
        {
          "output_type": "execute_result",
          "data": {
            "text/plain": [
              "float"
            ]
          },
          "metadata": {},
          "execution_count": 2
        }
      ]
    },
    {
      "cell_type": "code",
      "source": [
        "a = \"123\"\n",
        "print(a)\n",
        "type(a)"
      ],
      "metadata": {
        "colab": {
          "base_uri": "https://localhost:8080/"
        },
        "id": "yFDunQQUKQ5A",
        "outputId": "eadc7da2-ace5-4395-e391-5f3d409da3db"
      },
      "execution_count": 5,
      "outputs": [
        {
          "output_type": "stream",
          "name": "stdout",
          "text": [
            "123\n"
          ]
        },
        {
          "output_type": "execute_result",
          "data": {
            "text/plain": [
              "str"
            ]
          },
          "metadata": {},
          "execution_count": 5
        }
      ]
    },
    {
      "cell_type": "code",
      "source": [
        "b = 3.3\n",
        "print(b)\n",
        "type(b)"
      ],
      "metadata": {
        "colab": {
          "base_uri": "https://localhost:8080/"
        },
        "id": "8ZcAPzVzKY1W",
        "outputId": "5cb5df0d-46dc-4861-8a96-1c6030fc6b34"
      },
      "execution_count": 6,
      "outputs": [
        {
          "output_type": "stream",
          "name": "stdout",
          "text": [
            "3.3\n"
          ]
        },
        {
          "output_type": "execute_result",
          "data": {
            "text/plain": [
              "float"
            ]
          },
          "metadata": {},
          "execution_count": 6
        }
      ]
    },
    {
      "cell_type": "code",
      "source": [
        "print(a, b)"
      ],
      "metadata": {
        "colab": {
          "base_uri": "https://localhost:8080/"
        },
        "id": "d1MZJyeCKZuH",
        "outputId": "29e1d165-bc81-407d-94f2-07371c97fc1a"
      },
      "execution_count": 7,
      "outputs": [
        {
          "output_type": "stream",
          "name": "stdout",
          "text": [
            "123 3.3\n"
          ]
        }
      ]
    },
    {
      "cell_type": "markdown",
      "source": [
        "Umwandlung von Datentypen:<br>\n",
        "str() macht int / float zu string<br>\n",
        "int() macht string / floats zu int<br>\n",
        "float() macht string / ints zu float"
      ],
      "metadata": {
        "id": "Wn0pKyIhKkZ8"
      }
    },
    {
      "cell_type": "code",
      "source": [
        "str(12), int(\"123\"), float(\"3.3\"), int(3.3)"
      ],
      "metadata": {
        "id": "hYmW17vuKbTs"
      },
      "execution_count": null,
      "outputs": []
    },
    {
      "cell_type": "markdown",
      "source": [
        "# Fehler"
      ],
      "metadata": {
        "id": "hgVXhIi7Kq99"
      }
    },
    {
      "cell_type": "code",
      "source": [
        "print(\"123\")\n",
        "prin(\"123\") # prin wurde nicht richtig geschrieben"
      ],
      "metadata": {
        "colab": {
          "base_uri": "https://localhost:8080/",
          "height": 201
        },
        "id": "uiNePxS5Kr5i",
        "outputId": "d7f7b324-64b2-4bd2-9153-e42899af2367"
      },
      "execution_count": 8,
      "outputs": [
        {
          "output_type": "stream",
          "name": "stdout",
          "text": [
            "123\n"
          ]
        },
        {
          "output_type": "error",
          "ename": "NameError",
          "evalue": "ignored",
          "traceback": [
            "\u001b[0;31m---------------------------------------------------------------------------\u001b[0m",
            "\u001b[0;31mNameError\u001b[0m                                 Traceback (most recent call last)",
            "\u001b[0;32m<ipython-input-8-54f846bc2068>\u001b[0m in \u001b[0;36m<module>\u001b[0;34m()\u001b[0m\n\u001b[1;32m      1\u001b[0m \u001b[0mprint\u001b[0m\u001b[0;34m(\u001b[0m\u001b[0;34m\"123\"\u001b[0m\u001b[0;34m)\u001b[0m\u001b[0;34m\u001b[0m\u001b[0;34m\u001b[0m\u001b[0m\n\u001b[0;32m----> 2\u001b[0;31m \u001b[0mprin\u001b[0m\u001b[0;34m(\u001b[0m\u001b[0;34m\"123\"\u001b[0m\u001b[0;34m)\u001b[0m \u001b[0;31m# prin wurde nicht richtig geschrieben\u001b[0m\u001b[0;34m\u001b[0m\u001b[0;34m\u001b[0m\u001b[0m\n\u001b[0m",
            "\u001b[0;31mNameError\u001b[0m: name 'prin' is not defined"
          ]
        }
      ]
    },
    {
      "cell_type": "code",
      "source": [
        "print(\"123\")) # eine ) zu viel"
      ],
      "metadata": {
        "colab": {
          "base_uri": "https://localhost:8080/",
          "height": 131
        },
        "id": "s_lL9QEPKsFk",
        "outputId": "03a02d01-aa6d-4c07-d5aa-0b61ff47454c"
      },
      "execution_count": 9,
      "outputs": [
        {
          "output_type": "error",
          "ename": "SyntaxError",
          "evalue": "ignored",
          "traceback": [
            "\u001b[0;36m  File \u001b[0;32m\"<ipython-input-9-b098ed69f9c2>\"\u001b[0;36m, line \u001b[0;32m1\u001b[0m\n\u001b[0;31m    print(\"123\")) # eine ) zu viel\u001b[0m\n\u001b[0m                ^\u001b[0m\n\u001b[0;31mSyntaxError\u001b[0m\u001b[0;31m:\u001b[0m invalid syntax\n"
          ]
        }
      ]
    },
    {
      "cell_type": "code",
      "source": [
        "if True:\n",
        "print(\"True\") # die leerzeichen wurden vergessen\n",
        "\n",
        "#richtig:\n",
        "if True:\n",
        "  print(\"True\") "
      ],
      "metadata": {
        "colab": {
          "base_uri": "https://localhost:8080/",
          "height": 131
        },
        "id": "YoP0erD_KtGK",
        "outputId": "0e7b9f4a-4002-4733-fec3-7e52daee0295"
      },
      "execution_count": 10,
      "outputs": [
        {
          "output_type": "error",
          "ename": "IndentationError",
          "evalue": "ignored",
          "traceback": [
            "\u001b[0;36m  File \u001b[0;32m\"<ipython-input-10-61804428058b>\"\u001b[0;36m, line \u001b[0;32m2\u001b[0m\n\u001b[0;31m    print(\"True\") # die leerzeichen wurden vergessen\u001b[0m\n\u001b[0m        ^\u001b[0m\n\u001b[0;31mIndentationError\u001b[0m\u001b[0;31m:\u001b[0m expected an indented block\n"
          ]
        }
      ]
    },
    {
      "cell_type": "code",
      "source": [
        "print(1+1)\n",
        "print(1-1)\n",
        "print(1*2)\n",
        "print(1/2)"
      ],
      "metadata": {
        "colab": {
          "base_uri": "https://localhost:8080/"
        },
        "id": "_J2czbxeKuO6",
        "outputId": "a0ed8685-8af5-49a0-919f-6357f061c5d1"
      },
      "execution_count": 11,
      "outputs": [
        {
          "output_type": "stream",
          "name": "stdout",
          "text": [
            "2\n",
            "0\n",
            "2\n",
            "0.5\n"
          ]
        }
      ]
    },
    {
      "cell_type": "code",
      "source": [
        "print(5 % 2) # 5 / 2 = 2 Rest 1"
      ],
      "metadata": {
        "colab": {
          "base_uri": "https://localhost:8080/"
        },
        "id": "yg0eWmsZKveZ",
        "outputId": "0a0b2933-73e6-41c3-b8e5-f15f81bca15f"
      },
      "execution_count": 12,
      "outputs": [
        {
          "output_type": "stream",
          "name": "stdout",
          "text": [
            "1\n"
          ]
        }
      ]
    },
    {
      "cell_type": "code",
      "source": [
        "print(13 // 3) # 5 / 2 = 2 ganzzahlig teilen"
      ],
      "metadata": {
        "colab": {
          "base_uri": "https://localhost:8080/"
        },
        "id": "2ZsvFWA5Kwra",
        "outputId": "fd3e2fe6-b4ae-4992-ae25-e63112343067"
      },
      "execution_count": 13,
      "outputs": [
        {
          "output_type": "stream",
          "name": "stdout",
          "text": [
            "4\n"
          ]
        }
      ]
    },
    {
      "cell_type": "code",
      "source": [
        "\"123\" * 5 # \"123\" ist ein string und kann nicht wie Zahlen verrechnet werden"
      ],
      "metadata": {
        "colab": {
          "base_uri": "https://localhost:8080/",
          "height": 35
        },
        "id": "F_8rLPMgKyP4",
        "outputId": "3f087d11-e94a-4165-8e42-a313bb1c96ce"
      },
      "execution_count": 14,
      "outputs": [
        {
          "output_type": "execute_result",
          "data": {
            "application/vnd.google.colaboratory.intrinsic+json": {
              "type": "string"
            },
            "text/plain": [
              "'123123123123123'"
            ]
          },
          "metadata": {},
          "execution_count": 14
        }
      ]
    },
    {
      "cell_type": "code",
      "source": [
        "# 15% von 70\n",
        "print(\"15% von 70 sind\", 70 / 100 * 15)"
      ],
      "metadata": {
        "colab": {
          "base_uri": "https://localhost:8080/"
        },
        "id": "o9PaNzYgKzfv",
        "outputId": "7136d65c-71ab-432b-a691-9b296dd8b7d5"
      },
      "execution_count": 15,
      "outputs": [
        {
          "output_type": "stream",
          "name": "stdout",
          "text": [
            "15% von 70 sind 10.5\n"
          ]
        }
      ]
    },
    {
      "cell_type": "markdown",
      "source": [
        "# Wahrheitswerte und if\n",
        "if bedingung :<br>\n",
        "&nbsp;&nbsp;code<br>\n",
        "&nbsp;&nbsp;code<br>\n",
        "else:<br>\n",
        "&nbsp;&nbsp;code<br>\n",
        "&nbsp;&nbsp;code<br>\n",
        "\n",
        "code nicht in der if-Abfrage"
      ],
      "metadata": {
        "id": "u-ts3J-CK2uS"
      }
    },
    {
      "cell_type": "code",
      "source": [
        "3 == 3, 3 < 3, 4 > 3"
      ],
      "metadata": {
        "colab": {
          "base_uri": "https://localhost:8080/"
        },
        "id": "_LJws5oPK0xt",
        "outputId": "0a6aa8d0-9bff-43f0-8c11-920ae26054c8"
      },
      "execution_count": 16,
      "outputs": [
        {
          "output_type": "execute_result",
          "data": {
            "text/plain": [
              "(True, False, True)"
            ]
          },
          "metadata": {},
          "execution_count": 16
        }
      ]
    },
    {
      "cell_type": "code",
      "source": [
        "if 3 == 3:\n",
        "  print(\"3 ist 3\")"
      ],
      "metadata": {
        "colab": {
          "base_uri": "https://localhost:8080/"
        },
        "id": "Cl6X7MeZK4QE",
        "outputId": "42379a86-14b7-4744-c2c4-cece2c348c56"
      },
      "execution_count": 17,
      "outputs": [
        {
          "output_type": "stream",
          "name": "stdout",
          "text": [
            "3 ist 3\n"
          ]
        }
      ]
    },
    {
      "cell_type": "markdown",
      "source": [
        "input() - ermöglicht dir Eingabe einer Zeichenkette"
      ],
      "metadata": {
        "id": "fG9c2oHaK6_u"
      }
    },
    {
      "cell_type": "code",
      "source": [
        "a = input()\n",
        "print(type(a)) # <class 'str'>\n",
        "a = int(a)\n",
        "print(type(a)) # <class 'int'>\n",
        "\n",
        "if a > 2:\n",
        "  antwort = \"a ist größer als 2\"\n",
        "  print(antwort)\n",
        "\n",
        "  if a > 4:\n",
        "    print(\"a ist größer als 4\")\n",
        "  else:\n",
        "    print(\"a ist größer als 2 aber kleiner als 4\")\n"
      ],
      "metadata": {
        "colab": {
          "base_uri": "https://localhost:8080/"
        },
        "id": "rhJSWG75K5TL",
        "outputId": "ae7f50d9-ed6c-43f6-9b61-70d28d780e09"
      },
      "execution_count": 18,
      "outputs": [
        {
          "output_type": "stream",
          "name": "stdout",
          "text": [
            "234\n",
            "<class 'str'>\n",
            "<class 'int'>\n",
            "a ist größer als 2\n",
            "a ist größer als 4\n"
          ]
        }
      ]
    },
    {
      "cell_type": "markdown",
      "source": [
        "# for - schleifen\n",
        "for iterator in generator:<br>\n",
        "&nbsp;&nbsp;code<br>\n",
        "&nbsp;&nbsp;code<br>\n",
        "&nbsp;&nbsp;code<br>"
      ],
      "metadata": {
        "id": "w0QL4X8QK_C9"
      }
    },
    {
      "cell_type": "code",
      "source": [
        "#in c++: for(int i = 0; i<10; i++){}\n",
        "\n",
        "for i in range(10):\n",
        "  print(i)"
      ],
      "metadata": {
        "colab": {
          "base_uri": "https://localhost:8080/"
        },
        "id": "W86oR_iLK8NQ",
        "outputId": "c1c65e16-6790-4aaa-cb7a-9f2659416003"
      },
      "execution_count": 19,
      "outputs": [
        {
          "output_type": "stream",
          "name": "stdout",
          "text": [
            "0\n",
            "1\n",
            "2\n",
            "3\n",
            "4\n",
            "5\n",
            "6\n",
            "7\n",
            "8\n",
            "9\n"
          ]
        }
      ]
    },
    {
      "cell_type": "markdown",
      "source": [
        "# Listen\n",
        "Liste deklarien: name = []"
      ],
      "metadata": {
        "id": "EEZEJiTzYXHe"
      }
    },
    {
      "cell_type": "code",
      "source": [
        "unsere_liste = []\n",
        "type(unsere_liste)"
      ],
      "metadata": {
        "colab": {
          "base_uri": "https://localhost:8080/"
        },
        "id": "PQsXgWGfYZi7",
        "outputId": "12299369-c64a-4a0d-bcbb-99fc6026b1cb"
      },
      "execution_count": 38,
      "outputs": [
        {
          "output_type": "execute_result",
          "data": {
            "text/plain": [
              "list"
            ]
          },
          "metadata": {},
          "execution_count": 38
        }
      ]
    },
    {
      "cell_type": "code",
      "source": [
        "unsere_liste = [1,2,3,\"ein string\", print, 1.234]\n",
        "unsere_liste"
      ],
      "metadata": {
        "colab": {
          "base_uri": "https://localhost:8080/"
        },
        "id": "RVErhPquZImP",
        "outputId": "cb48dd41-39ea-47ce-d3f3-14411e8aa72b"
      },
      "execution_count": 53,
      "outputs": [
        {
          "output_type": "execute_result",
          "data": {
            "text/plain": [
              "[1, 2, 3, 'ein string', <function print>, 1.234]"
            ]
          },
          "metadata": {},
          "execution_count": 53
        }
      ]
    },
    {
      "cell_type": "markdown",
      "source": [
        "zugriff auf ein Element der Liste:<br>\n",
        "unsere_liste[index]"
      ],
      "metadata": {
        "id": "DphBagO9ZfVi"
      }
    },
    {
      "cell_type": "code",
      "source": [
        "unsere_liste[3]"
      ],
      "metadata": {
        "colab": {
          "base_uri": "https://localhost:8080/",
          "height": 35
        },
        "id": "9CBSt3JEZeeD",
        "outputId": "6979899d-cf56-44ae-9bce-f7ea5d21ca65"
      },
      "execution_count": 50,
      "outputs": [
        {
          "output_type": "execute_result",
          "data": {
            "application/vnd.google.colaboratory.intrinsic+json": {
              "type": "string"
            },
            "text/plain": [
              "'ein string'"
            ]
          },
          "metadata": {},
          "execution_count": 50
        }
      ]
    },
    {
      "cell_type": "markdown",
      "source": [
        "len(liste) gibt die Länge der liste zurück"
      ],
      "metadata": {
        "id": "Gf4pMQ_zaRdc"
      }
    },
    {
      "cell_type": "code",
      "source": [
        "len(unsere_liste)"
      ],
      "metadata": {
        "colab": {
          "base_uri": "https://localhost:8080/"
        },
        "id": "rnU_aOHPaYDH",
        "outputId": "17e8cb5d-46bd-4188-b1ed-3fc59c8e0888"
      },
      "execution_count": 54,
      "outputs": [
        {
          "output_type": "execute_result",
          "data": {
            "text/plain": [
              "6"
            ]
          },
          "metadata": {},
          "execution_count": 54
        }
      ]
    },
    {
      "cell_type": "code",
      "source": [
        "# Alle Elemente der Liste duchgehen\n",
        "for i in range(len(unsere_liste)):\n",
        "  print(i, unsere_liste[i])"
      ],
      "metadata": {
        "colab": {
          "base_uri": "https://localhost:8080/"
        },
        "id": "CipBKUAnaAlN",
        "outputId": "86b73a04-c01c-484b-c178-1a0c5fd90d5c"
      },
      "execution_count": 60,
      "outputs": [
        {
          "output_type": "stream",
          "name": "stdout",
          "text": [
            "0 1\n",
            "1 2\n",
            "2 3\n",
            "3 4\n",
            "4 5\n"
          ]
        }
      ]
    },
    {
      "cell_type": "markdown",
      "source": [
        "append() - hängt ein Element an die Liste an"
      ],
      "metadata": {
        "id": "TU9ER1l8cRfT"
      }
    },
    {
      "cell_type": "code",
      "source": [
        "unsere_liste = [1,2,3]\n",
        "print(\"Die Liste ist\", unsere_liste)\n",
        "unsere_liste.append(4)\n",
        "print(\"Die Liste ist\", unsere_liste)"
      ],
      "metadata": {
        "colab": {
          "base_uri": "https://localhost:8080/"
        },
        "id": "QIzPD_WObhe2",
        "outputId": "6bbe9798-37aa-4f13-cf24-52c1e7c376da"
      },
      "execution_count": 65,
      "outputs": [
        {
          "output_type": "stream",
          "name": "stdout",
          "text": [
            "Die Liste ist [1, 2, 3]\n",
            "Die Liste ist [1, 2, 3, 4]\n"
          ]
        }
      ]
    },
    {
      "cell_type": "markdown",
      "source": [
        "del - löscht objekte"
      ],
      "metadata": {
        "id": "eJTxXcT7ca61"
      }
    },
    {
      "cell_type": "code",
      "source": [
        "a = 123\n",
        "print(a)\n",
        "del a\n",
        "print(a)"
      ],
      "metadata": {
        "colab": {
          "base_uri": "https://localhost:8080/",
          "height": 218
        },
        "id": "dSokquz7cuiW",
        "outputId": "8e6b52a5-4daf-4830-b38c-91c7c31e2309"
      },
      "execution_count": 67,
      "outputs": [
        {
          "output_type": "stream",
          "name": "stdout",
          "text": [
            "123\n"
          ]
        },
        {
          "output_type": "error",
          "ename": "NameError",
          "evalue": "ignored",
          "traceback": [
            "\u001b[0;31m---------------------------------------------------------------------------\u001b[0m",
            "\u001b[0;31mNameError\u001b[0m                                 Traceback (most recent call last)",
            "\u001b[0;32m<ipython-input-67-de8a269947aa>\u001b[0m in \u001b[0;36m<module>\u001b[0;34m()\u001b[0m\n\u001b[1;32m      2\u001b[0m \u001b[0mprint\u001b[0m\u001b[0;34m(\u001b[0m\u001b[0ma\u001b[0m\u001b[0;34m)\u001b[0m\u001b[0;34m\u001b[0m\u001b[0;34m\u001b[0m\u001b[0m\n\u001b[1;32m      3\u001b[0m \u001b[0;32mdel\u001b[0m \u001b[0ma\u001b[0m\u001b[0;34m\u001b[0m\u001b[0;34m\u001b[0m\u001b[0m\n\u001b[0;32m----> 4\u001b[0;31m \u001b[0mprint\u001b[0m\u001b[0;34m(\u001b[0m\u001b[0ma\u001b[0m\u001b[0;34m)\u001b[0m\u001b[0;34m\u001b[0m\u001b[0;34m\u001b[0m\u001b[0m\n\u001b[0m",
            "\u001b[0;31mNameError\u001b[0m: name 'a' is not defined"
          ]
        }
      ]
    },
    {
      "cell_type": "code",
      "source": [
        "unsere_liste = [1,2,3]\n",
        "del unsere_liste[1]\n",
        "unsere_liste"
      ],
      "metadata": {
        "colab": {
          "base_uri": "https://localhost:8080/"
        },
        "id": "yf9JI6nLdJh2",
        "outputId": "39e31fb2-e0a6-47b0-9e81-9337d94355f6"
      },
      "execution_count": 68,
      "outputs": [
        {
          "output_type": "execute_result",
          "data": {
            "text/plain": [
              "[1, 3]"
            ]
          },
          "metadata": {},
          "execution_count": 68
        }
      ]
    },
    {
      "cell_type": "markdown",
      "source": [
        "# for-Schleife mit Listen"
      ],
      "metadata": {
        "id": "rWkkm4--baWK"
      }
    },
    {
      "cell_type": "code",
      "source": [
        "for i in unsere_liste:\n",
        "  print(i)"
      ],
      "metadata": {
        "colab": {
          "base_uri": "https://localhost:8080/"
        },
        "id": "9xIiJ7r_alGL",
        "outputId": "63e7174f-2fb7-4651-fab8-d087328cc9ed"
      },
      "execution_count": 56,
      "outputs": [
        {
          "output_type": "stream",
          "name": "stdout",
          "text": [
            "1\n",
            "2\n",
            "3\n",
            "ein string\n",
            "<built-in function print>\n",
            "1.234\n"
          ]
        }
      ]
    },
    {
      "cell_type": "code",
      "source": [
        "unsere_liste = [1,2,3,4,5]\n",
        "summe = 0\n",
        "for i in unsere_liste:\n",
        "  summe = summe + i\n",
        "\n",
        "summe"
      ],
      "metadata": {
        "colab": {
          "base_uri": "https://localhost:8080/"
        },
        "id": "3DfKQ5YZbDKO",
        "outputId": "6713f9ed-9710-475c-a54b-575137bf75cc"
      },
      "execution_count": 59,
      "outputs": [
        {
          "output_type": "execute_result",
          "data": {
            "text/plain": [
              "15"
            ]
          },
          "metadata": {},
          "execution_count": 59
        }
      ]
    },
    {
      "cell_type": "markdown",
      "source": [
        "# Übungen"
      ],
      "metadata": {
        "id": "6lZZYbrnLC8F"
      }
    },
    {
      "cell_type": "markdown",
      "source": [
        "Lese mit input 2 Zahlen ein und prüfe, ob die erste Zahl größer als die zweite Zahl ist. Gebe eine sinnvolle Ausgabe aus"
      ],
      "metadata": {
        "id": "4F3IM6LfLFPV"
      }
    },
    {
      "cell_type": "code",
      "source": [
        "# 2 Zahlen einlesen\n",
        "zahl1 = input(\"bitte gib zahl 1 ein: \")\n",
        "zahl2 = input(\"bitte gib zahl 2 ein: \")\n",
        "\n",
        "#inputs von string zu zahl machen\n",
        "zahl1 = int(zahl1)\n",
        "zahl2 = int(zahl2)\n",
        "\n",
        "if zahl1 > zahl2:\n",
        "  print(\"zahl 1 ist größer als zahl 2\")\n",
        "else:\n",
        "  print(\"zahl 1 ist nicht größer als zahl 2\")"
      ],
      "metadata": {
        "colab": {
          "base_uri": "https://localhost:8080/"
        },
        "id": "QJaBVyDiLAaQ",
        "outputId": "c9dee66d-6712-4591-d942-a53affde0515"
      },
      "execution_count": 20,
      "outputs": [
        {
          "output_type": "stream",
          "name": "stdout",
          "text": [
            "bitte gib zahl 1 ein: 234\n",
            "bitte gib zahl 2 ein: 123\n",
            "zahl 1 ist größer als zahl 2\n"
          ]
        }
      ]
    },
    {
      "cell_type": "markdown",
      "source": [
        "Gegeben ist eine Variable a. Prüfe, ob diese Variable ein string ist, wenn ja gib eine sinnvolla Ausgabe aus. Benutze die Funktion type()"
      ],
      "metadata": {
        "id": "g55d8D4RLJR1"
      }
    },
    {
      "cell_type": "code",
      "source": [
        "a = \"fbrnejnjreb\"\n",
        "\n",
        "if repr(type(a)) == \"<class 'str'>\":\n",
        "  print(\"a ist ein string\")"
      ],
      "metadata": {
        "colab": {
          "base_uri": "https://localhost:8080/"
        },
        "id": "o8yWurJxLGVD",
        "outputId": "eba955ad-bd39-425c-8362-2a773455e1f6"
      },
      "execution_count": 21,
      "outputs": [
        {
          "output_type": "stream",
          "name": "stdout",
          "text": [
            "a ist ein string\n"
          ]
        }
      ]
    },
    {
      "cell_type": "markdown",
      "source": [
        "Es sollen alle Zahlen von 1 bis a addiert und die Summe ausgegeben werden. a kann als Variable festgelegt werden oder mit input() gelesen werden.<br>\n",
        "Bsp: a = 4<br>\n",
        "Rechnung: 1+2+3+4<br>\n",
        "Ausgabe: 10"
      ],
      "metadata": {
        "id": "CX3oluNjL3Wi"
      }
    },
    {
      "cell_type": "code",
      "source": [
        "# a einlesen\n",
        "a = input()\n",
        "a = int(a)\n",
        "\n",
        "summe = 0 #speichert das Gesamtergebnis\n",
        "\n",
        "for i in range(1,a+1): # einschließlich a, deswegen a+1\n",
        "  #print(\"i ist\", i)\n",
        "  #print(\"summe vor der Addition ist\", summe)\n",
        "  summe = summe + i\n",
        "  #print(\"summe nach der Addition ist\", summe)\n",
        "\n",
        "print(\"summe ist\", summe)"
      ],
      "metadata": {
        "colab": {
          "base_uri": "https://localhost:8080/"
        },
        "id": "cfia7uPKLLnx",
        "outputId": "f7811dab-3a04-414d-fa1f-b297f413ffe2"
      },
      "execution_count": 33,
      "outputs": [
        {
          "output_type": "stream",
          "name": "stdout",
          "text": [
            "123\n",
            "summe ist 7626\n"
          ]
        }
      ]
    },
    {
      "cell_type": "markdown",
      "source": [
        "Eine Variable soll mit input() eingelesen werden. Diese Variable soll 5 mal in eine Liste kopiert werden.<br>\n",
        "Bsp: Eingabe \"abc\"<br>\n",
        "Ausgabe: liste [\"abc\", \"abc\", \"abc\", \"abc\", \"abc\"]"
      ],
      "metadata": {
        "id": "6Il5C0nohg0d"
      }
    },
    {
      "cell_type": "code",
      "source": [
        "a = input()\n",
        "unsere_liste = []\n",
        "for i in range(5):\n",
        "  unsere_liste.append(a)\n",
        "print(unsere_liste)\n",
        "\n",
        "unsere_liste_2 = [a,a,a,a,a]\n",
        "print(unsere_liste_2)\n",
        "\n",
        "unsere_liste_3 = [a] * 5\n",
        "print(unsere_liste_3)"
      ],
      "metadata": {
        "colab": {
          "base_uri": "https://localhost:8080/"
        },
        "id": "IiMiTtAHS3LV",
        "outputId": "e14f57b9-8846-4d0e-9a72-de60c5973f81"
      },
      "execution_count": 73,
      "outputs": [
        {
          "output_type": "stream",
          "name": "stdout",
          "text": [
            "abc\n",
            "['abc', 'abc', 'abc', 'abc', 'abc']\n",
            "['abc', 'abc', 'abc', 'abc', 'abc']\n",
            "['abc', 'abc', 'abc', 'abc', 'abc']\n"
          ]
        }
      ]
    },
    {
      "cell_type": "markdown",
      "source": [
        "Gegeben ist eine Liste mit 5 Zahlen. Alle Zahlen sollen addiert werden und das Ergebnis ausgegeben werden"
      ],
      "metadata": {
        "id": "iNGwC1eTmkE6"
      }
    },
    {
      "cell_type": "code",
      "source": [
        "unsere_liste = [1,2,3,4,5, 6, 7, 8]\n",
        "\n",
        "summe = 0\n",
        "for i in unsere_liste:\n",
        "  summe += i # summe += i ist die Kurzform für summe = summe + i\n",
        "\n",
        "print(\"Die Lösung ist\", summe)"
      ],
      "metadata": {
        "colab": {
          "base_uri": "https://localhost:8080/"
        },
        "id": "pkhzVaZLmYCY",
        "outputId": "b3d4df9f-2e7e-48ba-afe6-d2abfdfdfac3"
      },
      "execution_count": 77,
      "outputs": [
        {
          "output_type": "stream",
          "name": "stdout",
          "text": [
            "Die Lösung ist 36\n"
          ]
        }
      ]
    }
  ]
}