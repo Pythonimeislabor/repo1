{
  "nbformat": 4,
  "nbformat_minor": 0,
  "metadata": {
    "colab": {
      "name": "unser erstes notebook",
      "provenance": [],
      "authorship_tag": "ABX9TyP/iehnozN0ebbRf3Ax45Ax",
      "include_colab_link": true
    },
    "kernelspec": {
      "name": "python3",
      "display_name": "Python 3"
    },
    "language_info": {
      "name": "python"
    }
  },
  "cells": [
    {
      "cell_type": "markdown",
      "metadata": {
        "id": "view-in-github",
        "colab_type": "text"
      },
      "source": [
        "<a href=\"https://colab.research.google.com/github/Pythonimeislabor/repo1/blob/main/unser_erstes_notebook.ipynb\" target=\"_parent\"><img src=\"https://colab.research.google.com/assets/colab-badge.svg\" alt=\"Open In Colab\"/></a>"
      ]
    },
    {
      "cell_type": "markdown",
      "source": [
        "# Die print-funktion\n",
        "print ( objekt )"
      ],
      "metadata": {
        "id": "Ms290k0GKL3c"
      }
    },
    {
      "cell_type": "code",
      "execution_count": null,
      "metadata": {
        "colab": {
          "base_uri": "https://localhost:8080/"
        },
        "id": "_Yjz27KKKFP-",
        "outputId": "58e9bd63-a401-48fa-f22b-883241de5ad5"
      },
      "outputs": [
        {
          "output_type": "stream",
          "name": "stdout",
          "text": [
            "123\n",
            "123\n",
            "1 2 3\n",
            "<built-in function print>\n"
          ]
        }
      ],
      "source": [
        "print(\"123\") # Das Objekt ist \"123\"\n",
        "print(123) # Das Objekt ist 123\n",
        "print(1,2,3) \n",
        "print(print) # Das Objekt ist die print-funktion"
      ]
    },
    {
      "cell_type": "markdown",
      "source": [
        "# Datentypen und type()"
      ],
      "metadata": {
        "id": "myffnak9KPVE"
      }
    },
    {
      "cell_type": "code",
      "source": [
        "print(type(123)) # wird ausgegeben wegen print\n",
        "type(\"123\") # wird nicht ausgegeben weil kein print und nicht letzter Befehl in der Codezeile\n",
        "type(1.5)  # wird ausgegeben weil letzter Befehl"
      ],
      "metadata": {
        "colab": {
          "base_uri": "https://localhost:8080/"
        },
        "id": "SI3efJkbKNyO",
        "outputId": "9dc08db0-d195-4b04-de97-d81201ec9ba4"
      },
      "execution_count": null,
      "outputs": [
        {
          "output_type": "stream",
          "name": "stdout",
          "text": [
            "<class 'int'>\n"
          ]
        },
        {
          "output_type": "execute_result",
          "data": {
            "text/plain": [
              "float"
            ]
          },
          "metadata": {},
          "execution_count": 2
        }
      ]
    },
    {
      "cell_type": "code",
      "source": [
        "a = \"123\"\n",
        "print(a)\n",
        "type(a)"
      ],
      "metadata": {
        "colab": {
          "base_uri": "https://localhost:8080/"
        },
        "id": "yFDunQQUKQ5A",
        "outputId": "eadc7da2-ace5-4395-e391-5f3d409da3db"
      },
      "execution_count": null,
      "outputs": [
        {
          "output_type": "stream",
          "name": "stdout",
          "text": [
            "123\n"
          ]
        },
        {
          "output_type": "execute_result",
          "data": {
            "text/plain": [
              "str"
            ]
          },
          "metadata": {},
          "execution_count": 5
        }
      ]
    },
    {
      "cell_type": "code",
      "source": [
        "b = 3.3\n",
        "print(b)\n",
        "type(b)"
      ],
      "metadata": {
        "colab": {
          "base_uri": "https://localhost:8080/"
        },
        "id": "8ZcAPzVzKY1W",
        "outputId": "5cb5df0d-46dc-4861-8a96-1c6030fc6b34"
      },
      "execution_count": null,
      "outputs": [
        {
          "output_type": "stream",
          "name": "stdout",
          "text": [
            "3.3\n"
          ]
        },
        {
          "output_type": "execute_result",
          "data": {
            "text/plain": [
              "float"
            ]
          },
          "metadata": {},
          "execution_count": 6
        }
      ]
    },
    {
      "cell_type": "code",
      "source": [
        "print(a, b)"
      ],
      "metadata": {
        "colab": {
          "base_uri": "https://localhost:8080/"
        },
        "id": "d1MZJyeCKZuH",
        "outputId": "29e1d165-bc81-407d-94f2-07371c97fc1a"
      },
      "execution_count": null,
      "outputs": [
        {
          "output_type": "stream",
          "name": "stdout",
          "text": [
            "123 3.3\n"
          ]
        }
      ]
    },
    {
      "cell_type": "markdown",
      "source": [
        "Umwandlung von Datentypen:<br>\n",
        "str() macht int / float zu string<br>\n",
        "int() macht string / floats zu int<br>\n",
        "float() macht string / ints zu float"
      ],
      "metadata": {
        "id": "Wn0pKyIhKkZ8"
      }
    },
    {
      "cell_type": "code",
      "source": [
        "str(12), int(\"123\"), float(\"3.3\"), int(3.3)"
      ],
      "metadata": {
        "id": "hYmW17vuKbTs"
      },
      "execution_count": null,
      "outputs": []
    },
    {
      "cell_type": "markdown",
      "source": [
        "# Fehler"
      ],
      "metadata": {
        "id": "hgVXhIi7Kq99"
      }
    },
    {
      "cell_type": "code",
      "source": [
        "print(\"123\")\n",
        "prin(\"123\") # prin wurde nicht richtig geschrieben"
      ],
      "metadata": {
        "colab": {
          "base_uri": "https://localhost:8080/",
          "height": 201
        },
        "id": "uiNePxS5Kr5i",
        "outputId": "d7f7b324-64b2-4bd2-9153-e42899af2367"
      },
      "execution_count": null,
      "outputs": [
        {
          "output_type": "stream",
          "name": "stdout",
          "text": [
            "123\n"
          ]
        },
        {
          "output_type": "error",
          "ename": "NameError",
          "evalue": "ignored",
          "traceback": [
            "\u001b[0;31m---------------------------------------------------------------------------\u001b[0m",
            "\u001b[0;31mNameError\u001b[0m                                 Traceback (most recent call last)",
            "\u001b[0;32m<ipython-input-8-54f846bc2068>\u001b[0m in \u001b[0;36m<module>\u001b[0;34m()\u001b[0m\n\u001b[1;32m      1\u001b[0m \u001b[0mprint\u001b[0m\u001b[0;34m(\u001b[0m\u001b[0;34m\"123\"\u001b[0m\u001b[0;34m)\u001b[0m\u001b[0;34m\u001b[0m\u001b[0;34m\u001b[0m\u001b[0m\n\u001b[0;32m----> 2\u001b[0;31m \u001b[0mprin\u001b[0m\u001b[0;34m(\u001b[0m\u001b[0;34m\"123\"\u001b[0m\u001b[0;34m)\u001b[0m \u001b[0;31m# prin wurde nicht richtig geschrieben\u001b[0m\u001b[0;34m\u001b[0m\u001b[0;34m\u001b[0m\u001b[0m\n\u001b[0m",
            "\u001b[0;31mNameError\u001b[0m: name 'prin' is not defined"
          ]
        }
      ]
    },
    {
      "cell_type": "code",
      "source": [
        "print(\"123\")) # eine ) zu viel"
      ],
      "metadata": {
        "colab": {
          "base_uri": "https://localhost:8080/",
          "height": 131
        },
        "id": "s_lL9QEPKsFk",
        "outputId": "03a02d01-aa6d-4c07-d5aa-0b61ff47454c"
      },
      "execution_count": null,
      "outputs": [
        {
          "output_type": "error",
          "ename": "SyntaxError",
          "evalue": "ignored",
          "traceback": [
            "\u001b[0;36m  File \u001b[0;32m\"<ipython-input-9-b098ed69f9c2>\"\u001b[0;36m, line \u001b[0;32m1\u001b[0m\n\u001b[0;31m    print(\"123\")) # eine ) zu viel\u001b[0m\n\u001b[0m                ^\u001b[0m\n\u001b[0;31mSyntaxError\u001b[0m\u001b[0;31m:\u001b[0m invalid syntax\n"
          ]
        }
      ]
    },
    {
      "cell_type": "code",
      "source": [
        "if True:\n",
        "print(\"True\") # die leerzeichen wurden vergessen\n",
        "\n",
        "#richtig:\n",
        "if True:\n",
        "  print(\"True\") "
      ],
      "metadata": {
        "colab": {
          "base_uri": "https://localhost:8080/",
          "height": 131
        },
        "id": "YoP0erD_KtGK",
        "outputId": "0e7b9f4a-4002-4733-fec3-7e52daee0295"
      },
      "execution_count": null,
      "outputs": [
        {
          "output_type": "error",
          "ename": "IndentationError",
          "evalue": "ignored",
          "traceback": [
            "\u001b[0;36m  File \u001b[0;32m\"<ipython-input-10-61804428058b>\"\u001b[0;36m, line \u001b[0;32m2\u001b[0m\n\u001b[0;31m    print(\"True\") # die leerzeichen wurden vergessen\u001b[0m\n\u001b[0m        ^\u001b[0m\n\u001b[0;31mIndentationError\u001b[0m\u001b[0;31m:\u001b[0m expected an indented block\n"
          ]
        }
      ]
    },
    {
      "cell_type": "code",
      "source": [
        "print(1+1)\n",
        "print(1-1)\n",
        "print(1*2)\n",
        "print(1/2)"
      ],
      "metadata": {
        "colab": {
          "base_uri": "https://localhost:8080/"
        },
        "id": "_J2czbxeKuO6",
        "outputId": "a0ed8685-8af5-49a0-919f-6357f061c5d1"
      },
      "execution_count": null,
      "outputs": [
        {
          "output_type": "stream",
          "name": "stdout",
          "text": [
            "2\n",
            "0\n",
            "2\n",
            "0.5\n"
          ]
        }
      ]
    },
    {
      "cell_type": "code",
      "source": [
        "print(5 % 2) # 5 / 2 = 2 Rest 1"
      ],
      "metadata": {
        "colab": {
          "base_uri": "https://localhost:8080/"
        },
        "id": "yg0eWmsZKveZ",
        "outputId": "0a0b2933-73e6-41c3-b8e5-f15f81bca15f"
      },
      "execution_count": null,
      "outputs": [
        {
          "output_type": "stream",
          "name": "stdout",
          "text": [
            "1\n"
          ]
        }
      ]
    },
    {
      "cell_type": "code",
      "source": [
        "print(13 // 3) # 5 / 2 = 2 ganzzahlig teilen"
      ],
      "metadata": {
        "colab": {
          "base_uri": "https://localhost:8080/"
        },
        "id": "2ZsvFWA5Kwra",
        "outputId": "fd3e2fe6-b4ae-4992-ae25-e63112343067"
      },
      "execution_count": null,
      "outputs": [
        {
          "output_type": "stream",
          "name": "stdout",
          "text": [
            "4\n"
          ]
        }
      ]
    },
    {
      "cell_type": "code",
      "source": [
        "\"123\" * 5 # \"123\" ist ein string und kann nicht wie Zahlen verrechnet werden"
      ],
      "metadata": {
        "colab": {
          "base_uri": "https://localhost:8080/",
          "height": 35
        },
        "id": "F_8rLPMgKyP4",
        "outputId": "3f087d11-e94a-4165-8e42-a313bb1c96ce"
      },
      "execution_count": null,
      "outputs": [
        {
          "output_type": "execute_result",
          "data": {
            "application/vnd.google.colaboratory.intrinsic+json": {
              "type": "string"
            },
            "text/plain": [
              "'123123123123123'"
            ]
          },
          "metadata": {},
          "execution_count": 14
        }
      ]
    },
    {
      "cell_type": "code",
      "source": [
        "# 15% von 70\n",
        "print(\"15% von 70 sind\", 70 / 100 * 15)"
      ],
      "metadata": {
        "colab": {
          "base_uri": "https://localhost:8080/"
        },
        "id": "o9PaNzYgKzfv",
        "outputId": "7136d65c-71ab-432b-a691-9b296dd8b7d5"
      },
      "execution_count": null,
      "outputs": [
        {
          "output_type": "stream",
          "name": "stdout",
          "text": [
            "15% von 70 sind 10.5\n"
          ]
        }
      ]
    },
    {
      "cell_type": "markdown",
      "source": [
        "# Wahrheitswerte und if\n",
        "if bedingung :<br>\n",
        "&nbsp;&nbsp;code<br>\n",
        "&nbsp;&nbsp;code<br>\n",
        "else:<br>\n",
        "&nbsp;&nbsp;code<br>\n",
        "&nbsp;&nbsp;code<br>\n",
        "\n",
        "code nicht in der if-Abfrage"
      ],
      "metadata": {
        "id": "u-ts3J-CK2uS"
      }
    },
    {
      "cell_type": "code",
      "source": [
        "3 == 3, 3 < 3, 4 > 3"
      ],
      "metadata": {
        "colab": {
          "base_uri": "https://localhost:8080/"
        },
        "id": "_LJws5oPK0xt",
        "outputId": "0a6aa8d0-9bff-43f0-8c11-920ae26054c8"
      },
      "execution_count": null,
      "outputs": [
        {
          "output_type": "execute_result",
          "data": {
            "text/plain": [
              "(True, False, True)"
            ]
          },
          "metadata": {},
          "execution_count": 16
        }
      ]
    },
    {
      "cell_type": "code",
      "source": [
        "if 3 == 3:\n",
        "  print(\"3 ist 3\")"
      ],
      "metadata": {
        "colab": {
          "base_uri": "https://localhost:8080/"
        },
        "id": "Cl6X7MeZK4QE",
        "outputId": "42379a86-14b7-4744-c2c4-cece2c348c56"
      },
      "execution_count": null,
      "outputs": [
        {
          "output_type": "stream",
          "name": "stdout",
          "text": [
            "3 ist 3\n"
          ]
        }
      ]
    },
    {
      "cell_type": "markdown",
      "source": [
        "input() - ermöglicht die Eingabe einer Zeichenkette"
      ],
      "metadata": {
        "id": "fG9c2oHaK6_u"
      }
    },
    {
      "cell_type": "code",
      "source": [
        "a = input()\n",
        "print(type(a)) # <class 'str'>\n",
        "a = int(a)\n",
        "print(type(a)) # <class 'int'>\n",
        "\n",
        "if a > 2:\n",
        "  antwort = \"a ist größer als 2\"\n",
        "  print(antwort)\n",
        "\n",
        "  if a > 4:\n",
        "    print(\"a ist größer als 4\")\n",
        "  else:\n",
        "    print(\"a ist größer als 2 aber kleiner als 4\")\n"
      ],
      "metadata": {
        "colab": {
          "base_uri": "https://localhost:8080/"
        },
        "id": "rhJSWG75K5TL",
        "outputId": "ae7f50d9-ed6c-43f6-9b61-70d28d780e09"
      },
      "execution_count": null,
      "outputs": [
        {
          "output_type": "stream",
          "name": "stdout",
          "text": [
            "234\n",
            "<class 'str'>\n",
            "<class 'int'>\n",
            "a ist größer als 2\n",
            "a ist größer als 4\n"
          ]
        }
      ]
    },
    {
      "cell_type": "markdown",
      "source": [
        "# for - schleifen\n",
        "for iterator in generator:<br>\n",
        "&nbsp;&nbsp;code<br>\n",
        "&nbsp;&nbsp;code<br>\n",
        "&nbsp;&nbsp;code<br>"
      ],
      "metadata": {
        "id": "w0QL4X8QK_C9"
      }
    },
    {
      "cell_type": "code",
      "source": [
        "#in c++: for(int i = 0; i<10; i++){}\n",
        "\n",
        "#i ist der iterator\n",
        "# range(...) ist der generator\n",
        "for i in range(10):\n",
        "  print(i)"
      ],
      "metadata": {
        "colab": {
          "base_uri": "https://localhost:8080/"
        },
        "id": "W86oR_iLK8NQ",
        "outputId": "c1c65e16-6790-4aaa-cb7a-9f2659416003"
      },
      "execution_count": null,
      "outputs": [
        {
          "output_type": "stream",
          "name": "stdout",
          "text": [
            "0\n",
            "1\n",
            "2\n",
            "3\n",
            "4\n",
            "5\n",
            "6\n",
            "7\n",
            "8\n",
            "9\n"
          ]
        }
      ]
    },
    {
      "cell_type": "markdown",
      "source": [
        "# Listen\n",
        "Liste deklarien: name = []"
      ],
      "metadata": {
        "id": "EEZEJiTzYXHe"
      }
    },
    {
      "cell_type": "code",
      "source": [
        "unsere_liste = []\n",
        "type(unsere_liste)"
      ],
      "metadata": {
        "colab": {
          "base_uri": "https://localhost:8080/"
        },
        "id": "PQsXgWGfYZi7",
        "outputId": "12299369-c64a-4a0d-bcbb-99fc6026b1cb"
      },
      "execution_count": null,
      "outputs": [
        {
          "output_type": "execute_result",
          "data": {
            "text/plain": [
              "list"
            ]
          },
          "metadata": {},
          "execution_count": 38
        }
      ]
    },
    {
      "cell_type": "code",
      "source": [
        "unsere_liste = [1,2,3,\"ein string\", print, 1.234]\n",
        "unsere_liste"
      ],
      "metadata": {
        "colab": {
          "base_uri": "https://localhost:8080/"
        },
        "id": "RVErhPquZImP",
        "outputId": "cb48dd41-39ea-47ce-d3f3-14411e8aa72b"
      },
      "execution_count": null,
      "outputs": [
        {
          "output_type": "execute_result",
          "data": {
            "text/plain": [
              "[1, 2, 3, 'ein string', <function print>, 1.234]"
            ]
          },
          "metadata": {},
          "execution_count": 53
        }
      ]
    },
    {
      "cell_type": "markdown",
      "source": [
        "zugriff auf ein Element der Liste:<br>\n",
        "unsere_liste[index]"
      ],
      "metadata": {
        "id": "DphBagO9ZfVi"
      }
    },
    {
      "cell_type": "code",
      "source": [
        "unsere_liste[3]"
      ],
      "metadata": {
        "colab": {
          "base_uri": "https://localhost:8080/",
          "height": 35
        },
        "id": "9CBSt3JEZeeD",
        "outputId": "6979899d-cf56-44ae-9bce-f7ea5d21ca65"
      },
      "execution_count": null,
      "outputs": [
        {
          "output_type": "execute_result",
          "data": {
            "application/vnd.google.colaboratory.intrinsic+json": {
              "type": "string"
            },
            "text/plain": [
              "'ein string'"
            ]
          },
          "metadata": {},
          "execution_count": 50
        }
      ]
    },
    {
      "cell_type": "markdown",
      "source": [
        "len(liste) gibt die Länge der liste zurück"
      ],
      "metadata": {
        "id": "Gf4pMQ_zaRdc"
      }
    },
    {
      "cell_type": "code",
      "source": [
        "len(unsere_liste)"
      ],
      "metadata": {
        "colab": {
          "base_uri": "https://localhost:8080/"
        },
        "id": "rnU_aOHPaYDH",
        "outputId": "17e8cb5d-46bd-4188-b1ed-3fc59c8e0888"
      },
      "execution_count": null,
      "outputs": [
        {
          "output_type": "execute_result",
          "data": {
            "text/plain": [
              "6"
            ]
          },
          "metadata": {},
          "execution_count": 54
        }
      ]
    },
    {
      "cell_type": "code",
      "source": [
        "# Alle Elemente der Liste duchgehen\n",
        "for i in range(len(unsere_liste)):\n",
        "  print(i, unsere_liste[i])"
      ],
      "metadata": {
        "colab": {
          "base_uri": "https://localhost:8080/"
        },
        "id": "CipBKUAnaAlN",
        "outputId": "86b73a04-c01c-484b-c178-1a0c5fd90d5c"
      },
      "execution_count": null,
      "outputs": [
        {
          "output_type": "stream",
          "name": "stdout",
          "text": [
            "0 1\n",
            "1 2\n",
            "2 3\n",
            "3 4\n",
            "4 5\n"
          ]
        }
      ]
    },
    {
      "cell_type": "markdown",
      "source": [
        "append() - hängt ein Element an die Liste an"
      ],
      "metadata": {
        "id": "TU9ER1l8cRfT"
      }
    },
    {
      "cell_type": "code",
      "source": [
        "unsere_liste = [1,2,3]\n",
        "print(\"Die Liste ist\", unsere_liste)\n",
        "unsere_liste.append(4)\n",
        "print(\"Die Liste ist\", unsere_liste)"
      ],
      "metadata": {
        "colab": {
          "base_uri": "https://localhost:8080/"
        },
        "id": "QIzPD_WObhe2",
        "outputId": "6bbe9798-37aa-4f13-cf24-52c1e7c376da"
      },
      "execution_count": null,
      "outputs": [
        {
          "output_type": "stream",
          "name": "stdout",
          "text": [
            "Die Liste ist [1, 2, 3]\n",
            "Die Liste ist [1, 2, 3, 4]\n"
          ]
        }
      ]
    },
    {
      "cell_type": "markdown",
      "source": [
        "del - löscht objekte"
      ],
      "metadata": {
        "id": "eJTxXcT7ca61"
      }
    },
    {
      "cell_type": "code",
      "source": [
        "a = 123\n",
        "print(a)\n",
        "del a\n",
        "print(a)"
      ],
      "metadata": {
        "colab": {
          "base_uri": "https://localhost:8080/",
          "height": 218
        },
        "id": "dSokquz7cuiW",
        "outputId": "8e6b52a5-4daf-4830-b38c-91c7c31e2309"
      },
      "execution_count": null,
      "outputs": [
        {
          "output_type": "stream",
          "name": "stdout",
          "text": [
            "123\n"
          ]
        },
        {
          "output_type": "error",
          "ename": "NameError",
          "evalue": "ignored",
          "traceback": [
            "\u001b[0;31m---------------------------------------------------------------------------\u001b[0m",
            "\u001b[0;31mNameError\u001b[0m                                 Traceback (most recent call last)",
            "\u001b[0;32m<ipython-input-67-de8a269947aa>\u001b[0m in \u001b[0;36m<module>\u001b[0;34m()\u001b[0m\n\u001b[1;32m      2\u001b[0m \u001b[0mprint\u001b[0m\u001b[0;34m(\u001b[0m\u001b[0ma\u001b[0m\u001b[0;34m)\u001b[0m\u001b[0;34m\u001b[0m\u001b[0;34m\u001b[0m\u001b[0m\n\u001b[1;32m      3\u001b[0m \u001b[0;32mdel\u001b[0m \u001b[0ma\u001b[0m\u001b[0;34m\u001b[0m\u001b[0;34m\u001b[0m\u001b[0m\n\u001b[0;32m----> 4\u001b[0;31m \u001b[0mprint\u001b[0m\u001b[0;34m(\u001b[0m\u001b[0ma\u001b[0m\u001b[0;34m)\u001b[0m\u001b[0;34m\u001b[0m\u001b[0;34m\u001b[0m\u001b[0m\n\u001b[0m",
            "\u001b[0;31mNameError\u001b[0m: name 'a' is not defined"
          ]
        }
      ]
    },
    {
      "cell_type": "code",
      "source": [
        "unsere_liste = [1,2,3]\n",
        "del unsere_liste[1]\n",
        "unsere_liste"
      ],
      "metadata": {
        "colab": {
          "base_uri": "https://localhost:8080/"
        },
        "id": "yf9JI6nLdJh2",
        "outputId": "39e31fb2-e0a6-47b0-9e81-9337d94355f6"
      },
      "execution_count": null,
      "outputs": [
        {
          "output_type": "execute_result",
          "data": {
            "text/plain": [
              "[1, 3]"
            ]
          },
          "metadata": {},
          "execution_count": 68
        }
      ]
    },
    {
      "cell_type": "markdown",
      "source": [
        "# for-Schleife mit Listen"
      ],
      "metadata": {
        "id": "rWkkm4--baWK"
      }
    },
    {
      "cell_type": "code",
      "source": [
        "for i in unsere_liste:\n",
        "  print(i)"
      ],
      "metadata": {
        "colab": {
          "base_uri": "https://localhost:8080/"
        },
        "id": "9xIiJ7r_alGL",
        "outputId": "63e7174f-2fb7-4651-fab8-d087328cc9ed"
      },
      "execution_count": null,
      "outputs": [
        {
          "output_type": "stream",
          "name": "stdout",
          "text": [
            "1\n",
            "2\n",
            "3\n",
            "ein string\n",
            "<built-in function print>\n",
            "1.234\n"
          ]
        }
      ]
    },
    {
      "cell_type": "code",
      "source": [
        "unsere_liste = [1,2,3,4,5]\n",
        "summe = 0\n",
        "for i in unsere_liste:\n",
        "  summe = summe + i\n",
        "\n",
        "summe"
      ],
      "metadata": {
        "colab": {
          "base_uri": "https://localhost:8080/"
        },
        "id": "3DfKQ5YZbDKO",
        "outputId": "6713f9ed-9710-475c-a54b-575137bf75cc"
      },
      "execution_count": null,
      "outputs": [
        {
          "output_type": "execute_result",
          "data": {
            "text/plain": [
              "15"
            ]
          },
          "metadata": {},
          "execution_count": 59
        }
      ]
    },
    {
      "cell_type": "markdown",
      "source": [
        "# Funktionen\n",
        "\n",
        "**Definition:**<br>\n",
        "def name(parameter):<br>\n",
        "  &nbsp;&nbsp;&nbsp;code<br>\n",
        "  &nbsp;&nbsp;&nbsp;code<br>\n",
        "  &nbsp;&nbsp;&nbsp;code<br>\n",
        "\n",
        "**Aufruf:**<br>\n",
        "name(parameter)"
      ],
      "metadata": {
        "id": "HLbqEmXc-u9H"
      }
    },
    {
      "cell_type": "code",
      "source": [
        "def meine_funktion(param1, param2):\n",
        "  return param1 % param2 == 0\n",
        "  \n",
        "meine_funktion(6, 2)"
      ],
      "metadata": {
        "colab": {
          "base_uri": "https://localhost:8080/"
        },
        "id": "RMa2UH8K-xw2",
        "outputId": "73e18436-1bcb-450b-bda5-f388767ad277"
      },
      "execution_count": null,
      "outputs": [
        {
          "output_type": "execute_result",
          "data": {
            "text/plain": [
              "True"
            ]
          },
          "metadata": {},
          "execution_count": 35
        }
      ]
    },
    {
      "cell_type": "markdown",
      "source": [
        "# Übungen"
      ],
      "metadata": {
        "id": "6lZZYbrnLC8F"
      }
    },
    {
      "cell_type": "markdown",
      "source": [
        "Lese mit input 2 Zahlen ein und prüfe, ob die erste Zahl größer als die zweite Zahl ist. Gebe eine sinnvolle Ausgabe aus"
      ],
      "metadata": {
        "id": "4F3IM6LfLFPV"
      }
    },
    {
      "cell_type": "code",
      "source": [
        "# 2 Zahlen einlesen\n",
        "zahl1 = input(\"bitte gib zahl 1 ein: \")\n",
        "zahl2 = input(\"bitte gib zahl 2 ein: \")\n",
        "\n",
        "#inputs von string zu zahl machen\n",
        "zahl1 = int(zahl1)\n",
        "zahl2 = int(zahl2)\n",
        "\n",
        "if zahl1 > zahl2:\n",
        "  print(\"zahl 1 ist größer als zahl 2\")\n",
        "else:\n",
        "  print(\"zahl 1 ist nicht größer als zahl 2\")"
      ],
      "metadata": {
        "id": "QJaBVyDiLAaQ"
      },
      "execution_count": null,
      "outputs": []
    },
    {
      "cell_type": "markdown",
      "source": [
        "Gegeben ist eine Variable a. Prüfe, ob diese Variable ein string ist, wenn ja gib eine sinnvolla Ausgabe aus. Benutze die Funktion type()"
      ],
      "metadata": {
        "id": "g55d8D4RLJR1"
      }
    },
    {
      "cell_type": "code",
      "source": [
        "a = \"fbrnejnjreb\"\n",
        "\n",
        "if repr(type(a)) == \"<class 'str'>\":\n",
        "  print(\"a ist ein string\")"
      ],
      "metadata": {
        "id": "o8yWurJxLGVD"
      },
      "execution_count": null,
      "outputs": []
    },
    {
      "cell_type": "markdown",
      "source": [
        "Es sollen alle Zahlen von 1 bis a addiert und die Summe ausgegeben werden. a kann als Variable festgelegt werden oder mit input() gelesen werden.<br>\n",
        "Bsp: a = 4<br>\n",
        "Rechnung: 1+2+3+4<br>\n",
        "Ausgabe: 10"
      ],
      "metadata": {
        "id": "CX3oluNjL3Wi"
      }
    },
    {
      "cell_type": "code",
      "source": [
        "# a einlesen\n",
        "a = input()\n",
        "a = int(a)\n",
        "\n",
        "summe = 0 #speichert das Gesamtergebnis\n",
        "\n",
        "for i in range(1,a+1): # einschließlich a, deswegen a+1\n",
        "  #print(\"i ist\", i)\n",
        "  #print(\"summe vor der Addition ist\", summe)\n",
        "  summe = summe + i\n",
        "  #print(\"summe nach der Addition ist\", summe)\n",
        "\n",
        "print(\"summe ist\", summe)"
      ],
      "metadata": {
        "id": "cfia7uPKLLnx"
      },
      "execution_count": null,
      "outputs": []
    },
    {
      "cell_type": "markdown",
      "source": [
        "Eine Variable soll mit input() eingelesen werden. Diese Variable soll 5 mal in eine Liste kopiert werden.<br>\n",
        "Bsp: Eingabe \"abc\"<br>\n",
        "Ausgabe: liste [\"abc\", \"abc\", \"abc\", \"abc\", \"abc\"]"
      ],
      "metadata": {
        "id": "6Il5C0nohg0d"
      }
    },
    {
      "cell_type": "code",
      "source": [
        "a = input()\n",
        "unsere_liste = []\n",
        "for i in range(5):\n",
        "  unsere_liste.append(a)\n",
        "print(unsere_liste)\n",
        "\n",
        "unsere_liste_2 = [a,a,a,a,a]\n",
        "print(unsere_liste_2)\n",
        "\n",
        "unsere_liste_3 = [a] * 5\n",
        "print(unsere_liste_3)"
      ],
      "metadata": {
        "id": "IiMiTtAHS3LV"
      },
      "execution_count": null,
      "outputs": []
    },
    {
      "cell_type": "markdown",
      "source": [
        "Gegeben ist eine Liste mit 5 Zahlen. Alle Zahlen sollen addiert werden und das Ergebnis ausgegeben werden"
      ],
      "metadata": {
        "id": "iNGwC1eTmkE6"
      }
    },
    {
      "cell_type": "code",
      "source": [
        "unsere_liste = [1,2,3,4,5, 6,7,8]\n",
        "\n",
        "summe = 0\n",
        "for i in unsere_liste:\n",
        "  summe += i # summe += i ist die Kurzform für summe = summe + i\n",
        "\n",
        "print(\"Die Lösung ist\", summe)"
      ],
      "metadata": {
        "id": "pkhzVaZLmYCY"
      },
      "execution_count": null,
      "outputs": []
    },
    {
      "cell_type": "markdown",
      "source": [
        "Gegeben ist eine Liste mit Zahlen. Die erste gerade Zahl soll aus der Liste gelöscht werden"
      ],
      "metadata": {
        "id": "gR8sjujQQtdE"
      }
    },
    {
      "cell_type": "code",
      "source": [
        "meine_liste = [1,3,3,7,5,3,4] # Liste gegeben\n",
        "\n",
        "print(\"Liste vorher:\", meine_liste)\n",
        "print(\"Die Liste besitzt\", len(meine_liste), \"Elemente\") # len() gibt die Anzahl der Elemente einer Liste zurück\n",
        "\n",
        "\n",
        "for i in range(len(meine_liste)): # range(stop) zählt von 0 bis stop ausschließlich stop\n",
        "    print(meine_liste[i])\n",
        "    if meine_liste[i] % 2 == 0: # wenn das Element an der Stelle i durch 2 teilbar ist und der Rest 0 ist\n",
        "      del meine_liste[i] # das Element aus der Liste löschen\n",
        "      break # break verlässt die letzte Schleife\n",
        "\n",
        "print(\"schleife zu ende\")\n",
        "print(\"Liste nachher:\", meine_liste)"
      ],
      "metadata": {
        "id": "_ZELAliyQsa-"
      },
      "execution_count": null,
      "outputs": []
    },
    {
      "cell_type": "markdown",
      "source": [
        "Gegeben ist eine natürliche Zahl. Prüfe, ob diese Zahl eine Primzahl ist"
      ],
      "metadata": {
        "id": "A_UTDTwiuPKF"
      }
    },
    {
      "cell_type": "code",
      "source": [
        "# % - Operator teilt zahl1 durch zahl2 und gibt den Rest zurück\n",
        "zahl1 = 24\n",
        "zahl2 = 4\n",
        "print(\"zahl1 % zahl2 =\", zahl1 % zahl2 )\n",
        "print(\"Ist der Rest der Division 0?\", zahl1 % zahl2 == 0)"
      ],
      "metadata": {
        "id": "ssma7IaExYgz"
      },
      "execution_count": null,
      "outputs": []
    },
    {
      "cell_type": "code",
      "source": [
        "# Erstes Teilproblem: wie prüfen wir, ob eine Zahl durch eine andere Zahl teilbar ist\n",
        "\n",
        "zahl = 7 # Zahl ist gegeben\n",
        "\n",
        "# Wir müssen prüfen, ob die gegebene Zahl durch andere Zahlen teilbar ist\n",
        "test_zahl1 = 2\n",
        "zahl % test_zahl1 == 0"
      ],
      "metadata": {
        "id": "8Jmt9_u2iccj"
      },
      "execution_count": null,
      "outputs": []
    },
    {
      "cell_type": "code",
      "source": [
        "# Zweite Teilproblem: welche Zahlen müssen geprüft werden?\n",
        "\n",
        "# wir müssen alle Zahlen von 2 bis zu der gegebenen Zahl prüfen\n",
        "# wenn die gegebene Zahl durch keine der geprüften Zahlen teilbar ist, ist es eine Primzahl\n",
        "zahl = 7\n",
        "\n",
        "#für die Zahl 7 müssen die Zahlen 2,3,4,5,6 geprüft werden\n",
        "print(zahl % 2 == 0)\n",
        "print(zahl % 3 == 0)\n",
        "print(zahl % 4 == 0)\n",
        "print(zahl % 5 == 0)\n",
        "print(zahl % 6 == 0)"
      ],
      "metadata": {
        "id": "m41yBAfiwRPy"
      },
      "execution_count": null,
      "outputs": []
    },
    {
      "cell_type": "code",
      "source": [
        "# Drittes Teilproblem: wie können wir die zu prüfende Zahlen generieren\n",
        "\n",
        "zahl = 7\n",
        "\n",
        "for i in range(2,zahl):\n",
        "  zahl_durch_i_teilbar = zahl % i == 0\n",
        "  print(\"ist\",zahl,\"teilbar durch\",i, zahl_durch_i_teilbar)"
      ],
      "metadata": {
        "id": "yL0e52igzci-"
      },
      "execution_count": null,
      "outputs": []
    },
    {
      "cell_type": "code",
      "source": [
        "# Vierte Teilproblem: Die Primzahlen erkennen\n",
        "\n",
        "zahl = 19\n",
        "\n",
        "summe = 0\n",
        "for i in range(2,zahl):\n",
        "  zahl_durch_i_teilbar = zahl % i == 0\n",
        "  if zahl_durch_i_teilbar:\n",
        "    print(\"zahl durch\",i,\"teilbar\") # Wenn diese Zeile ausgeführt wird, kann zahl keine Primzahl sein\n",
        "    summe+=1\n",
        "\n",
        "print(\"Die Zahl ist durch\", summe, \"Zahlen teilbar\")\n",
        "\n",
        "if summe == 0:\n",
        "  print(zahl, \"ist eine Primzahl\")\n",
        "else:\n",
        "  print(zahl, \"ist keine Primzahl\")\n"
      ],
      "metadata": {
        "id": "9VcRDXQO2qW1",
        "colab": {
          "base_uri": "https://localhost:8080/"
        },
        "outputId": "a745c162-a644-4742-84f5-dfe5cee14faf"
      },
      "execution_count": null,
      "outputs": [
        {
          "output_type": "stream",
          "name": "stdout",
          "text": [
            "Die Zahl ist durch 0 Zahlen teilbar\n",
            "19 ist eine Primzahl\n"
          ]
        }
      ]
    },
    {
      "cell_type": "markdown",
      "source": [
        "Schreibe einen Algorithmus in einer Funktion"
      ],
      "metadata": {
        "id": "p2OGe0YeCbtN"
      }
    },
    {
      "cell_type": "code",
      "source": [
        "# der Code zum Primzahlen-prüfen ist allgemeingültig, deswegen kann er als Funktion geschrieben werden\n",
        "def meine_funktion(zahl): # zahl kann eine beliebiege Zahl sein\n",
        "  summe = 0\n",
        "  for i in range(2,zahl):\n",
        "    zahl_durch_i_teilbar = zahl % i == 0\n",
        "    if zahl_durch_i_teilbar:\n",
        "      print(\"zahl durch\",i,\"teilbar\") # Wenn diese Zeile ausgeführt wird, kann zahl keine Primzahl sein\n",
        "      summe+=1\n",
        "\n",
        "  print(\"Die Zahl ist durch\", summe, \"Zahlen teilbar\")\n",
        "\n",
        "meine_funktion(10)"
      ],
      "metadata": {
        "id": "WIYFG_Uu5zV2",
        "colab": {
          "base_uri": "https://localhost:8080/"
        },
        "outputId": "1419e578-b1a9-43fa-f8f3-610aef9d57c8"
      },
      "execution_count": null,
      "outputs": [
        {
          "output_type": "stream",
          "name": "stdout",
          "text": [
            "zahl durch 2 teilbar\n",
            "zahl durch 5 teilbar\n",
            "Die Zahl ist durch 2 Zahlen teilbar\n"
          ]
        }
      ]
    },
    {
      "cell_type": "code",
      "source": [
        "def zweite_funktion(a, b, c):\n",
        "  print(a, b, c)\n",
        "\n",
        "zweite_funktion(2,6, 5)"
      ],
      "metadata": {
        "colab": {
          "base_uri": "https://localhost:8080/"
        },
        "id": "3BWjOyXpFkbF",
        "outputId": "74cab07c-e950-442b-b8eb-aa127e6d69c9"
      },
      "execution_count": null,
      "outputs": [
        {
          "output_type": "stream",
          "name": "stdout",
          "text": [
            "2 6 5\n"
          ]
        }
      ]
    },
    {
      "cell_type": "markdown",
      "source": [
        "Gegeben ist eine Liste von Zahlen. Es soll eine Liste mit allen Elementen der Eingabe + 1 erzeugt werden.<br>\n",
        "Bsp:<br> Eingabe [1,2,3]<br>\n",
        "Ausgabe: [2,3,4]"
      ],
      "metadata": {
        "id": "hwjNP5eLXKUM"
      }
    },
    {
      "cell_type": "code",
      "source": [
        "liste = [1,2,3]\n",
        "\n",
        "#1. Neue Liste erstellen\n",
        "neue_liste = []\n",
        "\n",
        "for element in liste: # Jedes Element der Liste durchgehen\n",
        "  element+=1 # a+=1 ist die Kurzschreibweise für a = a+1\n",
        "  neue_liste.append(element)\n",
        "\n",
        "neue_liste"
      ],
      "metadata": {
        "colab": {
          "base_uri": "https://localhost:8080/"
        },
        "id": "91E2k-eeXaf8",
        "outputId": "bdd8bf23-9a7b-4178-b14d-99f81d6a6326"
      },
      "execution_count": null,
      "outputs": [
        {
          "output_type": "execute_result",
          "data": {
            "text/plain": [
              "[2, 3, 4]"
            ]
          },
          "metadata": {},
          "execution_count": 45
        }
      ]
    },
    {
      "cell_type": "markdown",
      "source": [
        "Es soll eine Liste von Primzahlen erstellt werden"
      ],
      "metadata": {
        "id": "ETR2b4jMaUkv"
      }
    },
    {
      "cell_type": "code",
      "source": [
        "# der Code zum Primzahlen-prüfen ist allgemeingültig, deswegen kann er als Funktion geschrieben werden\n",
        "def primzahl_pruefen(zahl): # zahl kann eine beliebiege Zahl sein\n",
        "  summe = 0\n",
        "  for i in range(2,zahl):\n",
        "    zahl_durch_i_teilbar = zahl % i == 0\n",
        "    if zahl_durch_i_teilbar:\n",
        "      summe+=1\n",
        "\n",
        "  return summe == 0\n",
        "\n",
        "primzahl_pruefen(2)"
      ],
      "metadata": {
        "colab": {
          "base_uri": "https://localhost:8080/"
        },
        "id": "qjla4omjaX-q",
        "outputId": "67f54ea0-995a-4970-bb4e-eb8b15f72c69"
      },
      "execution_count": null,
      "outputs": [
        {
          "output_type": "execute_result",
          "data": {
            "text/plain": [
              "True"
            ]
          },
          "metadata": {},
          "execution_count": 10
        }
      ]
    },
    {
      "cell_type": "code",
      "source": [
        "# 1. Liste definieren\n",
        "liste = []\n",
        "anzahl = 500\n",
        "\n",
        "# Primzahl generieren\n",
        "\n",
        "# 1. Unterproblem: Zahlen generieren\n",
        "i = 2\n",
        "while True:\n",
        "    if len(liste) < anzahl:\n",
        "      # 2. Unterproblem: prüfen, ob die generierte Zahl eine Primzahl ist\n",
        "      ist_primzahl = primzahl_pruefen(i)\n",
        "\n",
        "      if ist_primzahl == True:\n",
        "        liste.append(i)\n",
        "\n",
        "    else:\n",
        "      break\n",
        "  \n",
        "    i+=1\n",
        "\n",
        "\n",
        "print(liste)"
      ],
      "metadata": {
        "colab": {
          "base_uri": "https://localhost:8080/"
        },
        "id": "-3OcUifhaq6F",
        "outputId": "e9934a4e-f146-4beb-fa3b-9aae624648e1"
      },
      "execution_count": null,
      "outputs": [
        {
          "output_type": "stream",
          "name": "stdout",
          "text": [
            "[2, 3, 5, 7, 11, 13, 17, 19, 23, 29, 31, 37, 41, 43, 47, 53, 59, 61, 67, 71, 73, 79, 83, 89, 97, 101, 103, 107, 109, 113, 127, 131, 137, 139, 149, 151, 157, 163, 167, 173, 179, 181, 191, 193, 197, 199, 211, 223, 227, 229, 233, 239, 241, 251, 257, 263, 269, 271, 277, 281, 283, 293, 307, 311, 313, 317, 331, 337, 347, 349, 353, 359, 367, 373, 379, 383, 389, 397, 401, 409, 419, 421, 431, 433, 439, 443, 449, 457, 461, 463, 467, 479, 487, 491, 499, 503, 509, 521, 523, 541, 547, 557, 563, 569, 571, 577, 587, 593, 599, 601, 607, 613, 617, 619, 631, 641, 643, 647, 653, 659, 661, 673, 677, 683, 691, 701, 709, 719, 727, 733, 739, 743, 751, 757, 761, 769, 773, 787, 797, 809, 811, 821, 823, 827, 829, 839, 853, 857, 859, 863, 877, 881, 883, 887, 907, 911, 919, 929, 937, 941, 947, 953, 967, 971, 977, 983, 991, 997, 1009, 1013, 1019, 1021, 1031, 1033, 1039, 1049, 1051, 1061, 1063, 1069, 1087, 1091, 1093, 1097, 1103, 1109, 1117, 1123, 1129, 1151, 1153, 1163, 1171, 1181, 1187, 1193, 1201, 1213, 1217, 1223, 1229, 1231, 1237, 1249, 1259, 1277, 1279, 1283, 1289, 1291, 1297, 1301, 1303, 1307, 1319, 1321, 1327, 1361, 1367, 1373, 1381, 1399, 1409, 1423, 1427, 1429, 1433, 1439, 1447, 1451, 1453, 1459, 1471, 1481, 1483, 1487, 1489, 1493, 1499, 1511, 1523, 1531, 1543, 1549, 1553, 1559, 1567, 1571, 1579, 1583, 1597, 1601, 1607, 1609, 1613, 1619, 1621, 1627, 1637, 1657, 1663, 1667, 1669, 1693, 1697, 1699, 1709, 1721, 1723, 1733, 1741, 1747, 1753, 1759, 1777, 1783, 1787, 1789, 1801, 1811, 1823, 1831, 1847, 1861, 1867, 1871, 1873, 1877, 1879, 1889, 1901, 1907, 1913, 1931, 1933, 1949, 1951, 1973, 1979, 1987, 1993, 1997, 1999, 2003, 2011, 2017, 2027, 2029, 2039, 2053, 2063, 2069, 2081, 2083, 2087, 2089, 2099, 2111, 2113, 2129, 2131, 2137, 2141, 2143, 2153, 2161, 2179, 2203, 2207, 2213, 2221, 2237, 2239, 2243, 2251, 2267, 2269, 2273, 2281, 2287, 2293, 2297, 2309, 2311, 2333, 2339, 2341, 2347, 2351, 2357, 2371, 2377, 2381, 2383, 2389, 2393, 2399, 2411, 2417, 2423, 2437, 2441, 2447, 2459, 2467, 2473, 2477, 2503, 2521, 2531, 2539, 2543, 2549, 2551, 2557, 2579, 2591, 2593, 2609, 2617, 2621, 2633, 2647, 2657, 2659, 2663, 2671, 2677, 2683, 2687, 2689, 2693, 2699, 2707, 2711, 2713, 2719, 2729, 2731, 2741, 2749, 2753, 2767, 2777, 2789, 2791, 2797, 2801, 2803, 2819, 2833, 2837, 2843, 2851, 2857, 2861, 2879, 2887, 2897, 2903, 2909, 2917, 2927, 2939, 2953, 2957, 2963, 2969, 2971, 2999, 3001, 3011, 3019, 3023, 3037, 3041, 3049, 3061, 3067, 3079, 3083, 3089, 3109, 3119, 3121, 3137, 3163, 3167, 3169, 3181, 3187, 3191, 3203, 3209, 3217, 3221, 3229, 3251, 3253, 3257, 3259, 3271, 3299, 3301, 3307, 3313, 3319, 3323, 3329, 3331, 3343, 3347, 3359, 3361, 3371, 3373, 3389, 3391, 3407, 3413, 3433, 3449, 3457, 3461, 3463, 3467, 3469, 3491, 3499, 3511, 3517, 3527, 3529, 3533, 3539, 3541, 3547, 3557, 3559, 3571]\n"
          ]
        }
      ]
    },
    {
      "cell_type": "markdown",
      "source": [
        "Definiere eine Funktion f(x) und erstelle eine Wertetabelle"
      ],
      "metadata": {
        "id": "30lVlUB7kIIt"
      }
    },
    {
      "cell_type": "code",
      "source": [
        "def f(x):\n",
        "  #sigmoid-funktion\n",
        "  return (x/2/(1+abs(x)))+0.5"
      ],
      "metadata": {
        "id": "btWOfuB4eyUe"
      },
      "execution_count": null,
      "outputs": []
    },
    {
      "cell_type": "code",
      "source": [
        "# 1. 2 Listen erstellen\n",
        "x = []\n",
        "y = []\n",
        "\n",
        "# 2. X füllen\n",
        "for i in range(-30, 30+1):\n",
        "  x.append(i)\n",
        "\n",
        "# 3. Y zuordnen\n",
        "for i in x:\n",
        "  ergebnis = f(i)\n",
        "  y.append(ergebnis)\n",
        "\n",
        "import matplotlib.pyplot as plt\n",
        "plt.plot(x, y)"
      ],
      "metadata": {
        "colab": {
          "base_uri": "https://localhost:8080/",
          "height": 282
        },
        "id": "lanFFAf3kzgv",
        "outputId": "3bd8e844-31e4-4c67-c5b5-7af16e504212"
      },
      "execution_count": null,
      "outputs": [
        {
          "output_type": "execute_result",
          "data": {
            "text/plain": [
              "[<matplotlib.lines.Line2D at 0x7fdb46b51050>]"
            ]
          },
          "metadata": {},
          "execution_count": 78
        },
        {
          "output_type": "display_data",
          "data": {
            "image/png": "[encoded data removed]",
            "text/plain": [
              "<Figure size 432x288 with 1 Axes>"
            ]
          },
          "metadata": {
            "needs_background": "light"
          }
        }
      ]
    },
    {
      "cell_type": "code",
      "source": [
        "#Diese Befehle müsst ihr noch nicht können\n",
        "plt.plot([x for x in range(10)])\n",
        "plt.plot([x**2 for x in range(10)])"
      ],
      "metadata": {
        "colab": {
          "base_uri": "https://localhost:8080/",
          "height": 282
        },
        "id": "2lAXBiuTo4df",
        "outputId": "d6e778ca-c68c-4919-de4b-68637cff6257"
      },
      "execution_count": null,
      "outputs": [
        {
          "output_type": "execute_result",
          "data": {
            "text/plain": [
              "[<matplotlib.lines.Line2D at 0x7fdb46fe3050>]"
            ]
          },
          "metadata": {},
          "execution_count": 54
        },
        {
          "output_type": "display_data",
          "data": {
            "image/png": "[encoded data removed]",
            "text/plain": [
              "<Figure size 432x288 with 1 Axes>"
            ]
          },
          "metadata": {
            "needs_background": "light"
          }
        }
      ]
    },
    {
      "cell_type": "code",
      "source": [
        ""
      ],
      "metadata": {
        "id": "jCCeLuCvpWfh"
      },
      "execution_count": null,
      "outputs": []
    }
  ]
}