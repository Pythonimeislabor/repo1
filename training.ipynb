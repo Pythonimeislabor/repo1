{
 "cells": [
  {
   "cell_type": "code",
   "execution_count": 29,
   "id": "e5cfbefe-29cf-4883-aade-66c4026c2510",
   "metadata": {},
   "outputs": [],
   "source": [
    "import cv2 # Bildbearbeitung\n",
    "import matplotlib.pyplot as plt # Bilder anzeigen\n",
    "import os # Um Bilder in den Ordnern zu finden\n",
    "import numpy as np # Für Arrays mit denen Tensorflow umgehen kann\n",
    "import tensorflow as tf # für deep-learning / neuronale Netze"
   ]
  },
  {
   "cell_type": "code",
   "execution_count": 30,
   "id": "44155944-e0d6-4a93-bba4-d2405561d9ef",
   "metadata": {},
   "outputs": [],
   "source": [
    "#X = [bild1, bild2, bild3]\n",
    "#Y = [Beschriftung1, Beschriftung2, Beschriftung3]\n",
    "\n",
    "X = []\n",
    "Y = []\n",
    "\n",
    "def lade_bild(pfad): # Bild laden und vorverarbeiten\n",
    "  bild = cv2.imread(pfad) # bild lesen vom rgba-format\n",
    "  bild_in_grau = cv2.cvtColor(bild, cv2.COLOR_BGR2GRAY) # Alpha-Wert herausfiltern\n",
    "  bild_0_1 = bild_in_grau / 255 # bild zwischen 0 und 1 skalieren\n",
    "\n",
    "  return bild_0_1 # Bild an den Aufruf zurückgeben\n",
    "\n",
    "\n",
    "for zahl in range(10): # Wir haben ordner von 0 bis 9\n",
    "    pfad = \"unsere_daten/\"+str(zahl)+\"/\" # Pfad zusammenbauen\n",
    "    #print(\"zahl ist\", zahl, \"- Der Pfad ist\", pfad)\n",
    "    alle_bilder_namen = os.listdir(pfad) # alle bilder im pfad auflisten\n",
    "    for name in alle_bilder_namen: # alle bilder in dem Ordner durchgehen\n",
    "      if \".jpg\" in name:\n",
    "          pfad_zum_bild = pfad + name \n",
    "          bild = lade_bild(pfad_zum_bild)\n",
    "\n",
    "          X.append(bild) # Das Bild an X anhängen\n",
    "          Y.append(zahl) # Die zugehörige Zahl an Y anhängen"
   ]
  },
  {
   "cell_type": "code",
   "execution_count": 31,
   "id": "0d1a4708-cafb-4a35-926c-18b801a305ec",
   "metadata": {},
   "outputs": [
    {
     "name": "stdout",
     "output_type": "stream",
     "text": [
      "Es wird das Bild mit dem index 201 angezeigt\n",
      "Y ist  3\n"
     ]
    },
    {
     "data": {
      "image/png": "[encoded data removed]",
      "text/plain": [
       "<Figure size 432x288 with 1 Axes>"
      ]
     },
     "metadata": {
      "needs_background": "light"
     },
     "output_type": "display_data"
    }
   ],
   "source": [
    "index = 201\n",
    "\n",
    "print(\"Es wird das Bild mit dem index\", index, \"angezeigt\")\n",
    "plt.imshow(X[index], cmap = \"gray\"), \n",
    "print(\"Y ist \", Y[index])"
   ]
  },
  {
   "cell_type": "code",
   "execution_count": 32,
   "id": "123b9c8e-e311-4c92-812f-19cc1f0943df",
   "metadata": {},
   "outputs": [],
   "source": [
    "# listen in numpy arrays umwandeln\n",
    "Y = np.array(Y) # numpy arrays sind für viele Elemente eine bessere Speichermethode\n",
    "X = np.array(X) # tensorflow benötigt numpy arrays und kann nicht mit listen arbeiten\n",
    "\n",
    "# X und Y gleichmäßig mischen\n",
    "# X und Y werden so gemischt, dass Y[index] die Zahl enthält die in X[index] gespeichert ist\n",
    "p = np.random.permutation(Y.shape[0]) \n",
    "X = X[p]\n",
    "Y = Y[p] "
   ]
  },
  {
   "cell_type": "code",
   "execution_count": 33,
   "id": "5ba9e725-60d9-4917-b104-fc400992aecf",
   "metadata": {},
   "outputs": [
    {
     "data": {
      "text/plain": [
       "<matplotlib.image.AxesImage at 0x7f344740d0>"
      ]
     },
     "execution_count": 33,
     "metadata": {},
     "output_type": "execute_result"
    },
    {
     "data": {
      "image/png": "[encoded data removed]",
      "text/plain": [
       "<Figure size 432x288 with 1 Axes>"
      ]
     },
     "metadata": {
      "needs_background": "light"
     },
     "output_type": "display_data"
    }
   ],
   "source": [
    "random_gedreht = tf.keras.layers.RandomRotation((-0.05, 0.05))(X[3].reshape(1,28,28,1), training=True)\n",
    "random_verschieben = tf.keras.layers.RandomTranslation((-0.05,0.05), (-0.05,0.05)) (random_gedreht, training=True)\n",
    "random_Zoom = tf.keras.layers.RandomZoom((-0.3,0.1)) (random_verschieben, training=True)\n",
    "\n",
    "plt.imshow(random_Zoom.numpy()[0].reshape(28,28))"
   ]
  },
  {
   "cell_type": "code",
   "execution_count": 34,
   "id": "66259059-ac09-4b4e-a831-9813697965d2",
   "metadata": {},
   "outputs": [
    {
     "name": "stdout",
     "output_type": "stream",
     "text": [
      "\n",
      "Model: \"model\"\n",
      "_________________________________________________________________\n",
      " Layer (type)                Output Shape              Param #   \n",
      "=================================================================\n",
      " input_1 (InputLayer)        [(None, 28, 28)]          0         \n",
      "                                                                 \n",
      " reshape (Reshape)           (None, 28, 28, 1)         0         \n",
      "                                                                 \n",
      " random_rotation_1 (RandomRo  (None, 28, 28, 1)        0         \n",
      " tation)                                                         \n",
      "                                                                 \n",
      " random_translation_1 (Rando  (None, 28, 28, 1)        0         \n",
      " mTranslation)                                                   \n",
      "                                                                 \n",
      " random_zoom_1 (RandomZoom)  (None, 28, 28, 1)         0         \n",
      "                                                                 \n",
      " conv2d (Conv2D)             (None, 24, 24, 16)        416       \n",
      "                                                                 \n",
      " dropout (Dropout)           (None, 24, 24, 16)        0         \n",
      "                                                                 \n",
      " conv2d_1 (Conv2D)           (None, 22, 22, 16)        2320      \n",
      "                                                                 \n",
      " dropout_1 (Dropout)         (None, 22, 22, 16)        0         \n",
      "                                                                 \n",
      " conv2d_2 (Conv2D)           (None, 22, 22, 5)         85        \n",
      "                                                                 \n",
      " flatten (Flatten)           (None, 2420)              0         \n",
      "                                                                 \n",
      " dense (Dense)               (None, 8)                 19368     \n",
      "                                                                 \n",
      " dropout_2 (Dropout)         (None, 8)                 0         \n",
      "                                                                 \n",
      " dense_1 (Dense)             (None, 8)                 72        \n",
      "                                                                 \n",
      " dropout_3 (Dropout)         (None, 8)                 0         \n",
      "                                                                 \n",
      " dense_2 (Dense)             (None, 10)                80        \n",
      "                                                                 \n",
      "=================================================================\n",
      "Total params: 22,341\n",
      "Trainable params: 22,341\n",
      "Non-trainable params: 0\n",
      "_________________________________________________________________\n"
     ]
    }
   ],
   "source": [
    "inputlayer = tf.keras.layers.Input(shape=(28,28)) # unser Bild hat die Form [Höhe, Breite]\n",
    "\n",
    "bild_3_d = tf.keras.layers.Reshape((28,28,1)) (inputlayer)\n",
    "\n",
    "random_gedreht = tf.keras.layers.RandomRotation((-0.05, 0.05))(bild_3_d)\n",
    "random_verschieben = tf.keras.layers.RandomTranslation((-0.05,0.05), (-0.05,0.05)) (random_gedreht)\n",
    "random_Zoom = tf.keras.layers.RandomZoom((-0.3,0.1)) (random_verschieben)\n",
    "\n",
    "filter_1 = tf.keras.layers.Conv2D(16,5, activation=\"relu\") (random_Zoom)\n",
    "drop1 = tf.keras.layers.Dropout(0.2)(filter_1)\n",
    "\n",
    "\n",
    "filter_2 = tf.keras.layers.Conv2D(16,3, activation=\"relu\") (drop1)\n",
    "drop2 = tf.keras.layers.Dropout(0.2)(filter_2)\n",
    "\n",
    "filter_3 = tf.keras.layers.Conv2D(5,1, activation=\"relu\") (drop2) # von 5x5x16 auf 5x5x5\n",
    "\n",
    "\n",
    "platt = tf.keras.layers.Flatten()(filter_3)\n",
    "\n",
    "x = tf.keras.layers.Dense(8,activation=\"relu\")(platt)\n",
    "x = tf.keras.layers.Dropout(0.2)(x)\n",
    "x = tf.keras.layers.Dense(8,activation=\"relu\")(x)\n",
    "x = tf.keras.layers.Dropout(0.2)(x)\n",
    "output = tf.keras.layers.Dense(10,activation=\"softmax\", use_bias = False)(x)\n",
    "\n",
    "model = tf.keras.Model(inputlayer, output)\n",
    "print(\"\")\n",
    "model.summary()"
   ]
  },
  {
   "cell_type": "code",
   "execution_count": 35,
   "id": "7b187bb2-2b02-463b-8754-e3a31c7a644f",
   "metadata": {},
   "outputs": [],
   "source": [
    "fehlerfunktion = tf.keras.losses.SparseCategoricalCrossentropy()\n",
    "optimierer = tf.keras.optimizers.Adam(0.001)\n",
    "model.compile(optimierer, fehlerfunktion, metrics=\"accuracy\")"
   ]
  },
  {
   "cell_type": "code",
   "execution_count": 36,
   "id": "44a3d2ca-aa11-47d1-93d6-51f92300243d",
   "metadata": {},
   "outputs": [
    {
     "name": "stdout",
     "output_type": "stream",
     "text": [
      "Epoch 1/200\n",
      " 2/60 [>.............................] - ETA: 5s - loss: 2.3091 - accuracy: 0.0000e+00  "
     ]
    },
    {
     "name": "stderr",
     "output_type": "stream",
     "text": [
      "2022-03-28 13:31:05.204137: W tensorflow/core/framework/cpu_allocator_impl.cc:82] Allocation of 23789568 exceeds 10% of free system memory.\n",
      "2022-03-28 13:31:05.205565: W tensorflow/core/framework/cpu_allocator_impl.cc:82] Allocation of 23789568 exceeds 10% of free system memory.\n",
      "2022-03-28 13:31:05.218154: W tensorflow/core/framework/cpu_allocator_impl.cc:82] Allocation of 27599616 exceeds 10% of free system memory.\n",
      "2022-03-28 13:31:05.224455: W tensorflow/core/framework/cpu_allocator_impl.cc:82] Allocation of 27599616 exceeds 10% of free system memory.\n",
      "2022-03-28 13:31:05.247476: W tensorflow/core/framework/cpu_allocator_impl.cc:82] Allocation of 18892800 exceeds 10% of free system memory.\n"
     ]
    },
    {
     "name": "stdout",
     "output_type": "stream",
     "text": [
      "60/60 [==============================] - 16s 128ms/step - loss: 2.0096 - accuracy: 0.3104 - val_loss: 1.3662 - val_accuracy: 0.5372\n",
      "Epoch 2/200\n",
      "60/60 [==============================] - 6s 101ms/step - loss: 1.4882 - accuracy: 0.4167 - val_loss: 0.8392 - val_accuracy: 0.5372\n",
      "Epoch 3/200\n",
      "60/60 [==============================] - 6s 100ms/step - loss: 1.1487 - accuracy: 0.4583 - val_loss: 0.6801 - val_accuracy: 0.5372\n",
      "Epoch 4/200\n",
      "60/60 [==============================] - 6s 107ms/step - loss: 0.9473 - accuracy: 0.5625 - val_loss: 0.5906 - val_accuracy: 0.8760\n",
      "Epoch 5/200\n",
      "60/60 [==============================] - 6s 101ms/step - loss: 0.7738 - accuracy: 0.6479 - val_loss: 0.4644 - val_accuracy: 0.8678\n",
      "Epoch 6/200\n",
      "60/60 [==============================] - 6s 101ms/step - loss: 0.6893 - accuracy: 0.6896 - val_loss: 0.3715 - val_accuracy: 0.8760\n",
      "Epoch 7/200\n",
      "60/60 [==============================] - 6s 102ms/step - loss: 0.5892 - accuracy: 0.7375 - val_loss: 0.2373 - val_accuracy: 0.9174\n",
      "Epoch 8/200\n",
      "60/60 [==============================] - 6s 104ms/step - loss: 0.5300 - accuracy: 0.7833 - val_loss: 0.1478 - val_accuracy: 0.9669\n",
      "Epoch 9/200\n",
      "60/60 [==============================] - 6s 102ms/step - loss: 0.4994 - accuracy: 0.7958 - val_loss: 0.1148 - val_accuracy: 0.9504\n",
      "Epoch 10/200\n",
      "60/60 [==============================] - 6s 101ms/step - loss: 0.4202 - accuracy: 0.8396 - val_loss: 0.1283 - val_accuracy: 0.9752\n",
      "Epoch 11/200\n",
      "60/60 [==============================] - 6s 100ms/step - loss: 0.4258 - accuracy: 0.8208 - val_loss: 0.1120 - val_accuracy: 0.9835\n",
      "Epoch 12/200\n",
      "60/60 [==============================] - 6s 101ms/step - loss: 0.4309 - accuracy: 0.7875 - val_loss: 0.0849 - val_accuracy: 0.9752\n",
      "Epoch 13/200\n",
      "60/60 [==============================] - 6s 101ms/step - loss: 0.4204 - accuracy: 0.7979 - val_loss: 0.1047 - val_accuracy: 0.9752\n",
      "Epoch 14/200\n",
      "60/60 [==============================] - 6s 105ms/step - loss: 0.4036 - accuracy: 0.8250 - val_loss: 0.0779 - val_accuracy: 0.9752\n",
      "Epoch 15/200\n",
      "60/60 [==============================] - 6s 101ms/step - loss: 0.3343 - accuracy: 0.8354 - val_loss: 0.0760 - val_accuracy: 0.9752\n",
      "Epoch 16/200\n",
      "60/60 [==============================] - 6s 102ms/step - loss: 0.3570 - accuracy: 0.8313 - val_loss: 0.0468 - val_accuracy: 0.9752\n",
      "Epoch 17/200\n",
      "60/60 [==============================] - 6s 99ms/step - loss: 0.3319 - accuracy: 0.8479 - val_loss: 0.0460 - val_accuracy: 0.9752\n",
      "Epoch 18/200\n",
      "60/60 [==============================] - 6s 102ms/step - loss: 0.3250 - accuracy: 0.8396 - val_loss: 0.0389 - val_accuracy: 0.9752\n",
      "Epoch 19/200\n",
      "60/60 [==============================] - 6s 103ms/step - loss: 0.3054 - accuracy: 0.8438 - val_loss: 0.0751 - val_accuracy: 0.9669\n",
      "Epoch 20/200\n",
      "60/60 [==============================] - 6s 100ms/step - loss: 0.3101 - accuracy: 0.8542 - val_loss: 0.0427 - val_accuracy: 0.9752\n",
      "Epoch 21/200\n",
      "60/60 [==============================] - 6s 105ms/step - loss: 0.2246 - accuracy: 0.8625 - val_loss: 0.0407 - val_accuracy: 0.9669\n",
      "Epoch 22/200\n",
      "60/60 [==============================] - 6s 106ms/step - loss: 0.2738 - accuracy: 0.8687 - val_loss: 0.0345 - val_accuracy: 0.9917\n",
      "Epoch 23/200\n",
      "60/60 [==============================] - 6s 101ms/step - loss: 0.2973 - accuracy: 0.8604 - val_loss: 0.0253 - val_accuracy: 0.9835\n",
      "Epoch 24/200\n",
      "60/60 [==============================] - 6s 103ms/step - loss: 0.2483 - accuracy: 0.8604 - val_loss: 0.0179 - val_accuracy: 0.9917\n",
      "Epoch 25/200\n",
      "50/60 [========================>.....] - ETA: 0s - loss: 0.2520 - accuracy: 0.8875"
     ]
    },
    {
     "name": "stderr",
     "output_type": "stream",
     "text": [
      "\n",
      "KeyboardInterrupt\n",
      "\n"
     ]
    }
   ],
   "source": [
    "model.fit(X, Y, batch_size = 8, epochs = 200, validation_split = 0.2) # Parameter optimieren"
   ]
  },
  {
   "cell_type": "code",
   "execution_count": 37,
   "id": "41d31d1b-5164-4818-a4da-3bf7a5fe7ea0",
   "metadata": {},
   "outputs": [],
   "source": [
    "model.save(\"model.h5\") # Netzwerk und Parameter speichern"
   ]
  },
  {
   "cell_type": "code",
   "execution_count": null,
   "id": "4e77dabd-cc60-4fd6-b232-2f47f31b1389",
   "metadata": {},
   "outputs": [],
   "source": []
  }
 ],
 "metadata": {
  "kernelspec": {
   "display_name": "Python 3 (ipykernel)",
   "language": "python",
   "name": "python3"
  },
  "language_info": {
   "codemirror_mode": {
    "name": "ipython",
    "version": 3
   },
   "file_extension": ".py",
   "mimetype": "text/x-python",
   "name": "python",
   "nbconvert_exporter": "python",
   "pygments_lexer": "ipython3",
   "version": "3.9.2"
  }
 },
 "nbformat": 4,
 "nbformat_minor": 5
}
