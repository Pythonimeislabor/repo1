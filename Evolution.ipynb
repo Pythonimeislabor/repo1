{
  "nbformat": 4,
  "nbformat_minor": 0,
  "metadata": {
    "colab": {
      "name": "Evolution",
      "provenance": [],
      "authorship_tag": "ABX9TyNcjr7rcfscN8KymIq/o4Ed",
      "include_colab_link": true
    },
    "kernelspec": {
      "name": "python3",
      "display_name": "Python 3"
    },
    "language_info": {
      "name": "python"
    }
  },
  "cells": [
    {
      "cell_type": "markdown",
      "metadata": {
        "id": "view-in-github",
        "colab_type": "text"
      },
      "source": [
        "<a href=\"https://colab.research.google.com/github/Pythonimeislabor/repo1/blob/main/Evolution.ipynb\" target=\"_parent\"><img src=\"https://colab.research.google.com/assets/colab-badge.svg\" alt=\"Open In Colab\"/></a>"
      ]
    },
    {
      "cell_type": "code",
      "execution_count": 5,
      "metadata": {
        "colab": {
          "base_uri": "https://localhost:8080/"
        },
        "id": "0c9ivvdNiQ_m",
        "outputId": "bc505010-3b04-44d7-b26a-f7cf579f5a5c"
      },
      "outputs": [
        {
          "output_type": "execute_result",
          "data": {
            "text/plain": [
              "70"
            ]
          },
          "metadata": {},
          "execution_count": 5
        }
      ],
      "source": [
        "spontane_erscheinungsrate = 10\n",
        "sterberate = 2\n",
        "\n"
      ]
    },
    {
      "cell_type": "markdown",
      "source": [
        "# Zufallszahlen"
      ],
      "metadata": {
        "id": "JONhYg3dlPGe"
      }
    },
    {
      "cell_type": "code",
      "source": [
        "import random\n",
        "# eine Zufallszahl generieren\n",
        "def zufallszahl():\n",
        "  zufallszahl = random.randint(1,100)\n",
        "  return zufallszahl\n",
        "\n",
        "zufallszahl()"
      ],
      "metadata": {
        "colab": {
          "base_uri": "https://localhost:8080/"
        },
        "id": "m7ky8NURlOqD",
        "outputId": "12115be2-3241-40ba-fee8-030641119f0a"
      },
      "execution_count": 10,
      "outputs": [
        {
          "output_type": "execute_result",
          "data": {
            "text/plain": [
              "77"
            ]
          },
          "metadata": {},
          "execution_count": 10
        }
      ]
    },
    {
      "cell_type": "code",
      "source": [
        "verteilungs_liste = [] # Speichert, wie oft eine Zahl generiert wurde\n",
        "# Liste mit 0 füllen\n",
        "for _ in range(100):\n",
        "  verteilungs_liste.append(0)\n",
        "\n",
        "len(verteilungs_liste)"
      ],
      "metadata": {
        "colab": {
          "base_uri": "https://localhost:8080/"
        },
        "id": "M1ogGRNmnv7I",
        "outputId": "11c04e7c-941e-462d-fa82-03b59530f508"
      },
      "execution_count": 38,
      "outputs": [
        {
          "output_type": "execute_result",
          "data": {
            "text/plain": [
              "100"
            ]
          },
          "metadata": {},
          "execution_count": 38
        }
      ]
    },
    {
      "cell_type": "code",
      "source": [
        "zufallszahlen = []\n",
        "for _ in range(1000):\n",
        "  zahl = zufallszahl()\n",
        "  index = zahl - 1\n",
        "  verteilungs_liste[index] += 1 # Die Verteilungsliste an der Stelle der Zufallszahl erhöhen\n",
        "                                # Bsp: zufallszahl = 8, liste[7] erhöhen\n",
        "                                # [0,0,0,0,0,0,0,0,0,0] -> [0,0,0,0,0,0,0,1,0,0]"
      ],
      "metadata": {
        "id": "HKLgFBnMpipk"
      },
      "execution_count": 39,
      "outputs": []
    },
    {
      "cell_type": "code",
      "source": [
        "x = [] # Namen der Säulen für pyplot\n",
        "for i in range(100):\n",
        "  x.append(i+1)"
      ],
      "metadata": {
        "id": "8L3MMauVv38t"
      },
      "execution_count": 40,
      "outputs": []
    },
    {
      "cell_type": "code",
      "source": [
        "import matplotlib.pyplot as plt\n",
        "plt.bar(x, verteilungs_liste)"
      ],
      "metadata": {
        "colab": {
          "base_uri": "https://localhost:8080/",
          "height": 282
        },
        "id": "-vLFoXoGrfiS",
        "outputId": "a47586b0-64f6-4080-a6da-2f3b70c34b9f"
      },
      "execution_count": 41,
      "outputs": [
        {
          "output_type": "execute_result",
          "data": {
            "text/plain": [
              "<BarContainer object of 100 artists>"
            ]
          },
          "metadata": {},
          "execution_count": 41
        },
        {
          "output_type": "display_data",
          "data": {
            "image/png": "[encoded data removed]",
            "text/plain": [
              "<Figure size 432x288 with 1 Axes>"
            ]
          },
          "metadata": {
            "needs_background": "light"
          }
        }
      ]
    },
    {
      "cell_type": "code",
      "source": [
        ""
      ],
      "metadata": {
        "id": "U0Bbpa2HwJI9"
      },
      "execution_count": 26,
      "outputs": []
    }
  ]
}