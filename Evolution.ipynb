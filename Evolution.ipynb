{
  "nbformat": 4,
  "nbformat_minor": 0,
  "metadata": {
    "colab": {
      "name": "Evolution",
      "provenance": [],
      "authorship_tag": "ABX9TyP2RN6gvBgqWb1JNdieFtl9",
      "include_colab_link": true
    },
    "kernelspec": {
      "name": "python3",
      "display_name": "Python 3"
    },
    "language_info": {
      "name": "python"
    }
  },
  "cells": [
    {
      "cell_type": "markdown",
      "metadata": {
        "id": "view-in-github",
        "colab_type": "text"
      },
      "source": [
        "<a href=\"https://colab.research.google.com/github/Pythonimeislabor/repo1/blob/main/Evolution.ipynb\" target=\"_parent\"><img src=\"https://colab.research.google.com/assets/colab-badge.svg\" alt=\"Open In Colab\"/></a>"
      ]
    },
    {
      "cell_type": "code",
      "execution_count": 5,
      "metadata": {
        "colab": {
          "base_uri": "https://localhost:8080/"
        },
        "id": "0c9ivvdNiQ_m",
        "outputId": "bc505010-3b04-44d7-b26a-f7cf579f5a5c"
      },
      "outputs": [
        {
          "output_type": "execute_result",
          "data": {
            "text/plain": [
              "70"
            ]
          },
          "metadata": {},
          "execution_count": 5
        }
      ],
      "source": [
        "spontane_erscheinungsrate = 10\n",
        "sterberate = 2\n",
        "\n"
      ]
    },
    {
      "cell_type": "markdown",
      "source": [
        "Zufallszahl generieren"
      ],
      "metadata": {
        "id": "JONhYg3dlPGe"
      }
    },
    {
      "cell_type": "code",
      "source": [
        "import random\n",
        "def zufallszahl():\n",
        "  zufallszahl = random.randint(1,100)\n",
        "  return zufallszahl\n",
        "\n",
        "zufallszahl()"
      ],
      "metadata": {
        "colab": {
          "base_uri": "https://localhost:8080/"
        },
        "id": "m7ky8NURlOqD",
        "outputId": "12115be2-3241-40ba-fee8-030641119f0a"
      },
      "execution_count": 10,
      "outputs": [
        {
          "output_type": "execute_result",
          "data": {
            "text/plain": [
              "77"
            ]
          },
          "metadata": {},
          "execution_count": 10
        }
      ]
    },
    {
      "cell_type": "code",
      "source": [
        "verteilungs_liste = []\n",
        "# Liste mit 0 füllen\n",
        "for _ in range(100):\n",
        "  verteilungs_liste.append(0)\n",
        "\n",
        "len(verteilungs_liste)"
      ],
      "metadata": {
        "colab": {
          "base_uri": "https://localhost:8080/"
        },
        "id": "M1ogGRNmnv7I",
        "outputId": "9b89efe8-5e95-4ff4-c6e1-da7ada844532"
      },
      "execution_count": 12,
      "outputs": [
        {
          "output_type": "execute_result",
          "data": {
            "text/plain": [
              "100"
            ]
          },
          "metadata": {},
          "execution_count": 12
        }
      ]
    },
    {
      "cell_type": "code",
      "source": [
        "zufallszahlen = []\n",
        "for _ in range(300):\n",
        "  zahl = zufallszahl()\n",
        "  index = zahl - 1\n",
        "  verteilungs_liste[index] += 1"
      ],
      "metadata": {
        "id": "HKLgFBnMpipk"
      },
      "execution_count": null,
      "outputs": []
    },
    {
      "cell_type": "code",
      "source": [
        ""
      ],
      "metadata": {
        "id": "-vLFoXoGrfiS"
      },
      "execution_count": null,
      "outputs": []
    }
  ]
}