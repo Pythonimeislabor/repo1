{
  "nbformat": 4,
  "nbformat_minor": 0,
  "metadata": {
    "colab": {
      "name": "Evolution",
      "provenance": [],
      "authorship_tag": "ABX9TyObCcI6QYVkAPbjWBCheTW/",
      "include_colab_link": true
    },
    "kernelspec": {
      "name": "python3",
      "display_name": "Python 3"
    },
    "language_info": {
      "name": "python"
    }
  },
  "cells": [
    {
      "cell_type": "markdown",
      "metadata": {
        "id": "view-in-github",
        "colab_type": "text"
      },
      "source": [
        "<a href=\"https://colab.research.google.com/github/Pythonimeislabor/repo1/blob/main/Evolution.ipynb\" target=\"_parent\"><img src=\"https://colab.research.google.com/assets/colab-badge.svg\" alt=\"Open In Colab\"/></a>"
      ]
    },
    {
      "cell_type": "code",
      "execution_count": null,
      "metadata": {
        "colab": {
          "base_uri": "https://localhost:8080/"
        },
        "id": "0c9ivvdNiQ_m",
        "outputId": "bc505010-3b04-44d7-b26a-f7cf579f5a5c"
      },
      "outputs": [
        {
          "output_type": "execute_result",
          "data": {
            "text/plain": [
              "70"
            ]
          },
          "metadata": {},
          "execution_count": 5
        }
      ],
      "source": [
        "spontane_erscheinungsrate = 10\n",
        "sterberate = 2"
      ]
    },
    {
      "cell_type": "markdown",
      "source": [
        "# Vorbereitung: Zufallszahlen"
      ],
      "metadata": {
        "id": "JONhYg3dlPGe"
      }
    },
    {
      "cell_type": "code",
      "source": [
        "import random\n",
        "# eine Zufallszahl generieren\n",
        "def zufallszahl():\n",
        "  zufallszahl = random.randint(1,100)\n",
        "  return zufallszahl\n",
        "\n",
        "zufallszahl()"
      ],
      "metadata": {
        "colab": {
          "base_uri": "https://localhost:8080/"
        },
        "id": "m7ky8NURlOqD",
        "outputId": "12115be2-3241-40ba-fee8-030641119f0a"
      },
      "execution_count": null,
      "outputs": [
        {
          "output_type": "execute_result",
          "data": {
            "text/plain": [
              "77"
            ]
          },
          "metadata": {},
          "execution_count": 10
        }
      ]
    },
    {
      "cell_type": "code",
      "source": [
        "verteilungs_liste = [] # Speichert, wie oft eine Zahl generiert wurde\n",
        "# Liste mit 0 füllen\n",
        "for _ in range(100): # 100 Einträge weil Zahlen von 1 - 100 = 100 verschiedene Möglichkeiten\n",
        "  verteilungs_liste.append(0)\n",
        "\n",
        "len(verteilungs_liste)"
      ],
      "metadata": {
        "colab": {
          "base_uri": "https://localhost:8080/"
        },
        "id": "M1ogGRNmnv7I",
        "outputId": "62397308-05e9-44b8-e4ab-2173bf923936"
      },
      "execution_count": null,
      "outputs": [
        {
          "output_type": "execute_result",
          "data": {
            "text/plain": [
              "100"
            ]
          },
          "metadata": {},
          "execution_count": 61
        }
      ]
    },
    {
      "cell_type": "code",
      "source": [
        "zufallszahlen = []\n",
        "for _ in range(1000): # Anzahl der zu generierenden Zahlen hier eintragen\n",
        "  zahl = zufallszahl()\n",
        "  index = zahl - 1\n",
        "  verteilungs_liste[index] += 1 # Die Verteilungsliste an der Stelle der Zufallszahl erhöhen\n",
        "                                # Bsp: zufallszahl = 8, liste[7] erhöhen\n",
        "                                # [0,0,0,0,0,0,0,0,0,0] -> [0,0,0,0,0,0,0,1,0,0]"
      ],
      "metadata": {
        "id": "HKLgFBnMpipk"
      },
      "execution_count": null,
      "outputs": []
    },
    {
      "cell_type": "code",
      "source": [
        "x = [] # Namen der Säulen für pyplot, jede Säule bekommt als Namen die Nummer dessen Anzahl sie angibt. \n",
        "       # Bsp: Die Zahl 1 wurde 2 mal generiert. Die Säule ist 2 Einheiten hoch. Die Säule trägt den Namen \"1\"\n",
        "for i in range(100):\n",
        "  x.append(i+1)"
      ],
      "metadata": {
        "id": "8L3MMauVv38t"
      },
      "execution_count": null,
      "outputs": []
    },
    {
      "cell_type": "code",
      "source": [
        "import matplotlib.pyplot as plt\n",
        "x = [\"säule1\", \"säule2\", \"säule3\"] # Namen\n",
        "y = [4,5,7] # Höhen\n",
        "plt.bar(x,y)"
      ],
      "metadata": {
        "colab": {
          "base_uri": "https://localhost:8080/",
          "height": 282
        },
        "id": "U0Bbpa2HwJI9",
        "outputId": "dc9640bb-4b7e-4e45-83d1-b4b75632b153"
      },
      "execution_count": null,
      "outputs": [
        {
          "output_type": "execute_result",
          "data": {
            "text/plain": [
              "<BarContainer object of 3 artists>"
            ]
          },
          "metadata": {},
          "execution_count": 68
        },
        {
          "output_type": "display_data",
          "data": {
            "image/png": "[encoded data removed]",
            "text/plain": [
              "<Figure size 432x288 with 1 Axes>"
            ]
          },
          "metadata": {
            "needs_background": "light"
          }
        }
      ]
    },
    {
      "cell_type": "code",
      "source": [
        "plt.bar(x, verteilungs_liste) # x enthält die Namen, verteilungs_liste enthält die Höhen"
      ],
      "metadata": {
        "colab": {
          "base_uri": "https://localhost:8080/",
          "height": 282
        },
        "id": "-vLFoXoGrfiS",
        "outputId": "e6e5fd02-dc0f-440d-f029-c935ff532e2e"
      },
      "execution_count": null,
      "outputs": [
        {
          "output_type": "execute_result",
          "data": {
            "text/plain": [
              "<BarContainer object of 100 artists>"
            ]
          },
          "metadata": {},
          "execution_count": 67
        },
        {
          "output_type": "display_data",
          "data": {
            "image/png": "[encoded data removed]",
            "text/plain": [
              "<Figure size 432x288 with 1 Axes>"
            ]
          },
          "metadata": {
            "needs_background": "light"
          }
        }
      ]
    },
    {
      "cell_type": "markdown",
      "source": [
        "Die pyplot-Bar-Funktion"
      ],
      "metadata": {
        "id": "DU31-K35Q3QH"
      }
    },
    {
      "cell_type": "markdown",
      "source": [
        "# Einen Wahrheitswert mit Wahrscheinlichkeit generieren"
      ],
      "metadata": {
        "id": "kVi_r6HOSIrP"
      }
    },
    {
      "cell_type": "code",
      "source": [
        "import random\n",
        "# eine Zufallszahl generieren\n",
        "def zufallszahl():\n",
        "  zufallszahl = random.randint(1,100) # Zahl zwischen 1 und 100 generieren\n",
        "  return zufallszahl\n",
        "  \n",
        "def wahrheitswert(p): # p ist die Wahrscheinlichkeit in %\n",
        "  zahl = zufallszahl() # zahl ist zufällig zwischen 1 und 100, beide Zahlen eingeschlossen\n",
        "  if zahl <= p:\n",
        "    return True, zahl # return gibt einen Wert an den Aufruf zurück\n",
        "  else:\n",
        "    return False, zahl\n",
        "\n",
        "ergebnis, zahl = wahrheitswert(50) # zu 50 % wird True generiert\n",
        "                                   # wahrheitswert(50) ist der Aufruf\n",
        "print(\"Ergebnis:\", ergebnis)\n",
        "print(\"Zahl:\", zahl)"
      ],
      "metadata": {
        "colab": {
          "base_uri": "https://localhost:8080/"
        },
        "id": "5-Pv0qfj06_1",
        "outputId": "3d8a4493-f9d4-4e71-e9a1-cfab38545ff3"
      },
      "execution_count": 2,
      "outputs": [
        {
          "output_type": "stream",
          "name": "stdout",
          "text": [
            "Ergebnis: False\n",
            "Zahl: 95\n"
          ]
        }
      ]
    },
    {
      "cell_type": "markdown",
      "source": [
        "# Simulation einer Population\n",
        "(benötigt \"Einen Wahrheitswert mit Wahrscheinlichkeit generieren\")"
      ],
      "metadata": {
        "id": "uP0VGSHonoRB"
      }
    },
    {
      "cell_type": "code",
      "source": [
        "liste = [] # speichert für jeden Schleifendurchlauf wie viele Lebewesen existieren\n",
        "anzahl = 0 # speichert wie viele Lebewesen momentan existieren\n",
        "import matplotlib.pyplot as plt\n",
        "\n",
        "for _ in range(1000): # alles in der Schleife wird 1000 mal ausgeführt\n",
        "  # 1. Wird ein neues Lebewesen erzeugt ?\n",
        "  entscheidung, _ = wahrheitswert(10) # zu 10 % wird True zurückgegeben\n",
        "  if entscheidung == True: # wenn die Entscheidung True ist, wird ein neues Lebewesen erzeugt\n",
        "    anzahl+=1\n",
        "    #print(\"ein neues Lebewesen wird erzeugt: Es gibt\", anzahl, \"Lebewesen\")\n",
        "\n",
        "  # 2. Welche Lebewesen sterben ?\n",
        "  for _ in range(anzahl): # für jedes Lebewesen wird geprüft, ob es an diesem Tag(simulationsschritt) stirbt\n",
        "    entscheidung, _ = wahrheitswert(1) # zu 1 % wird True zurückgegeben\n",
        "    if entscheidung == True: # wenn die Entscheidung True ist, wird ein Lebewesen sterben\n",
        "      anzahl-=1\n",
        "      #print(\"ein Lebewesen ist gestorben: Es gibt\", anzahl, \"Lebewesen\")\n",
        "\n",
        "  # 3. anzahl an die Liste anhängen\n",
        "  liste.append(anzahl)\n",
        "  \n",
        "  #print(\"es gibt\", anzahl, \"Lebewesen\")\n",
        "\n",
        "\n",
        "\n",
        "plt.plot(liste)"
      ],
      "metadata": {
        "id": "4NbZV8NMVc-6",
        "colab": {
          "base_uri": "https://localhost:8080/",
          "height": 282
        },
        "outputId": "ba2d58b2-9b0e-46b2-fd9e-1b09c7992d3e"
      },
      "execution_count": 14,
      "outputs": [
        {
          "output_type": "execute_result",
          "data": {
            "text/plain": [
              "[<matplotlib.lines.Line2D at 0x7fab5b5177d0>]"
            ]
          },
          "metadata": {},
          "execution_count": 14
        },
        {
          "output_type": "display_data",
          "data": {
            "image/png": "[encoded data removed]",
            "text/plain": [
              "<Figure size 432x288 with 1 Axes>"
            ]
          },
          "metadata": {
            "needs_background": "light"
          }
        }
      ]
    },
    {
      "cell_type": "markdown",
      "source": [
        "# Wahrheitswerte mit höherer Genauigkeit"
      ],
      "metadata": {
        "id": "U38Xc804oBgx"
      }
    },
    {
      "cell_type": "code",
      "source": [
        "import random\n",
        "\n",
        "dezimalstellen = 5\n",
        "# eine Zufallszahl generieren\n",
        "def zufallszahl():\n",
        "  zufallszahl = random.randint(1,100*10**dezimalstellen) # Zahl zwischen 1 und 100*10**dezimalstellen generieren\n",
        "  return zufallszahl\n",
        "  \n",
        "def wahrheitswert(p): # p ist die Wahrscheinlichkeit in %\n",
        "  p = p*10**dezimalstellen\n",
        "  zahl = zufallszahl() # zahl ist zufällig zwischen 1 und 100*10**dezimalstellen, beide Zahlen eingeschlossen\n",
        "  if zahl <= p:\n",
        "    return True, zahl # return gibt einen Wert an den Aufruf zurück\n",
        "  else:\n",
        "    return False, zahl\n",
        "\n",
        "ergebnis, zahl = wahrheitswert(0.1) \n",
        "\n",
        "print(\"Ergebnis:\", ergebnis)\n",
        "print(\"Zahl:\", zahl)"
      ],
      "metadata": {
        "colab": {
          "base_uri": "https://localhost:8080/"
        },
        "id": "0W9KUmpFoBFE",
        "outputId": "6501024b-e748-4be7-b25a-0b166febe12c"
      },
      "execution_count": 18,
      "outputs": [
        {
          "output_type": "stream",
          "name": "stdout",
          "text": [
            "Ergebnis: False\n",
            "Zahl: 5321433\n"
          ]
        }
      ]
    },
    {
      "cell_type": "code",
      "source": [
        "for _ in range(10000): # den Versuch x mal wiederholen\n",
        "  ergebnis, zahl = wahrheitswert(0.01) # zufallszahl mit 0.01% True generieren\n",
        "  if ergebnis == True:\n",
        "    print(\"True\")\n",
        "\n",
        "# 0.01 % von 10000 ist 10000 / 100 * 0.01 = 1\n",
        "# der Erwartungswert ist also 1 mal True"
      ],
      "metadata": {
        "colab": {
          "base_uri": "https://localhost:8080/"
        },
        "id": "aqqPksigdIZr",
        "outputId": "ed95ce3c-4b13-4aa3-d22b-f1fe6917a9c0"
      },
      "execution_count": 27,
      "outputs": [
        {
          "output_type": "stream",
          "name": "stdout",
          "text": [
            "True\n"
          ]
        }
      ]
    },
    {
      "cell_type": "markdown",
      "source": [
        "# Simulation einer Population mit hoher Genauigkeit\n",
        "(benötigt \"Wahrheitswerte mit höherer Genauigkeit\")"
      ],
      "metadata": {
        "id": "DHv_uIzgvY13"
      }
    },
    {
      "cell_type": "code",
      "source": [
        "liste = [] # speichert für jeden Schleifendurchlauf wie viele Lebewesen existieren\n",
        "anzahl = 0 # speichert wie viele Lebewesen momentan existieren\n",
        "import matplotlib.pyplot as plt\n",
        "\n",
        "for _ in range(1000): # alles in der Schleife wird 1000 mal ausgeführt\n",
        "  # 1. Wird ein neues Lebewesen erzeugt ?\n",
        "  entscheidung, _ = wahrheitswert(10) # zu 10 % wird True zurückgegeben\n",
        "  if entscheidung == True: # wenn die Entscheidung True ist, wird ein neues Lebewesen erzeugt\n",
        "    anzahl+=1\n",
        "    #print(\"ein neues Lebewesen wird erzeugt: Es gibt\", anzahl, \"Lebewesen\")\n",
        "\n",
        "  # 2. Welche Lebewesen sterben ?\n",
        "  for _ in range(anzahl): # für jedes Lebewesen wird geprüft, ob es an diesem Tag(simulationsschritt) stirbt\n",
        "    entscheidung, _ = wahrheitswert(1) # zu 1 % wird True zurückgegeben\n",
        "    if entscheidung == True: # wenn die Entscheidung True ist, wird ein Lebewesen sterben\n",
        "      anzahl-=1\n",
        "      #print(\"ein Lebewesen ist gestorben: Es gibt\", anzahl, \"Lebewesen\")\n",
        "\n",
        "  # 3. anzahl an die Liste anhängen\n",
        "  liste.append(anzahl)\n",
        "  \n",
        "  #print(\"es gibt\", anzahl, \"Lebewesen\")\n",
        "\n",
        "\n",
        "plt.plot(liste)"
      ],
      "metadata": {
        "id": "e1qXnB6Rvdq1"
      },
      "execution_count": null,
      "outputs": []
    }
  ]
}