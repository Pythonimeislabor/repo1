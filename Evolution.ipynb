{
  "nbformat": 4,
  "nbformat_minor": 0,
  "metadata": {
    "colab": {
      "name": "Evolution",
      "provenance": [],
      "authorship_tag": "ABX9TyOgJU4VT3kkWsaYwbjB0QkH",
      "include_colab_link": true
    },
    "kernelspec": {
      "name": "python3",
      "display_name": "Python 3"
    },
    "language_info": {
      "name": "python"
    }
  },
  "cells": [
    {
      "cell_type": "markdown",
      "metadata": {
        "id": "view-in-github",
        "colab_type": "text"
      },
      "source": [
        "<a href=\"https://colab.research.google.com/github/Pythonimeislabor/repo1/blob/main/Evolution.ipynb\" target=\"_parent\"><img src=\"https://colab.research.google.com/assets/colab-badge.svg\" alt=\"Open In Colab\"/></a>"
      ]
    },
    {
      "cell_type": "code",
      "execution_count": 5,
      "metadata": {
        "colab": {
          "base_uri": "https://localhost:8080/"
        },
        "id": "0c9ivvdNiQ_m",
        "outputId": "bc505010-3b04-44d7-b26a-f7cf579f5a5c"
      },
      "outputs": [
        {
          "output_type": "execute_result",
          "data": {
            "text/plain": [
              "70"
            ]
          },
          "metadata": {},
          "execution_count": 5
        }
      ],
      "source": [
        "spontane_erscheinungsrate = 10\n",
        "sterberate = 2\n",
        "\n"
      ]
    },
    {
      "cell_type": "markdown",
      "source": [
        "# Vorbereitung: Zufallszahlen"
      ],
      "metadata": {
        "id": "JONhYg3dlPGe"
      }
    },
    {
      "cell_type": "code",
      "source": [
        "import random\n",
        "# eine Zufallszahl generieren\n",
        "def zufallszahl():\n",
        "  zufallszahl = random.randint(1,100)\n",
        "  return zufallszahl\n",
        "\n",
        "zufallszahl()"
      ],
      "metadata": {
        "colab": {
          "base_uri": "https://localhost:8080/"
        },
        "id": "m7ky8NURlOqD",
        "outputId": "12115be2-3241-40ba-fee8-030641119f0a"
      },
      "execution_count": 10,
      "outputs": [
        {
          "output_type": "execute_result",
          "data": {
            "text/plain": [
              "77"
            ]
          },
          "metadata": {},
          "execution_count": 10
        }
      ]
    },
    {
      "cell_type": "code",
      "source": [
        "verteilungs_liste = [] # Speichert, wie oft eine Zahl generiert wurde\n",
        "# Liste mit 0 füllen\n",
        "for _ in range(100): # 100 Einträge weil Zahlen von 1 - 100 = 100 verschiedene Möglichkeiten\n",
        "  verteilungs_liste.append(0)\n",
        "\n",
        "len(verteilungs_liste)"
      ],
      "metadata": {
        "colab": {
          "base_uri": "https://localhost:8080/"
        },
        "id": "M1ogGRNmnv7I",
        "outputId": "62397308-05e9-44b8-e4ab-2173bf923936"
      },
      "execution_count": 61,
      "outputs": [
        {
          "output_type": "execute_result",
          "data": {
            "text/plain": [
              "100"
            ]
          },
          "metadata": {},
          "execution_count": 61
        }
      ]
    },
    {
      "cell_type": "code",
      "source": [
        "zufallszahlen = []\n",
        "for _ in range(1000): # Anzahl der zu generierenden Zahlen hier eintragen\n",
        "  zahl = zufallszahl()\n",
        "  index = zahl - 1\n",
        "  verteilungs_liste[index] += 1 # Die Verteilungsliste an der Stelle der Zufallszahl erhöhen\n",
        "                                # Bsp: zufallszahl = 8, liste[7] erhöhen\n",
        "                                # [0,0,0,0,0,0,0,0,0,0] -> [0,0,0,0,0,0,0,1,0,0]"
      ],
      "metadata": {
        "id": "HKLgFBnMpipk"
      },
      "execution_count": 65,
      "outputs": []
    },
    {
      "cell_type": "code",
      "source": [
        "x = [] # Namen der Säulen für pyplot, jede Säule bekommt als Namen die Nummer dessen Anzahl sie angibt. \n",
        "       # Bsp: Die Zahl 1 wurde 2 mal generiert. Die Säule ist 2 Einheiten hoch. Die Säule trägt den Namen \"1\"\n",
        "for i in range(100):\n",
        "  x.append(i+1)"
      ],
      "metadata": {
        "id": "8L3MMauVv38t"
      },
      "execution_count": 66,
      "outputs": []
    },
    {
      "cell_type": "code",
      "source": [
        "import matplotlib.pyplot as plt\n",
        "x = [\"säule1\", \"säule2\", \"säule3\"] # Namen\n",
        "y = [4,5,7] # Höhen\n",
        "plt.bar(x,y)"
      ],
      "metadata": {
        "colab": {
          "base_uri": "https://localhost:8080/",
          "height": 282
        },
        "id": "U0Bbpa2HwJI9",
        "outputId": "dc9640bb-4b7e-4e45-83d1-b4b75632b153"
      },
      "execution_count": 68,
      "outputs": [
        {
          "output_type": "execute_result",
          "data": {
            "text/plain": [
              "<BarContainer object of 3 artists>"
            ]
          },
          "metadata": {},
          "execution_count": 68
        },
        {
          "output_type": "display_data",
          "data": {
            "image/png": "[encoded data removed]",
            "text/plain": [
              "<Figure size 432x288 with 1 Axes>"
            ]
          },
          "metadata": {
            "needs_background": "light"
          }
        }
      ]
    },
    {
      "cell_type": "code",
      "source": [
        "plt.bar(x, verteilungs_liste) # x enthält die Namen, verteilungs_liste enthält die Höhen"
      ],
      "metadata": {
        "colab": {
          "base_uri": "https://localhost:8080/",
          "height": 282
        },
        "id": "-vLFoXoGrfiS",
        "outputId": "e6e5fd02-dc0f-440d-f029-c935ff532e2e"
      },
      "execution_count": 67,
      "outputs": [
        {
          "output_type": "execute_result",
          "data": {
            "text/plain": [
              "<BarContainer object of 100 artists>"
            ]
          },
          "metadata": {},
          "execution_count": 67
        },
        {
          "output_type": "display_data",
          "data": {
            "image/png": "[encoded data removed]",
            "text/plain": [
              "<Figure size 432x288 with 1 Axes>"
            ]
          },
          "metadata": {
            "needs_background": "light"
          }
        }
      ]
    },
    {
      "cell_type": "markdown",
      "source": [
        "Die pyplot-Bar-Funktion"
      ],
      "metadata": {
        "id": "DU31-K35Q3QH"
      }
    },
    {
      "cell_type": "markdown",
      "source": [
        "# Einen Wahrheitswert mit Wahrscheinlichkeit generieren"
      ],
      "metadata": {
        "id": "kVi_r6HOSIrP"
      }
    },
    {
      "cell_type": "code",
      "source": [
        "import random\n",
        "# eine Zufallszahl generieren\n",
        "def zufallszahl():\n",
        "  zufallszahl = random.randint(1,100) # Zahl zwischen 1 und 100 generieren\n",
        "  return zufallszahl\n",
        "  \n",
        "def wahrheitswert(p): # p ist die Wahrscheinlichkeit in %\n",
        "  zahl = zufallszahl()\n",
        "  if zahl <= p:\n",
        "    return True, zahl # return gibt einen Wert an den Aufruf zurück\n",
        "  else:\n",
        "    return False, zahl\n",
        "\n",
        "ergebnis, zahl = wahrheitswert(50) # zu 50 % wird True generiert\n",
        "                                   # wahrheitswert(50) ist der Aufruf\n",
        "print(\"Ergebnis:\", ergebnis)\n",
        "print(\"Zahl:\", zahl)"
      ],
      "metadata": {
        "colab": {
          "base_uri": "https://localhost:8080/"
        },
        "id": "5-Pv0qfj06_1",
        "outputId": "a827b62b-eac8-4d5f-97cd-ae5e5941a455"
      },
      "execution_count": 79,
      "outputs": [
        {
          "output_type": "stream",
          "name": "stdout",
          "text": [
            "Ergebnis: False\n",
            "Zahl: 81\n"
          ]
        }
      ]
    },
    {
      "cell_type": "code",
      "source": [
        ""
      ],
      "metadata": {
        "id": "4NbZV8NMVc-6"
      },
      "execution_count": null,
      "outputs": []
    },
    {
      "cell_type": "code",
      "source": [
        "wahrheitswert(50)"
      ],
      "metadata": {
        "colab": {
          "base_uri": "https://localhost:8080/"
        },
        "id": "bcvhdrCtVdEi",
        "outputId": "99067dc5-66d7-4943-e79c-813f4789c1c9"
      },
      "execution_count": 80,
      "outputs": [
        {
          "output_type": "execute_result",
          "data": {
            "text/plain": [
              "(True, 26)"
            ]
          },
          "metadata": {},
          "execution_count": 80
        }
      ]
    }
  ]
}