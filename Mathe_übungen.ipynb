{
  "nbformat": 4,
  "nbformat_minor": 0,
  "metadata": {
    "colab": {
      "name": "Mathe_übungen.ipynb",
      "provenance": [],
      "authorship_tag": "ABX9TyPph8LRS0sNMyWBJ8uOXfix",
      "include_colab_link": true
    },
    "kernelspec": {
      "name": "python3",
      "display_name": "Python 3"
    },
    "language_info": {
      "name": "python"
    }
  },
  "cells": [
    {
      "cell_type": "markdown",
      "metadata": {
        "id": "view-in-github",
        "colab_type": "text"
      },
      "source": [
        "<a href=\"https://colab.research.google.com/github/Pythonimeislabor/repo1/blob/main/Mathe_%C3%BCbungen.ipynb\" target=\"_parent\"><img src=\"https://colab.research.google.com/assets/colab-badge.svg\" alt=\"Open In Colab\"/></a>"
      ]
    },
    {
      "cell_type": "markdown",
      "source": [
        "# Anstieg einer Funktion an Stelle x finden"
      ],
      "metadata": {
        "id": "WHE4-FHnYk0V"
      }
    },
    {
      "cell_type": "markdown",
      "source": [
        "1. Funktion definieren"
      ],
      "metadata": {
        "id": "kIzGbGjIY2BE"
      }
    },
    {
      "cell_type": "code",
      "execution_count": 1,
      "metadata": {
        "id": "LJuSkgXPVFZ3"
      },
      "outputs": [],
      "source": [
        "def f(x): # Funktion definieren\n",
        "  return x**2 # y = x^2"
      ]
    },
    {
      "cell_type": "code",
      "source": [
        "y = f(0.5)\n",
        "print(\"f(0.5) ist\", y)"
      ],
      "metadata": {
        "colab": {
          "base_uri": "https://localhost:8080/"
        },
        "id": "JBGFjAZDY6mj",
        "outputId": "e6b6e0fd-d0e4-47a2-ba7d-0bea90530376"
      },
      "execution_count": 2,
      "outputs": [
        {
          "output_type": "stream",
          "name": "stdout",
          "text": [
            "f(0.5) ist 0.25\n"
          ]
        }
      ]
    },
    {
      "cell_type": "code",
      "source": [
        "import matplotlib.pyplot as plt\n",
        "plt.plot([f(x) for x in range(-5,6)])"
      ],
      "metadata": {
        "colab": {
          "base_uri": "https://localhost:8080/",
          "height": 283
        },
        "id": "qG_ZsVtfFTKI",
        "outputId": "d6e693a5-8501-4724-b150-209f13bd4c57"
      },
      "execution_count": 3,
      "outputs": [
        {
          "output_type": "execute_result",
          "data": {
            "text/plain": [
              "[<matplotlib.lines.Line2D at 0x7ffb4a038f50>]"
            ]
          },
          "metadata": {},
          "execution_count": 3
        },
        {
          "output_type": "display_data",
          "data": {
            "text/plain": [
              "<Figure size 432x288 with 1 Axes>"
            ],
            "image/png": "[encoded data removed]"
          },
          "metadata": {
            "needs_background": "light"
          }
        }
      ]
    },
    {
      "cell_type": "markdown",
      "source": [
        "2. Differenzenquotient bestimmen"
      ],
      "metadata": {
        "id": "UwkghUwdaMxW"
      }
    },
    {
      "cell_type": "code",
      "source": [
        "x = 0.5\n",
        "x1 = x+0.1\n",
        "x0 = x-0.1\n",
        "\n",
        "y1 = f(x1)\n",
        "y0 = f(x0)\n",
        "\n",
        "print(\"x ist\", x0, \"und\", x1)\n",
        "print(\"y ist\", y0, \"und\", y1)\n",
        "\n",
        "dy = y1 - y0\n",
        "dx = x1 - x0\n",
        "anstieg = dy/dx\n",
        "print(\"Anstieg ist\", anstieg)"
      ],
      "metadata": {
        "colab": {
          "base_uri": "https://localhost:8080/"
        },
        "id": "AC3jimUoaWy3",
        "outputId": "c6ff2b0b-6e5f-4bd9-b4b7-a2c4eab3192b"
      },
      "execution_count": null,
      "outputs": [
        {
          "output_type": "stream",
          "name": "stdout",
          "text": [
            "x ist 0.4 und 0.6\n",
            "y ist 0.16000000000000003 und 0.36\n",
            "Anstieg ist 1.0\n"
          ]
        }
      ]
    }
  ]
}