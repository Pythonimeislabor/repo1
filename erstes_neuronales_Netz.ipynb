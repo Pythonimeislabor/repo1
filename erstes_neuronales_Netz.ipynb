{
  "nbformat": 4,
  "nbformat_minor": 0,
  "metadata": {
    "colab": {
      "name": "erstes neuronales Netz.ipynb",
      "provenance": [],
      "collapsed_sections": [
        "BMnRf2OGXHr6"
      ],
      "authorship_tag": "ABX9TyMP6coSfXRtAnWiMaMq7iQv",
      "include_colab_link": true
    },
    "kernelspec": {
      "name": "python3",
      "display_name": "Python 3"
    },
    "language_info": {
      "name": "python"
    },
    "accelerator": "GPU"
  },
  "cells": [
    {
      "cell_type": "markdown",
      "metadata": {
        "id": "view-in-github",
        "colab_type": "text"
      },
      "source": [
        "<a href=\"https://colab.research.google.com/github/Pythonimeislabor/repo1/blob/main/erstes_neuronales_Netz.ipynb\" target=\"_parent\"><img src=\"https://colab.research.google.com/assets/colab-badge.svg\" alt=\"Open In Colab\"/></a>"
      ]
    },
    {
      "cell_type": "markdown",
      "source": [
        "# Datensatz von kaggle herunterladen"
      ],
      "metadata": {
        "id": "x0nBWsvTT9wH"
      }
    },
    {
      "cell_type": "code",
      "execution_count": 1,
      "metadata": {
        "colab": {
          "base_uri": "https://localhost:8080/"
        },
        "id": "LXsRTyAXThfZ",
        "outputId": "ba265ae8-67e9-469f-e29a-16e40e497fcf"
      },
      "outputs": [
        {
          "output_type": "stream",
          "name": "stdout",
          "text": [
            "Writing kaggle.json\n"
          ]
        }
      ],
      "source": [
        "%%writefile kaggle.json\n",
        "{\"username\":\"lutze3\",\"key\":\"c1b954a36f5402b976973271cb154a2f\"}"
      ]
    },
    {
      "cell_type": "code",
      "source": [
        "!mkdir ~/.kaggle\n",
        "!mv kaggle.json ~/.kaggle\n",
        "!kaggle datasets download -d jcprogjava/handwritten-digits-dataset-not-in-mnist\n",
        "!unzip handwritten-digits-dataset-not-in-mnist.zip\n",
        "\n",
        "from IPython.display import clear_output\n",
        "clear_output()"
      ],
      "metadata": {
        "id": "a-dfnFyCT8Qh"
      },
      "execution_count": 2,
      "outputs": []
    },
    {
      "cell_type": "markdown",
      "source": [
        "# imports"
      ],
      "metadata": {
        "id": "DGNR29egXEnh"
      }
    },
    {
      "cell_type": "code",
      "source": [
        "import cv2\n",
        "import matplotlib.pyplot as plt"
      ],
      "metadata": {
        "id": "NyHIeBq2T8bS"
      },
      "execution_count": 3,
      "outputs": []
    },
    {
      "cell_type": "markdown",
      "source": [
        "# Testweise ein Bild laden und anzeigen"
      ],
      "metadata": {
        "id": "BMnRf2OGXHr6"
      }
    },
    {
      "cell_type": "code",
      "source": [
        "dateipfad = \"dataset/5/5/0.png\"\n",
        "bild = cv2.imread(dateipfad, cv2.IMREAD_UNCHANGED) # bild lesen\n",
        "plt.imshow(bild)"
      ],
      "metadata": {
        "colab": {
          "base_uri": "https://localhost:8080/",
          "height": 0
        },
        "id": "vjgrEq8OXEKZ",
        "outputId": "f2ecd70d-e784-4aa3-c9c5-cd8bc0b8c5db"
      },
      "execution_count": 4,
      "outputs": [
        {
          "output_type": "execute_result",
          "data": {
            "text/plain": [
              "<matplotlib.image.AxesImage at 0x7f40222be0d0>"
            ]
          },
          "metadata": {},
          "execution_count": 4
        },
        {
          "output_type": "display_data",
          "data": {
            "text/plain": [
              "<Figure size 432x288 with 1 Axes>"
            ],
            "image/png": "[encoded data removed]"
          },
          "metadata": {
            "needs_background": "light"
          }
        }
      ]
    },
    {
      "cell_type": "code",
      "source": [
        "bild_in_grau = bild[:,:,3]\n",
        "print(bild_in_grau.shape)\n",
        "plt.imshow(bild_in_grau, cmap=\"gray\")"
      ],
      "metadata": {
        "colab": {
          "base_uri": "https://localhost:8080/",
          "height": 0
        },
        "id": "cCk1gG7qXyvU",
        "outputId": "a0a645b0-e12b-4cec-81b0-fb1a8a9a69be"
      },
      "execution_count": 5,
      "outputs": [
        {
          "output_type": "stream",
          "name": "stdout",
          "text": [
            "(28, 28)\n"
          ]
        },
        {
          "output_type": "execute_result",
          "data": {
            "text/plain": [
              "<matplotlib.image.AxesImage at 0x7f4018c721d0>"
            ]
          },
          "metadata": {},
          "execution_count": 5
        },
        {
          "output_type": "display_data",
          "data": {
            "text/plain": [
              "<Figure size 432x288 with 1 Axes>"
            ],
            "image/png": "[encoded data removed]"
          },
          "metadata": {
            "needs_background": "light"
          }
        }
      ]
    },
    {
      "cell_type": "code",
      "source": [
        "bild_0_1 = bild_in_grau / 255 # bild zwischen 0 und 1 skalieren\n",
        "plt.imshow(bild_0_1, cmap = \"gray\")"
      ],
      "metadata": {
        "colab": {
          "base_uri": "https://localhost:8080/",
          "height": 0
        },
        "id": "SnMgME0GcwFo",
        "outputId": "c25a41a2-f9bd-4473-f76d-c37cd0c0d4df"
      },
      "execution_count": 6,
      "outputs": [
        {
          "output_type": "execute_result",
          "data": {
            "text/plain": [
              "<matplotlib.image.AxesImage at 0x7f4018be1b10>"
            ]
          },
          "metadata": {},
          "execution_count": 6
        },
        {
          "output_type": "display_data",
          "data": {
            "text/plain": [
              "<Figure size 432x288 with 1 Axes>"
            ],
            "image/png": "[encoded data removed]"
          },
          "metadata": {
            "needs_background": "light"
          }
        }
      ]
    },
    {
      "cell_type": "markdown",
      "source": [
        "# Alle Bilder und Beschriftungen in 2 Listen speichern"
      ],
      "metadata": {
        "id": "GKEV1go0fEkC"
      }
    },
    {
      "cell_type": "code",
      "source": [
        "#X = [bild1, bild2, bild3]\n",
        "#Y = [Beschriftung1, Beschriftung2, Beschriftung3]\n",
        "\n",
        "X = []\n",
        "Y = []\n",
        "\n",
        "import os\n",
        "\n",
        "def lade_bild(pfad):\n",
        "  bild = cv2.imread(pfad, cv2.IMREAD_UNCHANGED) # bild lesen im bgra-format\n",
        "  bild_in_grau = bild[:,:,3]\n",
        "  bild_0_1 = bild_in_grau / 255 # bild zwischen 0 und 1 skalieren\n",
        "  return bild_0_1\n",
        "\n",
        "\n",
        "for zahl in range(10):\n",
        "  pfad = \"dataset/\"+str(zahl)+\"/\"+str(zahl) + \"/\"\n",
        "  print(pfad)\n",
        "  alle_bilder_namen = os.listdir(pfad) # alle bilder im pfad auflisten\n",
        "  for name in alle_bilder_namen: # alle bilder in dem Ordner durchgehen\n",
        "    pfad_zum_bild = pfad + name \n",
        "    bild = lade_bild(pfad_zum_bild)\n",
        "\n",
        "    X.append(bild)\n",
        "    Y.append(zahl)"
      ],
      "metadata": {
        "colab": {
          "base_uri": "https://localhost:8080/"
        },
        "id": "dttonN4KdDIC",
        "outputId": "b9235856-4a67-4247-e9d3-aad635a58b67"
      },
      "execution_count": 7,
      "outputs": [
        {
          "output_type": "stream",
          "name": "stdout",
          "text": [
            "dataset/0/0/\n",
            "dataset/1/1/\n",
            "dataset/2/2/\n",
            "dataset/3/3/\n",
            "dataset/4/4/\n",
            "dataset/5/5/\n",
            "dataset/6/6/\n",
            "dataset/7/7/\n",
            "dataset/8/8/\n",
            "dataset/9/9/\n"
          ]
        }
      ]
    },
    {
      "cell_type": "code",
      "source": [
        "index = 50000\n",
        "\n",
        "plt.imshow(X[index]), \n",
        "print(\"Y ist \", Y[index])"
      ],
      "metadata": {
        "colab": {
          "base_uri": "https://localhost:8080/",
          "height": 283
        },
        "id": "6kMzl5UQg0KP",
        "outputId": "c717d3d2-d496-48e1-c04c-7cc98cb2ea53"
      },
      "execution_count": 8,
      "outputs": [
        {
          "output_type": "stream",
          "name": "stdout",
          "text": [
            "Y ist  4\n"
          ]
        },
        {
          "output_type": "display_data",
          "data": {
            "text/plain": [
              "<Figure size 432x288 with 1 Axes>"
            ],
            "image/png": "[encoded data removed]"
          },
          "metadata": {
            "needs_background": "light"
          }
        }
      ]
    },
    {
      "cell_type": "code",
      "source": [
        "import numpy as np\n",
        "\n",
        "# listen in numpy arrays umwandeln\n",
        "Y = np.array(Y) # numpy arrays sind für viele Elemente eine bessere speichermethode\n",
        "X = np.array(X) # tensorflow benötigt numpy arrays und kann nicht mit listen arbeiten\n",
        "\n",
        "p = np.random.permutation(Y.shape[0]) # X und Y gleichmäßig mischen\n",
        "X = X[p]\n",
        "Y = Y[p] "
      ],
      "metadata": {
        "id": "0xNT0n6i01X8"
      },
      "execution_count": 9,
      "outputs": []
    },
    {
      "cell_type": "markdown",
      "source": [
        "# Neuronales Netzwerk bauen"
      ],
      "metadata": {
        "id": "tspW2wbat0GX"
      }
    },
    {
      "cell_type": "code",
      "source": [
        "import tensorflow as tf\n",
        "\n",
        "inputlayer = tf.keras.layers.Input(shape=(28,28))\n",
        "\n",
        "random_rotation = tf.keras.layers.RandomRotation((-0.05, 0.05))(inputlayer)\n",
        "random_verschieben = tf.keras.layers.RandomTranslation((-0.1,0.1),(-0.1,0.1))(random_rotation)\n",
        "\n",
        "platt = tf.keras.layers.Flatten()(random_verschieben)\n",
        "dense1 = tf.keras.layers.Dense(16,activation=\"sigmoid\")(platt)\n",
        "dense2 = tf.keras.layers.Dense(16,activation=\"sigmoid\")(dense1)\n",
        "dense3 = tf.keras.layers.Dense(16,activation=\"sigmoid\")(dense2)\n",
        "output = tf.keras.layers.Dense(10,activation=\"softmax\")(dense3)\n",
        "\n",
        "model = tf.keras.Model(inputlayer, output)\n",
        "model.summary()"
      ],
      "metadata": {
        "colab": {
          "base_uri": "https://localhost:8080/"
        },
        "id": "yfSDw5Gat2rk",
        "outputId": "29b8d450-c96e-4799-eadf-e9824c4b2e1b"
      },
      "execution_count": 21,
      "outputs": [
        {
          "output_type": "stream",
          "name": "stdout",
          "text": [
            "Model: \"model_3\"\n",
            "_________________________________________________________________\n",
            " Layer (type)                Output Shape              Param #   \n",
            "=================================================================\n",
            " input_4 (InputLayer)        [(None, 28, 28)]          0         \n",
            "                                                                 \n",
            " random_rotation (RandomRota  (None, 28, 28)           0         \n",
            " tion)                                                           \n",
            "                                                                 \n",
            " random_translation (RandomT  (None, 28, 28)           0         \n",
            " ranslation)                                                     \n",
            "                                                                 \n",
            " flatten_2 (Flatten)         (None, 784)               0         \n",
            "                                                                 \n",
            " dense_12 (Dense)            (None, 16)                12560     \n",
            "                                                                 \n",
            " dense_13 (Dense)            (None, 16)                272       \n",
            "                                                                 \n",
            " dense_14 (Dense)            (None, 16)                272       \n",
            "                                                                 \n",
            " dense_15 (Dense)            (None, 10)                170       \n",
            "                                                                 \n",
            "=================================================================\n",
            "Total params: 13,274\n",
            "Trainable params: 13,274\n",
            "Non-trainable params: 0\n",
            "_________________________________________________________________\n"
          ]
        }
      ]
    },
    {
      "cell_type": "code",
      "source": [
        "fehlerfunktion = tf.keras.losses.SparseCategoricalCrossentropy()\n",
        "optimierer = tf.keras.optimizers.SGD(0.001, momentum = 0.5)\n",
        "model.compile(optimierer, fehlerfunktion, metrics=\"accuracy\")"
      ],
      "metadata": {
        "id": "V44YHlbXvwZP"
      },
      "execution_count": 24,
      "outputs": []
    },
    {
      "cell_type": "code",
      "source": [
        "model.fit(X, Y, batch_size = 32, epochs = 5, validation_split = 0.2) # Parameter optimieren"
      ],
      "metadata": {
        "colab": {
          "base_uri": "https://localhost:8080/"
        },
        "id": "6S2tL87avxb-",
        "outputId": "1bc8df10-feba-4995-fbc1-a4073054add7"
      },
      "execution_count": null,
      "outputs": [
        {
          "output_type": "stream",
          "name": "stdout",
          "text": [
            "Epoch 1/5\n",
            "2694/2694 [==============================] - 17s 6ms/step - loss: 2.3031 - accuracy: 0.0995 - val_loss: 2.2993 - val_accuracy: 0.1068\n",
            "Epoch 2/5\n",
            "2694/2694 [==============================] - 16s 6ms/step - loss: 2.3022 - accuracy: 0.1027 - val_loss: 2.2993 - val_accuracy: 0.1461\n",
            "Epoch 3/5\n",
            "2694/2694 [==============================] - 14s 5ms/step - loss: 2.3022 - accuracy: 0.1074 - val_loss: 2.2992 - val_accuracy: 0.1833\n",
            "Epoch 4/5\n",
            "1234/2694 [============>.................] - ETA: 6s - loss: 2.3021 - accuracy: 0.1135"
          ]
        }
      ]
    },
    {
      "cell_type": "markdown",
      "source": [
        "# Test mit selbstgemaltem Bild"
      ],
      "metadata": {
        "id": "IV5Ckw9ld6JM"
      }
    },
    {
      "cell_type": "code",
      "source": [
        "bild = cv2.imread(\"Untitled.png\", cv2.IMREAD_GRAYSCALE) # bild lesen im graustufen-format\n",
        "bild_0_1 = 1 - bild / 255 # bild zwischen 0 und 1 skalieren\n",
        "bild_0_1 = cv2.resize(bild_0_1, (28,28))\n",
        "plt.imshow(bild_0_1, cmap = \"gray\")\n",
        "bild_0_1.shape"
      ],
      "metadata": {
        "colab": {
          "base_uri": "https://localhost:8080/",
          "height": 283
        },
        "id": "ifjD08Wod-Eh",
        "outputId": "7e16eec9-0fb3-413f-f895-fbe5b3c73217"
      },
      "execution_count": 18,
      "outputs": [
        {
          "output_type": "execute_result",
          "data": {
            "text/plain": [
              "(28, 28)"
            ]
          },
          "metadata": {},
          "execution_count": 18
        },
        {
          "output_type": "display_data",
          "data": {
            "text/plain": [
              "<Figure size 432x288 with 1 Axes>"
            ],
            "image/png": "[encoded data removed]"
          },
          "metadata": {
            "needs_background": "light"
          }
        }
      ]
    },
    {
      "cell_type": "code",
      "source": [
        "bild_batch = np.reshape(bild_0_1,(1,28,28)) # tensorflow braucht ein array von Inputs\n",
        "\n",
        "entscheidungen = model(bild_batch)\n",
        "print(\"Die Entscheidungen sind:\", entscheidungen)\n",
        "print(\"Das ist die Zahl:\", np.argmax(entscheidungen))"
      ],
      "metadata": {
        "colab": {
          "base_uri": "https://localhost:8080/"
        },
        "id": "hKZb7f-FegmO",
        "outputId": "3c854303-5759-4b1a-bfb3-b9bc9947ad98"
      },
      "execution_count": 17,
      "outputs": [
        {
          "output_type": "stream",
          "name": "stdout",
          "text": [
            "Die Entscheidungen sind: tf.Tensor(\n",
            "[[2.8712345e-06 8.8183628e-04 3.2584772e-02 3.4635007e-02 5.2207621e-08\n",
            "  1.1639685e-03 1.4839153e-04 1.0618914e-05 9.3055385e-01 1.8606319e-05]], shape=(1, 10), dtype=float32)\n",
            "Das ist die Zahl: 8\n"
          ]
        }
      ]
    }
  ]
}