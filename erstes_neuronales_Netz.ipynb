{
  "nbformat": 4,
  "nbformat_minor": 0,
  "metadata": {
    "colab": {
      "name": "erstes neuronales Netz.ipynb",
      "provenance": [],
      "collapsed_sections": [
        "BMnRf2OGXHr6"
      ],
      "authorship_tag": "ABX9TyNHG1MAWR0dpiwIA3HA/FRo",
      "include_colab_link": true
    },
    "kernelspec": {
      "name": "python3",
      "display_name": "Python 3"
    },
    "language_info": {
      "name": "python"
    }
  },
  "cells": [
    {
      "cell_type": "markdown",
      "metadata": {
        "id": "view-in-github",
        "colab_type": "text"
      },
      "source": [
        "<a href=\"https://colab.research.google.com/github/Pythonimeislabor/repo1/blob/main/erstes_neuronales_Netz.ipynb\" target=\"_parent\"><img src=\"https://colab.research.google.com/assets/colab-badge.svg\" alt=\"Open In Colab\"/></a>"
      ]
    },
    {
      "cell_type": "markdown",
      "source": [
        "# Datensatz von kaggle herunterladen"
      ],
      "metadata": {
        "id": "x0nBWsvTT9wH"
      }
    },
    {
      "cell_type": "code",
      "execution_count": 1,
      "metadata": {
        "colab": {
          "base_uri": "https://localhost:8080/"
        },
        "id": "LXsRTyAXThfZ",
        "outputId": "ba265ae8-67e9-469f-e29a-16e40e497fcf"
      },
      "outputs": [
        {
          "output_type": "stream",
          "name": "stdout",
          "text": [
            "Writing kaggle.json\n"
          ]
        }
      ],
      "source": [
        "%%writefile kaggle.json\n",
        "{\"username\":\"lutze3\",\"key\":\"c1b954a36f5402b976973271cb154a2f\"}"
      ]
    },
    {
      "cell_type": "code",
      "source": [
        "!mkdir ~/.kaggle\n",
        "!mv kaggle.json ~/.kaggle\n",
        "!kaggle datasets download -d jcprogjava/handwritten-digits-dataset-not-in-mnist\n",
        "!unzip handwritten-digits-dataset-not-in-mnist.zip\n",
        "\n",
        "from IPython.display import clear_output\n",
        "clear_output()"
      ],
      "metadata": {
        "id": "a-dfnFyCT8Qh"
      },
      "execution_count": 2,
      "outputs": []
    },
    {
      "cell_type": "markdown",
      "source": [
        "# imports"
      ],
      "metadata": {
        "id": "DGNR29egXEnh"
      }
    },
    {
      "cell_type": "code",
      "source": [
        "import cv2\n",
        "import matplotlib.pyplot as plt"
      ],
      "metadata": {
        "id": "NyHIeBq2T8bS"
      },
      "execution_count": 5,
      "outputs": []
    },
    {
      "cell_type": "markdown",
      "source": [
        "# Testweise ein Bild laden und anzeigen"
      ],
      "metadata": {
        "id": "BMnRf2OGXHr6"
      }
    },
    {
      "cell_type": "code",
      "source": [
        "dateipfad = \"dataset/5/5/0.png\"\n",
        "bild = cv2.imread(dateipfad, cv2.IMREAD_UNCHANGED) # bild lesen\n",
        "plt.imshow(bild)"
      ],
      "metadata": {
        "colab": {
          "base_uri": "https://localhost:8080/",
          "height": 283
        },
        "id": "vjgrEq8OXEKZ",
        "outputId": "f2ecd70d-e784-4aa3-c9c5-cd8bc0b8c5db"
      },
      "execution_count": 4,
      "outputs": [
        {
          "output_type": "execute_result",
          "data": {
            "text/plain": [
              "<matplotlib.image.AxesImage at 0x7f40222be0d0>"
            ]
          },
          "metadata": {},
          "execution_count": 4
        },
        {
          "output_type": "display_data",
          "data": {
            "text/plain": [
              "<Figure size 432x288 with 1 Axes>"
            ],
            "image/png": "[encoded data removed]"
          },
          "metadata": {
            "needs_background": "light"
          }
        }
      ]
    },
    {
      "cell_type": "code",
      "source": [
        "bild_in_grau = bild[:,:,3]\n",
        "print(bild_in_grau.shape)\n",
        "plt.imshow(bild_in_grau, cmap=\"gray\")"
      ],
      "metadata": {
        "colab": {
          "base_uri": "https://localhost:8080/",
          "height": 300
        },
        "id": "cCk1gG7qXyvU",
        "outputId": "a0a645b0-e12b-4cec-81b0-fb1a8a9a69be"
      },
      "execution_count": 5,
      "outputs": [
        {
          "output_type": "stream",
          "name": "stdout",
          "text": [
            "(28, 28)\n"
          ]
        },
        {
          "output_type": "execute_result",
          "data": {
            "text/plain": [
              "<matplotlib.image.AxesImage at 0x7f4018c721d0>"
            ]
          },
          "metadata": {},
          "execution_count": 5
        },
        {
          "output_type": "display_data",
          "data": {
            "text/plain": [
              "<Figure size 432x288 with 1 Axes>"
            ],
            "image/png": "[encoded data removed]"
          },
          "metadata": {
            "needs_background": "light"
          }
        }
      ]
    },
    {
      "cell_type": "code",
      "source": [
        "bild_0_1 = bild_in_grau / 255 # bild zwischen 0 und 1 skalieren\n",
        "plt.imshow(bild_0_1, cmap = \"gray\")"
      ],
      "metadata": {
        "colab": {
          "base_uri": "https://localhost:8080/",
          "height": 283
        },
        "id": "SnMgME0GcwFo",
        "outputId": "c25a41a2-f9bd-4473-f76d-c37cd0c0d4df"
      },
      "execution_count": 6,
      "outputs": [
        {
          "output_type": "execute_result",
          "data": {
            "text/plain": [
              "<matplotlib.image.AxesImage at 0x7f4018be1b10>"
            ]
          },
          "metadata": {},
          "execution_count": 6
        },
        {
          "output_type": "display_data",
          "data": {
            "text/plain": [
              "<Figure size 432x288 with 1 Axes>"
            ],
            "image/png": "[encoded data removed]"
          },
          "metadata": {
            "needs_background": "light"
          }
        }
      ]
    },
    {
      "cell_type": "markdown",
      "source": [
        "# Alle Bilder und Beschriftungen in 2 Listen speichern"
      ],
      "metadata": {
        "id": "GKEV1go0fEkC"
      }
    },
    {
      "cell_type": "code",
      "source": [
        "#X = [bild1, bild2, bild3]\n",
        "#Y = [Beschriftung1, Beschriftung2, Beschriftung3]\n",
        "\n",
        "X = []\n",
        "Y = []\n",
        "\n",
        "import os\n",
        "\n",
        "def lade_bild(pfad):\n",
        "  bild = cv2.imread(pfad, cv2.IMREAD_UNCHANGED) # bild lesen im bgra-format\n",
        "  bild_in_grau = bild[:,:,3]\n",
        "  bild_0_1 = bild_in_grau / 255 # bild zwischen 0 und 1 skalieren\n",
        "  return bild_0_1\n",
        "\n",
        "\n",
        "for zahl in range(10):\n",
        "  pfad = \"dataset/\"+str(zahl)+\"/\"+str(zahl) + \"/\"\n",
        "  print(pfad)\n",
        "  alle_bilder_namen = os.listdir(pfad) # alle bilder im pfad auflisten\n",
        "  for name in alle_bilder_namen: # alle bilder in dem Ordner durchgehen\n",
        "    pfad_zum_bild = pfad + name \n",
        "    bild = lade_bild(pfad_zum_bild)\n",
        "\n",
        "    X.append(bild)\n",
        "    Y.append(zahl)"
      ],
      "metadata": {
        "colab": {
          "base_uri": "https://localhost:8080/"
        },
        "id": "dttonN4KdDIC",
        "outputId": "ca897328-d7ea-408f-8ac6-7234a4916058"
      },
      "execution_count": 6,
      "outputs": [
        {
          "output_type": "stream",
          "name": "stdout",
          "text": [
            "dataset/0/0/\n",
            "dataset/1/1/\n",
            "dataset/2/2/\n",
            "dataset/3/3/\n",
            "dataset/4/4/\n",
            "dataset/5/5/\n",
            "dataset/6/6/\n",
            "dataset/7/7/\n",
            "dataset/8/8/\n",
            "dataset/9/9/\n"
          ]
        }
      ]
    },
    {
      "cell_type": "code",
      "source": [
        "index = 50000\n",
        "\n",
        "plt.imshow(X[index]), \n",
        "print(\"Y ist \", Y[index])"
      ],
      "metadata": {
        "colab": {
          "base_uri": "https://localhost:8080/",
          "height": 283
        },
        "id": "6kMzl5UQg0KP",
        "outputId": "02f64675-596e-4215-fd98-6a56b5d0e9c9"
      },
      "execution_count": 7,
      "outputs": [
        {
          "output_type": "stream",
          "name": "stdout",
          "text": [
            "Y ist  4\n"
          ]
        },
        {
          "output_type": "display_data",
          "data": {
            "text/plain": [
              "<Figure size 432x288 with 1 Axes>"
            ],
            "image/png": "[encoded data removed]"
          },
          "metadata": {
            "needs_background": "light"
          }
        }
      ]
    },
    {
      "cell_type": "code",
      "source": [
        "import numpy as np\n",
        "\n",
        "# listen in numpy arrays umwandeln\n",
        "Y = np.array(Y) # numpy arrays sind für viele Elemente eine bessere speichermethode\n",
        "X = np.array(X) # tensorflow benötigt numpy arrays und kann nicht mit listen arbeiten\n",
        "\n",
        "p = np.random.permutation(Y.shape[0]) # X und Y gleichmäßig mischen\n",
        "X = X[p]\n",
        "Y = Y[p] "
      ],
      "metadata": {
        "id": "0xNT0n6i01X8"
      },
      "execution_count": 8,
      "outputs": []
    },
    {
      "cell_type": "markdown",
      "source": [
        "# Neuronales Netzwerk bauen"
      ],
      "metadata": {
        "id": "tspW2wbat0GX"
      }
    },
    {
      "cell_type": "code",
      "source": [
        "import tensorflow as tf\n",
        "\n",
        "inputlayer = tf.keras.layers.Input(shape=(28,28))\n",
        "\n",
        "inputlayer = tf.keras.layers.Reshape((28,28,1))(inputlayer)\n",
        "\n",
        "random_rotation = tf.keras.layers.RandomRotation((-0.05, 0.05))(inputlayer)\n",
        "random_verschieben = tf.keras.layers.RandomTranslation((-0.05,0.05),(-0.05,0.05))(random_rotation)\n",
        "\n",
        "x = tf.keras.layers.Conv2D(32,3,activation=\"relu\")(random_verschieben)\n",
        "\n",
        "platt = tf.keras.layers.Flatten()(x)\n",
        "x = tf.keras.layers.Dense(16,activation=\"relu\")(platt)\n",
        "x = tf.keras.layers.Dense(16,activation=\"relu\")(x)\n",
        "x = tf.keras.layers.Dense(16,activation=\"relu\")(x)\n",
        "output = tf.keras.layers.Dense(10,activation=\"softmax\")(x)\n",
        "\n",
        "model = tf.keras.Model(inputlayer, output)\n",
        "model.summary()"
      ],
      "metadata": {
        "colab": {
          "base_uri": "https://localhost:8080/"
        },
        "id": "yfSDw5Gat2rk",
        "outputId": "4092e4ac-423c-4850-f79b-d39948d94d22"
      },
      "execution_count": 56,
      "outputs": [
        {
          "output_type": "stream",
          "name": "stdout",
          "text": [
            "Model: \"model_5\"\n",
            "_________________________________________________________________\n",
            " Layer (type)                Output Shape              Param #   \n",
            "=================================================================\n",
            " input_11 (InputLayer)       [(None, 28, 28, 1)]       0         \n",
            "                                                                 \n",
            " random_rotation_6 (RandomRo  (None, 28, 28, 1)        0         \n",
            " tation)                                                         \n",
            "                                                                 \n",
            " random_translation_6 (Rando  (None, 28, 28, 1)        0         \n",
            " mTranslation)                                                   \n",
            "                                                                 \n",
            " conv2d_4 (Conv2D)           (None, 26, 26, 32)        320       \n",
            "                                                                 \n",
            " flatten_5 (Flatten)         (None, 21632)             0         \n",
            "                                                                 \n",
            " dense_20 (Dense)            (None, 16)                346128    \n",
            "                                                                 \n",
            " dense_21 (Dense)            (None, 16)                272       \n",
            "                                                                 \n",
            " dense_22 (Dense)            (None, 16)                272       \n",
            "                                                                 \n",
            " dense_23 (Dense)            (None, 10)                170       \n",
            "                                                                 \n",
            "=================================================================\n",
            "Total params: 347,162\n",
            "Trainable params: 347,162\n",
            "Non-trainable params: 0\n",
            "_________________________________________________________________\n"
          ]
        }
      ]
    },
    {
      "cell_type": "code",
      "source": [
        "fehlerfunktion = tf.keras.losses.SparseCategoricalCrossentropy()\n",
        "optimierer = tf.keras.optimizers.SGD(0.001, momentum = 0.95)\n",
        "model.compile(optimierer, fehlerfunktion, metrics=\"accuracy\")"
      ],
      "metadata": {
        "id": "V44YHlbXvwZP"
      },
      "execution_count": 57,
      "outputs": []
    },
    {
      "cell_type": "code",
      "source": [
        "model.fit(X, Y, batch_size = 64, epochs = 2, validation_split = 0.2) # Parameter optimieren"
      ],
      "metadata": {
        "colab": {
          "base_uri": "https://localhost:8080/"
        },
        "id": "6S2tL87avxb-",
        "outputId": "ce107d14-8bd7-4bf6-f3de-2ee068ce7a77"
      },
      "execution_count": 58,
      "outputs": [
        {
          "output_type": "stream",
          "name": "stdout",
          "text": [
            "Epoch 1/2\n",
            "1347/1347 [==============================] - 13s 8ms/step - loss: 1.0945 - accuracy: 0.6171 - val_loss: 0.1784 - val_accuracy: 0.9506\n",
            "Epoch 2/2\n",
            "1347/1347 [==============================] - 11s 8ms/step - loss: 0.2568 - accuracy: 0.9154 - val_loss: 0.0776 - val_accuracy: 0.9797\n"
          ]
        },
        {
          "output_type": "execute_result",
          "data": {
            "text/plain": [
              "<keras.callbacks.History at 0x7effe0d2fd90>"
            ]
          },
          "metadata": {},
          "execution_count": 58
        }
      ]
    },
    {
      "cell_type": "markdown",
      "source": [
        "# Test mit selbstgemaltem Bild"
      ],
      "metadata": {
        "id": "IV5Ckw9ld6JM"
      }
    },
    {
      "cell_type": "code",
      "source": [
        "bild = cv2.imread(\"Untitled.png\", cv2.IMREAD_GRAYSCALE) # bild lesen im graustufen-format\n",
        "bild = cv2.blur(bild,(2,2))\n",
        "bild_0_1 = 1 - bild / 255 # bild zwischen 0 und 1 skalieren\n",
        "bild_0_1 = cv2.resize(bild_0_1, (28,28))\n",
        "plt.imshow(bild_0_1, cmap = \"gray\")\n",
        "bild_0_1.shape"
      ],
      "metadata": {
        "colab": {
          "base_uri": "https://localhost:8080/",
          "height": 283
        },
        "id": "ifjD08Wod-Eh",
        "outputId": "b5dfecc6-fe6e-4a0b-c795-ad5cf6667c5e"
      },
      "execution_count": 59,
      "outputs": [
        {
          "output_type": "execute_result",
          "data": {
            "text/plain": [
              "(28, 28)"
            ]
          },
          "metadata": {},
          "execution_count": 59
        },
        {
          "output_type": "display_data",
          "data": {
            "text/plain": [
              "<Figure size 432x288 with 1 Axes>"
            ],
            "image/png": "[encoded data removed]"
          },
          "metadata": {
            "needs_background": "light"
          }
        }
      ]
    },
    {
      "cell_type": "code",
      "source": [
        "bild_batch = np.reshape(bild_0_1,(1,28,28)) # tensorflow braucht ein array von Inputs\n",
        "\n",
        "entscheidungen = model(bild_batch)\n",
        "print(\"Die Entscheidungen sind:\", entscheidungen)\n",
        "print(\"Das ist die Zahl:\", np.argmax(entscheidungen))"
      ],
      "metadata": {
        "colab": {
          "base_uri": "https://localhost:8080/"
        },
        "id": "hKZb7f-FegmO",
        "outputId": "38a7f053-a2ab-419f-93d7-6466ad9dce65"
      },
      "execution_count": 60,
      "outputs": [
        {
          "output_type": "stream",
          "name": "stdout",
          "text": [
            "Die Entscheidungen sind: tf.Tensor(\n",
            "[[1.5672436e-08 9.9492681e-01 1.1364630e-03 1.7182390e-05 1.9500723e-04\n",
            "  3.1359427e-04 6.8898522e-04 2.7192961e-03 4.5772559e-08 2.5788647e-06]], shape=(1, 10), dtype=float32)\n",
            "Das ist die Zahl: 1\n"
          ]
        }
      ]
    },
    {
      "cell_type": "code",
      "source": [
        ""
      ],
      "metadata": {
        "id": "NEt6C1o2zQsp"
      },
      "execution_count": null,
      "outputs": []
    }
  ]
}