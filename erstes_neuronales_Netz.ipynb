{
  "nbformat": 4,
  "nbformat_minor": 0,
  "metadata": {
    "colab": {
      "name": "erstes neuronales Netz.ipynb",
      "provenance": [],
      "collapsed_sections": [],
      "authorship_tag": "ABX9TyN1feWCwnSWof+h/brIeTOi",
      "include_colab_link": true
    },
    "kernelspec": {
      "name": "python3",
      "display_name": "Python 3"
    },
    "language_info": {
      "name": "python"
    }
  },
  "cells": [
    {
      "cell_type": "markdown",
      "metadata": {
        "id": "view-in-github",
        "colab_type": "text"
      },
      "source": [
        "<a href=\"https://colab.research.google.com/github/Pythonimeislabor/repo1/blob/main/erstes_neuronales_Netz.ipynb\" target=\"_parent\"><img src=\"https://colab.research.google.com/assets/colab-badge.svg\" alt=\"Open In Colab\"/></a>"
      ]
    },
    {
      "cell_type": "markdown",
      "source": [
        "# Datensatz von kaggle herunterladen"
      ],
      "metadata": {
        "id": "x0nBWsvTT9wH"
      }
    },
    {
      "cell_type": "code",
      "execution_count": null,
      "metadata": {
        "colab": {
          "base_uri": "https://localhost:8080/"
        },
        "id": "LXsRTyAXThfZ",
        "outputId": "32572964-9fcf-4475-cd2a-cbc71b0a4c4c"
      },
      "outputs": [
        {
          "output_type": "stream",
          "name": "stdout",
          "text": [
            "Writing kaggle.json\n"
          ]
        }
      ],
      "source": [
        "%%writefile kaggle.json\n",
        "{\"username\":\"lutze3\",\"key\":\"c1b954a36f5402b976973271cb154a2f\"}"
      ]
    },
    {
      "cell_type": "code",
      "source": [
        "!mkdir ~/.kaggle\n",
        "!mv kaggle.json ~/.kaggle\n",
        "!kaggle datasets download -d jcprogjava/handwritten-digits-dataset-not-in-mnist\n",
        "!unzip handwritten-digits-dataset-not-in-mnist.zip\n",
        "\n",
        "from IPython.display import clear_output\n",
        "clear_output()"
      ],
      "metadata": {
        "id": "a-dfnFyCT8Qh"
      },
      "execution_count": null,
      "outputs": []
    },
    {
      "cell_type": "markdown",
      "source": [
        "# imports"
      ],
      "metadata": {
        "id": "DGNR29egXEnh"
      }
    },
    {
      "cell_type": "code",
      "source": [
        "import cv2\n",
        "import matplotlib.pyplot as plt"
      ],
      "metadata": {
        "id": "NyHIeBq2T8bS"
      },
      "execution_count": null,
      "outputs": []
    },
    {
      "cell_type": "markdown",
      "source": [
        "# Testweise ein Bild laden und anzeigen"
      ],
      "metadata": {
        "id": "BMnRf2OGXHr6"
      }
    },
    {
      "cell_type": "code",
      "source": [
        "dateipfad = \"dataset/5/5/0.png\"\n",
        "bild = cv2.imread(dateipfad, cv2.IMREAD_UNCHANGED) # bild lesen\n",
        "plt.imshow(bild)"
      ],
      "metadata": {
        "colab": {
          "base_uri": "https://localhost:8080/",
          "height": 283
        },
        "id": "vjgrEq8OXEKZ",
        "outputId": "b7504b40-f669-4d31-fa16-918a53fd4669"
      },
      "execution_count": null,
      "outputs": [
        {
          "output_type": "execute_result",
          "data": {
            "text/plain": [
              "<matplotlib.image.AxesImage at 0x7f566267db10>"
            ]
          },
          "metadata": {},
          "execution_count": 17
        },
        {
          "output_type": "display_data",
          "data": {
            "text/plain": [
              "<Figure size 432x288 with 1 Axes>"
            ],
            "image/png": "[encoded data removed]"
          },
          "metadata": {
            "needs_background": "light"
          }
        }
      ]
    },
    {
      "cell_type": "code",
      "source": [
        "bild_in_grau = bild[:,:,3]\n",
        "print(bild_in_grau.shape)\n",
        "plt.imshow(bild_in_grau, cmap=\"gray\")"
      ],
      "metadata": {
        "colab": {
          "base_uri": "https://localhost:8080/",
          "height": 300
        },
        "id": "cCk1gG7qXyvU",
        "outputId": "224a52eb-001d-4473-93f0-44b3385eea30"
      },
      "execution_count": null,
      "outputs": [
        {
          "output_type": "stream",
          "name": "stdout",
          "text": [
            "(28, 28)\n"
          ]
        },
        {
          "output_type": "execute_result",
          "data": {
            "text/plain": [
              "<matplotlib.image.AxesImage at 0x7f5657176910>"
            ]
          },
          "metadata": {},
          "execution_count": 18
        },
        {
          "output_type": "display_data",
          "data": {
            "text/plain": [
              "<Figure size 432x288 with 1 Axes>"
            ],
            "image/png": "[encoded data removed]"
          },
          "metadata": {
            "needs_background": "light"
          }
        }
      ]
    },
    {
      "cell_type": "code",
      "source": [
        "bild_0_1 = bild_in_grau / 255 # bild zwischen 0 und 1 skalieren\n",
        "plt.imshow(bild_0_1, cmap = \"gray\")"
      ],
      "metadata": {
        "colab": {
          "base_uri": "https://localhost:8080/",
          "height": 283
        },
        "id": "SnMgME0GcwFo",
        "outputId": "72797366-fec1-4e08-d5f8-fa47379cc2a5"
      },
      "execution_count": null,
      "outputs": [
        {
          "output_type": "execute_result",
          "data": {
            "text/plain": [
              "<matplotlib.image.AxesImage at 0x7f56570fa590>"
            ]
          },
          "metadata": {},
          "execution_count": 19
        },
        {
          "output_type": "display_data",
          "data": {
            "text/plain": [
              "<Figure size 432x288 with 1 Axes>"
            ],
            "image/png": "[encoded data removed]"
          },
          "metadata": {
            "needs_background": "light"
          }
        }
      ]
    },
    {
      "cell_type": "markdown",
      "source": [
        "# Alle Bilder und Beschriftungen in 2 Listen speichern"
      ],
      "metadata": {
        "id": "GKEV1go0fEkC"
      }
    },
    {
      "cell_type": "code",
      "source": [
        "#X = [bild1, bild2, bild3]\n",
        "#Y = [Beschriftung1, Beschriftung2, Beschriftung3]\n",
        "\n",
        "X = []\n",
        "Y = []\n",
        "\n",
        "import os\n",
        "\n",
        "def lade_bild(pfad):\n",
        "  bild = cv2.imread(pfad, cv2.IMREAD_UNCHANGED) # bild lesen\n",
        "  bild_in_grau = bild[:,:,3]\n",
        "  bild_0_1 = bild_in_grau / 255 # bild zwischen 0 und 1 skalieren\n",
        "  return bild_0_1\n",
        "\n",
        "\n",
        "for zahl in range(10):\n",
        "  pfad = \"dataset/\"+str(zahl)+\"/\"+str(zahl) + \"/\"\n",
        "  print(pfad)\n",
        "  alle_bilder_namen = os.listdir(pfad) # alle bilder im pfad auflisten\n",
        "  for name in alle_bilder_namen: # alle bilder in dem Ordner durchgehen\n",
        "    pfad_zum_bild = pfad + name \n",
        "    bild = lade_bild(pfad_zum_bild)\n",
        "\n",
        "    X.append(bild)\n",
        "    Y.append(zahl)"
      ],
      "metadata": {
        "colab": {
          "base_uri": "https://localhost:8080/"
        },
        "id": "dttonN4KdDIC",
        "outputId": "36aa5eec-4a36-4b99-bdd3-53efeb148bd3"
      },
      "execution_count": null,
      "outputs": [
        {
          "output_type": "stream",
          "name": "stdout",
          "text": [
            "dataset/0/0/\n",
            "dataset/1/1/\n",
            "dataset/2/2/\n",
            "dataset/3/3/\n",
            "dataset/4/4/\n",
            "dataset/5/5/\n",
            "dataset/6/6/\n",
            "dataset/7/7/\n",
            "dataset/8/8/\n",
            "dataset/9/9/\n"
          ]
        }
      ]
    },
    {
      "cell_type": "code",
      "source": [
        "index = 50000\n",
        "\n",
        "plt.imshow(X[index]), \n",
        "print(\"Y ist \", Y[index])"
      ],
      "metadata": {
        "colab": {
          "base_uri": "https://localhost:8080/",
          "height": 283
        },
        "id": "6kMzl5UQg0KP",
        "outputId": "58e0dd6f-75b0-4354-d650-e40838349c01"
      },
      "execution_count": null,
      "outputs": [
        {
          "output_type": "stream",
          "name": "stdout",
          "text": [
            "Y ist  4\n"
          ]
        },
        {
          "output_type": "display_data",
          "data": {
            "text/plain": [
              "<Figure size 432x288 with 1 Axes>"
            ],
            "image/png": "[encoded data removed]"
          },
          "metadata": {
            "needs_background": "light"
          }
        }
      ]
    },
    {
      "cell_type": "code",
      "source": [
        "import numpy as np\n",
        "\n",
        "# listen in numpy arrays umwandeln\n",
        "Y = np.array(Y) # numpy arrays sind für viele Elemente eine bessere speichermethode\n",
        "X = np.array(X) # tensorflow benötigt numpy arrays und kann nicht mit listen arbeiten\n",
        "\n",
        "p = np.random.permutation(Y.shape[0]) # X und Y gleichmäßig mischen\n",
        "X = X[p]\n",
        "Y = Y[p] "
      ],
      "metadata": {
        "id": "0xNT0n6i01X8"
      },
      "execution_count": null,
      "outputs": []
    },
    {
      "cell_type": "markdown",
      "source": [
        "# Neuronales Netzwerk bauen"
      ],
      "metadata": {
        "id": "tspW2wbat0GX"
      }
    },
    {
      "cell_type": "code",
      "source": [
        "import tensorflow as tf\n",
        "\n",
        "inputlayer = tf.keras.layers.Input(shape=(28,28))\n",
        "platt_gemacht = tf.keras.layers.Flatten()(inputlayer)\n",
        "dense1 = tf.keras.layers.Dense(16,activation=\"sigmoid\")(platt_gemacht)\n",
        "dense2 = tf.keras.layers.Dense(16,activation=\"sigmoid\")(dense1)\n",
        "output = tf.keras.layers.Dense(10,activation=\"softmax\")(dense2)\n",
        "\n",
        "model = tf.keras.Model(inputlayer, output)\n",
        "model.summary()"
      ],
      "metadata": {
        "colab": {
          "base_uri": "https://localhost:8080/"
        },
        "id": "yfSDw5Gat2rk",
        "outputId": "9c09d4b9-30c9-42c7-b075-74bd88a0cd68"
      },
      "execution_count": 43,
      "outputs": [
        {
          "output_type": "stream",
          "name": "stdout",
          "text": [
            "Model: \"model_7\"\n",
            "_________________________________________________________________\n",
            " Layer (type)                Output Shape              Param #   \n",
            "=================================================================\n",
            " input_13 (InputLayer)       [(None, 28, 28)]          0         \n",
            "                                                                 \n",
            " flatten_6 (Flatten)         (None, 784)               0         \n",
            "                                                                 \n",
            " dense_20 (Dense)            (None, 16)                12560     \n",
            "                                                                 \n",
            " dense_21 (Dense)            (None, 16)                272       \n",
            "                                                                 \n",
            " dense_22 (Dense)            (None, 10)                170       \n",
            "                                                                 \n",
            "=================================================================\n",
            "Total params: 13,002\n",
            "Trainable params: 13,002\n",
            "Non-trainable params: 0\n",
            "_________________________________________________________________\n"
          ]
        }
      ]
    },
    {
      "cell_type": "code",
      "source": [
        "fehlerfunktion = tf.keras.losses.SparseCategoricalCrossentropy()\n",
        "optimierer = tf.keras.optimizers.SGD(0.05, momentum = 0.5)\n",
        "model.compile(optimierer, fehlerfunktion, metrics=\"accuracy\")"
      ],
      "metadata": {
        "id": "V44YHlbXvwZP"
      },
      "execution_count": 44,
      "outputs": []
    },
    {
      "cell_type": "code",
      "source": [
        "model.fit(X, Y, batch_size = 32, epochs = 5, validation_split = 0.2) # Parameter optimieren"
      ],
      "metadata": {
        "colab": {
          "base_uri": "https://localhost:8080/"
        },
        "id": "6S2tL87avxb-",
        "outputId": "9f25f24b-4c5f-447c-9b1f-10b1ad179715"
      },
      "execution_count": 45,
      "outputs": [
        {
          "output_type": "stream",
          "name": "stdout",
          "text": [
            "Epoch 1/5\n",
            "2694/2694 [==============================] - 6s 2ms/step - loss: 1.8464 - accuracy: 0.4069 - val_loss: 1.0744 - val_accuracy: 0.7031\n",
            "Epoch 2/5\n",
            "2694/2694 [==============================] - 6s 2ms/step - loss: 0.6615 - accuracy: 0.8301 - val_loss: 0.3993 - val_accuracy: 0.9095\n",
            "Epoch 3/5\n",
            "2694/2694 [==============================] - 6s 2ms/step - loss: 0.2823 - accuracy: 0.9427 - val_loss: 0.2064 - val_accuracy: 0.9586\n",
            "Epoch 4/5\n",
            "2694/2694 [==============================] - 6s 2ms/step - loss: 0.1625 - accuracy: 0.9707 - val_loss: 0.1330 - val_accuracy: 0.9753\n",
            "Epoch 5/5\n",
            "2694/2694 [==============================] - 6s 2ms/step - loss: 0.1101 - accuracy: 0.9814 - val_loss: 0.0954 - val_accuracy: 0.9836\n"
          ]
        },
        {
          "output_type": "execute_result",
          "data": {
            "text/plain": [
              "<keras.callbacks.History at 0x7f564f8aa150>"
            ]
          },
          "metadata": {},
          "execution_count": 45
        }
      ]
    },
    {
      "cell_type": "code",
      "source": [
        ""
      ],
      "metadata": {
        "id": "pqM4wL4_UZKy"
      },
      "execution_count": null,
      "outputs": []
    }
  ]
}