{
  "nbformat": 4,
  "nbformat_minor": 0,
  "metadata": {
    "colab": {
      "name": "erstes neuronales Netz.ipynb",
      "provenance": [],
      "collapsed_sections": [],
      "authorship_tag": "ABX9TyO+kNzwMKT7RjqLVaX8sebQ",
      "include_colab_link": true
    },
    "kernelspec": {
      "name": "python3",
      "display_name": "Python 3"
    },
    "language_info": {
      "name": "python"
    }
  },
  "cells": [
    {
      "cell_type": "markdown",
      "metadata": {
        "id": "view-in-github",
        "colab_type": "text"
      },
      "source": [
        "<a href=\"https://colab.research.google.com/github/Pythonimeislabor/repo1/blob/main/erstes_neuronales_Netz.ipynb\" target=\"_parent\"><img src=\"https://colab.research.google.com/assets/colab-badge.svg\" alt=\"Open In Colab\"/></a>"
      ]
    },
    {
      "cell_type": "markdown",
      "source": [
        "# Datensatz von kaggle herunterladen"
      ],
      "metadata": {
        "id": "x0nBWsvTT9wH"
      }
    },
    {
      "cell_type": "code",
      "execution_count": 1,
      "metadata": {
        "colab": {
          "base_uri": "https://localhost:8080/"
        },
        "id": "LXsRTyAXThfZ",
        "outputId": "517422f4-5afb-41cc-fdca-6cd93d3fa03b"
      },
      "outputs": [
        {
          "output_type": "stream",
          "name": "stdout",
          "text": [
            "Writing kaggle.json\n"
          ]
        }
      ],
      "source": [
        "%%writefile kaggle.json\n",
        "{\"username\":\"lutze3\",\"key\":\"c1b954a36f5402b976973271cb154a2f\"}"
      ]
    },
    {
      "cell_type": "code",
      "source": [
        "!mkdir ~/.kaggle\n",
        "!mv kaggle.json ~/.kaggle\n",
        "!kaggle datasets download -d jcprogjava/handwritten-digits-dataset-not-in-mnist\n",
        "!unzip handwritten-digits-dataset-not-in-mnist.zip\n",
        "\n",
        "from IPython.display import clear_output\n",
        "clear_output()"
      ],
      "metadata": {
        "id": "a-dfnFyCT8Qh"
      },
      "execution_count": 2,
      "outputs": []
    },
    {
      "cell_type": "markdown",
      "source": [
        "# imports"
      ],
      "metadata": {
        "id": "DGNR29egXEnh"
      }
    },
    {
      "cell_type": "code",
      "source": [
        "import cv2\n",
        "import matplotlib.pyplot as plt"
      ],
      "metadata": {
        "id": "NyHIeBq2T8bS"
      },
      "execution_count": 4,
      "outputs": []
    },
    {
      "cell_type": "markdown",
      "source": [
        "# Testweise ein Bild laden und anzeigen"
      ],
      "metadata": {
        "id": "BMnRf2OGXHr6"
      }
    },
    {
      "cell_type": "code",
      "source": [
        "dateipfad = \"dataset/5/5/0.png\"\n",
        "bild = cv2.imread(dateipfad, cv2.IMREAD_UNCHANGED) # bild lesen\n",
        "plt.imshow(bild)"
      ],
      "metadata": {
        "id": "vjgrEq8OXEKZ"
      },
      "execution_count": null,
      "outputs": []
    },
    {
      "cell_type": "code",
      "source": [
        "bild_in_grau = bild[:,:,3]\n",
        "print(bild_in_grau.shape)\n",
        "plt.imshow(bild_in_grau, cmap=\"gray\")"
      ],
      "metadata": {
        "id": "cCk1gG7qXyvU"
      },
      "execution_count": null,
      "outputs": []
    },
    {
      "cell_type": "code",
      "source": [
        "bild_0_1 = bild_in_grau / 255 # bild zwischen 0 und 1 skalieren\n",
        "plt.imshow(bild_0_1, cmap = \"gray\")"
      ],
      "metadata": {
        "id": "SnMgME0GcwFo"
      },
      "execution_count": null,
      "outputs": []
    },
    {
      "cell_type": "markdown",
      "source": [
        "# Alle Bilder und Beschriftungen in 2 Listen speichern"
      ],
      "metadata": {
        "id": "GKEV1go0fEkC"
      }
    },
    {
      "cell_type": "code",
      "source": [
        "#X = [bild1, bild2, bild3]\n",
        "#Y = [Beschriftung1, Beschriftung2, Beschriftung3]\n",
        "\n",
        "X = []\n",
        "Y = []\n",
        "\n",
        "import os\n",
        "\n",
        "def lade_bild(pfad):\n",
        "  bild = cv2.imread(pfad, cv2.IMREAD_UNCHANGED) # bild lesen\n",
        "  bild_in_grau = bild[:,:,3]\n",
        "  bild_0_1 = bild_in_grau / 255 # bild zwischen 0 und 1 skalieren\n",
        "  return bild_0_1\n",
        "\n",
        "\n",
        "for zahl in range(10):\n",
        "  pfad = \"dataset/\"+str(zahl)+\"/\"+str(zahl) + \"/\"\n",
        "  print(pfad)\n",
        "  alle_bilder_namen = os.listdir(pfad) # alle bilder im pfad auflisten\n",
        "  for name in alle_bilder_namen: # alle bilder in dem Ordner durchgehen\n",
        "    pfad_zum_bild = pfad + name \n",
        "    bild = lade_bild(pfad_zum_bild)\n",
        "\n",
        "    X.append(bild)\n",
        "    Y.append(zahl)"
      ],
      "metadata": {
        "id": "dttonN4KdDIC"
      },
      "execution_count": null,
      "outputs": []
    },
    {
      "cell_type": "code",
      "source": [
        "index = 50000\n",
        "\n",
        "plt.imshow(X[index]), \n",
        "print(\"Y ist \", Y[index])"
      ],
      "metadata": {
        "colab": {
          "base_uri": "https://localhost:8080/",
          "height": 283
        },
        "id": "6kMzl5UQg0KP",
        "outputId": "b2cee96c-06b1-40f6-c5df-f8dada704d81"
      },
      "execution_count": 75,
      "outputs": [
        {
          "output_type": "stream",
          "name": "stdout",
          "text": [
            "Y ist  4\n"
          ]
        },
        {
          "output_type": "display_data",
          "data": {
            "text/plain": [
              "<Figure size 432x288 with 1 Axes>"
            ],
            "image/png": "[encoded data removed]"
          },
          "metadata": {
            "needs_background": "light"
          }
        }
      ]
    },
    {
      "cell_type": "markdown",
      "source": [
        "# Neuronales Netzwerk bauen"
      ],
      "metadata": {
        "id": "tspW2wbat0GX"
      }
    },
    {
      "cell_type": "code",
      "source": [
        "import tensorflow as tf\n",
        "\n",
        "inputlayer = tf.keras.layers.Input(shape=(28,28))\n",
        "platt_gemacht = tf.keras.layers.Flatten()(inputlayer)\n",
        "dense1 = tf.keras.layers.Dense(16,activation=\"sigmoid\")(platt_gemacht)\n",
        "dense2 = tf.keras.layers.Dense(16,activation=\"sigmoid\")(dense1)\n",
        "output = tf.keras.layers.Dense(10,activation=\"softmax\")(dense2)\n",
        "\n",
        "model = tf.keras.Model(inputlayer, output)\n",
        "model.summary()"
      ],
      "metadata": {
        "colab": {
          "base_uri": "https://localhost:8080/"
        },
        "id": "yfSDw5Gat2rk",
        "outputId": "974c990b-0f67-4021-a84f-8b0ca79a47f1"
      },
      "execution_count": 114,
      "outputs": [
        {
          "output_type": "stream",
          "name": "stdout",
          "text": [
            "Model: \"model_2\"\n",
            "_________________________________________________________________\n",
            " Layer (type)                Output Shape              Param #   \n",
            "=================================================================\n",
            " input_3 (InputLayer)        [(None, 28, 28)]          0         \n",
            "                                                                 \n",
            " flatten_2 (Flatten)         (None, 784)               0         \n",
            "                                                                 \n",
            " dense_6 (Dense)             (None, 16)                12560     \n",
            "                                                                 \n",
            " dense_7 (Dense)             (None, 16)                272       \n",
            "                                                                 \n",
            " dense_8 (Dense)             (None, 10)                170       \n",
            "                                                                 \n",
            "=================================================================\n",
            "Total params: 13,002\n",
            "Trainable params: 13,002\n",
            "Non-trainable params: 0\n",
            "_________________________________________________________________\n"
          ]
        }
      ]
    },
    {
      "cell_type": "code",
      "source": [
        "import numpy as np\n",
        "\n",
        "# listen in numpy arrays umwandeln\n",
        "Y = np.array(Y) # numpy arrays sind für viele Elemente eine bessere speichermethode\n",
        "X = np.array(X) # tensorflow benötigt numpy arrays und kann nicht mit listen arbeiten\n",
        "\n",
        "p = np.random.permutation(Y.shape[0]) # X und Y gleichmäßig mischen\n",
        "X = X[p]\n",
        "Y = Y[p] "
      ],
      "metadata": {
        "id": "0xNT0n6i01X8"
      },
      "execution_count": 115,
      "outputs": []
    },
    {
      "cell_type": "code",
      "source": [
        "fehlerfunktion = tf.keras.losses.SparseCategoricalCrossentropy()\n",
        "optimierer = tf.keras.optimizers.SGD(0.001)\n",
        "model.compile(optimierer, fehlerfunktion, metrics=\"accuracy\")"
      ],
      "metadata": {
        "id": "V44YHlbXvwZP"
      },
      "execution_count": 116,
      "outputs": []
    },
    {
      "cell_type": "code",
      "source": [
        "model.fit(X, Y, batch_size = 32, epochs = 20, validation_split = 0.2) # Parameter optimieren"
      ],
      "metadata": {
        "colab": {
          "base_uri": "https://localhost:8080/"
        },
        "id": "6S2tL87avxb-",
        "outputId": "648bac31-b918-435e-e121-2e02f0e85b08"
      },
      "execution_count": 117,
      "outputs": [
        {
          "output_type": "stream",
          "name": "stdout",
          "text": [
            "Epoch 1/20\n",
            "2694/2694 [==============================] - 7s 3ms/step - loss: 2.3597 - accuracy: 0.0998 - val_loss: 2.3131 - val_accuracy: 0.0996\n",
            "Epoch 2/20\n",
            "2694/2694 [==============================] - 6s 2ms/step - loss: 2.3046 - accuracy: 0.0949 - val_loss: 2.3006 - val_accuracy: 0.1032\n",
            "Epoch 3/20\n",
            "2694/2694 [==============================] - 6s 2ms/step - loss: 2.2990 - accuracy: 0.1135 - val_loss: 2.2983 - val_accuracy: 0.1176\n",
            "Epoch 4/20\n",
            "2694/2694 [==============================] - 6s 2ms/step - loss: 2.2971 - accuracy: 0.1296 - val_loss: 2.2966 - val_accuracy: 0.1325\n",
            "Epoch 5/20\n",
            "2694/2694 [==============================] - 7s 2ms/step - loss: 2.2954 - accuracy: 0.1432 - val_loss: 2.2948 - val_accuracy: 0.1478\n",
            "Epoch 6/20\n",
            "2694/2694 [==============================] - 6s 2ms/step - loss: 2.2936 - accuracy: 0.1568 - val_loss: 2.2931 - val_accuracy: 0.1518\n",
            "Epoch 7/20\n",
            "2694/2694 [==============================] - 7s 2ms/step - loss: 2.2918 - accuracy: 0.1642 - val_loss: 2.2912 - val_accuracy: 0.1645\n",
            "Epoch 8/20\n",
            "2694/2694 [==============================] - 6s 2ms/step - loss: 2.2898 - accuracy: 0.1776 - val_loss: 2.2892 - val_accuracy: 0.1743\n",
            "Epoch 9/20\n",
            "2694/2694 [==============================] - 6s 2ms/step - loss: 2.2878 - accuracy: 0.1820 - val_loss: 2.2872 - val_accuracy: 0.1938\n",
            "Epoch 10/20\n",
            "2694/2694 [==============================] - 7s 3ms/step - loss: 2.2857 - accuracy: 0.1979 - val_loss: 2.2850 - val_accuracy: 0.2070\n",
            "Epoch 11/20\n",
            "2694/2694 [==============================] - 6s 2ms/step - loss: 2.2834 - accuracy: 0.2111 - val_loss: 2.2826 - val_accuracy: 0.2150\n",
            "Epoch 12/20\n",
            "2694/2694 [==============================] - 7s 2ms/step - loss: 2.2809 - accuracy: 0.2181 - val_loss: 2.2801 - val_accuracy: 0.2255\n",
            "Epoch 13/20\n",
            "2694/2694 [==============================] - 6s 2ms/step - loss: 2.2783 - accuracy: 0.2269 - val_loss: 2.2774 - val_accuracy: 0.2314\n",
            "Epoch 14/20\n",
            "2694/2694 [==============================] - 6s 2ms/step - loss: 2.2754 - accuracy: 0.2364 - val_loss: 2.2745 - val_accuracy: 0.2349\n",
            "Epoch 15/20\n",
            "2694/2694 [==============================] - 6s 2ms/step - loss: 2.2723 - accuracy: 0.2451 - val_loss: 2.2713 - val_accuracy: 0.2307\n",
            "Epoch 16/20\n",
            "2694/2694 [==============================] - 6s 2ms/step - loss: 2.2690 - accuracy: 0.2343 - val_loss: 2.2678 - val_accuracy: 0.2517\n",
            "Epoch 17/20\n",
            "2694/2694 [==============================] - 6s 2ms/step - loss: 2.2653 - accuracy: 0.2566 - val_loss: 2.2642 - val_accuracy: 0.2439\n",
            "Epoch 18/20\n",
            "2694/2694 [==============================] - 6s 2ms/step - loss: 2.2613 - accuracy: 0.2545 - val_loss: 2.2600 - val_accuracy: 0.2413\n",
            "Epoch 19/20\n",
            "2694/2694 [==============================] - 6s 2ms/step - loss: 2.2569 - accuracy: 0.2563 - val_loss: 2.2555 - val_accuracy: 0.2442\n",
            "Epoch 20/20\n",
            "2694/2694 [==============================] - 7s 2ms/step - loss: 2.2521 - accuracy: 0.2508 - val_loss: 2.2506 - val_accuracy: 0.2506\n"
          ]
        },
        {
          "output_type": "execute_result",
          "data": {
            "text/plain": [
              "<keras.callbacks.History at 0x7f19cb8cff10>"
            ]
          },
          "metadata": {},
          "execution_count": 117
        }
      ]
    },
    {
      "cell_type": "code",
      "source": [
        "verteilung = [0,0,0,0,0,0,0,0,0,0]\n",
        "for i in Y:\n",
        "  verteilung[i] += 1\n",
        "verteilung"
      ],
      "metadata": {
        "colab": {
          "base_uri": "https://localhost:8080/"
        },
        "id": "il2HLG1E4PWb",
        "outputId": "68b597f9-2665-4cf5-f595-b34a3d8d9cc9"
      },
      "execution_count": 96,
      "outputs": [
        {
          "output_type": "execute_result",
          "data": {
            "text/plain": [
              "[10773, 10773, 10773, 10773, 10773, 10773, 10773, 10773, 10773, 10773]"
            ]
          },
          "metadata": {},
          "execution_count": 96
        }
      ]
    }
  ]
}