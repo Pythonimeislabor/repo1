{
  "cells": [
    {
      "cell_type": "markdown",
      "metadata": {
        "id": "view-in-github",
        "colab_type": "text"
      },
      "source": [
        "<a href=\"https://colab.research.google.com/github/Pythonimeislabor/repo1/blob/main/erstes_neuronales_Netz.ipynb\" target=\"_parent\"><img src=\"https://colab.research.google.com/assets/colab-badge.svg\" alt=\"Open In Colab\"/></a>"
      ]
    },
    {
      "cell_type": "markdown",
      "metadata": {
        "id": "x0nBWsvTT9wH"
      },
      "source": [
        "# Datensatz von kaggle herunterladen"
      ]
    },
    {
      "cell_type": "code",
      "execution_count": 22,
      "metadata": {
        "colab": {
          "base_uri": "https://localhost:8080/"
        },
        "id": "LXsRTyAXThfZ",
        "outputId": "85cb28a4-3c84-4969-83df-d62e46b0c517"
      },
      "outputs": [
        {
          "output_type": "stream",
          "name": "stdout",
          "text": [
            "Writing kaggle.json\n"
          ]
        }
      ],
      "source": [
        "%%writefile kaggle.json\n",
        "{\"username\":\"lutze3\",\"key\":\"c1b954a36f5402b976973271cb154a2f\"}"
      ]
    },
    {
      "cell_type": "code",
      "execution_count": null,
      "metadata": {
        "id": "a-dfnFyCT8Qh",
        "colab": {
          "base_uri": "https://localhost:8080/"
        },
        "outputId": "34840cef-193f-44ec-fed6-2519aad309e3"
      },
      "outputs": [
        {
          "output_type": "stream",
          "name": "stdout",
          "text": [
            "mkdir: cannot create directory ‘/root/.kaggle’: File exists\n",
            "Warning: Your Kaggle API key is readable by other users on this system! To fix this, you can run 'chmod 600 /root/.kaggle/kaggle.json'\n",
            "handwritten-digits-dataset-not-in-mnist.zip: Skipping, found more recently modified local copy (use --force to force download)\n",
            "Archive:  handwritten-digits-dataset-not-in-mnist.zip\n",
            "replace dataset/0/0/0.png? [y]es, [n]o, [A]ll, [N]one, [r]ename: "
          ]
        }
      ],
      "source": [
        "!mkdir ~/.kaggle\n",
        "!mv kaggle.json ~/.kaggle\n",
        "!kaggle datasets download -d jcprogjava/handwritten-digits-dataset-not-in-mnist\n",
        "!unzip handwritten-digits-dataset-not-in-mnist.zip\n",
        "\n",
        "from IPython.display import clear_output\n",
        "clear_output()"
      ]
    },
    {
      "cell_type": "markdown",
      "metadata": {
        "id": "DGNR29egXEnh"
      },
      "source": [
        "# imports"
      ]
    },
    {
      "cell_type": "code",
      "execution_count": null,
      "metadata": {
        "id": "NyHIeBq2T8bS"
      },
      "outputs": [],
      "source": [
        "import cv2 # Bildbearbeitung\n",
        "import matplotlib.pyplot as plt # Bilder anzeigen\n",
        "import os # Um Bilder in den Ordnern zu finden\n",
        "import numpy as np # Für Arrays mit denen Tensorflow umgehen kann\n",
        "import tensorflow as tf # für deep-learning / neuronale Netze"
      ]
    },
    {
      "cell_type": "markdown",
      "metadata": {
        "id": "BMnRf2OGXHr6"
      },
      "source": [
        "# Testweise ein Bild laden und anzeigen"
      ]
    },
    {
      "cell_type": "markdown",
      "source": [
        "Die Bilder sind im RGBA-format gespeichert. Die RGB-Farben sind alle auf 0 gesetzt. Der Alpha-Wert speichert in diesem Fall die Helligkeit eines Pixels.<br>\n",
        "Um ein Bild im RGBA-Format zu laden muss das IMREAD_UNCHANGED an imread() übergeben werden. Ohne IMREAD_UNCHANGED würde opencv nur RGB lesen und den wichtigen Alpha-Wert weglassen"
      ],
      "metadata": {
        "id": "0eM5uLKJj1zE"
      }
    },
    {
      "cell_type": "code",
      "execution_count": null,
      "metadata": {
        "id": "vjgrEq8OXEKZ"
      },
      "outputs": [],
      "source": [
        "dateipfad = \"dataset/5/5/0.png\"\n",
        "bild = cv2.imread(dateipfad, cv2.IMREAD_UNCHANGED) # bild lesen\n",
        "plt.imshow(bild)"
      ]
    },
    {
      "cell_type": "markdown",
      "source": [
        "Das Bild hat 3 Dimensionen: Höhe, Breite und die 4 Farbwerte.<br> Mit bild[0] würden wir die erste Zeile im Bild erhalten. Mit Bild[0][0] oder bild[0,0] würden wir den ersten Pixel oben links im Bild erhalten.<br>\n",
        "bild[ : , : , 3] bedeutet, die Pixel mit Y von Anfang bis Ende, X von Anfang bis Ende, Farbkanal an der Stelle 3"
      ],
      "metadata": {
        "id": "O0w1m5f2k1n4"
      }
    },
    {
      "cell_type": "code",
      "source": [
        "bild[0, 0] # Der Pixel mit y = 0 und x = 0"
      ],
      "metadata": {
        "id": "1T31CF8wmRZe"
      },
      "execution_count": null,
      "outputs": []
    },
    {
      "cell_type": "code",
      "source": [
        "bild[0, 0:2] # Die Pixel mit y = 0 und x = 0 bis 2, also X = 1 oder x = 2"
      ],
      "metadata": {
        "id": "Kg96B3FnmYae"
      },
      "execution_count": null,
      "outputs": []
    },
    {
      "cell_type": "code",
      "execution_count": null,
      "metadata": {
        "id": "cCk1gG7qXyvU"
      },
      "outputs": [],
      "source": [
        "bild_in_grau = bild[:,:,3] # Y von Anfang bis Ende, X von Anfang bis Ende, c nur mit dem Index 3\n",
        "print(bild_in_grau.shape)\n",
        "plt.imshow(bild_in_grau, cmap=\"gray\")"
      ]
    },
    {
      "cell_type": "markdown",
      "source": [
        "Das Bild ist im UINT8-Format gespeichert. Jeder Pixel besteht nun aus 8 Bits, kann also Werte von 0 bis 255 annehmen. Für das neuronale Netz sollten wir diese Werte zwischen 0 und 1 bringen"
      ],
      "metadata": {
        "id": "37JP5L4LnEBq"
      }
    },
    {
      "cell_type": "code",
      "execution_count": null,
      "metadata": {
        "id": "SnMgME0GcwFo"
      },
      "outputs": [],
      "source": [
        "print(\"Das Bild hat den Speichertyp\", bild_in_grau.dtype)\n",
        "bild_0_1 = bild_in_grau / 255 # bild zwischen 0 und 1 skalieren - jeder Wert im array wird durch 255 geteilt\n",
        "plt.imshow(bild_0_1, cmap = \"gray\") # Das Bild hat sich nicht verändert, aber das speicherformat ist nun vom type float\n",
        "print(\"Das Bild hat nach dem skalieren den Speichertyp\", bild_0_1.dtype)"
      ]
    },
    {
      "cell_type": "markdown",
      "metadata": {
        "id": "GKEV1go0fEkC"
      },
      "source": [
        "# Trainingsdatensatz generieren\n",
        "Ein neuronales Netz braucht viele Trainingsdaten um Zusammenhänge zu erkennen.<br>\n",
        "Dazu werden 2 Listen erstellt. Liste X enthält alle Bilder, Liste Y die zugehörigen Zahlen"
      ]
    },
    {
      "cell_type": "code",
      "source": [
        "os.listdir(\"dataset\") # os.listdir gibt eine liste mit allen Ordnern und Dateien im angegebenen Verzeichnis zurück"
      ],
      "metadata": {
        "id": "pY_JI8lRoGCG"
      },
      "execution_count": null,
      "outputs": []
    },
    {
      "cell_type": "code",
      "execution_count": null,
      "metadata": {
        "id": "dttonN4KdDIC"
      },
      "outputs": [],
      "source": [
        "#X = [bild1, bild2, bild3]\n",
        "#Y = [Beschriftung1, Beschriftung2, Beschriftung3]\n",
        "\n",
        "X = []\n",
        "Y = []\n",
        "\n",
        "def lade_bild(pfad): # Bild laden und vorverarbeiten\n",
        "  bild = cv2.imread(pfad, cv2.IMREAD_UNCHANGED) # bild lesen vom rgba-format\n",
        "  bild_in_grau = bild[:,:,3] # Alpha-Wert herausfiltern\n",
        "  bild_0_1 = bild_in_grau / 255 # bild zwischen 0 und 1 skalieren\n",
        "  return bild_0_1 # Bild an den Aufruf zurückgeben\n",
        "\n",
        "\n",
        "for zahl in range(10): # Wir haben ordner von 0 bis 9\n",
        "  pfad = \"dataset/\"+str(zahl)+\"/\"+str(zahl) + \"/\" # Pfad zusammenbauen\n",
        "  print(\"zahl ist\", zahl, \"- Der Pfad ist\", pfad)\n",
        "  alle_bilder_namen = os.listdir(pfad) # alle bilder im pfad auflisten\n",
        "  for name in alle_bilder_namen: # alle bilder in dem Ordner durchgehen\n",
        "    pfad_zum_bild = pfad + name \n",
        "    bild = lade_bild(pfad_zum_bild)\n",
        "\n",
        "    X.append(bild) # Das Bild an X anhängen\n",
        "    Y.append(zahl) # Die zugehörige Zahl an Y anhängen"
      ]
    },
    {
      "cell_type": "code",
      "source": [
        "print(\"Es gibt\", len(Y),\"Trainingsbilder\")"
      ],
      "metadata": {
        "id": "dbfx3ak8o2M4"
      },
      "execution_count": null,
      "outputs": []
    },
    {
      "cell_type": "code",
      "execution_count": null,
      "metadata": {
        "id": "6kMzl5UQg0KP"
      },
      "outputs": [],
      "source": [
        "index = 100000\n",
        "\n",
        "print(\"Es wird das Bild mit dem index\", index, \"angezeigt\")\n",
        "plt.imshow(X[index]), \n",
        "print(\"Y ist \", Y[index])"
      ]
    },
    {
      "cell_type": "code",
      "execution_count": null,
      "metadata": {
        "id": "0xNT0n6i01X8"
      },
      "outputs": [],
      "source": [
        "# listen in numpy arrays umwandeln\n",
        "Y = np.array(Y) # numpy arrays sind für viele Elemente eine bessere Speichermethode\n",
        "X = np.array(X) # tensorflow benötigt numpy arrays und kann nicht mit listen arbeiten"
      ]
    },
    {
      "cell_type": "markdown",
      "source": [
        "für das Training werden die Trainingsdaten in Trainingsdaten und Validierungsdaten aufgeteilt. Das neuronale Netz wird auf 80% der Daten trainiert und auf die anderen 20% getestet. Wenn es auf den anderen 20% gut ist, hat das neuronale Netz das Konzept von den Bildern verstanden. wenn es nur auf den Trainingsdaten gut ist und die Testdaten nicht klassifizieren kann, hat es nicht gut gelernt. <br>Tensorflow nimmt immer die letzten x% im Datensatz als Validierungsdaten. In diesem Fall sind die letzten 20% alle Bilder der 8 und der 9. Es würde also von 0 - 7 alles lernen und auf 8 und 9 getestet werden. Das kann so nicht funktionieren, denn wenn das Netzwerk nie eine 8 oder 9 in den Trainingsdaten gesehen hat wird es lernen dass es solche Zahlen nicht gibt. Also müssen die Trainingsdaten gemischt werden um zufällige Zahlen als Validierungsdaten zu erhalten"
      ],
      "metadata": {
        "id": "aXOjWn5HpX-p"
      }
    },
    {
      "cell_type": "code",
      "source": [
        "# X und Y gleichmäßig mischen\n",
        "# X und Y werden so gemischt, dass Y[index] die Zahl enthält die in X[index] gespeichert ist\n",
        "p = np.random.permutation(Y.shape[0]) \n",
        "X = X[p]\n",
        "Y = Y[p] "
      ],
      "metadata": {
        "id": "ZQANFYQ5pUyK"
      },
      "execution_count": null,
      "outputs": []
    },
    {
      "cell_type": "markdown",
      "metadata": {
        "id": "tspW2wbat0GX"
      },
      "source": [
        "# Neuronales Netzwerk bauen und trainieren"
      ]
    },
    {
      "cell_type": "code",
      "execution_count": null,
      "metadata": {
        "id": "yfSDw5Gat2rk"
      },
      "outputs": [],
      "source": [
        "inputlayer = tf.keras.layers.Input(shape=(28,28)) # unser Bild hat die Form [Höhe, Breite]\n",
        "platt = tf.keras.layers.Flatten()(inputlayer)\n",
        "x = tf.keras.layers.Dense(16,activation=\"relu\")(platt)\n",
        "x = tf.keras.layers.Dropout(0.3)(x)\n",
        "x = tf.keras.layers.Dense(16,activation=\"relu\")(x)\n",
        "x = tf.keras.layers.Dropout(0.3)(x)\n",
        "output = tf.keras.layers.Dense(10,activation=\"softmax\")(x)\n",
        "\n",
        "model = tf.keras.Model(inputlayer, output)\n",
        "print(\"\")\n",
        "model.summary()"
      ]
    },
    {
      "cell_type": "code",
      "execution_count": null,
      "metadata": {
        "id": "V44YHlbXvwZP"
      },
      "outputs": [],
      "source": [
        "fehlerfunktion = tf.keras.losses.SparseCategoricalCrossentropy()\n",
        "optimierer = tf.keras.optimizers.SGD(0.001, momentum = 0.95)\n",
        "model.compile(optimierer, fehlerfunktion, metrics=\"accuracy\")"
      ]
    },
    {
      "cell_type": "code",
      "execution_count": null,
      "metadata": {
        "id": "6S2tL87avxb-"
      },
      "outputs": [],
      "source": [
        "model.fit(X, Y, batch_size = 64, epochs = 5, validation_split = 0.2) # Parameter optimieren"
      ]
    },
    {
      "cell_type": "code",
      "source": [
        "model.save(\"model.h5\") # Netzwerk und Parameter speichern"
      ],
      "metadata": {
        "id": "U9RCAaCTKeCv"
      },
      "execution_count": null,
      "outputs": []
    },
    {
      "cell_type": "markdown",
      "metadata": {
        "id": "IV5Ckw9ld6JM"
      },
      "source": [
        "# Test mit selbstgemaltem Bild\n",
        "Male eine Zahl mit Paint und lade das Bild in das Colab notebook."
      ]
    },
    {
      "cell_type": "code",
      "execution_count": null,
      "metadata": {
        "id": "ifjD08Wod-Eh",
        "colab": {
          "base_uri": "https://localhost:8080/",
          "height": 282
        },
        "outputId": "60588c44-f4c4-4407-faf7-13cbcd55f65f"
      },
      "outputs": [
        {
          "output_type": "execute_result",
          "data": {
            "text/plain": [
              "(28, 28)"
            ]
          },
          "metadata": {},
          "execution_count": 67
        },
        {
          "output_type": "display_data",
          "data": {
            "text/plain": [
              "<Figure size 432x288 with 1 Axes>"
            ],
            "image/png": "[encoded data removed]"
          },
          "metadata": {
            "needs_background": "light"
          }
        }
      ],
      "source": [
        "bild = cv2.imread(\"Untitled.png\", cv2.IMREAD_GRAYSCALE) # bild mit dem Namen untitled.png lesen im graustufen-format\n",
        "bild = cv2.resize(bild, (28,28))\n",
        "bild_0_1 = 1 - bild / 255 # bild zwischen 0 und 1 skalieren\n",
        "plt.imshow(bild_0_1, cmap = \"gray\")\n",
        "bild_0_1.shape"
      ]
    },
    {
      "cell_type": "code",
      "execution_count": null,
      "metadata": {
        "id": "hKZb7f-FegmO",
        "colab": {
          "base_uri": "https://localhost:8080/"
        },
        "outputId": "0bfb1b16-2f03-4059-a46a-e3bf076a908a"
      },
      "outputs": [
        {
          "output_type": "stream",
          "name": "stdout",
          "text": [
            "Die Entscheidungen sind: tf.Tensor(\n",
            "[[0.01312716 0.6096637  0.00884979 0.1081872  0.00640199 0.02641728\n",
            "  0.03351263 0.16607414 0.0094393  0.01832683]], shape=(1, 10), dtype=float32)\n",
            "Das ist die Zahl: 1\n"
          ]
        }
      ],
      "source": [
        "bild_batch = np.reshape(bild_0_1,(1,28,28)) # tensorflow braucht ein array von Inputs\n",
        "\n",
        "entscheidungen = model(bild_batch)\n",
        "print(\"Die Entscheidungen sind:\", entscheidungen)\n",
        "print(\"Das ist die Zahl:\", np.argmax(entscheidungen))"
      ]
    }
  ],
  "metadata": {
    "colab": {
      "collapsed_sections": [],
      "name": "erstes neuronales Netz.ipynb",
      "provenance": [],
      "authorship_tag": "ABX9TyM1u0d27wW+4l0jVQKJoc90",
      "include_colab_link": true
    },
    "kernelspec": {
      "display_name": "Python 3",
      "name": "python3"
    },
    "language_info": {
      "name": "python"
    }
  },
  "nbformat": 4,
  "nbformat_minor": 0
}