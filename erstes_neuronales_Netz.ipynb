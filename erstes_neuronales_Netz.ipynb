{
  "nbformat": 4,
  "nbformat_minor": 0,
  "metadata": {
    "colab": {
      "name": "erstes neuronales Netz.ipynb",
      "provenance": [],
      "collapsed_sections": [],
      "authorship_tag": "ABX9TyOyeVQyLQn5pagaRK2GO09o",
      "include_colab_link": true
    },
    "kernelspec": {
      "name": "python3",
      "display_name": "Python 3"
    },
    "language_info": {
      "name": "python"
    }
  },
  "cells": [
    {
      "cell_type": "markdown",
      "metadata": {
        "id": "view-in-github",
        "colab_type": "text"
      },
      "source": [
        "<a href=\"https://colab.research.google.com/github/Pythonimeislabor/repo1/blob/main/erstes_neuronales_Netz.ipynb\" target=\"_parent\"><img src=\"https://colab.research.google.com/assets/colab-badge.svg\" alt=\"Open In Colab\"/></a>"
      ]
    },
    {
      "cell_type": "markdown",
      "source": [
        "# Datensatz von kaggle herunterladen"
      ],
      "metadata": {
        "id": "x0nBWsvTT9wH"
      }
    },
    {
      "cell_type": "code",
      "execution_count": 1,
      "metadata": {
        "colab": {
          "base_uri": "https://localhost:8080/"
        },
        "id": "LXsRTyAXThfZ",
        "outputId": "56d343a7-9cfe-4b64-aa22-39b486f11324"
      },
      "outputs": [
        {
          "output_type": "stream",
          "name": "stdout",
          "text": [
            "Writing kaggle.json\n"
          ]
        }
      ],
      "source": [
        "%%writefile kaggle.json\n",
        "{\"username\":\"lutze3\",\"key\":\"c1b954a36f5402b976973271cb154a2f\"}"
      ]
    },
    {
      "cell_type": "code",
      "source": [
        "!mkdir ~/.kaggle\n",
        "!mv kaggle.json ~/.kaggle\n",
        "!kaggle datasets download -d jcprogjava/handwritten-digits-dataset-not-in-mnist\n",
        "!unzip handwritten-digits-dataset-not-in-mnist.zip\n",
        "\n",
        "from IPython.display import clear_output\n",
        "clear_output()"
      ],
      "metadata": {
        "id": "a-dfnFyCT8Qh"
      },
      "execution_count": 2,
      "outputs": []
    },
    {
      "cell_type": "markdown",
      "source": [
        "# imports"
      ],
      "metadata": {
        "id": "DGNR29egXEnh"
      }
    },
    {
      "cell_type": "code",
      "source": [
        "import cv2\n",
        "import matplotlib.pyplot as plt"
      ],
      "metadata": {
        "id": "NyHIeBq2T8bS"
      },
      "execution_count": 3,
      "outputs": []
    },
    {
      "cell_type": "markdown",
      "source": [
        "# Testweise ein Bild laden und anzeigen"
      ],
      "metadata": {
        "id": "BMnRf2OGXHr6"
      }
    },
    {
      "cell_type": "code",
      "source": [
        "dateipfad = \"dataset/5/5/0.png\"\n",
        "bild = cv2.imread(dateipfad, cv2.IMREAD_UNCHANGED) # bild lesen\n",
        "plt.imshow(bild)"
      ],
      "metadata": {
        "colab": {
          "base_uri": "https://localhost:8080/",
          "height": 0
        },
        "id": "vjgrEq8OXEKZ",
        "outputId": "bdd184cd-9a08-4f39-ad00-608a5da259f4"
      },
      "execution_count": 4,
      "outputs": [
        {
          "output_type": "execute_result",
          "data": {
            "text/plain": [
              "<matplotlib.image.AxesImage at 0x7f1d31752a50>"
            ]
          },
          "metadata": {},
          "execution_count": 4
        },
        {
          "output_type": "display_data",
          "data": {
            "text/plain": [
              "<Figure size 432x288 with 1 Axes>"
            ],
            "image/png": "[encoded data removed]"
          },
          "metadata": {
            "needs_background": "light"
          }
        }
      ]
    },
    {
      "cell_type": "code",
      "source": [
        "bild_in_grau = bild[:,:,3]\n",
        "print(bild_in_grau.shape)\n",
        "plt.imshow(bild_in_grau, cmap=\"gray\")"
      ],
      "metadata": {
        "colab": {
          "base_uri": "https://localhost:8080/",
          "height": 0
        },
        "id": "cCk1gG7qXyvU",
        "outputId": "ff8789c8-ede8-462e-a342-df5f7ead83b9"
      },
      "execution_count": 5,
      "outputs": [
        {
          "output_type": "stream",
          "name": "stdout",
          "text": [
            "(28, 28)\n"
          ]
        },
        {
          "output_type": "execute_result",
          "data": {
            "text/plain": [
              "<matplotlib.image.AxesImage at 0x7f1d3122cf90>"
            ]
          },
          "metadata": {},
          "execution_count": 5
        },
        {
          "output_type": "display_data",
          "data": {
            "text/plain": [
              "<Figure size 432x288 with 1 Axes>"
            ],
            "image/png": "[encoded data removed]"
          },
          "metadata": {
            "needs_background": "light"
          }
        }
      ]
    },
    {
      "cell_type": "code",
      "source": [
        "bild_0_1 = bild_in_grau / 255 # bild zwischen 0 und 1 skalieren\n",
        "plt.imshow(bild_0_1, cmap = \"gray\")"
      ],
      "metadata": {
        "colab": {
          "base_uri": "https://localhost:8080/",
          "height": 0
        },
        "id": "SnMgME0GcwFo",
        "outputId": "c8bcf277-2a02-4c97-ca92-2675310564fe"
      },
      "execution_count": 6,
      "outputs": [
        {
          "output_type": "execute_result",
          "data": {
            "text/plain": [
              "<matplotlib.image.AxesImage at 0x7f1d311a8910>"
            ]
          },
          "metadata": {},
          "execution_count": 6
        },
        {
          "output_type": "display_data",
          "data": {
            "text/plain": [
              "<Figure size 432x288 with 1 Axes>"
            ],
            "image/png": "[encoded data removed]"
          },
          "metadata": {
            "needs_background": "light"
          }
        }
      ]
    },
    {
      "cell_type": "markdown",
      "source": [
        "# Alle Bilder und Beschriftungen in 2 Listen speichern"
      ],
      "metadata": {
        "id": "GKEV1go0fEkC"
      }
    },
    {
      "cell_type": "code",
      "source": [
        "#X = [bild1, bild2, bild3]\n",
        "#Y = [Beschriftung1, Beschriftung2, Beschriftung3]\n",
        "\n",
        "X = []\n",
        "Y = []\n",
        "\n",
        "import os\n",
        "\n",
        "def lade_bild(pfad):\n",
        "  bild = cv2.imread(pfad, cv2.IMREAD_UNCHANGED) # bild lesen im bgra-format\n",
        "  bild_in_grau = bild[:,:,3]\n",
        "  bild_0_1 = bild_in_grau / 255 # bild zwischen 0 und 1 skalieren\n",
        "  return bild_0_1\n",
        "\n",
        "\n",
        "for zahl in range(10):\n",
        "  pfad = \"dataset/\"+str(zahl)+\"/\"+str(zahl) + \"/\"\n",
        "  print(pfad)\n",
        "  alle_bilder_namen = os.listdir(pfad) # alle bilder im pfad auflisten\n",
        "  for name in alle_bilder_namen: # alle bilder in dem Ordner durchgehen\n",
        "    pfad_zum_bild = pfad + name \n",
        "    bild = lade_bild(pfad_zum_bild)\n",
        "\n",
        "    X.append(bild)\n",
        "    Y.append(zahl)"
      ],
      "metadata": {
        "colab": {
          "base_uri": "https://localhost:8080/"
        },
        "id": "dttonN4KdDIC",
        "outputId": "86fe1cb6-221d-481d-dd91-cb3c2c0a1183"
      },
      "execution_count": 7,
      "outputs": [
        {
          "output_type": "stream",
          "name": "stdout",
          "text": [
            "dataset/0/0/\n",
            "dataset/1/1/\n",
            "dataset/2/2/\n",
            "dataset/3/3/\n",
            "dataset/4/4/\n",
            "dataset/5/5/\n",
            "dataset/6/6/\n",
            "dataset/7/7/\n",
            "dataset/8/8/\n",
            "dataset/9/9/\n"
          ]
        }
      ]
    },
    {
      "cell_type": "code",
      "source": [
        "index = 50000\n",
        "\n",
        "plt.imshow(X[index]), \n",
        "print(\"Y ist \", Y[index])"
      ],
      "metadata": {
        "colab": {
          "base_uri": "https://localhost:8080/",
          "height": 283
        },
        "id": "6kMzl5UQg0KP",
        "outputId": "7c36f5eb-a3d0-4cee-bebf-5924686fa47b"
      },
      "execution_count": 8,
      "outputs": [
        {
          "output_type": "stream",
          "name": "stdout",
          "text": [
            "Y ist  4\n"
          ]
        },
        {
          "output_type": "display_data",
          "data": {
            "text/plain": [
              "<Figure size 432x288 with 1 Axes>"
            ],
            "image/png": "[encoded data removed]"
          },
          "metadata": {
            "needs_background": "light"
          }
        }
      ]
    },
    {
      "cell_type": "code",
      "source": [
        "import numpy as np\n",
        "\n",
        "# listen in numpy arrays umwandeln\n",
        "Y = np.array(Y) # numpy arrays sind für viele Elemente eine bessere speichermethode\n",
        "X = np.array(X) # tensorflow benötigt numpy arrays und kann nicht mit listen arbeiten\n",
        "\n",
        "p = np.random.permutation(Y.shape[0]) # X und Y gleichmäßig mischen\n",
        "X = X[p]\n",
        "Y = Y[p] "
      ],
      "metadata": {
        "id": "0xNT0n6i01X8"
      },
      "execution_count": 9,
      "outputs": []
    },
    {
      "cell_type": "markdown",
      "source": [
        "# Neuronales Netzwerk bauen"
      ],
      "metadata": {
        "id": "tspW2wbat0GX"
      }
    },
    {
      "cell_type": "code",
      "source": [
        "import tensorflow as tf\n",
        "\n",
        "inputlayer = tf.keras.layers.Input(shape=(28,28))\n",
        "platt_gemacht = tf.keras.layers.Flatten()(inputlayer)\n",
        "dense1 = tf.keras.layers.Dense(8,activation=\"sigmoid\")(platt_gemacht)\n",
        "dense2 = tf.keras.layers.Dense(8,activation=\"sigmoid\")(dense1)\n",
        "output = tf.keras.layers.Dense(10,activation=\"softmax\")(dense2)\n",
        "\n",
        "model = tf.keras.Model(inputlayer, output)\n",
        "model.summary()"
      ],
      "metadata": {
        "colab": {
          "base_uri": "https://localhost:8080/"
        },
        "id": "yfSDw5Gat2rk",
        "outputId": "2d2ec271-62d7-4660-f972-b56ad57463e0"
      },
      "execution_count": 25,
      "outputs": [
        {
          "output_type": "stream",
          "name": "stdout",
          "text": [
            "Model: \"model_1\"\n",
            "_________________________________________________________________\n",
            " Layer (type)                Output Shape              Param #   \n",
            "=================================================================\n",
            " input_2 (InputLayer)        [(None, 28, 28)]          0         \n",
            "                                                                 \n",
            " flatten_1 (Flatten)         (None, 784)               0         \n",
            "                                                                 \n",
            " dense_3 (Dense)             (None, 8)                 6280      \n",
            "                                                                 \n",
            " dense_4 (Dense)             (None, 8)                 72        \n",
            "                                                                 \n",
            " dense_5 (Dense)             (None, 10)                90        \n",
            "                                                                 \n",
            "=================================================================\n",
            "Total params: 6,442\n",
            "Trainable params: 6,442\n",
            "Non-trainable params: 0\n",
            "_________________________________________________________________\n"
          ]
        }
      ]
    },
    {
      "cell_type": "code",
      "source": [
        "fehlerfunktion = tf.keras.losses.SparseCategoricalCrossentropy()\n",
        "optimierer = tf.keras.optimizers.SGD(0.05, momentum = 0.5)\n",
        "model.compile(optimierer, fehlerfunktion, metrics=\"accuracy\")"
      ],
      "metadata": {
        "id": "V44YHlbXvwZP"
      },
      "execution_count": 26,
      "outputs": []
    },
    {
      "cell_type": "code",
      "source": [
        "model.fit(X, Y, batch_size = 32, epochs = 5, validation_split = 0.2) # Parameter optimieren"
      ],
      "metadata": {
        "colab": {
          "base_uri": "https://localhost:8080/"
        },
        "id": "6S2tL87avxb-",
        "outputId": "3384171a-d757-42c9-82ca-a4218fa359b4"
      },
      "execution_count": 27,
      "outputs": [
        {
          "output_type": "stream",
          "name": "stdout",
          "text": [
            "Epoch 1/5\n",
            "2694/2694 [==============================] - 6s 2ms/step - loss: 2.0136 - accuracy: 0.3021 - val_loss: 1.4771 - val_accuracy: 0.5511\n",
            "Epoch 2/5\n",
            "2694/2694 [==============================] - 6s 2ms/step - loss: 1.0032 - accuracy: 0.7047 - val_loss: 0.6955 - val_accuracy: 0.8177\n",
            "Epoch 3/5\n",
            "2694/2694 [==============================] - 6s 2ms/step - loss: 0.5664 - accuracy: 0.8497 - val_loss: 0.4653 - val_accuracy: 0.8784\n",
            "Epoch 4/5\n",
            "2694/2694 [==============================] - 6s 2ms/step - loss: 0.4047 - accuracy: 0.8950 - val_loss: 0.3808 - val_accuracy: 0.8931\n",
            "Epoch 5/5\n",
            "2694/2694 [==============================] - 6s 2ms/step - loss: 0.3233 - accuracy: 0.9142 - val_loss: 0.2959 - val_accuracy: 0.9202\n"
          ]
        },
        {
          "output_type": "execute_result",
          "data": {
            "text/plain": [
              "<keras.callbacks.History at 0x7f1ca8a24790>"
            ]
          },
          "metadata": {},
          "execution_count": 27
        }
      ]
    },
    {
      "cell_type": "markdown",
      "source": [
        "# Test mit selbstgemaltem Bild"
      ],
      "metadata": {
        "id": "IV5Ckw9ld6JM"
      }
    },
    {
      "cell_type": "code",
      "source": [
        "bild = cv2.imread(\"Untitled.png\", cv2.IMREAD_GRAYSCALE) # bild lesen im graustufen-format\n",
        "bild_0_1 = 1 - bild / 255 # bild zwischen 0 und 1 skalieren\n",
        "\n",
        "plt.imshow(bild_0_1, cmap = \"gray\")\n",
        "bild_batch = np.reshape(bild_0_1,(1,28,28))\n",
        "entscheidungen = model(bild_batch)\n",
        "print(\"Die Entscheidungen sind:\", entscheidungen.numpy())\n",
        "print(\"Das ist die Zahl:\", np.argmax(entscheidungen.numpy()))"
      ],
      "metadata": {
        "colab": {
          "base_uri": "https://localhost:8080/",
          "height": 317
        },
        "id": "ifjD08Wod-Eh",
        "outputId": "f33d0c48-fe81-4401-d378-8e08eb776e19"
      },
      "execution_count": 28,
      "outputs": [
        {
          "output_type": "stream",
          "name": "stdout",
          "text": [
            "Die Entscheidungen sind: [[7.0651149e-05 2.3518379e-01 3.1106526e-02 2.2428995e-03 4.1315287e-01\n",
            "  2.1757056e-01 2.6793685e-03 3.9986372e-02 1.2528369e-06 5.8005754e-02]]\n",
            "Das ist die Zahl: 4\n"
          ]
        },
        {
          "output_type": "display_data",
          "data": {
            "text/plain": [
              "<Figure size 432x288 with 1 Axes>"
            ],
            "image/png": "[encoded data removed]"
          },
          "metadata": {
            "needs_background": "light"
          }
        }
      ]
    },
    {
      "cell_type": "code",
      "source": [
        ""
      ],
      "metadata": {
        "id": "hKZb7f-FegmO"
      },
      "execution_count": null,
      "outputs": []
    }
  ]
}