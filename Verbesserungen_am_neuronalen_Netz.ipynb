{
  "cells": [
    {
      "cell_type": "markdown",
      "metadata": {
        "id": "view-in-github",
        "colab_type": "text"
      },
      "source": [
        "<a href=\"https://colab.research.google.com/github/Pythonimeislabor/repo1/blob/main/Verbesserungen_am_neuronalen_Netz.ipynb\" target=\"_parent\"><img src=\"https://colab.research.google.com/assets/colab-badge.svg\" alt=\"Open In Colab\"/></a>"
      ]
    },
    {
      "cell_type": "markdown",
      "metadata": {
        "id": "x0nBWsvTT9wH"
      },
      "source": [
        "# Datensatz von kaggle herunterladen"
      ]
    },
    {
      "cell_type": "code",
      "execution_count": 1,
      "metadata": {
        "colab": {
          "base_uri": "https://localhost:8080/"
        },
        "id": "LXsRTyAXThfZ",
        "outputId": "b8f4faa2-4554-4a46-85c8-cb61bef47a24"
      },
      "outputs": [
        {
          "output_type": "stream",
          "name": "stdout",
          "text": [
            "Writing kaggle.json\n"
          ]
        }
      ],
      "source": [
        "%%writefile kaggle.json\n",
        "{\"username\":\"lutze3\",\"key\":\"c1b954a36f5402b976973271cb154a2f\"}"
      ]
    },
    {
      "cell_type": "code",
      "execution_count": 2,
      "metadata": {
        "id": "a-dfnFyCT8Qh"
      },
      "outputs": [],
      "source": [
        "!mkdir ~/.kaggle\n",
        "!mv kaggle.json ~/.kaggle\n",
        "!kaggle datasets download -d jcprogjava/handwritten-digits-dataset-not-in-mnist\n",
        "!unzip handwritten-digits-dataset-not-in-mnist.zip\n",
        "\n",
        "from IPython.display import clear_output\n",
        "clear_output()"
      ]
    },
    {
      "cell_type": "markdown",
      "metadata": {
        "id": "DGNR29egXEnh"
      },
      "source": [
        "# imports"
      ]
    },
    {
      "cell_type": "code",
      "execution_count": 3,
      "metadata": {
        "id": "NyHIeBq2T8bS"
      },
      "outputs": [],
      "source": [
        "import cv2 # Bildbearbeitung\n",
        "import matplotlib.pyplot as plt # Bilder anzeigen\n",
        "import os # Um Bilder in den Ordnern zu finden\n",
        "import numpy as np # Für Arrays mit denen Tensorflow umgehen kann\n",
        "import tensorflow as tf # für deep-learning / neuronale Netze\n",
        "from tqdm.notebook import tqdm # für hübsche ladebalken"
      ]
    },
    {
      "cell_type": "markdown",
      "metadata": {
        "id": "BMnRf2OGXHr6"
      },
      "source": [
        "# Testweise ein Bild laden und anzeigen"
      ]
    },
    {
      "cell_type": "markdown",
      "source": [
        "Die Bilder sind im RGBA-format gespeichert. Die RGB-Farben sind alle auf 0 gesetzt. Der Alpha-Wert speichert in diesem Fall die Helligkeit eines Pixels.<br>\n",
        "Um ein Bild im RGBA-Format zu laden muss das IMREAD_UNCHANGED an imread() übergeben werden. Ohne IMREAD_UNCHANGED würde opencv nur RGB lesen und den wichtigen Alpha-Wert weglassen"
      ],
      "metadata": {
        "id": "0eM5uLKJj1zE"
      }
    },
    {
      "cell_type": "code",
      "execution_count": 4,
      "metadata": {
        "id": "vjgrEq8OXEKZ",
        "colab": {
          "base_uri": "https://localhost:8080/",
          "height": 0
        },
        "outputId": "22985570-b98a-49c4-bfe3-d82e65012f40"
      },
      "outputs": [
        {
          "output_type": "execute_result",
          "data": {
            "text/plain": [
              "<matplotlib.image.AxesImage at 0x7f554c9bcb10>"
            ]
          },
          "metadata": {},
          "execution_count": 4
        },
        {
          "output_type": "display_data",
          "data": {
            "text/plain": [
              "<Figure size 432x288 with 1 Axes>"
            ],
            "image/png": "[encoded data removed]"
          },
          "metadata": {
            "needs_background": "light"
          }
        }
      ],
      "source": [
        "dateipfad = \"dataset/5/5/0.png\"\n",
        "bild = cv2.imread(dateipfad, cv2.IMREAD_UNCHANGED) # bild lesen\n",
        "plt.imshow(bild)"
      ]
    },
    {
      "cell_type": "markdown",
      "source": [
        "Das Bild hat 3 Dimensionen: Höhe, Breite und die 4 Farbwerte.<br> Mit bild[0] würden wir die erste Zeile im Bild erhalten. Mit Bild[0][0] oder bild[0,0] würden wir den ersten Pixel oben links im Bild erhalten.<br>\n",
        "bild[ : , : , 3] bedeutet, die Pixel mit Y von Anfang bis Ende, X von Anfang bis Ende, Farbkanal an der Stelle 3"
      ],
      "metadata": {
        "id": "O0w1m5f2k1n4"
      }
    },
    {
      "cell_type": "code",
      "source": [
        "bild[0, 0] # Der Pixel mit y = 0 und x = 0"
      ],
      "metadata": {
        "colab": {
          "base_uri": "https://localhost:8080/"
        },
        "id": "1T31CF8wmRZe",
        "outputId": "e46cb405-a529-466c-829d-d0b11e89759c"
      },
      "execution_count": 5,
      "outputs": [
        {
          "output_type": "execute_result",
          "data": {
            "text/plain": [
              "array([0, 0, 0, 0], dtype=uint8)"
            ]
          },
          "metadata": {},
          "execution_count": 5
        }
      ]
    },
    {
      "cell_type": "code",
      "source": [
        "bild[0, 0:2] # Die Pixel mit y = 0 und x = 0 bis 2, also X = 1 oder x = 2"
      ],
      "metadata": {
        "colab": {
          "base_uri": "https://localhost:8080/"
        },
        "id": "Kg96B3FnmYae",
        "outputId": "c794e331-e773-414a-a43f-c1cb74b89f00"
      },
      "execution_count": 6,
      "outputs": [
        {
          "output_type": "execute_result",
          "data": {
            "text/plain": [
              "array([[0, 0, 0, 0],\n",
              "       [0, 0, 0, 0]], dtype=uint8)"
            ]
          },
          "metadata": {},
          "execution_count": 6
        }
      ]
    },
    {
      "cell_type": "code",
      "execution_count": 7,
      "metadata": {
        "id": "cCk1gG7qXyvU",
        "colab": {
          "base_uri": "https://localhost:8080/",
          "height": 0
        },
        "outputId": "9b2d0a05-cf82-43e6-872d-e8f0b1de11c1"
      },
      "outputs": [
        {
          "output_type": "stream",
          "name": "stdout",
          "text": [
            "(28, 28)\n"
          ]
        },
        {
          "output_type": "execute_result",
          "data": {
            "text/plain": [
              "<matplotlib.image.AxesImage at 0x7f554c4ab690>"
            ]
          },
          "metadata": {},
          "execution_count": 7
        },
        {
          "output_type": "display_data",
          "data": {
            "text/plain": [
              "<Figure size 432x288 with 1 Axes>"
            ],
            "image/png": "[encoded data removed]"
          },
          "metadata": {
            "needs_background": "light"
          }
        }
      ],
      "source": [
        "bild_in_grau = bild[:,:,3] # Y von Anfang bis Ende, X von Anfang bis Ende, c nur mit dem Index 3\n",
        "print(bild_in_grau.shape)\n",
        "plt.imshow(bild_in_grau, cmap=\"gray\")"
      ]
    },
    {
      "cell_type": "markdown",
      "source": [
        "Das Bild ist im UINT8-Format gespeichert. Jeder Pixel besteht nun aus 8 Bits, kann also Werte von 0 bis 255 annehmen. Für das neuronale Netz sollten wir diese Werte zwischen 0 und 1 bringen"
      ],
      "metadata": {
        "id": "37JP5L4LnEBq"
      }
    },
    {
      "cell_type": "code",
      "execution_count": 8,
      "metadata": {
        "id": "SnMgME0GcwFo",
        "colab": {
          "base_uri": "https://localhost:8080/",
          "height": 0
        },
        "outputId": "43aa684e-a1d1-4149-ae2a-69420152d565"
      },
      "outputs": [
        {
          "output_type": "stream",
          "name": "stdout",
          "text": [
            "Das Bild hat den Speichertyp uint8\n",
            "Das Bild hat nach dem skalieren den Speichertyp float64\n"
          ]
        },
        {
          "output_type": "display_data",
          "data": {
            "text/plain": [
              "<Figure size 432x288 with 1 Axes>"
            ],
            "image/png": "[encoded data removed]"
          },
          "metadata": {
            "needs_background": "light"
          }
        }
      ],
      "source": [
        "print(\"Das Bild hat den Speichertyp\", bild_in_grau.dtype)\n",
        "bild_0_1 = bild_in_grau / 255 # bild zwischen 0 und 1 skalieren - jeder Wert im array wird durch 255 geteilt\n",
        "plt.imshow(bild_0_1, cmap = \"gray\") # Das Bild hat sich nicht verändert, aber das speicherformat ist nun vom type float\n",
        "print(\"Das Bild hat nach dem skalieren den Speichertyp\", bild_0_1.dtype)"
      ]
    },
    {
      "cell_type": "markdown",
      "source": [
        "Das Bild muss etwas verunstaltet werden um es dem Netzwerk schwieriger zu machen. Es wird auf sehr schwer zu erkennenden Bildern trainiert um dann normale Bilder zu klassifizieren"
      ],
      "metadata": {
        "id": "19wIBIb-zPEm"
      }
    },
    {
      "cell_type": "code",
      "source": [
        "rauschen = np.random.normal(size = (28,28)) / 10\n",
        "bild_und_rauschen = rauschen + bild_0_1\n",
        "plt.imshow(bild_und_rauschen, cmap = \"gray\")"
      ],
      "metadata": {
        "colab": {
          "base_uri": "https://localhost:8080/",
          "height": 0
        },
        "id": "nbtUzuSlzOqH",
        "outputId": "871db1f9-3c8b-462f-b08f-51cedebcea76"
      },
      "execution_count": 9,
      "outputs": [
        {
          "output_type": "execute_result",
          "data": {
            "text/plain": [
              "<matplotlib.image.AxesImage at 0x7f554c40fa90>"
            ]
          },
          "metadata": {},
          "execution_count": 9
        },
        {
          "output_type": "display_data",
          "data": {
            "text/plain": [
              "<Figure size 432x288 with 1 Axes>"
            ],
            "image/png": "[encoded data removed]"
          },
          "metadata": {
            "needs_background": "light"
          }
        }
      ]
    },
    {
      "cell_type": "code",
      "source": [
        "p1_x = np.random.randint(0,29)\n",
        "p2_x = np.random.randint(0,29)\n",
        "p1_y = np.random.randint(0,29)\n",
        "p2_y = np.random.randint(0,29)\n",
        "\n",
        "bild_mit_linie = cv2.line(bild_und_rauschen.copy(), (p1_x,p1_y), (p2_x,p2_y), (1))\n",
        "plt.imshow(bild_mit_linie, cmap=\"gray\")"
      ],
      "metadata": {
        "colab": {
          "base_uri": "https://localhost:8080/",
          "height": 0
        },
        "id": "v9NIfe7q1hdx",
        "outputId": "e7c740d1-b10e-422a-e472-084a608cca53"
      },
      "execution_count": 10,
      "outputs": [
        {
          "output_type": "execute_result",
          "data": {
            "text/plain": [
              "<matplotlib.image.AxesImage at 0x7f554c37c9d0>"
            ]
          },
          "metadata": {},
          "execution_count": 10
        },
        {
          "output_type": "display_data",
          "data": {
            "text/plain": [
              "<Figure size 432x288 with 1 Axes>"
            ],
            "image/png": "[encoded data removed]"
          },
          "metadata": {
            "needs_background": "light"
          }
        }
      ]
    },
    {
      "cell_type": "markdown",
      "metadata": {
        "id": "GKEV1go0fEkC"
      },
      "source": [
        "# Trainingsdatensatz generieren\n",
        "Ein neuronales Netz braucht viele Trainingsdaten um Zusammenhänge zu erkennen.<br>\n",
        "Dazu werden 2 Listen erstellt. Liste X enthält alle Bilder, Liste Y die zugehörigen Zahlen"
      ]
    },
    {
      "cell_type": "code",
      "source": [
        "os.listdir(\"dataset\") # os.listdir gibt eine liste mit allen Ordnern und Dateien im angegebenen Verzeichnis zurück"
      ],
      "metadata": {
        "colab": {
          "base_uri": "https://localhost:8080/"
        },
        "id": "pY_JI8lRoGCG",
        "outputId": "7db3b62f-f677-41c0-c63c-217a56205f43"
      },
      "execution_count": 11,
      "outputs": [
        {
          "output_type": "execute_result",
          "data": {
            "text/plain": [
              "['9', '2', '0', '3', '5', '1', '7', '8', '6', '4']"
            ]
          },
          "metadata": {},
          "execution_count": 11
        }
      ]
    },
    {
      "cell_type": "code",
      "execution_count": 12,
      "metadata": {
        "id": "dttonN4KdDIC",
        "colab": {
          "base_uri": "https://localhost:8080/",
          "height": 222,
          "referenced_widgets": [
            "6da2f2b6c1344283826681473b86f1ab",
            "7e0fe3b469fc495e95fe58c13571a150",
            "38965bffcfbc4d4e95986a2256ba8389",
            "271682792c5f45d3890d6cd9544a0c4b",
            "63d84cb295494dd3944d2c3455053793",
            "18d1bdf75efc40368464cbee594a9b8c",
            "a2a6bfd30f294ebaa4635d565e56cdd6",
            "6280017397e140adadddd4e8625397fd",
            "41a6fc30d0784bc18924d316d0237a68",
            "29c758ed6923449cb365ebb8991ac6d2",
            "0381806ea8d94f69b3151f40413cfa31"
          ]
        },
        "outputId": "e87778f4-b49b-4842-99c5-6d2176e2dd4c"
      },
      "outputs": [
        {
          "output_type": "display_data",
          "data": {
            "text/plain": [
              "  0%|          | 0/10 [00:00<?, ?it/s]"
            ],
            "application/vnd.jupyter.widget-view+json": {
              "version_major": 2,
              "version_minor": 0,
              "model_id": "6da2f2b6c1344283826681473b86f1ab"
            }
          },
          "metadata": {}
        },
        {
          "output_type": "stream",
          "name": "stdout",
          "text": [
            "zahl ist 0 - Der Pfad ist dataset/0/0/\n",
            "zahl ist 1 - Der Pfad ist dataset/1/1/\n",
            "zahl ist 2 - Der Pfad ist dataset/2/2/\n",
            "zahl ist 3 - Der Pfad ist dataset/3/3/\n",
            "zahl ist 4 - Der Pfad ist dataset/4/4/\n",
            "zahl ist 5 - Der Pfad ist dataset/5/5/\n",
            "zahl ist 6 - Der Pfad ist dataset/6/6/\n",
            "zahl ist 7 - Der Pfad ist dataset/7/7/\n",
            "zahl ist 8 - Der Pfad ist dataset/8/8/\n",
            "zahl ist 9 - Der Pfad ist dataset/9/9/\n"
          ]
        }
      ],
      "source": [
        "#X = [bild1, bild2, bild3]\n",
        "#Y = [Beschriftung1, Beschriftung2, Beschriftung3]\n",
        "\n",
        "X = []\n",
        "Y = []\n",
        "\n",
        "def lade_bild(pfad): # Bild laden und vorverarbeiten\n",
        "  bild = cv2.imread(pfad, cv2.IMREAD_UNCHANGED) # bild lesen vom rgba-format\n",
        "\n",
        "  bild_in_grau = bild[:,:,3] # Alpha-Wert herausfiltern\n",
        "\n",
        "  bild_0_1 = bild_in_grau / 255 # bild zwischen 0 und 1 skalieren\n",
        "\n",
        "  rauschen = np.random.normal(size = (28,28)) / 10 # rauschen hinzufügen\n",
        "  bild_und_rauschen = rauschen + bild_0_1\n",
        "  \n",
        "  p1_x = np.random.randint(0,29) # eine verunstaltende linie hinzufügen\n",
        "  p2_x = np.random.randint(0,29)\n",
        "  p1_y = np.random.randint(0,29)\n",
        "  p2_y = np.random.randint(0,29)\n",
        "  bild_mit_linie = cv2.line(bild_und_rauschen.copy(), (p1_x,p1_y), (p2_x,p2_y), (1))\n",
        "\n",
        "  return bild_mit_linie # Bild an den Aufruf zurückgeben\n",
        "\n",
        "\n",
        "for zahl in tqdm(range(10)): # Wir haben ordner von 0 bis 9\n",
        "  pfad = \"dataset/\"+str(zahl)+\"/\"+str(zahl) + \"/\" # Pfad zusammenbauen\n",
        "  print(\"zahl ist\", zahl, \"- Der Pfad ist\", pfad)\n",
        "  alle_bilder_namen = os.listdir(pfad) # alle bilder im pfad auflisten\n",
        "  for name in alle_bilder_namen: # alle bilder in dem Ordner durchgehen\n",
        "    pfad_zum_bild = pfad + name \n",
        "    bild = lade_bild(pfad_zum_bild)\n",
        "\n",
        "    X.append(bild) # Das Bild an X anhängen\n",
        "    Y.append(zahl) # Die zugehörige Zahl an Y anhängen"
      ]
    },
    {
      "cell_type": "code",
      "source": [
        "print(\"Es gibt\", len(Y),\"Trainingsbilder\")"
      ],
      "metadata": {
        "colab": {
          "base_uri": "https://localhost:8080/"
        },
        "id": "dbfx3ak8o2M4",
        "outputId": "3c9b5752-e33e-409f-936c-72ec506d6ece"
      },
      "execution_count": 13,
      "outputs": [
        {
          "output_type": "stream",
          "name": "stdout",
          "text": [
            "Es gibt 107730 Trainingsbilder\n"
          ]
        }
      ]
    },
    {
      "cell_type": "code",
      "execution_count": 14,
      "metadata": {
        "id": "6kMzl5UQg0KP",
        "colab": {
          "base_uri": "https://localhost:8080/",
          "height": 300
        },
        "outputId": "406dcf28-b10c-444e-981f-6466304798f5"
      },
      "outputs": [
        {
          "output_type": "stream",
          "name": "stdout",
          "text": [
            "Es wird das Bild mit dem index 50000 angezeigt\n",
            "Y ist  4\n"
          ]
        },
        {
          "output_type": "display_data",
          "data": {
            "text/plain": [
              "<Figure size 432x288 with 1 Axes>"
            ],
            "image/png": "[encoded data removed]"
          },
          "metadata": {
            "needs_background": "light"
          }
        }
      ],
      "source": [
        "index = 50000\n",
        "\n",
        "print(\"Es wird das Bild mit dem index\", index, \"angezeigt\")\n",
        "plt.imshow(X[index], cmap = \"gray\"), \n",
        "print(\"Y ist \", Y[index])"
      ]
    },
    {
      "cell_type": "code",
      "execution_count": 15,
      "metadata": {
        "id": "0xNT0n6i01X8"
      },
      "outputs": [],
      "source": [
        "# listen in numpy arrays umwandeln\n",
        "Y = np.array(Y) # numpy arrays sind für viele Elemente eine bessere Speichermethode\n",
        "X = np.array(X) # tensorflow benötigt numpy arrays und kann nicht mit listen arbeiten"
      ]
    },
    {
      "cell_type": "markdown",
      "source": [
        "für das Training werden die Trainingsdaten in Trainingsdaten und Validierungsdaten aufgeteilt. Das neuronale Netz wird auf 80% der Daten trainiert und auf die anderen 20% getestet. Wenn es auf den anderen 20% gut ist, hat das neuronale Netz das Konzept von den Bildern verstanden. wenn es nur auf den Trainingsdaten gut ist und die Testdaten nicht klassifizieren kann, hat es nicht gut gelernt. <br>Tensorflow nimmt immer die letzten x% im Datensatz als Validierungsdaten. In diesem Fall sind die letzten 20% alle Bilder der 8 und der 9. Es würde also von 0 - 7 alles lernen und auf 8 und 9 getestet werden. Das kann so nicht funktionieren, denn wenn das Netzwerk nie eine 8 oder 9 in den Trainingsdaten gesehen hat wird es lernen dass es solche Zahlen nicht gibt. Also müssen die Trainingsdaten gemischt werden um zufällige Zahlen als Validierungsdaten zu erhalten"
      ],
      "metadata": {
        "id": "aXOjWn5HpX-p"
      }
    },
    {
      "cell_type": "code",
      "source": [
        "# X und Y gleichmäßig mischen\n",
        "# X und Y werden so gemischt, dass Y[index] die Zahl enthält die in X[index] gespeichert ist\n",
        "p = np.random.permutation(Y.shape[0]) \n",
        "X = X[p]\n",
        "Y = Y[p] "
      ],
      "metadata": {
        "id": "ZQANFYQ5pUyK"
      },
      "execution_count": 16,
      "outputs": []
    },
    {
      "cell_type": "markdown",
      "metadata": {
        "id": "tspW2wbat0GX"
      },
      "source": [
        "# Neuronales Netzwerk bauen und trainieren"
      ]
    },
    {
      "cell_type": "code",
      "execution_count": 38,
      "metadata": {
        "id": "yfSDw5Gat2rk",
        "colab": {
          "base_uri": "https://localhost:8080/"
        },
        "outputId": "60c0a4b8-61d3-4817-9361-6f75f80bd0c3"
      },
      "outputs": [
        {
          "output_type": "stream",
          "name": "stdout",
          "text": [
            "input hat die Form (None, 28, 28)\n",
            "nach Reshape() ist die Form (None, 28, 28)\n",
            "\n",
            "Model: \"model_4\"\n",
            "_________________________________________________________________\n",
            " Layer (type)                Output Shape              Param #   \n",
            "=================================================================\n",
            " input_5 (InputLayer)        [(None, 28, 28)]          0         \n",
            "                                                                 \n",
            " reshape_4 (Reshape)         (None, 28, 28, 1)         0         \n",
            "                                                                 \n",
            " random_rotation_4 (RandomRo  (None, 28, 28, 1)        0         \n",
            " tation)                                                         \n",
            "                                                                 \n",
            " random_translation_4 (Rando  (None, 28, 28, 1)        0         \n",
            " mTranslation)                                                   \n",
            "                                                                 \n",
            " conv2d_8 (Conv2D)           (None, 26, 26, 8)         80        \n",
            "                                                                 \n",
            " max_pooling2d_8 (MaxPooling  (None, 13, 13, 8)        0         \n",
            " 2D)                                                             \n",
            "                                                                 \n",
            " dropout_16 (Dropout)        (None, 13, 13, 8)         0         \n",
            "                                                                 \n",
            " conv2d_9 (Conv2D)           (None, 11, 11, 16)        1168      \n",
            "                                                                 \n",
            " max_pooling2d_9 (MaxPooling  (None, 5, 5, 16)         0         \n",
            " 2D)                                                             \n",
            "                                                                 \n",
            " dropout_17 (Dropout)        (None, 5, 5, 16)          0         \n",
            "                                                                 \n",
            " flatten_4 (Flatten)         (None, 400)               0         \n",
            "                                                                 \n",
            " dense_12 (Dense)            (None, 32)                12832     \n",
            "                                                                 \n",
            " dropout_18 (Dropout)        (None, 32)                0         \n",
            "                                                                 \n",
            " dense_13 (Dense)            (None, 16)                528       \n",
            "                                                                 \n",
            " dropout_19 (Dropout)        (None, 16)                0         \n",
            "                                                                 \n",
            " dense_14 (Dense)            (None, 10)                170       \n",
            "                                                                 \n",
            "=================================================================\n",
            "Total params: 14,778\n",
            "Trainable params: 14,778\n",
            "Non-trainable params: 0\n",
            "_________________________________________________________________\n"
          ]
        }
      ],
      "source": [
        "inputlayer = tf.keras.layers.Input(shape=(28,28)) # unser Bild hat die Form [Höhe, Breite]\n",
        "print(\"input hat die Form\", inputlayer.shape)\n",
        "reshape_28_28_1 = tf.keras.layers.Reshape((28,28,1))(inputlayer) # Bilder werden in der Form [Höhe, Breite, Farbwerte] gespeichert\n",
        "print(\"nach Reshape() ist die Form\", inputlayer.shape)\n",
        "\n",
        "random_rotation = tf.keras.layers.RandomRotation((-0.1, 0.1))(reshape_28_28_1)\n",
        "random_verschieben = tf.keras.layers.RandomTranslation((-0.1,0.1),(-0.1,0.1))(random_rotation)\n",
        "\n",
        "x = tf.keras.layers.Conv2D(8,3,activation=\"relu\")(random_verschieben)\n",
        "x = tf.keras.layers.MaxPool2D()(x)\n",
        "x = tf.keras.layers.Dropout(0.5)(x)\n",
        "\n",
        "x = tf.keras.layers.Conv2D(16,3,activation=\"relu\")(x)\n",
        "x = tf.keras.layers.MaxPool2D()(x)\n",
        "x = tf.keras.layers.Dropout(0.5)(x)\n",
        "\n",
        "platt = tf.keras.layers.Flatten()(x)\n",
        "x = tf.keras.layers.Dense(32,activation=\"relu\")(platt)\n",
        "x = tf.keras.layers.Dropout(0.5)(x)\n",
        "x = tf.keras.layers.Dense(16,activation=\"relu\")(x)\n",
        "x = tf.keras.layers.Dropout(0.5)(x)\n",
        "output = tf.keras.layers.Dense(10,activation=\"softmax\")(x)\n",
        "\n",
        "model = tf.keras.Model(inputlayer, output)\n",
        "print(\"\")\n",
        "model.summary()"
      ]
    },
    {
      "cell_type": "code",
      "execution_count": 39,
      "metadata": {
        "id": "V44YHlbXvwZP"
      },
      "outputs": [],
      "source": [
        "fehlerfunktion = tf.keras.losses.SparseCategoricalCrossentropy()\n",
        "optimierer = tf.keras.optimizers.SGD(0.001, momentum = 0.95)\n",
        "model.compile(optimierer, fehlerfunktion, metrics=\"accuracy\")"
      ]
    },
    {
      "cell_type": "code",
      "execution_count": 42,
      "metadata": {
        "id": "6S2tL87avxb-",
        "colab": {
          "base_uri": "https://localhost:8080/"
        },
        "outputId": "d5004889-ef99-4085-f6bd-63a20b52b4d2"
      },
      "outputs": [
        {
          "output_type": "stream",
          "name": "stdout",
          "text": [
            "Epoch 1/100\n",
            "1347/1347 [==============================] - 11s 8ms/step - loss: 1.3699 - accuracy: 0.5274 - val_loss: 1.2440 - val_accuracy: 0.6347\n",
            "Epoch 2/100\n",
            "1347/1347 [==============================] - 11s 8ms/step - loss: 1.3682 - accuracy: 0.5308 - val_loss: 1.2928 - val_accuracy: 0.6153\n",
            "Epoch 3/100\n",
            "1347/1347 [==============================] - 10s 7ms/step - loss: 1.3766 - accuracy: 0.5272 - val_loss: 1.2853 - val_accuracy: 0.6290\n",
            "Epoch 4/100\n",
            "1347/1347 [==============================] - 10s 8ms/step - loss: 1.3737 - accuracy: 0.5303 - val_loss: 1.3200 - val_accuracy: 0.6104\n",
            "Epoch 5/100\n",
            "1347/1347 [==============================] - 10s 7ms/step - loss: 1.3689 - accuracy: 0.5307 - val_loss: 1.2387 - val_accuracy: 0.6344\n",
            "Epoch 6/100\n",
            "1347/1347 [==============================] - 10s 7ms/step - loss: 1.3696 - accuracy: 0.5318 - val_loss: 1.3231 - val_accuracy: 0.6074\n",
            "Epoch 7/100\n",
            "1347/1347 [==============================] - 10s 7ms/step - loss: 1.3700 - accuracy: 0.5320 - val_loss: 1.2188 - val_accuracy: 0.6487\n",
            "Epoch 8/100\n",
            "1347/1347 [==============================] - 10s 7ms/step - loss: 1.3670 - accuracy: 0.5308 - val_loss: 1.3121 - val_accuracy: 0.6062\n",
            "Epoch 9/100\n",
            "1347/1347 [==============================] - 10s 8ms/step - loss: 1.3673 - accuracy: 0.5310 - val_loss: 1.2547 - val_accuracy: 0.6407\n",
            "Epoch 10/100\n",
            "1347/1347 [==============================] - 10s 8ms/step - loss: 1.3727 - accuracy: 0.5333 - val_loss: 1.2810 - val_accuracy: 0.6238\n",
            "Epoch 11/100\n",
            "1347/1347 [==============================] - 10s 7ms/step - loss: 1.3627 - accuracy: 0.5357 - val_loss: 1.2871 - val_accuracy: 0.6230\n",
            "Epoch 12/100\n",
            "1347/1347 [==============================] - 10s 7ms/step - loss: 1.3648 - accuracy: 0.5363 - val_loss: 1.2365 - val_accuracy: 0.6374\n",
            "Epoch 13/100\n",
            "1347/1347 [==============================] - 10s 7ms/step - loss: 1.3633 - accuracy: 0.5354 - val_loss: 1.3480 - val_accuracy: 0.5984\n",
            "Epoch 14/100\n",
            "1347/1347 [==============================] - 11s 8ms/step - loss: 1.3624 - accuracy: 0.5338 - val_loss: 1.2282 - val_accuracy: 0.6396\n",
            "Epoch 15/100\n",
            "1347/1347 [==============================] - 10s 8ms/step - loss: 1.3670 - accuracy: 0.5372 - val_loss: 1.2143 - val_accuracy: 0.6515\n",
            "Epoch 16/100\n",
            "1347/1347 [==============================] - 10s 8ms/step - loss: 1.3537 - accuracy: 0.5395 - val_loss: 1.2802 - val_accuracy: 0.6231\n",
            "Epoch 17/100\n",
            "1347/1347 [==============================] - 10s 7ms/step - loss: 1.3620 - accuracy: 0.5358 - val_loss: 1.1926 - val_accuracy: 0.6549\n",
            "Epoch 18/100\n",
            "1347/1347 [==============================] - 10s 7ms/step - loss: 1.3653 - accuracy: 0.5361 - val_loss: 1.2727 - val_accuracy: 0.6279\n",
            "Epoch 19/100\n",
            "1347/1347 [==============================] - 10s 8ms/step - loss: 1.3620 - accuracy: 0.5383 - val_loss: 1.1551 - val_accuracy: 0.6660\n",
            "Epoch 20/100\n",
            "1347/1347 [==============================] - 10s 7ms/step - loss: 1.3578 - accuracy: 0.5379 - val_loss: 1.2643 - val_accuracy: 0.6259\n",
            "Epoch 21/100\n",
            "1347/1347 [==============================] - 10s 8ms/step - loss: 1.3667 - accuracy: 0.5373 - val_loss: 1.1567 - val_accuracy: 0.6735\n",
            "Epoch 22/100\n",
            "1347/1347 [==============================] - 10s 7ms/step - loss: 1.3703 - accuracy: 0.5366 - val_loss: 1.2136 - val_accuracy: 0.6484\n",
            "Epoch 23/100\n",
            "1347/1347 [==============================] - 10s 8ms/step - loss: 1.3583 - accuracy: 0.5406 - val_loss: 1.2667 - val_accuracy: 0.6175\n",
            "Epoch 24/100\n",
            "1347/1347 [==============================] - 10s 7ms/step - loss: 1.3609 - accuracy: 0.5394 - val_loss: 1.1551 - val_accuracy: 0.6699\n",
            "Epoch 25/100\n",
            "1347/1347 [==============================] - 10s 7ms/step - loss: 1.3538 - accuracy: 0.5401 - val_loss: 1.1695 - val_accuracy: 0.6588\n",
            "Epoch 26/100\n",
            "1347/1347 [==============================] - 10s 7ms/step - loss: 1.3535 - accuracy: 0.5408 - val_loss: 1.2007 - val_accuracy: 0.6492\n",
            "Epoch 27/100\n",
            "1347/1347 [==============================] - 10s 7ms/step - loss: 1.3536 - accuracy: 0.5435 - val_loss: 1.1430 - val_accuracy: 0.6676\n",
            "Epoch 28/100\n",
            "1347/1347 [==============================] - 10s 7ms/step - loss: 1.3561 - accuracy: 0.5416 - val_loss: 1.1929 - val_accuracy: 0.6568\n",
            "Epoch 29/100\n",
            "1347/1347 [==============================] - 10s 8ms/step - loss: 1.3544 - accuracy: 0.5411 - val_loss: 1.2106 - val_accuracy: 0.6469\n",
            "Epoch 30/100\n",
            "1347/1347 [==============================] - 10s 8ms/step - loss: 1.3520 - accuracy: 0.5416 - val_loss: 1.2788 - val_accuracy: 0.6209\n",
            "Epoch 31/100\n",
            "1347/1347 [==============================] - 10s 8ms/step - loss: 1.3509 - accuracy: 0.5427 - val_loss: 1.2665 - val_accuracy: 0.6210\n",
            "Epoch 32/100\n",
            "1347/1347 [==============================] - 10s 8ms/step - loss: 1.3488 - accuracy: 0.5432 - val_loss: 1.1796 - val_accuracy: 0.6608\n",
            "Epoch 33/100\n",
            "1347/1347 [==============================] - 10s 8ms/step - loss: 1.3522 - accuracy: 0.5426 - val_loss: 1.2326 - val_accuracy: 0.6351\n",
            "Epoch 34/100\n",
            "1347/1347 [==============================] - 10s 8ms/step - loss: 1.3497 - accuracy: 0.5449 - val_loss: 1.1094 - val_accuracy: 0.6887\n",
            "Epoch 35/100\n",
            "1347/1347 [==============================] - 11s 8ms/step - loss: 1.3548 - accuracy: 0.5446 - val_loss: 1.2290 - val_accuracy: 0.6381\n",
            "Epoch 36/100\n",
            "1347/1347 [==============================] - 10s 8ms/step - loss: 1.3538 - accuracy: 0.5404 - val_loss: 1.2053 - val_accuracy: 0.6523\n",
            "Epoch 37/100\n",
            "1347/1347 [==============================] - 10s 8ms/step - loss: 1.3548 - accuracy: 0.5422 - val_loss: 1.1564 - val_accuracy: 0.6706\n",
            "Epoch 38/100\n",
            "1347/1347 [==============================] - 10s 8ms/step - loss: 1.3456 - accuracy: 0.5442 - val_loss: 1.0897 - val_accuracy: 0.6950\n",
            "Epoch 39/100\n",
            "1347/1347 [==============================] - 10s 7ms/step - loss: 1.3445 - accuracy: 0.5482 - val_loss: 1.2661 - val_accuracy: 0.6324\n",
            "Epoch 40/100\n",
            "1347/1347 [==============================] - 10s 8ms/step - loss: 1.3449 - accuracy: 0.5456 - val_loss: 1.3842 - val_accuracy: 0.5829\n",
            "Epoch 41/100\n",
            "1347/1347 [==============================] - 11s 8ms/step - loss: 1.3392 - accuracy: 0.5473 - val_loss: 1.2186 - val_accuracy: 0.6342\n",
            "Epoch 42/100\n",
            "1347/1347 [==============================] - 10s 8ms/step - loss: 1.3495 - accuracy: 0.5424 - val_loss: 1.3393 - val_accuracy: 0.5994\n",
            "Epoch 43/100\n",
            "1347/1347 [==============================] - 10s 8ms/step - loss: 1.3420 - accuracy: 0.5471 - val_loss: 1.1719 - val_accuracy: 0.6578\n",
            "Epoch 44/100\n",
            "1347/1347 [==============================] - 10s 8ms/step - loss: 1.3417 - accuracy: 0.5468 - val_loss: 1.2584 - val_accuracy: 0.6181\n",
            "Epoch 45/100\n",
            "1347/1347 [==============================] - 10s 8ms/step - loss: 1.3427 - accuracy: 0.5485 - val_loss: 1.2183 - val_accuracy: 0.6442\n",
            "Epoch 46/100\n",
            "1347/1347 [==============================] - 11s 8ms/step - loss: 1.3379 - accuracy: 0.5479 - val_loss: 1.2280 - val_accuracy: 0.6464\n",
            "Epoch 47/100\n",
            "1347/1347 [==============================] - 10s 8ms/step - loss: 1.3442 - accuracy: 0.5444 - val_loss: 1.2031 - val_accuracy: 0.6446\n",
            "Epoch 48/100\n",
            "1347/1347 [==============================] - 10s 7ms/step - loss: 1.3427 - accuracy: 0.5466 - val_loss: 1.1742 - val_accuracy: 0.6561\n",
            "Epoch 49/100\n",
            "1347/1347 [==============================] - 10s 8ms/step - loss: 1.3429 - accuracy: 0.5484 - val_loss: 1.2155 - val_accuracy: 0.6395\n",
            "Epoch 50/100\n",
            "1347/1347 [==============================] - 11s 8ms/step - loss: 1.3398 - accuracy: 0.5482 - val_loss: 1.2705 - val_accuracy: 0.6215\n",
            "Epoch 51/100\n",
            "1347/1347 [==============================] - 10s 8ms/step - loss: 1.3446 - accuracy: 0.5479 - val_loss: 1.1377 - val_accuracy: 0.6691\n",
            "Epoch 52/100\n",
            "1347/1347 [==============================] - 10s 7ms/step - loss: 1.3397 - accuracy: 0.5490 - val_loss: 1.1594 - val_accuracy: 0.6639\n",
            "Epoch 53/100\n",
            "1347/1347 [==============================] - 10s 8ms/step - loss: 1.3418 - accuracy: 0.5489 - val_loss: 1.2549 - val_accuracy: 0.6263\n",
            "Epoch 54/100\n",
            "1347/1347 [==============================] - 10s 8ms/step - loss: 1.3387 - accuracy: 0.5486 - val_loss: 1.3388 - val_accuracy: 0.5891\n",
            "Epoch 55/100\n",
            "1347/1347 [==============================] - 10s 8ms/step - loss: 1.3413 - accuracy: 0.5491 - val_loss: 1.1931 - val_accuracy: 0.6553\n",
            "Epoch 56/100\n",
            "1347/1347 [==============================] - 10s 7ms/step - loss: 1.3352 - accuracy: 0.5485 - val_loss: 1.2036 - val_accuracy: 0.6477\n",
            "Epoch 57/100\n",
            "1347/1347 [==============================] - 10s 8ms/step - loss: 1.3307 - accuracy: 0.5507 - val_loss: 1.2563 - val_accuracy: 0.6228\n",
            "Epoch 58/100\n",
            "1347/1347 [==============================] - 10s 7ms/step - loss: 1.3353 - accuracy: 0.5510 - val_loss: 1.1576 - val_accuracy: 0.6604\n",
            "Epoch 59/100\n",
            "1347/1347 [==============================] - 10s 7ms/step - loss: 1.3349 - accuracy: 0.5504 - val_loss: 1.2391 - val_accuracy: 0.6311\n",
            "Epoch 60/100\n",
            "1347/1347 [==============================] - 10s 8ms/step - loss: 1.3431 - accuracy: 0.5443 - val_loss: 1.1722 - val_accuracy: 0.6612\n",
            "Epoch 61/100\n",
            "1347/1347 [==============================] - 10s 8ms/step - loss: 1.3281 - accuracy: 0.5517 - val_loss: 1.1221 - val_accuracy: 0.6778\n",
            "Epoch 62/100\n",
            "1347/1347 [==============================] - 10s 7ms/step - loss: 1.3299 - accuracy: 0.5520 - val_loss: 1.3323 - val_accuracy: 0.5947\n",
            "Epoch 63/100\n",
            "1347/1347 [==============================] - 10s 7ms/step - loss: 1.3390 - accuracy: 0.5482 - val_loss: 1.1707 - val_accuracy: 0.6598\n",
            "Epoch 64/100\n",
            "1347/1347 [==============================] - 10s 8ms/step - loss: 1.3331 - accuracy: 0.5521 - val_loss: 1.1467 - val_accuracy: 0.6680\n",
            "Epoch 65/100\n",
            "1347/1347 [==============================] - 10s 8ms/step - loss: 1.3373 - accuracy: 0.5530 - val_loss: 1.2585 - val_accuracy: 0.6190\n",
            "Epoch 66/100\n",
            "1347/1347 [==============================] - 10s 8ms/step - loss: 1.3379 - accuracy: 0.5500 - val_loss: 1.1390 - val_accuracy: 0.6697\n",
            "Epoch 67/100\n",
            "1347/1347 [==============================] - 11s 8ms/step - loss: 1.3367 - accuracy: 0.5489 - val_loss: 1.2411 - val_accuracy: 0.6276\n",
            "Epoch 68/100\n",
            "1347/1347 [==============================] - 10s 7ms/step - loss: 1.3404 - accuracy: 0.5459 - val_loss: 1.2040 - val_accuracy: 0.6445\n",
            "Epoch 69/100\n",
            "1347/1347 [==============================] - 10s 7ms/step - loss: 1.3314 - accuracy: 0.5493 - val_loss: 1.1766 - val_accuracy: 0.6559\n",
            "Epoch 70/100\n",
            "1347/1347 [==============================] - 10s 8ms/step - loss: 1.3376 - accuracy: 0.5501 - val_loss: 1.2990 - val_accuracy: 0.6096\n",
            "Epoch 71/100\n",
            "1347/1347 [==============================] - 10s 7ms/step - loss: 1.3385 - accuracy: 0.5493 - val_loss: 1.2116 - val_accuracy: 0.6392\n",
            "Epoch 72/100\n",
            "1347/1347 [==============================] - 10s 7ms/step - loss: 1.3277 - accuracy: 0.5500 - val_loss: 1.1623 - val_accuracy: 0.6598\n",
            "Epoch 73/100\n",
            "1347/1347 [==============================] - 11s 8ms/step - loss: 1.3365 - accuracy: 0.5487 - val_loss: 1.1865 - val_accuracy: 0.6520\n",
            "Epoch 74/100\n",
            "1347/1347 [==============================] - 10s 7ms/step - loss: 1.3403 - accuracy: 0.5473 - val_loss: 1.2301 - val_accuracy: 0.6351\n",
            "Epoch 75/100\n",
            "1347/1347 [==============================] - 10s 8ms/step - loss: 1.3261 - accuracy: 0.5511 - val_loss: 1.1854 - val_accuracy: 0.6514\n",
            "Epoch 76/100\n",
            "1347/1347 [==============================] - 11s 8ms/step - loss: 1.3368 - accuracy: 0.5479 - val_loss: 1.2951 - val_accuracy: 0.6074\n",
            "Epoch 77/100\n",
            "1347/1347 [==============================] - 10s 8ms/step - loss: 1.3268 - accuracy: 0.5510 - val_loss: 1.2362 - val_accuracy: 0.6343\n",
            "Epoch 78/100\n",
            "1347/1347 [==============================] - 10s 8ms/step - loss: 1.3302 - accuracy: 0.5520 - val_loss: 1.1386 - val_accuracy: 0.6682\n",
            "Epoch 79/100\n",
            "1347/1347 [==============================] - 11s 8ms/step - loss: 1.3403 - accuracy: 0.5501 - val_loss: 1.1639 - val_accuracy: 0.6643\n",
            "Epoch 80/100\n",
            "1347/1347 [==============================] - 10s 8ms/step - loss: 1.3281 - accuracy: 0.5513 - val_loss: 1.1540 - val_accuracy: 0.6658\n",
            "Epoch 81/100\n",
            "1347/1347 [==============================] - 11s 8ms/step - loss: 1.3310 - accuracy: 0.5476 - val_loss: 1.1018 - val_accuracy: 0.6874\n",
            "Epoch 82/100\n",
            "1347/1347 [==============================] - 10s 8ms/step - loss: 1.3353 - accuracy: 0.5483 - val_loss: 1.1800 - val_accuracy: 0.6515\n",
            "Epoch 83/100\n",
            "1347/1347 [==============================] - 10s 8ms/step - loss: 1.3314 - accuracy: 0.5517 - val_loss: 1.1160 - val_accuracy: 0.6785\n",
            "Epoch 84/100\n",
            "1347/1347 [==============================] - 11s 8ms/step - loss: 1.3278 - accuracy: 0.5511 - val_loss: 1.2366 - val_accuracy: 0.6352\n",
            "Epoch 85/100\n",
            "1347/1347 [==============================] - 11s 8ms/step - loss: 1.3340 - accuracy: 0.5495 - val_loss: 1.1047 - val_accuracy: 0.6876\n",
            "Epoch 86/100\n",
            "1347/1347 [==============================] - 11s 8ms/step - loss: 1.3298 - accuracy: 0.5486 - val_loss: 1.1194 - val_accuracy: 0.6772\n",
            "Epoch 87/100\n",
            "1347/1347 [==============================] - 11s 8ms/step - loss: 1.3230 - accuracy: 0.5544 - val_loss: 1.1456 - val_accuracy: 0.6652\n",
            "Epoch 88/100\n",
            "1347/1347 [==============================] - 11s 8ms/step - loss: 1.3305 - accuracy: 0.5494 - val_loss: 1.1578 - val_accuracy: 0.6668\n",
            "Epoch 89/100\n",
            "1347/1347 [==============================] - 11s 8ms/step - loss: 1.3269 - accuracy: 0.5522 - val_loss: 1.1662 - val_accuracy: 0.6586\n",
            "Epoch 90/100\n",
            "1347/1347 [==============================] - 11s 8ms/step - loss: 1.3273 - accuracy: 0.5502 - val_loss: 1.0692 - val_accuracy: 0.7005\n",
            "Epoch 91/100\n",
            "1347/1347 [==============================] - 10s 8ms/step - loss: 1.3291 - accuracy: 0.5490 - val_loss: 1.1775 - val_accuracy: 0.6507\n",
            "Epoch 92/100\n",
            "1347/1347 [==============================] - 11s 8ms/step - loss: 1.3241 - accuracy: 0.5509 - val_loss: 1.1378 - val_accuracy: 0.6636\n",
            "Epoch 93/100\n",
            "1347/1347 [==============================] - 11s 8ms/step - loss: 1.3250 - accuracy: 0.5526 - val_loss: 1.2975 - val_accuracy: 0.6136\n",
            "Epoch 94/100\n",
            "1347/1347 [==============================] - 10s 8ms/step - loss: 1.3229 - accuracy: 0.5522 - val_loss: 1.1588 - val_accuracy: 0.6611\n",
            "Epoch 95/100\n",
            "1347/1347 [==============================] - 11s 8ms/step - loss: 1.3234 - accuracy: 0.5499 - val_loss: 1.2017 - val_accuracy: 0.6465\n",
            "Epoch 96/100\n",
            "1347/1347 [==============================] - 11s 8ms/step - loss: 1.3273 - accuracy: 0.5498 - val_loss: 1.1128 - val_accuracy: 0.6785\n",
            "Epoch 97/100\n",
            "1347/1347 [==============================] - 10s 8ms/step - loss: 1.3281 - accuracy: 0.5519 - val_loss: 1.1102 - val_accuracy: 0.6778\n",
            "Epoch 98/100\n",
            "1347/1347 [==============================] - 11s 8ms/step - loss: 1.3200 - accuracy: 0.5527 - val_loss: 1.1347 - val_accuracy: 0.6723\n",
            "Epoch 99/100\n",
            "1347/1347 [==============================] - 11s 8ms/step - loss: 1.3193 - accuracy: 0.5537 - val_loss: 1.2612 - val_accuracy: 0.6279\n",
            "Epoch 100/100\n",
            "1347/1347 [==============================] - 11s 8ms/step - loss: 1.3215 - accuracy: 0.5521 - val_loss: 1.2255 - val_accuracy: 0.6342\n"
          ]
        },
        {
          "output_type": "execute_result",
          "data": {
            "text/plain": [
              "<keras.callbacks.History at 0x7f545bb51f90>"
            ]
          },
          "metadata": {},
          "execution_count": 42
        }
      ],
      "source": [
        "model.fit(X, Y, batch_size = 64, epochs = 100, validation_split = 0.2) # Parameter optimieren"
      ]
    },
    {
      "cell_type": "code",
      "source": [
        "model.save(\"model.h5\") # Netzwerk und Parameter speichern"
      ],
      "metadata": {
        "id": "U9RCAaCTKeCv"
      },
      "execution_count": 41,
      "outputs": []
    },
    {
      "cell_type": "markdown",
      "metadata": {
        "id": "IV5Ckw9ld6JM"
      },
      "source": [
        "# Test mit selbstgemaltem Bild\n",
        "Male eine Zahl mit Paint und lade das Bild in das Colab notebook."
      ]
    },
    {
      "cell_type": "code",
      "execution_count": 21,
      "metadata": {
        "id": "ifjD08Wod-Eh",
        "colab": {
          "base_uri": "https://localhost:8080/",
          "height": 234
        },
        "outputId": "b060a42d-248d-4684-a46e-706f20c57a99"
      },
      "outputs": [
        {
          "output_type": "error",
          "ename": "error",
          "evalue": "ignored",
          "traceback": [
            "\u001b[0;31m---------------------------------------------------------------------------\u001b[0m",
            "\u001b[0;31merror\u001b[0m                                     Traceback (most recent call last)",
            "\u001b[0;32m<ipython-input-21-27952b10562d>\u001b[0m in \u001b[0;36m<module>\u001b[0;34m()\u001b[0m\n\u001b[1;32m      1\u001b[0m \u001b[0mbild\u001b[0m \u001b[0;34m=\u001b[0m \u001b[0mcv2\u001b[0m\u001b[0;34m.\u001b[0m\u001b[0mimread\u001b[0m\u001b[0;34m(\u001b[0m\u001b[0;34m\"Untitled.png\"\u001b[0m\u001b[0;34m,\u001b[0m \u001b[0mcv2\u001b[0m\u001b[0;34m.\u001b[0m\u001b[0mIMREAD_GRAYSCALE\u001b[0m\u001b[0;34m)\u001b[0m \u001b[0;31m# bild mit dem Namen untitled.png lesen im graustufen-format\u001b[0m\u001b[0;34m\u001b[0m\u001b[0;34m\u001b[0m\u001b[0m\n\u001b[0;32m----> 2\u001b[0;31m \u001b[0mbild\u001b[0m \u001b[0;34m=\u001b[0m \u001b[0mcv2\u001b[0m\u001b[0;34m.\u001b[0m\u001b[0mresize\u001b[0m\u001b[0;34m(\u001b[0m\u001b[0mbild\u001b[0m\u001b[0;34m,\u001b[0m \u001b[0;34m(\u001b[0m\u001b[0;36m28\u001b[0m\u001b[0;34m,\u001b[0m\u001b[0;36m28\u001b[0m\u001b[0;34m)\u001b[0m\u001b[0;34m)\u001b[0m\u001b[0;34m\u001b[0m\u001b[0;34m\u001b[0m\u001b[0m\n\u001b[0m\u001b[1;32m      3\u001b[0m \u001b[0;31m#bild = cv2.blur(bild,(2,2))\u001b[0m\u001b[0;34m\u001b[0m\u001b[0;34m\u001b[0m\u001b[0;34m\u001b[0m\u001b[0m\n\u001b[1;32m      4\u001b[0m \u001b[0mbild_0_1\u001b[0m \u001b[0;34m=\u001b[0m \u001b[0;36m1\u001b[0m \u001b[0;34m-\u001b[0m \u001b[0mbild\u001b[0m \u001b[0;34m/\u001b[0m \u001b[0;36m255\u001b[0m \u001b[0;31m# bild zwischen 0 und 1 skalieren\u001b[0m\u001b[0;34m\u001b[0m\u001b[0;34m\u001b[0m\u001b[0m\n\u001b[1;32m      5\u001b[0m \u001b[0mplt\u001b[0m\u001b[0;34m.\u001b[0m\u001b[0mimshow\u001b[0m\u001b[0;34m(\u001b[0m\u001b[0mbild_0_1\u001b[0m\u001b[0;34m,\u001b[0m \u001b[0mcmap\u001b[0m \u001b[0;34m=\u001b[0m \u001b[0;34m\"gray\"\u001b[0m\u001b[0;34m)\u001b[0m\u001b[0;34m\u001b[0m\u001b[0;34m\u001b[0m\u001b[0m\n",
            "\u001b[0;31merror\u001b[0m: OpenCV(4.1.2) /io/opencv/modules/imgproc/src/resize.cpp:3720: error: (-215:Assertion failed) !ssize.empty() in function 'resize'\n"
          ]
        }
      ],
      "source": [
        "bild = cv2.imread(\"Untitled.png\", cv2.IMREAD_GRAYSCALE) # bild mit dem Namen untitled.png lesen im graustufen-format\n",
        "bild = cv2.resize(bild, (28,28))\n",
        "#bild = cv2.blur(bild,(2,2))\n",
        "bild_0_1 = 1 - bild / 255 # bild zwischen 0 und 1 skalieren\n",
        "plt.imshow(bild_0_1, cmap = \"gray\")\n",
        "bild_0_1.shape"
      ]
    },
    {
      "cell_type": "code",
      "execution_count": null,
      "metadata": {
        "id": "hKZb7f-FegmO"
      },
      "outputs": [],
      "source": [
        "bild_batch = np.reshape(bild_0_1,(1,28,28)) # tensorflow braucht ein array von Inputs\n",
        "\n",
        "entscheidungen = model(bild_batch)\n",
        "print(\"Die Entscheidungen sind:\", entscheidungen)\n",
        "print(\"Das ist die Zahl:\", np.argmax(entscheidungen))"
      ]
    },
    {
      "cell_type": "code",
      "execution_count": null,
      "metadata": {
        "id": "NEt6C1o2zQsp"
      },
      "outputs": [],
      "source": [
        ""
      ]
    }
  ],
  "metadata": {
    "colab": {
      "collapsed_sections": [
        "BMnRf2OGXHr6"
      ],
      "name": "Verbesserungen am neuronalen Netz",
      "provenance": [],
      "authorship_tag": "ABX9TyNldkZHlDeqQfTfXp+bb9Ul",
      "include_colab_link": true
    },
    "kernelspec": {
      "display_name": "Python 3",
      "name": "python3"
    },
    "language_info": {
      "name": "python"
    },
    "widgets": {
      "application/vnd.jupyter.widget-state+json": {
        "6da2f2b6c1344283826681473b86f1ab": {
          "model_module": "@jupyter-widgets/controls",
          "model_name": "HBoxModel",
          "model_module_version": "1.5.0",
          "state": {
            "_dom_classes": [],
            "_model_module": "@jupyter-widgets/controls",
            "_model_module_version": "1.5.0",
            "_model_name": "HBoxModel",
            "_view_count": null,
            "_view_module": "@jupyter-widgets/controls",
            "_view_module_version": "1.5.0",
            "_view_name": "HBoxView",
            "box_style": "",
            "children": [
              "IPY_MODEL_7e0fe3b469fc495e95fe58c13571a150",
              "IPY_MODEL_38965bffcfbc4d4e95986a2256ba8389",
              "IPY_MODEL_271682792c5f45d3890d6cd9544a0c4b"
            ],
            "layout": "IPY_MODEL_63d84cb295494dd3944d2c3455053793"
          }
        },
        "7e0fe3b469fc495e95fe58c13571a150": {
          "model_module": "@jupyter-widgets/controls",
          "model_name": "HTMLModel",
          "model_module_version": "1.5.0",
          "state": {
            "_dom_classes": [],
            "_model_module": "@jupyter-widgets/controls",
            "_model_module_version": "1.5.0",
            "_model_name": "HTMLModel",
            "_view_count": null,
            "_view_module": "@jupyter-widgets/controls",
            "_view_module_version": "1.5.0",
            "_view_name": "HTMLView",
            "description": "",
            "description_tooltip": null,
            "layout": "IPY_MODEL_18d1bdf75efc40368464cbee594a9b8c",
            "placeholder": "​",
            "style": "IPY_MODEL_a2a6bfd30f294ebaa4635d565e56cdd6",
            "value": "100%"
          }
        },
        "38965bffcfbc4d4e95986a2256ba8389": {
          "model_module": "@jupyter-widgets/controls",
          "model_name": "FloatProgressModel",
          "model_module_version": "1.5.0",
          "state": {
            "_dom_classes": [],
            "_model_module": "@jupyter-widgets/controls",
            "_model_module_version": "1.5.0",
            "_model_name": "FloatProgressModel",
            "_view_count": null,
            "_view_module": "@jupyter-widgets/controls",
            "_view_module_version": "1.5.0",
            "_view_name": "ProgressView",
            "bar_style": "success",
            "description": "",
            "description_tooltip": null,
            "layout": "IPY_MODEL_6280017397e140adadddd4e8625397fd",
            "max": 10,
            "min": 0,
            "orientation": "horizontal",
            "style": "IPY_MODEL_41a6fc30d0784bc18924d316d0237a68",
            "value": 10
          }
        },
        "271682792c5f45d3890d6cd9544a0c4b": {
          "model_module": "@jupyter-widgets/controls",
          "model_name": "HTMLModel",
          "model_module_version": "1.5.0",
          "state": {
            "_dom_classes": [],
            "_model_module": "@jupyter-widgets/controls",
            "_model_module_version": "1.5.0",
            "_model_name": "HTMLModel",
            "_view_count": null,
            "_view_module": "@jupyter-widgets/controls",
            "_view_module_version": "1.5.0",
            "_view_name": "HTMLView",
            "description": "",
            "description_tooltip": null,
            "layout": "IPY_MODEL_29c758ed6923449cb365ebb8991ac6d2",
            "placeholder": "​",
            "style": "IPY_MODEL_0381806ea8d94f69b3151f40413cfa31",
            "value": " 10/10 [00:20&lt;00:00,  2.03s/it]"
          }
        },
        "63d84cb295494dd3944d2c3455053793": {
          "model_module": "@jupyter-widgets/base",
          "model_name": "LayoutModel",
          "model_module_version": "1.2.0",
          "state": {
            "_model_module": "@jupyter-widgets/base",
            "_model_module_version": "1.2.0",
            "_model_name": "LayoutModel",
            "_view_count": null,
            "_view_module": "@jupyter-widgets/base",
            "_view_module_version": "1.2.0",
            "_view_name": "LayoutView",
            "align_content": null,
            "align_items": null,
            "align_self": null,
            "border": null,
            "bottom": null,
            "display": null,
            "flex": null,
            "flex_flow": null,
            "grid_area": null,
            "grid_auto_columns": null,
            "grid_auto_flow": null,
            "grid_auto_rows": null,
            "grid_column": null,
            "grid_gap": null,
            "grid_row": null,
            "grid_template_areas": null,
            "grid_template_columns": null,
            "grid_template_rows": null,
            "height": null,
            "justify_content": null,
            "justify_items": null,
            "left": null,
            "margin": null,
            "max_height": null,
            "max_width": null,
            "min_height": null,
            "min_width": null,
            "object_fit": null,
            "object_position": null,
            "order": null,
            "overflow": null,
            "overflow_x": null,
            "overflow_y": null,
            "padding": null,
            "right": null,
            "top": null,
            "visibility": null,
            "width": null
          }
        },
        "18d1bdf75efc40368464cbee594a9b8c": {
          "model_module": "@jupyter-widgets/base",
          "model_name": "LayoutModel",
          "model_module_version": "1.2.0",
          "state": {
            "_model_module": "@jupyter-widgets/base",
            "_model_module_version": "1.2.0",
            "_model_name": "LayoutModel",
            "_view_count": null,
            "_view_module": "@jupyter-widgets/base",
            "_view_module_version": "1.2.0",
            "_view_name": "LayoutView",
            "align_content": null,
            "align_items": null,
            "align_self": null,
            "border": null,
            "bottom": null,
            "display": null,
            "flex": null,
            "flex_flow": null,
            "grid_area": null,
            "grid_auto_columns": null,
            "grid_auto_flow": null,
            "grid_auto_rows": null,
            "grid_column": null,
            "grid_gap": null,
            "grid_row": null,
            "grid_template_areas": null,
            "grid_template_columns": null,
            "grid_template_rows": null,
            "height": null,
            "justify_content": null,
            "justify_items": null,
            "left": null,
            "margin": null,
            "max_height": null,
            "max_width": null,
            "min_height": null,
            "min_width": null,
            "object_fit": null,
            "object_position": null,
            "order": null,
            "overflow": null,
            "overflow_x": null,
            "overflow_y": null,
            "padding": null,
            "right": null,
            "top": null,
            "visibility": null,
            "width": null
          }
        },
        "a2a6bfd30f294ebaa4635d565e56cdd6": {
          "model_module": "@jupyter-widgets/controls",
          "model_name": "DescriptionStyleModel",
          "model_module_version": "1.5.0",
          "state": {
            "_model_module": "@jupyter-widgets/controls",
            "_model_module_version": "1.5.0",
            "_model_name": "DescriptionStyleModel",
            "_view_count": null,
            "_view_module": "@jupyter-widgets/base",
            "_view_module_version": "1.2.0",
            "_view_name": "StyleView",
            "description_width": ""
          }
        },
        "6280017397e140adadddd4e8625397fd": {
          "model_module": "@jupyter-widgets/base",
          "model_name": "LayoutModel",
          "model_module_version": "1.2.0",
          "state": {
            "_model_module": "@jupyter-widgets/base",
            "_model_module_version": "1.2.0",
            "_model_name": "LayoutModel",
            "_view_count": null,
            "_view_module": "@jupyter-widgets/base",
            "_view_module_version": "1.2.0",
            "_view_name": "LayoutView",
            "align_content": null,
            "align_items": null,
            "align_self": null,
            "border": null,
            "bottom": null,
            "display": null,
            "flex": null,
            "flex_flow": null,
            "grid_area": null,
            "grid_auto_columns": null,
            "grid_auto_flow": null,
            "grid_auto_rows": null,
            "grid_column": null,
            "grid_gap": null,
            "grid_row": null,
            "grid_template_areas": null,
            "grid_template_columns": null,
            "grid_template_rows": null,
            "height": null,
            "justify_content": null,
            "justify_items": null,
            "left": null,
            "margin": null,
            "max_height": null,
            "max_width": null,
            "min_height": null,
            "min_width": null,
            "object_fit": null,
            "object_position": null,
            "order": null,
            "overflow": null,
            "overflow_x": null,
            "overflow_y": null,
            "padding": null,
            "right": null,
            "top": null,
            "visibility": null,
            "width": null
          }
        },
        "41a6fc30d0784bc18924d316d0237a68": {
          "model_module": "@jupyter-widgets/controls",
          "model_name": "ProgressStyleModel",
          "model_module_version": "1.5.0",
          "state": {
            "_model_module": "@jupyter-widgets/controls",
            "_model_module_version": "1.5.0",
            "_model_name": "ProgressStyleModel",
            "_view_count": null,
            "_view_module": "@jupyter-widgets/base",
            "_view_module_version": "1.2.0",
            "_view_name": "StyleView",
            "bar_color": null,
            "description_width": ""
          }
        },
        "29c758ed6923449cb365ebb8991ac6d2": {
          "model_module": "@jupyter-widgets/base",
          "model_name": "LayoutModel",
          "model_module_version": "1.2.0",
          "state": {
            "_model_module": "@jupyter-widgets/base",
            "_model_module_version": "1.2.0",
            "_model_name": "LayoutModel",
            "_view_count": null,
            "_view_module": "@jupyter-widgets/base",
            "_view_module_version": "1.2.0",
            "_view_name": "LayoutView",
            "align_content": null,
            "align_items": null,
            "align_self": null,
            "border": null,
            "bottom": null,
            "display": null,
            "flex": null,
            "flex_flow": null,
            "grid_area": null,
            "grid_auto_columns": null,
            "grid_auto_flow": null,
            "grid_auto_rows": null,
            "grid_column": null,
            "grid_gap": null,
            "grid_row": null,
            "grid_template_areas": null,
            "grid_template_columns": null,
            "grid_template_rows": null,
            "height": null,
            "justify_content": null,
            "justify_items": null,
            "left": null,
            "margin": null,
            "max_height": null,
            "max_width": null,
            "min_height": null,
            "min_width": null,
            "object_fit": null,
            "object_position": null,
            "order": null,
            "overflow": null,
            "overflow_x": null,
            "overflow_y": null,
            "padding": null,
            "right": null,
            "top": null,
            "visibility": null,
            "width": null
          }
        },
        "0381806ea8d94f69b3151f40413cfa31": {
          "model_module": "@jupyter-widgets/controls",
          "model_name": "DescriptionStyleModel",
          "model_module_version": "1.5.0",
          "state": {
            "_model_module": "@jupyter-widgets/controls",
            "_model_module_version": "1.5.0",
            "_model_name": "DescriptionStyleModel",
            "_view_count": null,
            "_view_module": "@jupyter-widgets/base",
            "_view_module_version": "1.2.0",
            "_view_name": "StyleView",
            "description_width": ""
          }
        }
      }
    },
    "accelerator": "GPU"
  },
  "nbformat": 4,
  "nbformat_minor": 0
}