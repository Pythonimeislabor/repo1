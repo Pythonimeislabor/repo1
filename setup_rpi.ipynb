{
  "nbformat": 4,
  "nbformat_minor": 0,
  "metadata": {
    "colab": {
      "name": "setup_rpi.ipynb",
      "provenance": [],
      "collapsed_sections": [],
      "authorship_tag": "ABX9TyMHCWo+FsVgk4h719x3D3DC",
      "include_colab_link": true
    },
    "kernelspec": {
      "name": "python3",
      "display_name": "Python 3"
    },
    "language_info": {
      "name": "python"
    }
  },
  "cells": [
    {
      "cell_type": "markdown",
      "metadata": {
        "id": "view-in-github",
        "colab_type": "text"
      },
      "source": [
        "<a href=\"https://colab.research.google.com/github/Pythonimeislabor/repo1/blob/main/setup_rpi.ipynb\" target=\"_parent\"><img src=\"https://colab.research.google.com/assets/colab-badge.svg\" alt=\"Open In Colab\"/></a>"
      ]
    },
    {
      "cell_type": "markdown",
      "source": [
        "Diesen Befehl ausführen um alles zu installieren"
      ],
      "metadata": {
        "id": "hXFZUFYYJVaM"
      }
    },
    {
      "cell_type": "code",
      "source": [
        "sudo apt update -y && sudo apt upgrade -y && sudo apt dist-upgrade -y && sudo apt autoremove -y && sudo apt install xrdp pigpio -y && pip install opencv-python numpy matplotlib tensorflow-aarch64 jupyterlab"
      ],
      "metadata": {
        "id": "REGvCo09InGd"
      },
      "execution_count": null,
      "outputs": []
    },
    {
      "cell_type": "markdown",
      "source": [
        "Diese gesame Zeile ins terminal kopieren"
      ],
      "metadata": {
        "id": "cyZ75dlAGN5_"
      }
    },
    {
      "cell_type": "code",
      "source": [
        "mkdir notebooks\n",
        "\n",
        "sudo cat > jupyter.service << EOF\n",
        "[Unit]\n",
        "Description=Jupyter Lab\n",
        "[Service]\n",
        "Type=simple\n",
        "PIDFile=/run/jupyter.pid\n",
        "ExecStart=/bin/bash -c \"/home/pi/.local/bin/jupyter-lab --ip=0.0.0.0 --no-browser --notebook-dir=/home/pi/notebooks --port=8000\"\n",
        "User=pi\n",
        "Group=pi\n",
        "WorkingDirectory=/home/pi/notebooks\n",
        "Restart=always\n",
        "RestartSec=10\n",
        "[Install]\n",
        "WantedBy=multi-user.target\n",
        "EOF\n",
        "\n",
        "sudo cat > xrdpf << EOF\n",
        "fin = open(\"/etc/X11/xrdp/xorg.conf\", \"rt\")\n",
        "fout = open(\"out.txt\", \"wt\")\n",
        "for line in fin:\n",
        "  fout.write(line.replace('/dev/dri/renderD128', ''))\n",
        "fin.close()\n",
        "fout.close()\n",
        "EOF\n",
        "python xrdpf\n",
        "rm xrdpf\n",
        "sudo mv out.txt /etc/X11/xrdp/xorg.conf\n",
        "\n",
        "sudo mv jupyter.service /etc/systemd/system/jupyter.service\n",
        "sudo systemctl enable jupyter.service\n",
        "sudo systemctl daemon-reload\n",
        "sudo systemctl start jupyter.service\n",
        "\n"
      ],
      "metadata": {
        "id": "33h-JVjR4JWz"
      },
      "execution_count": null,
      "outputs": []
    },
    {
      "cell_type": "markdown",
      "source": [
        "jupyter passwort setzen"
      ],
      "metadata": {
        "id": "4pZ_ZLEtGWSc"
      }
    },
    {
      "cell_type": "code",
      "source": [
        "/home/pi/.local/bin/jupyter-lab password"
      ],
      "metadata": {
        "id": "x01mUyhC9sV-"
      },
      "execution_count": null,
      "outputs": []
    },
    {
      "cell_type": "code",
      "source": [
        ""
      ],
      "metadata": {
        "id": "EZ_yrPvI-eVP"
      },
      "execution_count": null,
      "outputs": []
    },
    {
      "cell_type": "code",
      "source": [
        ""
      ],
      "metadata": {
        "id": "9RschvcH-qw6"
      },
      "execution_count": null,
      "outputs": []
    },
    {
      "cell_type": "code",
      "source": [
        ""
      ],
      "metadata": {
        "id": "iRJYmf7t3M9u"
      },
      "execution_count": null,
      "outputs": []
    }
  ]
}